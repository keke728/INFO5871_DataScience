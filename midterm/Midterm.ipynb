{
 "cells": [
  {
   "cell_type": "markdown",
   "metadata": {},
   "source": [
    "# Midterm Presentation - The Oscars Winners' Tour\n",
    "INFO 5871-001\n",
    "Fall 2019\n",
    "\n",
    "_Keke Wu_"
   ]
  },
  {
   "cell_type": "markdown",
   "metadata": {},
   "source": [
    "### Imports"
   ]
  },
  {
   "cell_type": "code",
   "execution_count": 1,
   "metadata": {},
   "outputs": [],
   "source": [
    "import numpy as np\n",
    "import numpy.random as rnd\n",
    "import scipy.stats as st\n",
    "import pandas as pd\n",
    "import matplotlib.pyplot as plt\n",
    "import seaborn as sns\n",
    "import datetime\n",
    "%matplotlib inline"
   ]
  },
  {
   "cell_type": "markdown",
   "metadata": {},
   "source": [
    "### Load the data"
   ]
  },
  {
   "cell_type": "code",
   "execution_count": 2,
   "metadata": {},
   "outputs": [
    {
     "name": "stdout",
     "output_type": "stream",
     "text": [
      "_unit_id\n",
      "_golden\n",
      "_unit_state\n",
      "_trusted_judgments\n",
      "_last_judgment_at\n",
      "birthplace\n",
      "birthplace:confidence\n",
      "date_of_birth\n",
      "date_of_birth:confidence\n",
      "race_ethnicity\n",
      "race_ethnicity:confidence\n",
      "religion\n",
      "religion:confidence\n",
      "sexual_orientation\n",
      "sexual_orientation:confidence\n",
      "year_of_award\n",
      "year_of_award:confidence\n",
      "award\n",
      "biourl\n",
      "birthplace_gold\n",
      "date_of_birth_gold\n",
      "movie\n",
      "person\n",
      "race_ethnicity_gold\n",
      "religion_gold\n",
      "sexual_orientation_gold\n",
      "year_of_award_gold\n"
     ]
    }
   ],
   "source": [
    "oscars_original = pd.read_csv('Oscars-demographics-DFE.csv', encoding = \"ISO-8859-1\", parse_dates=True)\n",
    "for col in oscars_original.columns: \n",
    "    print(col) "
   ]
  },
  {
   "cell_type": "markdown",
   "metadata": {},
   "source": [
    "### Data Preparation"
   ]
  },
  {
   "cell_type": "markdown",
   "metadata": {},
   "source": [
    "#### _Construct a new dataframe that contains only columns of interest_"
   ]
  },
  {
   "cell_type": "code",
   "execution_count": 3,
   "metadata": {},
   "outputs": [
    {
     "data": {
      "text/html": [
       "<div>\n",
       "<style scoped>\n",
       "    .dataframe tbody tr th:only-of-type {\n",
       "        vertical-align: middle;\n",
       "    }\n",
       "\n",
       "    .dataframe tbody tr th {\n",
       "        vertical-align: top;\n",
       "    }\n",
       "\n",
       "    .dataframe thead th {\n",
       "        text-align: right;\n",
       "    }\n",
       "</style>\n",
       "<table border=\"1\" class=\"dataframe\">\n",
       "  <thead>\n",
       "    <tr style=\"text-align: right;\">\n",
       "      <th></th>\n",
       "      <th>_golden</th>\n",
       "      <th>birthplace</th>\n",
       "      <th>race_ethnicity</th>\n",
       "      <th>date_of_birth</th>\n",
       "      <th>year_of_award</th>\n",
       "      <th>award</th>\n",
       "      <th>movie</th>\n",
       "      <th>person</th>\n",
       "    </tr>\n",
       "  </thead>\n",
       "  <tbody>\n",
       "    <tr>\n",
       "      <th>0</th>\n",
       "      <td>False</td>\n",
       "      <td>Chisinau, Moldova</td>\n",
       "      <td>White</td>\n",
       "      <td>30-Sep-1895</td>\n",
       "      <td>1927</td>\n",
       "      <td>Best Director</td>\n",
       "      <td>Two Arabian Knights</td>\n",
       "      <td>Lewis Milestone</td>\n",
       "    </tr>\n",
       "    <tr>\n",
       "      <th>1</th>\n",
       "      <td>False</td>\n",
       "      <td>Glasgow, Scotland</td>\n",
       "      <td>White</td>\n",
       "      <td>2-Feb-1886</td>\n",
       "      <td>1930</td>\n",
       "      <td>Best Director</td>\n",
       "      <td>The Divine Lady</td>\n",
       "      <td>Frank Lloyd</td>\n",
       "    </tr>\n",
       "    <tr>\n",
       "      <th>2</th>\n",
       "      <td>False</td>\n",
       "      <td>Chisinau, Moldova</td>\n",
       "      <td>White</td>\n",
       "      <td>30-Sep-1895</td>\n",
       "      <td>1931</td>\n",
       "      <td>Best Director</td>\n",
       "      <td>All Quiet on the Western Front</td>\n",
       "      <td>Lewis Milestone</td>\n",
       "    </tr>\n",
       "    <tr>\n",
       "      <th>3</th>\n",
       "      <td>False</td>\n",
       "      <td>Chicago, Il</td>\n",
       "      <td>White</td>\n",
       "      <td>23-Feb-1899</td>\n",
       "      <td>1932</td>\n",
       "      <td>Best Director</td>\n",
       "      <td>Skippy</td>\n",
       "      <td>Norman Taurog</td>\n",
       "    </tr>\n",
       "    <tr>\n",
       "      <th>4</th>\n",
       "      <td>False</td>\n",
       "      <td>Salt Lake City, Ut</td>\n",
       "      <td>White</td>\n",
       "      <td>23-Apr-1894</td>\n",
       "      <td>1933</td>\n",
       "      <td>Best Director</td>\n",
       "      <td>Bad Girl</td>\n",
       "      <td>Frank Borzage</td>\n",
       "    </tr>\n",
       "  </tbody>\n",
       "</table>\n",
       "</div>"
      ],
      "text/plain": [
       "   _golden          birthplace race_ethnicity date_of_birth  year_of_award  \\\n",
       "0    False   Chisinau, Moldova          White   30-Sep-1895           1927   \n",
       "1    False   Glasgow, Scotland          White    2-Feb-1886           1930   \n",
       "2    False   Chisinau, Moldova          White   30-Sep-1895           1931   \n",
       "3    False         Chicago, Il          White   23-Feb-1899           1932   \n",
       "4    False  Salt Lake City, Ut          White   23-Apr-1894           1933   \n",
       "\n",
       "           award                           movie           person  \n",
       "0  Best Director             Two Arabian Knights  Lewis Milestone  \n",
       "1  Best Director                 The Divine Lady      Frank Lloyd  \n",
       "2  Best Director  All Quiet on the Western Front  Lewis Milestone  \n",
       "3  Best Director                          Skippy    Norman Taurog  \n",
       "4  Best Director                        Bad Girl    Frank Borzage  "
      ]
     },
     "execution_count": 3,
     "metadata": {},
     "output_type": "execute_result"
    }
   ],
   "source": [
    "oscars = pd.DataFrame(oscars_original, columns=['_golden', 'birthplace', 'race_ethnicity' , 'date_of_birth', 'year_of_award', 'award', 'movie', 'person'])\n",
    "oscars.head()"
   ]
  },
  {
   "cell_type": "code",
   "execution_count": 4,
   "metadata": {},
   "outputs": [
    {
     "data": {
      "text/plain": [
       "(441, 8)"
      ]
     },
     "execution_count": 4,
     "metadata": {},
     "output_type": "execute_result"
    }
   ],
   "source": [
    "oscars.shape"
   ]
  },
  {
   "cell_type": "markdown",
   "metadata": {},
   "source": [
    "### Q1: Univariate - Race & Ethinicity"
   ]
  },
  {
   "cell_type": "markdown",
   "metadata": {},
   "source": [
    "#### _* Oscars winners distribution by race & ethnicity_\n",
    "#### _* Plot with a pie chart_"
   ]
  },
  {
   "cell_type": "code",
   "execution_count": 5,
   "metadata": {},
   "outputs": [
    {
     "data": {
      "text/plain": [
       "White             411\n",
       "Black              15\n",
       "Hispanic            8\n",
       "Asian               4\n",
       "Multiracial         2\n",
       "Middle Eastern      1\n",
       "Name: race_ethnicity, dtype: int64"
      ]
     },
     "execution_count": 5,
     "metadata": {},
     "output_type": "execute_result"
    }
   ],
   "source": [
    "race_counts = oscars.race_ethnicity.value_counts()\n",
    "race_counts"
   ]
  },
  {
   "cell_type": "code",
   "execution_count": 6,
   "metadata": {},
   "outputs": [
    {
     "data": {
      "image/png": "[encoded data removed]",
      "text/plain": [
       "<Figure size 432x288 with 1 Axes>"
      ]
     },
     "metadata": {},
     "output_type": "display_data"
    }
   ],
   "source": [
    "# Pie chart, where the slices will be ordered and plotted counter-clockwise:\n",
    "race_dict = dict.fromkeys(oscars.race_ethnicity)\n",
    "labels = list(race_dict)\n",
    "sizes = list(race_counts)\n",
    "fig1, ax1 = plt.subplots()\n",
    "ax1.pie(sizes, startangle=90)\n",
    "ax1.axis('equal')  # Equal aspect ratio ensures that pie is drawn as a circle.\n",
    "plt.legend(labels, bbox_to_anchor=(1,0.5), loc=\"right\", fontsize=12, bbox_transform=plt.gcf().transFigure)\n",
    "plt.subplots_adjust(left=0.0, bottom=0.0, right=0.5)\n",
    "plt.show();"
   ]
  },
  {
   "cell_type": "markdown",
   "metadata": {},
   "source": [
    "### Q1: Univariate - Award"
   ]
  },
  {
   "cell_type": "markdown",
   "metadata": {},
   "source": [
    "#### _* Oscars winners distribution by award category_\n",
    "#### _* Combine the actress & supporting actress, actor & supporting actor_\n",
    "#### _* Compute the possibility of winning both Oscars and Golden Globe Award_\n",
    "#### _* Compute the possibility of a movie winning multiple Oscars_"
   ]
  },
  {
   "cell_type": "code",
   "execution_count": 7,
   "metadata": {},
   "outputs": [
    {
     "data": {
      "text/plain": [
       "Best Actress               95\n",
       "Best Director              91\n",
       "Best Actor                 88\n",
       "Best Supporting Actress    85\n",
       "Best Supporting Actor      82\n",
       "Name: award, dtype: int64"
      ]
     },
     "execution_count": 7,
     "metadata": {},
     "output_type": "execute_result"
    }
   ],
   "source": [
    "oscars.award.value_counts()"
   ]
  },
  {
   "cell_type": "code",
   "execution_count": 8,
   "metadata": {},
   "outputs": [],
   "source": [
    "# oscars['award_combined'] = 'Best Director'\n",
    "# female_filter = oscars.award.str.contains('Actress')\n",
    "# oscars.loc[female_filter, 'award_combined'] = 'Best Actress'\n",
    "# male_filter = oscars.award.str.contains('Actor')\n",
    "# oscars.loc[male_filter, 'award_combined'] = 'Best Actor'"
   ]
  },
  {
   "cell_type": "code",
   "execution_count": 9,
   "metadata": {},
   "outputs": [
    {
     "data": {
      "image/png": "[encoded data removed]",
      "text/plain": [
       "<Figure size 576x360 with 1 Axes>"
      ]
     },
     "metadata": {
      "needs_background": "light"
     },
     "output_type": "display_data"
    }
   ],
   "source": [
    "plt.figure(figsize=(8,5))\n",
    "ax = sns.countplot(oscars.award);\n",
    "ax.set_xticklabels(ax.get_xticklabels(), rotation=40, ha=\"right\");"
   ]
  },
  {
   "cell_type": "code",
   "execution_count": 10,
   "metadata": {},
   "outputs": [
    {
     "name": "stdout",
     "output_type": "stream",
     "text": [
      "The chance of winning both the Oscars and the Golden Globe Award is 5.67%\n"
     ]
    }
   ],
   "source": [
    "golden_global = oscars[oscars._golden == True].copy()\n",
    "golden_oscar = len(golden_global) / len(oscars)\n",
    "print(\"The chance of winning both the Oscars and the Golden Globe Award is\" + \" {:.2%}\".format(golden_oscar));"
   ]
  },
  {
   "cell_type": "markdown",
   "metadata": {},
   "source": [
    "### Q2: Bivariate - Movies that won multiple Oscars awards"
   ]
  },
  {
   "cell_type": "code",
   "execution_count": 13,
   "metadata": {},
   "outputs": [],
   "source": [
    "# golden_global['date_of_birth'] = pd.to_datetime(golden_global['date_of_birth'], format = \"%d-%b-%y\")\n",
    "# golden_global['year_of_birth'] = golden_global['date_of_birth'].dt.year\n",
    "# golden_global['age'] = golden_global['year_of_award'] - golden_global['year_of_birth']\n",
    "# filterinfDataframe = golden_global[(golden_global['age'] > 0)]\n",
    "# filterinfDataframe "
   ]
  },
  {
   "cell_type": "code",
   "execution_count": 11,
   "metadata": {},
   "outputs": [
    {
     "name": "stdout",
     "output_type": "stream",
     "text": [
      "The chance of a movie winning multiple Oscars award is 18.59%\n"
     ]
    }
   ],
   "source": [
    "multiple_oscars = oscars[oscars.duplicated(['movie'])]\n",
    "multioscars_movies = []\n",
    "for i in multiple_oscars['movie']:\n",
    "    if i not in multioscars_movies:\n",
    "        multioscars_movies.append(i)\n",
    "multioscars_rate = len(multioscars_movies) / len(oscars)\n",
    "print(\"The chance of a movie winning multiple Oscars award is\" + \" {:.2%}\".format(multioscars_rate));"
   ]
  }
 ],
 "metadata": {
  "kernelspec": {
   "display_name": "Python 3",
   "language": "python",
   "name": "python3"
  },
  "language_info": {
   "codemirror_mode": {
    "name": "ipython",
    "version": 3
   },
   "file_extension": ".py",
   "mimetype": "text/x-python",
   "name": "python",
   "nbconvert_exporter": "python",
   "pygments_lexer": "ipython3",
   "version": "3.7.3"
  }
 },
 "nbformat": 4,
 "nbformat_minor": 4
}
