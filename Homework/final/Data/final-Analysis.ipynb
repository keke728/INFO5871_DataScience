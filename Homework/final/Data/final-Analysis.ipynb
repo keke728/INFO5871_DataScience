{
 "cells": [
  {
   "cell_type": "markdown",
   "metadata": {},
   "source": [
    "# Final Project - Data Analysis\n",
    "\n",
    "- INFO 5871-001\n",
    "- Keke Wu\n",
    "- Fall 2019"
   ]
  },
  {
   "cell_type": "code",
   "execution_count": 1,
   "metadata": {},
   "outputs": [],
   "source": [
    "import pandas as pd\n",
    "import numpy as np \n",
    "import matplotlib.pyplot as plt\n",
    "import seaborn as sns\n",
    "import scipy.stats as st\n",
    "from scipy.special import expit\n",
    "# Avoids certain warning messages later\n",
    "from pandas.plotting import register_matplotlib_converters\n",
    "register_matplotlib_converters()\n",
    "import statsmodels.formula.api as sm\n",
    "import statsmodels.api as sma\n",
    "from statsmodels.graphics.gofplots import qqplot"
   ]
  },
  {
   "cell_type": "markdown",
   "metadata": {},
   "source": [
    "### Import Datasets"
   ]
  },
  {
   "cell_type": "markdown",
   "metadata": {},
   "source": [
    "Make dataframes for both csv files and drop the duplicates in demographics by user_id.\n",
    "\n",
    "Groupby \"model_type\".\n"
   ]
  },
  {
   "cell_type": "code",
   "execution_count": 2,
   "metadata": {},
   "outputs": [
    {
     "data": {
      "text/html": [
       "<div>\n",
       "<style scoped>\n",
       "    .dataframe tbody tr th:only-of-type {\n",
       "        vertical-align: middle;\n",
       "    }\n",
       "\n",
       "    .dataframe tbody tr th {\n",
       "        vertical-align: top;\n",
       "    }\n",
       "\n",
       "    .dataframe thead th {\n",
       "        text-align: right;\n",
       "    }\n",
       "</style>\n",
       "<table border=\"1\" class=\"dataframe\">\n",
       "  <thead>\n",
       "    <tr style=\"text-align: right;\">\n",
       "      <th></th>\n",
       "      <th>user_id</th>\n",
       "      <th>vis_type</th>\n",
       "      <th>model_type</th>\n",
       "      <th>color_ramp_index</th>\n",
       "      <th>target_value</th>\n",
       "      <th>selected_value</th>\n",
       "      <th>aesthetic_rating</th>\n",
       "      <th>trial_number</th>\n",
       "      <th>age</th>\n",
       "      <th>occupation</th>\n",
       "      <th>gender</th>\n",
       "      <th>normal_vision</th>\n",
       "      <th>cdv</th>\n",
       "      <th>hours_per_day_on_computer</th>\n",
       "      <th>education</th>\n",
       "      <th>display_type</th>\n",
       "      <th>display_size_inches</th>\n",
       "      <th>design_experience</th>\n",
       "      <th>comments</th>\n",
       "    </tr>\n",
       "  </thead>\n",
       "  <tbody>\n",
       "    <tr>\n",
       "      <th>0</th>\n",
       "      <td>2</td>\n",
       "      <td>heatmap</td>\n",
       "      <td>designer</td>\n",
       "      <td>1</td>\n",
       "      <td>6</td>\n",
       "      <td>6</td>\n",
       "      <td>0</td>\n",
       "      <td>1</td>\n",
       "      <td>30</td>\n",
       "      <td>Service Designer</td>\n",
       "      <td>Male</td>\n",
       "      <td>yes</td>\n",
       "      <td>no</td>\n",
       "      <td>6</td>\n",
       "      <td>graduateStudies</td>\n",
       "      <td>phone</td>\n",
       "      <td>4</td>\n",
       "      <td>8</td>\n",
       "      <td>NaN</td>\n",
       "    </tr>\n",
       "    <tr>\n",
       "      <th>1</th>\n",
       "      <td>2</td>\n",
       "      <td>scatter</td>\n",
       "      <td>designer</td>\n",
       "      <td>8</td>\n",
       "      <td>5</td>\n",
       "      <td>3</td>\n",
       "      <td>-20</td>\n",
       "      <td>2</td>\n",
       "      <td>30</td>\n",
       "      <td>Service Designer</td>\n",
       "      <td>Male</td>\n",
       "      <td>yes</td>\n",
       "      <td>no</td>\n",
       "      <td>6</td>\n",
       "      <td>graduateStudies</td>\n",
       "      <td>phone</td>\n",
       "      <td>4</td>\n",
       "      <td>8</td>\n",
       "      <td>NaN</td>\n",
       "    </tr>\n",
       "    <tr>\n",
       "      <th>2</th>\n",
       "      <td>2</td>\n",
       "      <td>choropleth</td>\n",
       "      <td>linear</td>\n",
       "      <td>21</td>\n",
       "      <td>8</td>\n",
       "      <td>8</td>\n",
       "      <td>27</td>\n",
       "      <td>3</td>\n",
       "      <td>30</td>\n",
       "      <td>Service Designer</td>\n",
       "      <td>Male</td>\n",
       "      <td>yes</td>\n",
       "      <td>no</td>\n",
       "      <td>6</td>\n",
       "      <td>graduateStudies</td>\n",
       "      <td>phone</td>\n",
       "      <td>4</td>\n",
       "      <td>8</td>\n",
       "      <td>NaN</td>\n",
       "    </tr>\n",
       "    <tr>\n",
       "      <th>3</th>\n",
       "      <td>2</td>\n",
       "      <td>choropleth</td>\n",
       "      <td>designer</td>\n",
       "      <td>11</td>\n",
       "      <td>6</td>\n",
       "      <td>6</td>\n",
       "      <td>24</td>\n",
       "      <td>4</td>\n",
       "      <td>30</td>\n",
       "      <td>Service Designer</td>\n",
       "      <td>Male</td>\n",
       "      <td>yes</td>\n",
       "      <td>no</td>\n",
       "      <td>6</td>\n",
       "      <td>graduateStudies</td>\n",
       "      <td>phone</td>\n",
       "      <td>4</td>\n",
       "      <td>8</td>\n",
       "      <td>NaN</td>\n",
       "    </tr>\n",
       "    <tr>\n",
       "      <th>4</th>\n",
       "      <td>2</td>\n",
       "      <td>scatter</td>\n",
       "      <td>bayesian</td>\n",
       "      <td>24</td>\n",
       "      <td>4</td>\n",
       "      <td>3</td>\n",
       "      <td>37</td>\n",
       "      <td>5</td>\n",
       "      <td>30</td>\n",
       "      <td>Service Designer</td>\n",
       "      <td>Male</td>\n",
       "      <td>yes</td>\n",
       "      <td>no</td>\n",
       "      <td>6</td>\n",
       "      <td>graduateStudies</td>\n",
       "      <td>phone</td>\n",
       "      <td>4</td>\n",
       "      <td>8</td>\n",
       "      <td>NaN</td>\n",
       "    </tr>\n",
       "  </tbody>\n",
       "</table>\n",
       "</div>"
      ],
      "text/plain": [
       "   user_id    vis_type model_type  color_ramp_index  target_value  \\\n",
       "0        2     heatmap   designer                 1             6   \n",
       "1        2     scatter   designer                 8             5   \n",
       "2        2  choropleth     linear                21             8   \n",
       "3        2  choropleth   designer                11             6   \n",
       "4        2     scatter   bayesian                24             4   \n",
       "\n",
       "   selected_value  aesthetic_rating  trial_number  age        occupation  \\\n",
       "0               6                 0             1   30  Service Designer   \n",
       "1               3               -20             2   30  Service Designer   \n",
       "2               8                27             3   30  Service Designer   \n",
       "3               6                24             4   30  Service Designer   \n",
       "4               3                37             5   30  Service Designer   \n",
       "\n",
       "  gender normal_vision cdv  hours_per_day_on_computer        education  \\\n",
       "0   Male           yes  no                          6  graduateStudies   \n",
       "1   Male           yes  no                          6  graduateStudies   \n",
       "2   Male           yes  no                          6  graduateStudies   \n",
       "3   Male           yes  no                          6  graduateStudies   \n",
       "4   Male           yes  no                          6  graduateStudies   \n",
       "\n",
       "  display_type  display_size_inches  design_experience comments  \n",
       "0        phone                    4                  8      NaN  \n",
       "1        phone                    4                  8      NaN  \n",
       "2        phone                    4                  8      NaN  \n",
       "3        phone                    4                  8      NaN  \n",
       "4        phone                    4                  8      NaN  "
      ]
     },
     "execution_count": 2,
     "metadata": {},
     "output_type": "execute_result"
    }
   ],
   "source": [
    "cc_df = pd.read_csv('cc.csv')\n",
    "cc_df.head()"
   ]
  },
  {
   "cell_type": "code",
   "execution_count": 3,
   "metadata": {},
   "outputs": [],
   "source": [
    "grouped = cc_df.groupby('model_type')\n",
    "bayesian = grouped.get_group('bayesian')\n",
    "kmeans = grouped.get_group('kmeans')\n",
    "designer = grouped.get_group('designer')\n",
    "linear = grouped.get_group('linear')"
   ]
  },
  {
   "cell_type": "markdown",
   "metadata": {},
   "source": [
    "## Accuracy & Aesthetics"
   ]
  },
  {
   "cell_type": "markdown",
   "metadata": {},
   "source": [
    "### Calculate the Accuracy for Each Model"
   ]
  },
  {
   "cell_type": "code",
   "execution_count": 4,
   "metadata": {},
   "outputs": [
    {
     "data": {
      "text/plain": [
       " 0    0.526455\n",
       " 1    0.246032\n",
       "-1    0.174603\n",
       "-2    0.015873\n",
       " 2    0.013228\n",
       " 3    0.007937\n",
       "-3    0.002646\n",
       " 7    0.002646\n",
       " 6    0.002646\n",
       " 5    0.002646\n",
       " 4    0.002646\n",
       "-4    0.002646\n",
       "dtype: float64"
      ]
     },
     "execution_count": 4,
     "metadata": {},
     "output_type": "execute_result"
    }
   ],
   "source": [
    "bayesian_diff = bayesian['selected_value'] - bayesian['target_value']\n",
    "bayesian_diff.value_counts('0')"
   ]
  },
  {
   "cell_type": "code",
   "execution_count": 5,
   "metadata": {},
   "outputs": [
    {
     "data": {
      "text/plain": [
       " 0    0.531746\n",
       " 1    0.201058\n",
       "-1    0.187831\n",
       "-2    0.026455\n",
       " 2    0.021164\n",
       " 3    0.018519\n",
       " 6    0.005291\n",
       "-4    0.002646\n",
       "-6    0.002646\n",
       "-5    0.002646\n",
       "dtype: float64"
      ]
     },
     "execution_count": 5,
     "metadata": {},
     "output_type": "execute_result"
    }
   ],
   "source": [
    "kmeans_diff = kmeans['selected_value'] - kmeans['target_value']\n",
    "kmeans_diff.value_counts('0')"
   ]
  },
  {
   "cell_type": "code",
   "execution_count": 6,
   "metadata": {},
   "outputs": [
    {
     "data": {
      "text/plain": [
       " 0    0.486772\n",
       " 1    0.222222\n",
       "-1    0.193122\n",
       " 2    0.039683\n",
       "-2    0.018519\n",
       " 4    0.010582\n",
       " 3    0.007937\n",
       "-3    0.005291\n",
       " 7    0.005291\n",
       " 5    0.005291\n",
       "-6    0.002646\n",
       "-4    0.002646\n",
       "dtype: float64"
      ]
     },
     "execution_count": 6,
     "metadata": {},
     "output_type": "execute_result"
    }
   ],
   "source": [
    "designer_diff = designer['selected_value'] - designer['target_value']\n",
    "designer_diff.value_counts('0')"
   ]
  },
  {
   "cell_type": "code",
   "execution_count": 7,
   "metadata": {},
   "outputs": [
    {
     "data": {
      "text/plain": [
       " 0    0.439153\n",
       " 1    0.238095\n",
       "-1    0.203704\n",
       " 2    0.042328\n",
       "-2    0.039683\n",
       "-3    0.021164\n",
       " 5    0.005291\n",
       " 7    0.002646\n",
       "-6    0.002646\n",
       " 4    0.002646\n",
       " 3    0.002646\n",
       "dtype: float64"
      ]
     },
     "execution_count": 7,
     "metadata": {},
     "output_type": "execute_result"
    }
   ],
   "source": [
    "linear_diff = linear['selected_value'] - linear['target_value']\n",
    "linear_diff.value_counts('0')"
   ]
  },
  {
   "cell_type": "markdown",
   "metadata": {},
   "source": [
    "#### Conclusion: The acurracy for each model is as follows:\n",
    "_Bayesian: 52.64%\n",
    "Kmeans: 53.17%\n",
    "Designer: 48.68%\n",
    "Linear: 43.92%_"
   ]
  },
  {
   "cell_type": "markdown",
   "metadata": {},
   "source": [
    "### Calculate the Average Aesthetic Rating for Each Model"
   ]
  },
  {
   "cell_type": "code",
   "execution_count": 8,
   "metadata": {},
   "outputs": [
    {
     "data": {
      "text/plain": [
       "count    378.000000\n",
       "mean       6.314815\n",
       "std       43.410982\n",
       "min     -100.000000\n",
       "25%      -15.000000\n",
       "50%        0.000000\n",
       "75%       30.000000\n",
       "max      100.000000\n",
       "Name: aesthetic_rating, dtype: float64"
      ]
     },
     "execution_count": 8,
     "metadata": {},
     "output_type": "execute_result"
    }
   ],
   "source": [
    "bayesian_aes = bayesian['aesthetic_rating'].mean()\n",
    "bayesian['aesthetic_rating'].describe()"
   ]
  },
  {
   "cell_type": "code",
   "execution_count": 9,
   "metadata": {},
   "outputs": [
    {
     "data": {
      "text/plain": [
       "count    378.000000\n",
       "mean      12.066138\n",
       "std       45.039309\n",
       "min     -100.000000\n",
       "25%        0.000000\n",
       "50%        0.000000\n",
       "75%       37.500000\n",
       "max      100.000000\n",
       "Name: aesthetic_rating, dtype: float64"
      ]
     },
     "execution_count": 9,
     "metadata": {},
     "output_type": "execute_result"
    }
   ],
   "source": [
    "kmeans_aes = kmeans['aesthetic_rating'].mean()\n",
    "kmeans['aesthetic_rating'].describe()"
   ]
  },
  {
   "cell_type": "code",
   "execution_count": 10,
   "metadata": {},
   "outputs": [
    {
     "data": {
      "text/plain": [
       "count    378.000000\n",
       "mean       6.605820\n",
       "std       48.854091\n",
       "min     -100.000000\n",
       "25%      -15.000000\n",
       "50%        0.000000\n",
       "75%       32.000000\n",
       "max      100.000000\n",
       "Name: aesthetic_rating, dtype: float64"
      ]
     },
     "execution_count": 10,
     "metadata": {},
     "output_type": "execute_result"
    }
   ],
   "source": [
    "designer_aes = designer['aesthetic_rating'].mean()\n",
    "designer['aesthetic_rating'].describe()"
   ]
  },
  {
   "cell_type": "code",
   "execution_count": 11,
   "metadata": {},
   "outputs": [
    {
     "data": {
      "text/plain": [
       "count    378.000000\n",
       "mean      -0.452381\n",
       "std       49.444223\n",
       "min     -100.000000\n",
       "25%      -31.750000\n",
       "50%        0.000000\n",
       "75%       27.750000\n",
       "max      100.000000\n",
       "Name: aesthetic_rating, dtype: float64"
      ]
     },
     "execution_count": 11,
     "metadata": {},
     "output_type": "execute_result"
    }
   ],
   "source": [
    "linear_aes = linear['aesthetic_rating'].mean()\n",
    "linear['aesthetic_rating'].describe()"
   ]
  },
  {
   "cell_type": "markdown",
   "metadata": {},
   "source": [
    "#### Conclusion: The average aesthetic rating for each model is as follows:\n",
    "_Bayesian: 6.31\n",
    "Kmeans: 12.07\n",
    "Designer: 6.61\n",
    "Linear: -0.45_"
   ]
  },
  {
   "cell_type": "markdown",
   "metadata": {},
   "source": [
    "### Visualization"
   ]
  },
  {
   "cell_type": "code",
   "execution_count": 12,
   "metadata": {},
   "outputs": [],
   "source": [
    "model = ['Bayesian', 'Kmeans', 'Designer', 'Linear']\n",
    "model_accuracy = [52.64, 53.17, 48.68, 43.92]\n",
    "model_aesthetics = [6.31, 12.07, 6.61, -0.45]"
   ]
  },
  {
   "cell_type": "code",
   "execution_count": 13,
   "metadata": {},
   "outputs": [
    {
     "data": {
      "image/png": "[encoded data removed]",
      "text/plain": [
       "<Figure size 432x288 with 1 Axes>"
      ]
     },
     "metadata": {
      "needs_background": "light"
     },
     "output_type": "display_data"
    }
   ],
   "source": [
    "# Make a bar chart for accuracy:\n",
    "y_pos = np.arange(len(model_accuracy))\n",
    " \n",
    "# Create bars\n",
    "plt.bar(y_pos, model_accuracy)\n",
    " \n",
    "# Create names on the x-axis\n",
    "plt.xticks(y_pos, model)\n",
    "\n",
    "# Add title and axis names\n",
    "plt.title('Color Model Accuracy')\n",
    "plt.xlabel('Model Type')\n",
    "plt.ylabel('Accuracy (%)')\n",
    "\n",
    "# Show graphic\n",
    "plt.show()"
   ]
  },
  {
   "cell_type": "code",
   "execution_count": 14,
   "metadata": {},
   "outputs": [
    {
     "data": {
      "image/png": "[encoded data removed]",
      "text/plain": [
       "<Figure size 432x288 with 1 Axes>"
      ]
     },
     "metadata": {
      "needs_background": "light"
     },
     "output_type": "display_data"
    }
   ],
   "source": [
    "# Make a bar chart for aesthetics:\n",
    "y_pos = np.arange(len(model_aesthetics))\n",
    " \n",
    "# Create bars\n",
    "plt.bar(y_pos, model_aesthetics)\n",
    " \n",
    "# Create names on the x-axis\n",
    "plt.xticks(y_pos, model)\n",
    "\n",
    "# Add title and axis names\n",
    "plt.title('Color Model Aesthetics')\n",
    "plt.xlabel('Model Type')\n",
    "plt.ylabel('Aesthetics')\n",
    "\n",
    "# Show graphic\n",
    "plt.show()"
   ]
  },
  {
   "cell_type": "markdown",
   "metadata": {},
   "source": [
    "## Multiple Regression for Aesthetics"
   ]
  },
  {
   "cell_type": "code",
   "execution_count": 15,
   "metadata": {},
   "outputs": [
    {
     "data": {
      "text/html": [
       "<div>\n",
       "<style scoped>\n",
       "    .dataframe tbody tr th:only-of-type {\n",
       "        vertical-align: middle;\n",
       "    }\n",
       "\n",
       "    .dataframe tbody tr th {\n",
       "        vertical-align: top;\n",
       "    }\n",
       "\n",
       "    .dataframe thead th {\n",
       "        text-align: right;\n",
       "    }\n",
       "</style>\n",
       "<table border=\"1\" class=\"dataframe\">\n",
       "  <thead>\n",
       "    <tr style=\"text-align: right;\">\n",
       "      <th></th>\n",
       "      <th>user_id</th>\n",
       "      <th>vis_type</th>\n",
       "      <th>model_type</th>\n",
       "      <th>color_ramp_index</th>\n",
       "      <th>target_value</th>\n",
       "      <th>selected_value</th>\n",
       "      <th>aesthetic_rating</th>\n",
       "      <th>trial_number</th>\n",
       "      <th>age</th>\n",
       "      <th>occupation</th>\n",
       "      <th>gender</th>\n",
       "      <th>normal_vision</th>\n",
       "      <th>cdv</th>\n",
       "      <th>hours_per_day_on_computer</th>\n",
       "      <th>education</th>\n",
       "      <th>display_type</th>\n",
       "      <th>display_size_inches</th>\n",
       "      <th>design_experience</th>\n",
       "      <th>comments</th>\n",
       "    </tr>\n",
       "  </thead>\n",
       "  <tbody>\n",
       "    <tr>\n",
       "      <th>0</th>\n",
       "      <td>2</td>\n",
       "      <td>heatmap</td>\n",
       "      <td>designer</td>\n",
       "      <td>1</td>\n",
       "      <td>6</td>\n",
       "      <td>6</td>\n",
       "      <td>0</td>\n",
       "      <td>1</td>\n",
       "      <td>30</td>\n",
       "      <td>Service Designer</td>\n",
       "      <td>Male</td>\n",
       "      <td>yes</td>\n",
       "      <td>no</td>\n",
       "      <td>6</td>\n",
       "      <td>graduateStudies</td>\n",
       "      <td>phone</td>\n",
       "      <td>4</td>\n",
       "      <td>8</td>\n",
       "      <td>NaN</td>\n",
       "    </tr>\n",
       "    <tr>\n",
       "      <th>1</th>\n",
       "      <td>2</td>\n",
       "      <td>scatter</td>\n",
       "      <td>designer</td>\n",
       "      <td>8</td>\n",
       "      <td>5</td>\n",
       "      <td>3</td>\n",
       "      <td>-20</td>\n",
       "      <td>2</td>\n",
       "      <td>30</td>\n",
       "      <td>Service Designer</td>\n",
       "      <td>Male</td>\n",
       "      <td>yes</td>\n",
       "      <td>no</td>\n",
       "      <td>6</td>\n",
       "      <td>graduateStudies</td>\n",
       "      <td>phone</td>\n",
       "      <td>4</td>\n",
       "      <td>8</td>\n",
       "      <td>NaN</td>\n",
       "    </tr>\n",
       "    <tr>\n",
       "      <th>2</th>\n",
       "      <td>2</td>\n",
       "      <td>choropleth</td>\n",
       "      <td>linear</td>\n",
       "      <td>21</td>\n",
       "      <td>8</td>\n",
       "      <td>8</td>\n",
       "      <td>27</td>\n",
       "      <td>3</td>\n",
       "      <td>30</td>\n",
       "      <td>Service Designer</td>\n",
       "      <td>Male</td>\n",
       "      <td>yes</td>\n",
       "      <td>no</td>\n",
       "      <td>6</td>\n",
       "      <td>graduateStudies</td>\n",
       "      <td>phone</td>\n",
       "      <td>4</td>\n",
       "      <td>8</td>\n",
       "      <td>NaN</td>\n",
       "    </tr>\n",
       "    <tr>\n",
       "      <th>3</th>\n",
       "      <td>2</td>\n",
       "      <td>choropleth</td>\n",
       "      <td>designer</td>\n",
       "      <td>11</td>\n",
       "      <td>6</td>\n",
       "      <td>6</td>\n",
       "      <td>24</td>\n",
       "      <td>4</td>\n",
       "      <td>30</td>\n",
       "      <td>Service Designer</td>\n",
       "      <td>Male</td>\n",
       "      <td>yes</td>\n",
       "      <td>no</td>\n",
       "      <td>6</td>\n",
       "      <td>graduateStudies</td>\n",
       "      <td>phone</td>\n",
       "      <td>4</td>\n",
       "      <td>8</td>\n",
       "      <td>NaN</td>\n",
       "    </tr>\n",
       "    <tr>\n",
       "      <th>4</th>\n",
       "      <td>2</td>\n",
       "      <td>scatter</td>\n",
       "      <td>bayesian</td>\n",
       "      <td>24</td>\n",
       "      <td>4</td>\n",
       "      <td>3</td>\n",
       "      <td>37</td>\n",
       "      <td>5</td>\n",
       "      <td>30</td>\n",
       "      <td>Service Designer</td>\n",
       "      <td>Male</td>\n",
       "      <td>yes</td>\n",
       "      <td>no</td>\n",
       "      <td>6</td>\n",
       "      <td>graduateStudies</td>\n",
       "      <td>phone</td>\n",
       "      <td>4</td>\n",
       "      <td>8</td>\n",
       "      <td>NaN</td>\n",
       "    </tr>\n",
       "  </tbody>\n",
       "</table>\n",
       "</div>"
      ],
      "text/plain": [
       "   user_id    vis_type model_type  color_ramp_index  target_value  \\\n",
       "0        2     heatmap   designer                 1             6   \n",
       "1        2     scatter   designer                 8             5   \n",
       "2        2  choropleth     linear                21             8   \n",
       "3        2  choropleth   designer                11             6   \n",
       "4        2     scatter   bayesian                24             4   \n",
       "\n",
       "   selected_value  aesthetic_rating  trial_number  age        occupation  \\\n",
       "0               6                 0             1   30  Service Designer   \n",
       "1               3               -20             2   30  Service Designer   \n",
       "2               8                27             3   30  Service Designer   \n",
       "3               6                24             4   30  Service Designer   \n",
       "4               3                37             5   30  Service Designer   \n",
       "\n",
       "  gender normal_vision cdv  hours_per_day_on_computer        education  \\\n",
       "0   Male           yes  no                          6  graduateStudies   \n",
       "1   Male           yes  no                          6  graduateStudies   \n",
       "2   Male           yes  no                          6  graduateStudies   \n",
       "3   Male           yes  no                          6  graduateStudies   \n",
       "4   Male           yes  no                          6  graduateStudies   \n",
       "\n",
       "  display_type  display_size_inches  design_experience comments  \n",
       "0        phone                    4                  8      NaN  \n",
       "1        phone                    4                  8      NaN  \n",
       "2        phone                    4                  8      NaN  \n",
       "3        phone                    4                  8      NaN  \n",
       "4        phone                    4                  8      NaN  "
      ]
     },
     "execution_count": 15,
     "metadata": {},
     "output_type": "execute_result"
    }
   ],
   "source": [
    "cc_df.head()"
   ]
  },
  {
   "cell_type": "code",
   "execution_count": 16,
   "metadata": {},
   "outputs": [
    {
     "name": "stdout",
     "output_type": "stream",
     "text": [
      "15751.286798904113\n"
     ]
    },
    {
     "data": {
      "text/html": [
       "<table class=\"simpletable\">\n",
       "<caption>OLS Regression Results</caption>\n",
       "<tr>\n",
       "  <th>Dep. Variable:</th>    <td>aesthetic_rating</td> <th>  R-squared:         </th> <td>   0.130</td> \n",
       "</tr>\n",
       "<tr>\n",
       "  <th>Model:</th>                   <td>OLS</td>       <th>  Adj. R-squared:    </th> <td>   0.121</td> \n",
       "</tr>\n",
       "<tr>\n",
       "  <th>Method:</th>             <td>Least Squares</td>  <th>  F-statistic:       </th> <td>   13.94</td> \n",
       "</tr>\n",
       "<tr>\n",
       "  <th>Date:</th>             <td>Fri, 13 Dec 2019</td> <th>  Prob (F-statistic):</th> <td>1.26e-35</td> \n",
       "</tr>\n",
       "<tr>\n",
       "  <th>Time:</th>                 <td>12:59:01</td>     <th>  Log-Likelihood:    </th> <td> -7858.6</td> \n",
       "</tr>\n",
       "<tr>\n",
       "  <th>No. Observations:</th>      <td>  1512</td>      <th>  AIC:               </th> <td>1.575e+04</td>\n",
       "</tr>\n",
       "<tr>\n",
       "  <th>Df Residuals:</th>          <td>  1495</td>      <th>  BIC:               </th> <td>1.584e+04</td>\n",
       "</tr>\n",
       "<tr>\n",
       "  <th>Df Model:</th>              <td>    16</td>      <th>                     </th>     <td> </td>    \n",
       "</tr>\n",
       "<tr>\n",
       "  <th>Covariance Type:</th>      <td>nonrobust</td>    <th>                     </th>     <td> </td>    \n",
       "</tr>\n",
       "</table>\n",
       "<table class=\"simpletable\">\n",
       "<tr>\n",
       "                <td></td>                  <th>coef</th>     <th>std err</th>      <th>t</th>      <th>P>|t|</th>  <th>[0.025</th>    <th>0.975]</th>  \n",
       "</tr>\n",
       "<tr>\n",
       "  <th>Intercept</th>                    <td>   39.1181</td> <td>    7.807</td> <td>    5.011</td> <td> 0.000</td> <td>   23.804</td> <td>   54.432</td>\n",
       "</tr>\n",
       "<tr>\n",
       "  <th>vis_type[T.heatmap]</th>          <td>   -9.3750</td> <td>    2.772</td> <td>   -3.382</td> <td> 0.001</td> <td>  -14.812</td> <td>   -3.938</td>\n",
       "</tr>\n",
       "<tr>\n",
       "  <th>vis_type[T.scatter]</th>          <td>   -0.5040</td> <td>    2.772</td> <td>   -0.182</td> <td> 0.856</td> <td>   -5.941</td> <td>    4.933</td>\n",
       "</tr>\n",
       "<tr>\n",
       "  <th>model_type[T.designer]</th>       <td>    0.2910</td> <td>    3.201</td> <td>    0.091</td> <td> 0.928</td> <td>   -5.987</td> <td>    6.569</td>\n",
       "</tr>\n",
       "<tr>\n",
       "  <th>model_type[T.kmeans]</th>         <td>    5.7513</td> <td>    3.201</td> <td>    1.797</td> <td> 0.073</td> <td>   -0.527</td> <td>   12.030</td>\n",
       "</tr>\n",
       "<tr>\n",
       "  <th>model_type[T.linear]</th>         <td>   -6.7672</td> <td>    3.201</td> <td>   -2.114</td> <td> 0.035</td> <td>  -13.045</td> <td>   -0.489</td>\n",
       "</tr>\n",
       "<tr>\n",
       "  <th>gender[T.Male]</th>               <td>   -9.6956</td> <td>    2.725</td> <td>   -3.558</td> <td> 0.000</td> <td>  -15.042</td> <td>   -4.350</td>\n",
       "</tr>\n",
       "<tr>\n",
       "  <th>gender[T.noReply]</th>            <td>  -39.0517</td> <td>    9.773</td> <td>   -3.996</td> <td> 0.000</td> <td>  -58.223</td> <td>  -19.881</td>\n",
       "</tr>\n",
       "<tr>\n",
       "  <th>education[T.graduateStudies]</th> <td>   -6.8822</td> <td>    3.498</td> <td>   -1.968</td> <td> 0.049</td> <td>  -13.743</td> <td>   -0.021</td>\n",
       "</tr>\n",
       "<tr>\n",
       "  <th>education[T.highSchool]</th>      <td>   -1.7698</td> <td>    6.025</td> <td>   -0.294</td> <td> 0.769</td> <td>  -13.588</td> <td>   10.048</td>\n",
       "</tr>\n",
       "<tr>\n",
       "  <th>education[T.someCollege]</th>     <td>  -12.8232</td> <td>    3.993</td> <td>   -3.211</td> <td> 0.001</td> <td>  -20.656</td> <td>   -4.990</td>\n",
       "</tr>\n",
       "<tr>\n",
       "  <th>display_type[T.laptop]</th>       <td>  -17.4184</td> <td>    2.609</td> <td>   -6.677</td> <td> 0.000</td> <td>  -22.536</td> <td>  -12.301</td>\n",
       "</tr>\n",
       "<tr>\n",
       "  <th>display_type[T.phone]</th>        <td>    4.0739</td> <td>    5.346</td> <td>    0.762</td> <td> 0.446</td> <td>   -6.413</td> <td>   14.561</td>\n",
       "</tr>\n",
       "<tr>\n",
       "  <th>age</th>                          <td>    0.2758</td> <td>    0.178</td> <td>    1.551</td> <td> 0.121</td> <td>   -0.073</td> <td>    0.625</td>\n",
       "</tr>\n",
       "<tr>\n",
       "  <th>hours_per_day_on_computer</th>    <td>   -2.5647</td> <td>    0.498</td> <td>   -5.155</td> <td> 0.000</td> <td>   -3.541</td> <td>   -1.589</td>\n",
       "</tr>\n",
       "<tr>\n",
       "  <th>display_size_inches</th>          <td>    0.0105</td> <td>    0.171</td> <td>    0.062</td> <td> 0.951</td> <td>   -0.325</td> <td>    0.346</td>\n",
       "</tr>\n",
       "<tr>\n",
       "  <th>design_experience</th>            <td>   -0.0336</td> <td>    0.259</td> <td>   -0.130</td> <td> 0.897</td> <td>   -0.541</td> <td>    0.474</td>\n",
       "</tr>\n",
       "</table>\n",
       "<table class=\"simpletable\">\n",
       "<tr>\n",
       "  <th>Omnibus:</th>       <td> 0.318</td> <th>  Durbin-Watson:     </th> <td>   1.510</td>\n",
       "</tr>\n",
       "<tr>\n",
       "  <th>Prob(Omnibus):</th> <td> 0.853</td> <th>  Jarque-Bera (JB):  </th> <td>   0.273</td>\n",
       "</tr>\n",
       "<tr>\n",
       "  <th>Skew:</th>          <td>-0.031</td> <th>  Prob(JB):          </th> <td>   0.872</td>\n",
       "</tr>\n",
       "<tr>\n",
       "  <th>Kurtosis:</th>      <td> 3.023</td> <th>  Cond. No.          </th> <td>    365.</td>\n",
       "</tr>\n",
       "</table><br/><br/>Warnings:<br/>[1] Standard Errors assume that the covariance matrix of the errors is correctly specified."
      ],
      "text/plain": [
       "<class 'statsmodels.iolib.summary.Summary'>\n",
       "\"\"\"\n",
       "                            OLS Regression Results                            \n",
       "==============================================================================\n",
       "Dep. Variable:       aesthetic_rating   R-squared:                       0.130\n",
       "Model:                            OLS   Adj. R-squared:                  0.121\n",
       "Method:                 Least Squares   F-statistic:                     13.94\n",
       "Date:                Fri, 13 Dec 2019   Prob (F-statistic):           1.26e-35\n",
       "Time:                        12:59:01   Log-Likelihood:                -7858.6\n",
       "No. Observations:                1512   AIC:                         1.575e+04\n",
       "Df Residuals:                    1495   BIC:                         1.584e+04\n",
       "Df Model:                          16                                         \n",
       "Covariance Type:            nonrobust                                         \n",
       "================================================================================================\n",
       "                                   coef    std err          t      P>|t|      [0.025      0.975]\n",
       "------------------------------------------------------------------------------------------------\n",
       "Intercept                       39.1181      7.807      5.011      0.000      23.804      54.432\n",
       "vis_type[T.heatmap]             -9.3750      2.772     -3.382      0.001     -14.812      -3.938\n",
       "vis_type[T.scatter]             -0.5040      2.772     -0.182      0.856      -5.941       4.933\n",
       "model_type[T.designer]           0.2910      3.201      0.091      0.928      -5.987       6.569\n",
       "model_type[T.kmeans]             5.7513      3.201      1.797      0.073      -0.527      12.030\n",
       "model_type[T.linear]            -6.7672      3.201     -2.114      0.035     -13.045      -0.489\n",
       "gender[T.Male]                  -9.6956      2.725     -3.558      0.000     -15.042      -4.350\n",
       "gender[T.noReply]              -39.0517      9.773     -3.996      0.000     -58.223     -19.881\n",
       "education[T.graduateStudies]    -6.8822      3.498     -1.968      0.049     -13.743      -0.021\n",
       "education[T.highSchool]         -1.7698      6.025     -0.294      0.769     -13.588      10.048\n",
       "education[T.someCollege]       -12.8232      3.993     -3.211      0.001     -20.656      -4.990\n",
       "display_type[T.laptop]         -17.4184      2.609     -6.677      0.000     -22.536     -12.301\n",
       "display_type[T.phone]            4.0739      5.346      0.762      0.446      -6.413      14.561\n",
       "age                              0.2758      0.178      1.551      0.121      -0.073       0.625\n",
       "hours_per_day_on_computer       -2.5647      0.498     -5.155      0.000      -3.541      -1.589\n",
       "display_size_inches              0.0105      0.171      0.062      0.951      -0.325       0.346\n",
       "design_experience               -0.0336      0.259     -0.130      0.897      -0.541       0.474\n",
       "==============================================================================\n",
       "Omnibus:                        0.318   Durbin-Watson:                   1.510\n",
       "Prob(Omnibus):                  0.853   Jarque-Bera (JB):                0.273\n",
       "Skew:                          -0.031   Prob(JB):                        0.872\n",
       "Kurtosis:                       3.023   Cond. No.                         365.\n",
       "==============================================================================\n",
       "\n",
       "Warnings:\n",
       "[1] Standard Errors assume that the covariance matrix of the errors is correctly specified.\n",
       "\"\"\""
      ]
     },
     "execution_count": 16,
     "metadata": {},
     "output_type": "execute_result"
    }
   ],
   "source": [
    "model1 = sm.ols(formula =\"aesthetic_rating ~ vis_type + model_type  + age + gender + hours_per_day_on_computer + education + display_type + display_size_inches + design_experience\", data=cc_df)\n",
    "reg1 = model1.fit()\n",
    "print(reg1.aic)\n",
    "reg1.summary()"
   ]
  },
  {
   "cell_type": "code",
   "execution_count": 17,
   "metadata": {},
   "outputs": [
    {
     "data": {
      "text/plain": [
       "'display_size_inches'"
      ]
     },
     "execution_count": 17,
     "metadata": {},
     "output_type": "execute_result"
    }
   ],
   "source": [
    "reg1.pvalues.idxmax()"
   ]
  },
  {
   "cell_type": "markdown",
   "metadata": {},
   "source": [
    "#### 1. Drop 'display_size_inches'"
   ]
  },
  {
   "cell_type": "code",
   "execution_count": 18,
   "metadata": {},
   "outputs": [
    {
     "name": "stdout",
     "output_type": "stream",
     "text": [
      "15749.29062964777\n"
     ]
    },
    {
     "data": {
      "text/html": [
       "<table class=\"simpletable\">\n",
       "<caption>OLS Regression Results</caption>\n",
       "<tr>\n",
       "  <th>Dep. Variable:</th>    <td>aesthetic_rating</td> <th>  R-squared:         </th> <td>   0.130</td> \n",
       "</tr>\n",
       "<tr>\n",
       "  <th>Model:</th>                   <td>OLS</td>       <th>  Adj. R-squared:    </th> <td>   0.121</td> \n",
       "</tr>\n",
       "<tr>\n",
       "  <th>Method:</th>             <td>Least Squares</td>  <th>  F-statistic:       </th> <td>   14.88</td> \n",
       "</tr>\n",
       "<tr>\n",
       "  <th>Date:</th>             <td>Fri, 13 Dec 2019</td> <th>  Prob (F-statistic):</th> <td>3.20e-36</td> \n",
       "</tr>\n",
       "<tr>\n",
       "  <th>Time:</th>                 <td>12:59:01</td>     <th>  Log-Likelihood:    </th> <td> -7858.6</td> \n",
       "</tr>\n",
       "<tr>\n",
       "  <th>No. Observations:</th>      <td>  1512</td>      <th>  AIC:               </th> <td>1.575e+04</td>\n",
       "</tr>\n",
       "<tr>\n",
       "  <th>Df Residuals:</th>          <td>  1496</td>      <th>  BIC:               </th> <td>1.583e+04</td>\n",
       "</tr>\n",
       "<tr>\n",
       "  <th>Df Model:</th>              <td>    15</td>      <th>                     </th>     <td> </td>    \n",
       "</tr>\n",
       "<tr>\n",
       "  <th>Covariance Type:</th>      <td>nonrobust</td>    <th>                     </th>     <td> </td>    \n",
       "</tr>\n",
       "</table>\n",
       "<table class=\"simpletable\">\n",
       "<tr>\n",
       "                <td></td>                  <th>coef</th>     <th>std err</th>      <th>t</th>      <th>P>|t|</th>  <th>[0.025</th>    <th>0.975]</th>  \n",
       "</tr>\n",
       "<tr>\n",
       "  <th>Intercept</th>                    <td>   39.2230</td> <td>    7.616</td> <td>    5.150</td> <td> 0.000</td> <td>   24.283</td> <td>   54.163</td>\n",
       "</tr>\n",
       "<tr>\n",
       "  <th>vis_type[T.heatmap]</th>          <td>   -9.3750</td> <td>    2.771</td> <td>   -3.383</td> <td> 0.001</td> <td>  -14.810</td> <td>   -3.940</td>\n",
       "</tr>\n",
       "<tr>\n",
       "  <th>vis_type[T.scatter]</th>          <td>   -0.5040</td> <td>    2.771</td> <td>   -0.182</td> <td> 0.856</td> <td>   -5.939</td> <td>    4.931</td>\n",
       "</tr>\n",
       "<tr>\n",
       "  <th>model_type[T.designer]</th>       <td>    0.2910</td> <td>    3.200</td> <td>    0.091</td> <td> 0.928</td> <td>   -5.985</td> <td>    6.567</td>\n",
       "</tr>\n",
       "<tr>\n",
       "  <th>model_type[T.kmeans]</th>         <td>    5.7513</td> <td>    3.200</td> <td>    1.798</td> <td> 0.072</td> <td>   -0.525</td> <td>   12.027</td>\n",
       "</tr>\n",
       "<tr>\n",
       "  <th>model_type[T.linear]</th>         <td>   -6.7672</td> <td>    3.200</td> <td>   -2.115</td> <td> 0.035</td> <td>  -13.043</td> <td>   -0.491</td>\n",
       "</tr>\n",
       "<tr>\n",
       "  <th>gender[T.Male]</th>               <td>   -9.6737</td> <td>    2.701</td> <td>   -3.581</td> <td> 0.000</td> <td>  -14.972</td> <td>   -4.375</td>\n",
       "</tr>\n",
       "<tr>\n",
       "  <th>gender[T.noReply]</th>            <td>  -39.1243</td> <td>    9.699</td> <td>   -4.034</td> <td> 0.000</td> <td>  -58.149</td> <td>  -20.100</td>\n",
       "</tr>\n",
       "<tr>\n",
       "  <th>education[T.graduateStudies]</th> <td>   -6.8296</td> <td>    3.391</td> <td>   -2.014</td> <td> 0.044</td> <td>  -13.480</td> <td>   -0.179</td>\n",
       "</tr>\n",
       "<tr>\n",
       "  <th>education[T.highSchool]</th>      <td>   -1.7190</td> <td>    5.966</td> <td>   -0.288</td> <td> 0.773</td> <td>  -13.422</td> <td>    9.984</td>\n",
       "</tr>\n",
       "<tr>\n",
       "  <th>education[T.someCollege]</th>     <td>  -12.8883</td> <td>    3.849</td> <td>   -3.348</td> <td> 0.001</td> <td>  -20.439</td> <td>   -5.337</td>\n",
       "</tr>\n",
       "<tr>\n",
       "  <th>display_type[T.laptop]</th>       <td>  -17.4261</td> <td>    2.605</td> <td>   -6.690</td> <td> 0.000</td> <td>  -22.536</td> <td>  -12.316</td>\n",
       "</tr>\n",
       "<tr>\n",
       "  <th>display_type[T.phone]</th>        <td>    3.9358</td> <td>    4.851</td> <td>    0.811</td> <td> 0.417</td> <td>   -5.579</td> <td>   13.451</td>\n",
       "</tr>\n",
       "<tr>\n",
       "  <th>age</th>                          <td>    0.2763</td> <td>    0.178</td> <td>    1.556</td> <td> 0.120</td> <td>   -0.072</td> <td>    0.625</td>\n",
       "</tr>\n",
       "<tr>\n",
       "  <th>hours_per_day_on_computer</th>    <td>   -2.5626</td> <td>    0.496</td> <td>   -5.164</td> <td> 0.000</td> <td>   -3.536</td> <td>   -1.589</td>\n",
       "</tr>\n",
       "<tr>\n",
       "  <th>design_experience</th>            <td>   -0.0319</td> <td>    0.257</td> <td>   -0.124</td> <td> 0.901</td> <td>   -0.536</td> <td>    0.472</td>\n",
       "</tr>\n",
       "</table>\n",
       "<table class=\"simpletable\">\n",
       "<tr>\n",
       "  <th>Omnibus:</th>       <td> 0.297</td> <th>  Durbin-Watson:     </th> <td>   1.510</td>\n",
       "</tr>\n",
       "<tr>\n",
       "  <th>Prob(Omnibus):</th> <td> 0.862</td> <th>  Jarque-Bera (JB):  </th> <td>   0.253</td>\n",
       "</tr>\n",
       "<tr>\n",
       "  <th>Skew:</th>          <td>-0.030</td> <th>  Prob(JB):          </th> <td>   0.881</td>\n",
       "</tr>\n",
       "<tr>\n",
       "  <th>Kurtosis:</th>      <td> 3.022</td> <th>  Cond. No.          </th> <td>    338.</td>\n",
       "</tr>\n",
       "</table><br/><br/>Warnings:<br/>[1] Standard Errors assume that the covariance matrix of the errors is correctly specified."
      ],
      "text/plain": [
       "<class 'statsmodels.iolib.summary.Summary'>\n",
       "\"\"\"\n",
       "                            OLS Regression Results                            \n",
       "==============================================================================\n",
       "Dep. Variable:       aesthetic_rating   R-squared:                       0.130\n",
       "Model:                            OLS   Adj. R-squared:                  0.121\n",
       "Method:                 Least Squares   F-statistic:                     14.88\n",
       "Date:                Fri, 13 Dec 2019   Prob (F-statistic):           3.20e-36\n",
       "Time:                        12:59:01   Log-Likelihood:                -7858.6\n",
       "No. Observations:                1512   AIC:                         1.575e+04\n",
       "Df Residuals:                    1496   BIC:                         1.583e+04\n",
       "Df Model:                          15                                         \n",
       "Covariance Type:            nonrobust                                         \n",
       "================================================================================================\n",
       "                                   coef    std err          t      P>|t|      [0.025      0.975]\n",
       "------------------------------------------------------------------------------------------------\n",
       "Intercept                       39.2230      7.616      5.150      0.000      24.283      54.163\n",
       "vis_type[T.heatmap]             -9.3750      2.771     -3.383      0.001     -14.810      -3.940\n",
       "vis_type[T.scatter]             -0.5040      2.771     -0.182      0.856      -5.939       4.931\n",
       "model_type[T.designer]           0.2910      3.200      0.091      0.928      -5.985       6.567\n",
       "model_type[T.kmeans]             5.7513      3.200      1.798      0.072      -0.525      12.027\n",
       "model_type[T.linear]            -6.7672      3.200     -2.115      0.035     -13.043      -0.491\n",
       "gender[T.Male]                  -9.6737      2.701     -3.581      0.000     -14.972      -4.375\n",
       "gender[T.noReply]              -39.1243      9.699     -4.034      0.000     -58.149     -20.100\n",
       "education[T.graduateStudies]    -6.8296      3.391     -2.014      0.044     -13.480      -0.179\n",
       "education[T.highSchool]         -1.7190      5.966     -0.288      0.773     -13.422       9.984\n",
       "education[T.someCollege]       -12.8883      3.849     -3.348      0.001     -20.439      -5.337\n",
       "display_type[T.laptop]         -17.4261      2.605     -6.690      0.000     -22.536     -12.316\n",
       "display_type[T.phone]            3.9358      4.851      0.811      0.417      -5.579      13.451\n",
       "age                              0.2763      0.178      1.556      0.120      -0.072       0.625\n",
       "hours_per_day_on_computer       -2.5626      0.496     -5.164      0.000      -3.536      -1.589\n",
       "design_experience               -0.0319      0.257     -0.124      0.901      -0.536       0.472\n",
       "==============================================================================\n",
       "Omnibus:                        0.297   Durbin-Watson:                   1.510\n",
       "Prob(Omnibus):                  0.862   Jarque-Bera (JB):                0.253\n",
       "Skew:                          -0.030   Prob(JB):                        0.881\n",
       "Kurtosis:                       3.022   Cond. No.                         338.\n",
       "==============================================================================\n",
       "\n",
       "Warnings:\n",
       "[1] Standard Errors assume that the covariance matrix of the errors is correctly specified.\n",
       "\"\"\""
      ]
     },
     "execution_count": 18,
     "metadata": {},
     "output_type": "execute_result"
    }
   ],
   "source": [
    "model2 = sm.ols(formula =\"aesthetic_rating ~ vis_type + model_type  + age + gender + hours_per_day_on_computer + education + display_type + design_experience\", data=cc_df)\n",
    "reg2 = model2.fit()\n",
    "print(reg2.aic)\n",
    "reg2.summary()"
   ]
  },
  {
   "cell_type": "code",
   "execution_count": 19,
   "metadata": {},
   "outputs": [
    {
     "data": {
      "text/plain": [
       "'model_type[T.designer]'"
      ]
     },
     "execution_count": 19,
     "metadata": {},
     "output_type": "execute_result"
    }
   ],
   "source": [
    "reg2.pvalues.idxmax()"
   ]
  },
  {
   "cell_type": "markdown",
   "metadata": {},
   "source": [
    "#### 2. Drop 'model_type'"
   ]
  },
  {
   "cell_type": "code",
   "execution_count": 23,
   "metadata": {},
   "outputs": [
    {
     "name": "stdout",
     "output_type": "stream",
     "text": [
      "15758.775375467483\n"
     ]
    },
    {
     "data": {
      "text/html": [
       "<table class=\"simpletable\">\n",
       "<caption>OLS Regression Results</caption>\n",
       "<tr>\n",
       "  <th>Dep. Variable:</th>    <td>aesthetic_rating</td> <th>  R-squared:         </th> <td>   0.121</td> \n",
       "</tr>\n",
       "<tr>\n",
       "  <th>Model:</th>                   <td>OLS</td>       <th>  Adj. R-squared:    </th> <td>   0.114</td> \n",
       "</tr>\n",
       "<tr>\n",
       "  <th>Method:</th>             <td>Least Squares</td>  <th>  F-statistic:       </th> <td>   17.18</td> \n",
       "</tr>\n",
       "<tr>\n",
       "  <th>Date:</th>             <td>Fri, 13 Dec 2019</td> <th>  Prob (F-statistic):</th> <td>6.30e-35</td> \n",
       "</tr>\n",
       "<tr>\n",
       "  <th>Time:</th>                 <td>13:01:24</td>     <th>  Log-Likelihood:    </th> <td> -7866.4</td> \n",
       "</tr>\n",
       "<tr>\n",
       "  <th>No. Observations:</th>      <td>  1512</td>      <th>  AIC:               </th> <td>1.576e+04</td>\n",
       "</tr>\n",
       "<tr>\n",
       "  <th>Df Residuals:</th>          <td>  1499</td>      <th>  BIC:               </th> <td>1.583e+04</td>\n",
       "</tr>\n",
       "<tr>\n",
       "  <th>Df Model:</th>              <td>    12</td>      <th>                     </th>     <td> </td>    \n",
       "</tr>\n",
       "<tr>\n",
       "  <th>Covariance Type:</th>      <td>nonrobust</td>    <th>                     </th>     <td> </td>    \n",
       "</tr>\n",
       "</table>\n",
       "<table class=\"simpletable\">\n",
       "<tr>\n",
       "                <td></td>                  <th>coef</th>     <th>std err</th>      <th>t</th>      <th>P>|t|</th>  <th>[0.025</th>    <th>0.975]</th>  \n",
       "</tr>\n",
       "<tr>\n",
       "  <th>Intercept</th>                    <td>   39.0417</td> <td>    7.390</td> <td>    5.283</td> <td> 0.000</td> <td>   24.545</td> <td>   53.538</td>\n",
       "</tr>\n",
       "<tr>\n",
       "  <th>vis_type[T.heatmap]</th>          <td>   -9.3750</td> <td>    2.782</td> <td>   -3.369</td> <td> 0.001</td> <td>  -14.833</td> <td>   -3.917</td>\n",
       "</tr>\n",
       "<tr>\n",
       "  <th>vis_type[T.scatter]</th>          <td>   -0.5040</td> <td>    2.782</td> <td>   -0.181</td> <td> 0.856</td> <td>   -5.962</td> <td>    4.954</td>\n",
       "</tr>\n",
       "<tr>\n",
       "  <th>gender[T.Male]</th>               <td>   -9.6737</td> <td>    2.712</td> <td>   -3.567</td> <td> 0.000</td> <td>  -14.994</td> <td>   -4.353</td>\n",
       "</tr>\n",
       "<tr>\n",
       "  <th>gender[T.noReply]</th>            <td>  -39.1243</td> <td>    9.739</td> <td>   -4.017</td> <td> 0.000</td> <td>  -58.227</td> <td>  -20.021</td>\n",
       "</tr>\n",
       "<tr>\n",
       "  <th>education[T.graduateStudies]</th> <td>   -6.8296</td> <td>    3.405</td> <td>   -2.006</td> <td> 0.045</td> <td>  -13.508</td> <td>   -0.151</td>\n",
       "</tr>\n",
       "<tr>\n",
       "  <th>education[T.highSchool]</th>      <td>   -1.7190</td> <td>    5.991</td> <td>   -0.287</td> <td> 0.774</td> <td>  -13.470</td> <td>   10.032</td>\n",
       "</tr>\n",
       "<tr>\n",
       "  <th>education[T.someCollege]</th>     <td>  -12.8883</td> <td>    3.865</td> <td>   -3.334</td> <td> 0.001</td> <td>  -20.470</td> <td>   -5.306</td>\n",
       "</tr>\n",
       "<tr>\n",
       "  <th>display_type[T.laptop]</th>       <td>  -17.4261</td> <td>    2.616</td> <td>   -6.662</td> <td> 0.000</td> <td>  -22.557</td> <td>  -12.295</td>\n",
       "</tr>\n",
       "<tr>\n",
       "  <th>display_type[T.phone]</th>        <td>    3.9358</td> <td>    4.871</td> <td>    0.808</td> <td> 0.419</td> <td>   -5.618</td> <td>   13.490</td>\n",
       "</tr>\n",
       "<tr>\n",
       "  <th>age</th>                          <td>    0.2763</td> <td>    0.178</td> <td>    1.550</td> <td> 0.121</td> <td>   -0.073</td> <td>    0.626</td>\n",
       "</tr>\n",
       "<tr>\n",
       "  <th>hours_per_day_on_computer</th>    <td>   -2.5626</td> <td>    0.498</td> <td>   -5.143</td> <td> 0.000</td> <td>   -3.540</td> <td>   -1.585</td>\n",
       "</tr>\n",
       "<tr>\n",
       "  <th>design_experience</th>            <td>   -0.0319</td> <td>    0.258</td> <td>   -0.124</td> <td> 0.902</td> <td>   -0.538</td> <td>    0.474</td>\n",
       "</tr>\n",
       "</table>\n",
       "<table class=\"simpletable\">\n",
       "<tr>\n",
       "  <th>Omnibus:</th>       <td> 0.686</td> <th>  Durbin-Watson:     </th> <td>   1.513</td>\n",
       "</tr>\n",
       "<tr>\n",
       "  <th>Prob(Omnibus):</th> <td> 0.710</td> <th>  Jarque-Bera (JB):  </th> <td>   0.612</td>\n",
       "</tr>\n",
       "<tr>\n",
       "  <th>Skew:</th>          <td>-0.044</td> <th>  Prob(JB):          </th> <td>   0.736</td>\n",
       "</tr>\n",
       "<tr>\n",
       "  <th>Kurtosis:</th>      <td> 3.044</td> <th>  Cond. No.          </th> <td>    337.</td>\n",
       "</tr>\n",
       "</table><br/><br/>Warnings:<br/>[1] Standard Errors assume that the covariance matrix of the errors is correctly specified."
      ],
      "text/plain": [
       "<class 'statsmodels.iolib.summary.Summary'>\n",
       "\"\"\"\n",
       "                            OLS Regression Results                            \n",
       "==============================================================================\n",
       "Dep. Variable:       aesthetic_rating   R-squared:                       0.121\n",
       "Model:                            OLS   Adj. R-squared:                  0.114\n",
       "Method:                 Least Squares   F-statistic:                     17.18\n",
       "Date:                Fri, 13 Dec 2019   Prob (F-statistic):           6.30e-35\n",
       "Time:                        13:01:24   Log-Likelihood:                -7866.4\n",
       "No. Observations:                1512   AIC:                         1.576e+04\n",
       "Df Residuals:                    1499   BIC:                         1.583e+04\n",
       "Df Model:                          12                                         \n",
       "Covariance Type:            nonrobust                                         \n",
       "================================================================================================\n",
       "                                   coef    std err          t      P>|t|      [0.025      0.975]\n",
       "------------------------------------------------------------------------------------------------\n",
       "Intercept                       39.0417      7.390      5.283      0.000      24.545      53.538\n",
       "vis_type[T.heatmap]             -9.3750      2.782     -3.369      0.001     -14.833      -3.917\n",
       "vis_type[T.scatter]             -0.5040      2.782     -0.181      0.856      -5.962       4.954\n",
       "gender[T.Male]                  -9.6737      2.712     -3.567      0.000     -14.994      -4.353\n",
       "gender[T.noReply]              -39.1243      9.739     -4.017      0.000     -58.227     -20.021\n",
       "education[T.graduateStudies]    -6.8296      3.405     -2.006      0.045     -13.508      -0.151\n",
       "education[T.highSchool]         -1.7190      5.991     -0.287      0.774     -13.470      10.032\n",
       "education[T.someCollege]       -12.8883      3.865     -3.334      0.001     -20.470      -5.306\n",
       "display_type[T.laptop]         -17.4261      2.616     -6.662      0.000     -22.557     -12.295\n",
       "display_type[T.phone]            3.9358      4.871      0.808      0.419      -5.618      13.490\n",
       "age                              0.2763      0.178      1.550      0.121      -0.073       0.626\n",
       "hours_per_day_on_computer       -2.5626      0.498     -5.143      0.000      -3.540      -1.585\n",
       "design_experience               -0.0319      0.258     -0.124      0.902      -0.538       0.474\n",
       "==============================================================================\n",
       "Omnibus:                        0.686   Durbin-Watson:                   1.513\n",
       "Prob(Omnibus):                  0.710   Jarque-Bera (JB):                0.612\n",
       "Skew:                          -0.044   Prob(JB):                        0.736\n",
       "Kurtosis:                       3.044   Cond. No.                         337.\n",
       "==============================================================================\n",
       "\n",
       "Warnings:\n",
       "[1] Standard Errors assume that the covariance matrix of the errors is correctly specified.\n",
       "\"\"\""
      ]
     },
     "execution_count": 23,
     "metadata": {},
     "output_type": "execute_result"
    }
   ],
   "source": [
    "model3 = sm.ols(formula =\"aesthetic_rating ~ vis_type  + age + gender + hours_per_day_on_computer + education + display_type + design_experience\", data=cc_df)\n",
    "reg3 = model3.fit()\n",
    "print(reg3.aic)\n",
    "reg3.summary()"
   ]
  },
  {
   "cell_type": "code",
   "execution_count": 25,
   "metadata": {},
   "outputs": [
    {
     "data": {
      "text/plain": [
       "'design_experience'"
      ]
     },
     "execution_count": 25,
     "metadata": {},
     "output_type": "execute_result"
    }
   ],
   "source": [
    "reg3.pvalues.idxmax()"
   ]
  },
  {
   "cell_type": "markdown",
   "metadata": {},
   "source": [
    "#### 3. Drop 'design_experience"
   ]
  },
  {
   "cell_type": "code",
   "execution_count": 27,
   "metadata": {},
   "outputs": [
    {
     "name": "stdout",
     "output_type": "stream",
     "text": [
      "15756.790764330892\n"
     ]
    },
    {
     "data": {
      "text/html": [
       "<table class=\"simpletable\">\n",
       "<caption>OLS Regression Results</caption>\n",
       "<tr>\n",
       "  <th>Dep. Variable:</th>    <td>aesthetic_rating</td> <th>  R-squared:         </th> <td>   0.121</td> \n",
       "</tr>\n",
       "<tr>\n",
       "  <th>Model:</th>                   <td>OLS</td>       <th>  Adj. R-squared:    </th> <td>   0.114</td> \n",
       "</tr>\n",
       "<tr>\n",
       "  <th>Method:</th>             <td>Least Squares</td>  <th>  F-statistic:       </th> <td>   18.75</td> \n",
       "</tr>\n",
       "<tr>\n",
       "  <th>Date:</th>             <td>Fri, 13 Dec 2019</td> <th>  Prob (F-statistic):</th> <td>1.43e-35</td> \n",
       "</tr>\n",
       "<tr>\n",
       "  <th>Time:</th>                 <td>13:03:19</td>     <th>  Log-Likelihood:    </th> <td> -7866.4</td> \n",
       "</tr>\n",
       "<tr>\n",
       "  <th>No. Observations:</th>      <td>  1512</td>      <th>  AIC:               </th> <td>1.576e+04</td>\n",
       "</tr>\n",
       "<tr>\n",
       "  <th>Df Residuals:</th>          <td>  1500</td>      <th>  BIC:               </th> <td>1.582e+04</td>\n",
       "</tr>\n",
       "<tr>\n",
       "  <th>Df Model:</th>              <td>    11</td>      <th>                     </th>     <td> </td>    \n",
       "</tr>\n",
       "<tr>\n",
       "  <th>Covariance Type:</th>      <td>nonrobust</td>    <th>                     </th>     <td> </td>    \n",
       "</tr>\n",
       "</table>\n",
       "<table class=\"simpletable\">\n",
       "<tr>\n",
       "                <td></td>                  <th>coef</th>     <th>std err</th>      <th>t</th>      <th>P>|t|</th>  <th>[0.025</th>    <th>0.975]</th>  \n",
       "</tr>\n",
       "<tr>\n",
       "  <th>Intercept</th>                    <td>   39.1427</td> <td>    7.343</td> <td>    5.331</td> <td> 0.000</td> <td>   24.740</td> <td>   53.546</td>\n",
       "</tr>\n",
       "<tr>\n",
       "  <th>vis_type[T.heatmap]</th>          <td>   -9.3750</td> <td>    2.781</td> <td>   -3.371</td> <td> 0.001</td> <td>  -14.831</td> <td>   -3.919</td>\n",
       "</tr>\n",
       "<tr>\n",
       "  <th>vis_type[T.scatter]</th>          <td>   -0.5040</td> <td>    2.781</td> <td>   -0.181</td> <td> 0.856</td> <td>   -5.960</td> <td>    4.952</td>\n",
       "</tr>\n",
       "<tr>\n",
       "  <th>gender[T.Male]</th>               <td>   -9.8177</td> <td>    2.448</td> <td>   -4.010</td> <td> 0.000</td> <td>  -14.620</td> <td>   -5.015</td>\n",
       "</tr>\n",
       "<tr>\n",
       "  <th>gender[T.noReply]</th>            <td>  -39.5598</td> <td>    9.075</td> <td>   -4.359</td> <td> 0.000</td> <td>  -57.361</td> <td>  -21.758</td>\n",
       "</tr>\n",
       "<tr>\n",
       "  <th>education[T.graduateStudies]</th> <td>   -6.6851</td> <td>    3.196</td> <td>   -2.092</td> <td> 0.037</td> <td>  -12.954</td> <td>   -0.416</td>\n",
       "</tr>\n",
       "<tr>\n",
       "  <th>education[T.highSchool]</th>      <td>   -1.5214</td> <td>    5.771</td> <td>   -0.264</td> <td> 0.792</td> <td>  -12.842</td> <td>    9.800</td>\n",
       "</tr>\n",
       "<tr>\n",
       "  <th>education[T.someCollege]</th>     <td>  -12.7274</td> <td>    3.638</td> <td>   -3.498</td> <td> 0.000</td> <td>  -19.864</td> <td>   -5.591</td>\n",
       "</tr>\n",
       "<tr>\n",
       "  <th>display_type[T.laptop]</th>       <td>  -17.3961</td> <td>    2.604</td> <td>   -6.682</td> <td> 0.000</td> <td>  -22.503</td> <td>  -12.289</td>\n",
       "</tr>\n",
       "<tr>\n",
       "  <th>display_type[T.phone]</th>        <td>    4.0056</td> <td>    4.836</td> <td>    0.828</td> <td> 0.408</td> <td>   -5.481</td> <td>   13.492</td>\n",
       "</tr>\n",
       "<tr>\n",
       "  <th>age</th>                          <td>    0.2612</td> <td>    0.130</td> <td>    2.013</td> <td> 0.044</td> <td>    0.007</td> <td>    0.516</td>\n",
       "</tr>\n",
       "<tr>\n",
       "  <th>hours_per_day_on_computer</th>    <td>   -2.5406</td> <td>    0.465</td> <td>   -5.464</td> <td> 0.000</td> <td>   -3.453</td> <td>   -1.628</td>\n",
       "</tr>\n",
       "</table>\n",
       "<table class=\"simpletable\">\n",
       "<tr>\n",
       "  <th>Omnibus:</th>       <td> 0.690</td> <th>  Durbin-Watson:     </th> <td>   1.513</td>\n",
       "</tr>\n",
       "<tr>\n",
       "  <th>Prob(Omnibus):</th> <td> 0.708</td> <th>  Jarque-Bera (JB):  </th> <td>   0.618</td>\n",
       "</tr>\n",
       "<tr>\n",
       "  <th>Skew:</th>          <td>-0.045</td> <th>  Prob(JB):          </th> <td>   0.734</td>\n",
       "</tr>\n",
       "<tr>\n",
       "  <th>Kurtosis:</th>      <td> 3.043</td> <th>  Cond. No.          </th> <td>    312.</td>\n",
       "</tr>\n",
       "</table><br/><br/>Warnings:<br/>[1] Standard Errors assume that the covariance matrix of the errors is correctly specified."
      ],
      "text/plain": [
       "<class 'statsmodels.iolib.summary.Summary'>\n",
       "\"\"\"\n",
       "                            OLS Regression Results                            \n",
       "==============================================================================\n",
       "Dep. Variable:       aesthetic_rating   R-squared:                       0.121\n",
       "Model:                            OLS   Adj. R-squared:                  0.114\n",
       "Method:                 Least Squares   F-statistic:                     18.75\n",
       "Date:                Fri, 13 Dec 2019   Prob (F-statistic):           1.43e-35\n",
       "Time:                        13:03:19   Log-Likelihood:                -7866.4\n",
       "No. Observations:                1512   AIC:                         1.576e+04\n",
       "Df Residuals:                    1500   BIC:                         1.582e+04\n",
       "Df Model:                          11                                         \n",
       "Covariance Type:            nonrobust                                         \n",
       "================================================================================================\n",
       "                                   coef    std err          t      P>|t|      [0.025      0.975]\n",
       "------------------------------------------------------------------------------------------------\n",
       "Intercept                       39.1427      7.343      5.331      0.000      24.740      53.546\n",
       "vis_type[T.heatmap]             -9.3750      2.781     -3.371      0.001     -14.831      -3.919\n",
       "vis_type[T.scatter]             -0.5040      2.781     -0.181      0.856      -5.960       4.952\n",
       "gender[T.Male]                  -9.8177      2.448     -4.010      0.000     -14.620      -5.015\n",
       "gender[T.noReply]              -39.5598      9.075     -4.359      0.000     -57.361     -21.758\n",
       "education[T.graduateStudies]    -6.6851      3.196     -2.092      0.037     -12.954      -0.416\n",
       "education[T.highSchool]         -1.5214      5.771     -0.264      0.792     -12.842       9.800\n",
       "education[T.someCollege]       -12.7274      3.638     -3.498      0.000     -19.864      -5.591\n",
       "display_type[T.laptop]         -17.3961      2.604     -6.682      0.000     -22.503     -12.289\n",
       "display_type[T.phone]            4.0056      4.836      0.828      0.408      -5.481      13.492\n",
       "age                              0.2612      0.130      2.013      0.044       0.007       0.516\n",
       "hours_per_day_on_computer       -2.5406      0.465     -5.464      0.000      -3.453      -1.628\n",
       "==============================================================================\n",
       "Omnibus:                        0.690   Durbin-Watson:                   1.513\n",
       "Prob(Omnibus):                  0.708   Jarque-Bera (JB):                0.618\n",
       "Skew:                          -0.045   Prob(JB):                        0.734\n",
       "Kurtosis:                       3.043   Cond. No.                         312.\n",
       "==============================================================================\n",
       "\n",
       "Warnings:\n",
       "[1] Standard Errors assume that the covariance matrix of the errors is correctly specified.\n",
       "\"\"\""
      ]
     },
     "execution_count": 27,
     "metadata": {},
     "output_type": "execute_result"
    }
   ],
   "source": [
    "model4 = sm.ols(formula =\"aesthetic_rating ~ vis_type  + age + gender + hours_per_day_on_computer + education + display_type\", data=cc_df)\n",
    "reg4 = model4.fit()\n",
    "print(reg4.aic)\n",
    "reg4.summary()"
   ]
  },
  {
   "cell_type": "code",
   "execution_count": 28,
   "metadata": {},
   "outputs": [
    {
     "data": {
      "text/plain": [
       "'vis_type[T.scatter]'"
      ]
     },
     "execution_count": 28,
     "metadata": {},
     "output_type": "execute_result"
    }
   ],
   "source": [
    "reg4.pvalues.idxmax()"
   ]
  },
  {
   "cell_type": "markdown",
   "metadata": {},
   "source": [
    "#### 4. Drop 'vis_type'"
   ]
  },
  {
   "cell_type": "code",
   "execution_count": 29,
   "metadata": {},
   "outputs": [
    {
     "name": "stdout",
     "output_type": "stream",
     "text": [
      "15767.213661584401\n"
     ]
    },
    {
     "data": {
      "text/html": [
       "<table class=\"simpletable\">\n",
       "<caption>OLS Regression Results</caption>\n",
       "<tr>\n",
       "  <th>Dep. Variable:</th>    <td>aesthetic_rating</td> <th>  R-squared:         </th> <td>   0.112</td> \n",
       "</tr>\n",
       "<tr>\n",
       "  <th>Model:</th>                   <td>OLS</td>       <th>  Adj. R-squared:    </th> <td>   0.107</td> \n",
       "</tr>\n",
       "<tr>\n",
       "  <th>Method:</th>             <td>Least Squares</td>  <th>  F-statistic:       </th> <td>   21.14</td> \n",
       "</tr>\n",
       "<tr>\n",
       "  <th>Date:</th>             <td>Fri, 13 Dec 2019</td> <th>  Prob (F-statistic):</th> <td>6.19e-34</td> \n",
       "</tr>\n",
       "<tr>\n",
       "  <th>Time:</th>                 <td>13:04:41</td>     <th>  Log-Likelihood:    </th> <td> -7873.6</td> \n",
       "</tr>\n",
       "<tr>\n",
       "  <th>No. Observations:</th>      <td>  1512</td>      <th>  AIC:               </th> <td>1.577e+04</td>\n",
       "</tr>\n",
       "<tr>\n",
       "  <th>Df Residuals:</th>          <td>  1502</td>      <th>  BIC:               </th> <td>1.582e+04</td>\n",
       "</tr>\n",
       "<tr>\n",
       "  <th>Df Model:</th>              <td>     9</td>      <th>                     </th>     <td> </td>    \n",
       "</tr>\n",
       "<tr>\n",
       "  <th>Covariance Type:</th>      <td>nonrobust</td>    <th>                     </th>     <td> </td>    \n",
       "</tr>\n",
       "</table>\n",
       "<table class=\"simpletable\">\n",
       "<tr>\n",
       "                <td></td>                  <th>coef</th>     <th>std err</th>      <th>t</th>      <th>P>|t|</th>  <th>[0.025</th>    <th>0.975]</th>  \n",
       "</tr>\n",
       "<tr>\n",
       "  <th>Intercept</th>                    <td>   35.8497</td> <td>    7.194</td> <td>    4.983</td> <td> 0.000</td> <td>   21.738</td> <td>   49.962</td>\n",
       "</tr>\n",
       "<tr>\n",
       "  <th>gender[T.Male]</th>               <td>   -9.8177</td> <td>    2.458</td> <td>   -3.994</td> <td> 0.000</td> <td>  -14.640</td> <td>   -4.996</td>\n",
       "</tr>\n",
       "<tr>\n",
       "  <th>gender[T.noReply]</th>            <td>  -39.5598</td> <td>    9.112</td> <td>   -4.341</td> <td> 0.000</td> <td>  -57.434</td> <td>  -21.685</td>\n",
       "</tr>\n",
       "<tr>\n",
       "  <th>education[T.graduateStudies]</th> <td>   -6.6851</td> <td>    3.209</td> <td>   -2.083</td> <td> 0.037</td> <td>  -12.980</td> <td>   -0.390</td>\n",
       "</tr>\n",
       "<tr>\n",
       "  <th>education[T.highSchool]</th>      <td>   -1.5214</td> <td>    5.795</td> <td>   -0.263</td> <td> 0.793</td> <td>  -12.889</td> <td>    9.846</td>\n",
       "</tr>\n",
       "<tr>\n",
       "  <th>education[T.someCollege]</th>     <td>  -12.7274</td> <td>    3.653</td> <td>   -3.484</td> <td> 0.001</td> <td>  -19.893</td> <td>   -5.561</td>\n",
       "</tr>\n",
       "<tr>\n",
       "  <th>display_type[T.laptop]</th>       <td>  -17.3961</td> <td>    2.614</td> <td>   -6.654</td> <td> 0.000</td> <td>  -22.524</td> <td>  -12.268</td>\n",
       "</tr>\n",
       "<tr>\n",
       "  <th>display_type[T.phone]</th>        <td>    4.0056</td> <td>    4.856</td> <td>    0.825</td> <td> 0.410</td> <td>   -5.520</td> <td>   13.531</td>\n",
       "</tr>\n",
       "<tr>\n",
       "  <th>age</th>                          <td>    0.2612</td> <td>    0.130</td> <td>    2.005</td> <td> 0.045</td> <td>    0.006</td> <td>    0.517</td>\n",
       "</tr>\n",
       "<tr>\n",
       "  <th>hours_per_day_on_computer</th>    <td>   -2.5406</td> <td>    0.467</td> <td>   -5.441</td> <td> 0.000</td> <td>   -3.456</td> <td>   -1.625</td>\n",
       "</tr>\n",
       "</table>\n",
       "<table class=\"simpletable\">\n",
       "<tr>\n",
       "  <th>Omnibus:</th>       <td> 1.250</td> <th>  Durbin-Watson:     </th> <td>   1.523</td>\n",
       "</tr>\n",
       "<tr>\n",
       "  <th>Prob(Omnibus):</th> <td> 0.535</td> <th>  Jarque-Bera (JB):  </th> <td>   1.161</td>\n",
       "</tr>\n",
       "<tr>\n",
       "  <th>Skew:</th>          <td>-0.062</td> <th>  Prob(JB):          </th> <td>   0.560</td>\n",
       "</tr>\n",
       "<tr>\n",
       "  <th>Kurtosis:</th>      <td> 3.055</td> <th>  Cond. No.          </th> <td>    311.</td>\n",
       "</tr>\n",
       "</table><br/><br/>Warnings:<br/>[1] Standard Errors assume that the covariance matrix of the errors is correctly specified."
      ],
      "text/plain": [
       "<class 'statsmodels.iolib.summary.Summary'>\n",
       "\"\"\"\n",
       "                            OLS Regression Results                            \n",
       "==============================================================================\n",
       "Dep. Variable:       aesthetic_rating   R-squared:                       0.112\n",
       "Model:                            OLS   Adj. R-squared:                  0.107\n",
       "Method:                 Least Squares   F-statistic:                     21.14\n",
       "Date:                Fri, 13 Dec 2019   Prob (F-statistic):           6.19e-34\n",
       "Time:                        13:04:41   Log-Likelihood:                -7873.6\n",
       "No. Observations:                1512   AIC:                         1.577e+04\n",
       "Df Residuals:                    1502   BIC:                         1.582e+04\n",
       "Df Model:                           9                                         \n",
       "Covariance Type:            nonrobust                                         \n",
       "================================================================================================\n",
       "                                   coef    std err          t      P>|t|      [0.025      0.975]\n",
       "------------------------------------------------------------------------------------------------\n",
       "Intercept                       35.8497      7.194      4.983      0.000      21.738      49.962\n",
       "gender[T.Male]                  -9.8177      2.458     -3.994      0.000     -14.640      -4.996\n",
       "gender[T.noReply]              -39.5598      9.112     -4.341      0.000     -57.434     -21.685\n",
       "education[T.graduateStudies]    -6.6851      3.209     -2.083      0.037     -12.980      -0.390\n",
       "education[T.highSchool]         -1.5214      5.795     -0.263      0.793     -12.889       9.846\n",
       "education[T.someCollege]       -12.7274      3.653     -3.484      0.001     -19.893      -5.561\n",
       "display_type[T.laptop]         -17.3961      2.614     -6.654      0.000     -22.524     -12.268\n",
       "display_type[T.phone]            4.0056      4.856      0.825      0.410      -5.520      13.531\n",
       "age                              0.2612      0.130      2.005      0.045       0.006       0.517\n",
       "hours_per_day_on_computer       -2.5406      0.467     -5.441      0.000      -3.456      -1.625\n",
       "==============================================================================\n",
       "Omnibus:                        1.250   Durbin-Watson:                   1.523\n",
       "Prob(Omnibus):                  0.535   Jarque-Bera (JB):                1.161\n",
       "Skew:                          -0.062   Prob(JB):                        0.560\n",
       "Kurtosis:                       3.055   Cond. No.                         311.\n",
       "==============================================================================\n",
       "\n",
       "Warnings:\n",
       "[1] Standard Errors assume that the covariance matrix of the errors is correctly specified.\n",
       "\"\"\""
      ]
     },
     "execution_count": 29,
     "metadata": {},
     "output_type": "execute_result"
    }
   ],
   "source": [
    "model5 = sm.ols(formula =\"aesthetic_rating ~ age + gender + hours_per_day_on_computer + education + display_type\", data=cc_df)\n",
    "reg5 = model5.fit()\n",
    "print(reg5.aic)\n",
    "reg5.summary()"
   ]
  },
  {
   "cell_type": "code",
   "execution_count": 30,
   "metadata": {},
   "outputs": [
    {
     "data": {
      "text/plain": [
       "'education[T.highSchool]'"
      ]
     },
     "execution_count": 30,
     "metadata": {},
     "output_type": "execute_result"
    }
   ],
   "source": [
    "reg5.pvalues.idxmax()"
   ]
  },
  {
   "cell_type": "markdown",
   "metadata": {},
   "source": [
    "#### 5. Drop 'education'"
   ]
  },
  {
   "cell_type": "code",
   "execution_count": 31,
   "metadata": {},
   "outputs": [
    {
     "name": "stdout",
     "output_type": "stream",
     "text": [
      "15775.645541520636\n"
     ]
    },
    {
     "data": {
      "text/html": [
       "<table class=\"simpletable\">\n",
       "<caption>OLS Regression Results</caption>\n",
       "<tr>\n",
       "  <th>Dep. Variable:</th>    <td>aesthetic_rating</td> <th>  R-squared:         </th> <td>   0.104</td> \n",
       "</tr>\n",
       "<tr>\n",
       "  <th>Model:</th>                   <td>OLS</td>       <th>  Adj. R-squared:    </th> <td>   0.100</td> \n",
       "</tr>\n",
       "<tr>\n",
       "  <th>Method:</th>             <td>Least Squares</td>  <th>  F-statistic:       </th> <td>   29.09</td> \n",
       "</tr>\n",
       "<tr>\n",
       "  <th>Date:</th>             <td>Fri, 13 Dec 2019</td> <th>  Prob (F-statistic):</th> <td>4.29e-33</td> \n",
       "</tr>\n",
       "<tr>\n",
       "  <th>Time:</th>                 <td>13:05:37</td>     <th>  Log-Likelihood:    </th> <td> -7880.8</td> \n",
       "</tr>\n",
       "<tr>\n",
       "  <th>No. Observations:</th>      <td>  1512</td>      <th>  AIC:               </th> <td>1.578e+04</td>\n",
       "</tr>\n",
       "<tr>\n",
       "  <th>Df Residuals:</th>          <td>  1505</td>      <th>  BIC:               </th> <td>1.581e+04</td>\n",
       "</tr>\n",
       "<tr>\n",
       "  <th>Df Model:</th>              <td>     6</td>      <th>                     </th>     <td> </td>    \n",
       "</tr>\n",
       "<tr>\n",
       "  <th>Covariance Type:</th>      <td>nonrobust</td>    <th>                     </th>     <td> </td>    \n",
       "</tr>\n",
       "</table>\n",
       "<table class=\"simpletable\">\n",
       "<tr>\n",
       "              <td></td>                 <th>coef</th>     <th>std err</th>      <th>t</th>      <th>P>|t|</th>  <th>[0.025</th>    <th>0.975]</th>  \n",
       "</tr>\n",
       "<tr>\n",
       "  <th>Intercept</th>                 <td>   31.4358</td> <td>    6.976</td> <td>    4.506</td> <td> 0.000</td> <td>   17.752</td> <td>   45.120</td>\n",
       "</tr>\n",
       "<tr>\n",
       "  <th>gender[T.Male]</th>            <td>  -10.1689</td> <td>    2.465</td> <td>   -4.125</td> <td> 0.000</td> <td>  -15.004</td> <td>   -5.334</td>\n",
       "</tr>\n",
       "<tr>\n",
       "  <th>gender[T.noReply]</th>         <td>  -44.9091</td> <td>    8.610</td> <td>   -5.216</td> <td> 0.000</td> <td>  -61.798</td> <td>  -28.020</td>\n",
       "</tr>\n",
       "<tr>\n",
       "  <th>display_type[T.laptop]</th>    <td>  -15.8094</td> <td>    2.468</td> <td>   -6.406</td> <td> 0.000</td> <td>  -20.650</td> <td>  -10.969</td>\n",
       "</tr>\n",
       "<tr>\n",
       "  <th>display_type[T.phone]</th>     <td>    3.2248</td> <td>    4.630</td> <td>    0.697</td> <td> 0.486</td> <td>   -5.856</td> <td>   12.306</td>\n",
       "</tr>\n",
       "<tr>\n",
       "  <th>age</th>                       <td>    0.2813</td> <td>    0.131</td> <td>    2.155</td> <td> 0.031</td> <td>    0.025</td> <td>    0.537</td>\n",
       "</tr>\n",
       "<tr>\n",
       "  <th>hours_per_day_on_computer</th> <td>   -2.4988</td> <td>    0.457</td> <td>   -5.472</td> <td> 0.000</td> <td>   -3.395</td> <td>   -1.603</td>\n",
       "</tr>\n",
       "</table>\n",
       "<table class=\"simpletable\">\n",
       "<tr>\n",
       "  <th>Omnibus:</th>       <td> 1.485</td> <th>  Durbin-Watson:     </th> <td>   1.509</td>\n",
       "</tr>\n",
       "<tr>\n",
       "  <th>Prob(Omnibus):</th> <td> 0.476</td> <th>  Jarque-Bera (JB):  </th> <td>   1.454</td>\n",
       "</tr>\n",
       "<tr>\n",
       "  <th>Skew:</th>          <td>-0.076</td> <th>  Prob(JB):          </th> <td>   0.483</td>\n",
       "</tr>\n",
       "<tr>\n",
       "  <th>Kurtosis:</th>      <td> 3.008</td> <th>  Cond. No.          </th> <td>    287.</td>\n",
       "</tr>\n",
       "</table><br/><br/>Warnings:<br/>[1] Standard Errors assume that the covariance matrix of the errors is correctly specified."
      ],
      "text/plain": [
       "<class 'statsmodels.iolib.summary.Summary'>\n",
       "\"\"\"\n",
       "                            OLS Regression Results                            \n",
       "==============================================================================\n",
       "Dep. Variable:       aesthetic_rating   R-squared:                       0.104\n",
       "Model:                            OLS   Adj. R-squared:                  0.100\n",
       "Method:                 Least Squares   F-statistic:                     29.09\n",
       "Date:                Fri, 13 Dec 2019   Prob (F-statistic):           4.29e-33\n",
       "Time:                        13:05:37   Log-Likelihood:                -7880.8\n",
       "No. Observations:                1512   AIC:                         1.578e+04\n",
       "Df Residuals:                    1505   BIC:                         1.581e+04\n",
       "Df Model:                           6                                         \n",
       "Covariance Type:            nonrobust                                         \n",
       "=============================================================================================\n",
       "                                coef    std err          t      P>|t|      [0.025      0.975]\n",
       "---------------------------------------------------------------------------------------------\n",
       "Intercept                    31.4358      6.976      4.506      0.000      17.752      45.120\n",
       "gender[T.Male]              -10.1689      2.465     -4.125      0.000     -15.004      -5.334\n",
       "gender[T.noReply]           -44.9091      8.610     -5.216      0.000     -61.798     -28.020\n",
       "display_type[T.laptop]      -15.8094      2.468     -6.406      0.000     -20.650     -10.969\n",
       "display_type[T.phone]         3.2248      4.630      0.697      0.486      -5.856      12.306\n",
       "age                           0.2813      0.131      2.155      0.031       0.025       0.537\n",
       "hours_per_day_on_computer    -2.4988      0.457     -5.472      0.000      -3.395      -1.603\n",
       "==============================================================================\n",
       "Omnibus:                        1.485   Durbin-Watson:                   1.509\n",
       "Prob(Omnibus):                  0.476   Jarque-Bera (JB):                1.454\n",
       "Skew:                          -0.076   Prob(JB):                        0.483\n",
       "Kurtosis:                       3.008   Cond. No.                         287.\n",
       "==============================================================================\n",
       "\n",
       "Warnings:\n",
       "[1] Standard Errors assume that the covariance matrix of the errors is correctly specified.\n",
       "\"\"\""
      ]
     },
     "execution_count": 31,
     "metadata": {},
     "output_type": "execute_result"
    }
   ],
   "source": [
    "model6 = sm.ols(formula =\"aesthetic_rating ~ age + gender + hours_per_day_on_computer +  display_type\", data=cc_df)\n",
    "reg6 = model6.fit()\n",
    "print(reg6.aic)\n",
    "reg6.summary()"
   ]
  },
  {
   "cell_type": "code",
   "execution_count": 32,
   "metadata": {},
   "outputs": [
    {
     "data": {
      "text/plain": [
       "'display_type[T.phone]'"
      ]
     },
     "execution_count": 32,
     "metadata": {},
     "output_type": "execute_result"
    }
   ],
   "source": [
    "reg6.pvalues.idxmax()"
   ]
  },
  {
   "cell_type": "markdown",
   "metadata": {},
   "source": [
    "#### 6. Drop 'display_type'"
   ]
  },
  {
   "cell_type": "code",
   "execution_count": 34,
   "metadata": {},
   "outputs": [
    {
     "name": "stdout",
     "output_type": "stream",
     "text": [
      "15818.21473706247\n"
     ]
    },
    {
     "data": {
      "text/html": [
       "<table class=\"simpletable\">\n",
       "<caption>OLS Regression Results</caption>\n",
       "<tr>\n",
       "  <th>Dep. Variable:</th>    <td>aesthetic_rating</td> <th>  R-squared:         </th> <td>   0.076</td> \n",
       "</tr>\n",
       "<tr>\n",
       "  <th>Model:</th>                   <td>OLS</td>       <th>  Adj. R-squared:    </th> <td>   0.073</td> \n",
       "</tr>\n",
       "<tr>\n",
       "  <th>Method:</th>             <td>Least Squares</td>  <th>  F-statistic:       </th> <td>   30.95</td> \n",
       "</tr>\n",
       "<tr>\n",
       "  <th>Date:</th>             <td>Fri, 13 Dec 2019</td> <th>  Prob (F-statistic):</th> <td>8.54e-25</td> \n",
       "</tr>\n",
       "<tr>\n",
       "  <th>Time:</th>                 <td>13:08:57</td>     <th>  Log-Likelihood:    </th> <td> -7904.1</td> \n",
       "</tr>\n",
       "<tr>\n",
       "  <th>No. Observations:</th>      <td>  1512</td>      <th>  AIC:               </th> <td>1.582e+04</td>\n",
       "</tr>\n",
       "<tr>\n",
       "  <th>Df Residuals:</th>          <td>  1507</td>      <th>  BIC:               </th> <td>1.584e+04</td>\n",
       "</tr>\n",
       "<tr>\n",
       "  <th>Df Model:</th>              <td>     4</td>      <th>                     </th>     <td> </td>    \n",
       "</tr>\n",
       "<tr>\n",
       "  <th>Covariance Type:</th>      <td>nonrobust</td>    <th>                     </th>     <td> </td>    \n",
       "</tr>\n",
       "</table>\n",
       "<table class=\"simpletable\">\n",
       "<tr>\n",
       "              <td></td>                 <th>coef</th>     <th>std err</th>      <th>t</th>      <th>P>|t|</th>  <th>[0.025</th>    <th>0.975]</th>  \n",
       "</tr>\n",
       "<tr>\n",
       "  <th>Intercept</th>                 <td>   15.8147</td> <td>    6.568</td> <td>    2.408</td> <td> 0.016</td> <td>    2.931</td> <td>   28.699</td>\n",
       "</tr>\n",
       "<tr>\n",
       "  <th>gender[T.Male]</th>            <td>   -8.9694</td> <td>    2.495</td> <td>   -3.595</td> <td> 0.000</td> <td>  -13.864</td> <td>   -4.075</td>\n",
       "</tr>\n",
       "<tr>\n",
       "  <th>gender[T.noReply]</th>         <td>  -58.0608</td> <td>    8.510</td> <td>   -6.822</td> <td> 0.000</td> <td>  -74.754</td> <td>  -41.368</td>\n",
       "</tr>\n",
       "<tr>\n",
       "  <th>age</th>                       <td>    0.3681</td> <td>    0.131</td> <td>    2.805</td> <td> 0.005</td> <td>    0.111</td> <td>    0.626</td>\n",
       "</tr>\n",
       "<tr>\n",
       "  <th>hours_per_day_on_computer</th> <td>   -1.8832</td> <td>    0.454</td> <td>   -4.146</td> <td> 0.000</td> <td>   -2.774</td> <td>   -0.992</td>\n",
       "</tr>\n",
       "</table>\n",
       "<table class=\"simpletable\">\n",
       "<tr>\n",
       "  <th>Omnibus:</th>       <td> 0.594</td> <th>  Durbin-Watson:     </th> <td>   1.470</td>\n",
       "</tr>\n",
       "<tr>\n",
       "  <th>Prob(Omnibus):</th> <td> 0.743</td> <th>  Jarque-Bera (JB):  </th> <td>   0.560</td>\n",
       "</tr>\n",
       "<tr>\n",
       "  <th>Skew:</th>          <td>-0.047</td> <th>  Prob(JB):          </th> <td>   0.756</td>\n",
       "</tr>\n",
       "<tr>\n",
       "  <th>Kurtosis:</th>      <td> 3.014</td> <th>  Cond. No.          </th> <td>    272.</td>\n",
       "</tr>\n",
       "</table><br/><br/>Warnings:<br/>[1] Standard Errors assume that the covariance matrix of the errors is correctly specified."
      ],
      "text/plain": [
       "<class 'statsmodels.iolib.summary.Summary'>\n",
       "\"\"\"\n",
       "                            OLS Regression Results                            \n",
       "==============================================================================\n",
       "Dep. Variable:       aesthetic_rating   R-squared:                       0.076\n",
       "Model:                            OLS   Adj. R-squared:                  0.073\n",
       "Method:                 Least Squares   F-statistic:                     30.95\n",
       "Date:                Fri, 13 Dec 2019   Prob (F-statistic):           8.54e-25\n",
       "Time:                        13:08:57   Log-Likelihood:                -7904.1\n",
       "No. Observations:                1512   AIC:                         1.582e+04\n",
       "Df Residuals:                    1507   BIC:                         1.584e+04\n",
       "Df Model:                           4                                         \n",
       "Covariance Type:            nonrobust                                         \n",
       "=============================================================================================\n",
       "                                coef    std err          t      P>|t|      [0.025      0.975]\n",
       "---------------------------------------------------------------------------------------------\n",
       "Intercept                    15.8147      6.568      2.408      0.016       2.931      28.699\n",
       "gender[T.Male]               -8.9694      2.495     -3.595      0.000     -13.864      -4.075\n",
       "gender[T.noReply]           -58.0608      8.510     -6.822      0.000     -74.754     -41.368\n",
       "age                           0.3681      0.131      2.805      0.005       0.111       0.626\n",
       "hours_per_day_on_computer    -1.8832      0.454     -4.146      0.000      -2.774      -0.992\n",
       "==============================================================================\n",
       "Omnibus:                        0.594   Durbin-Watson:                   1.470\n",
       "Prob(Omnibus):                  0.743   Jarque-Bera (JB):                0.560\n",
       "Skew:                          -0.047   Prob(JB):                        0.756\n",
       "Kurtosis:                       3.014   Cond. No.                         272.\n",
       "==============================================================================\n",
       "\n",
       "Warnings:\n",
       "[1] Standard Errors assume that the covariance matrix of the errors is correctly specified.\n",
       "\"\"\""
      ]
     },
     "execution_count": 34,
     "metadata": {},
     "output_type": "execute_result"
    }
   ],
   "source": [
    "model7 = sm.ols(formula =\"aesthetic_rating ~ age + gender + hours_per_day_on_computer\", data=cc_df)\n",
    "reg7 = model7.fit()\n",
    "print(reg7.aic)\n",
    "reg7.summary()"
   ]
  },
  {
   "cell_type": "code",
   "execution_count": null,
   "metadata": {},
   "outputs": [],
   "source": []
  }
 ],
 "metadata": {
  "kernelspec": {
   "display_name": "Python 3",
   "language": "python",
   "name": "python3"
  },
  "language_info": {
   "codemirror_mode": {
    "name": "ipython",
    "version": 3
   },
   "file_extension": ".py",
   "mimetype": "text/x-python",
   "name": "python",
   "nbconvert_exporter": "python",
   "pygments_lexer": "ipython3",
   "version": "3.7.3"
  }
 },
 "nbformat": 4,
 "nbformat_minor": 4
}
