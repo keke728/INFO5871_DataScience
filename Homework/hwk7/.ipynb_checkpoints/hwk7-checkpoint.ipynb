{
 "cells": [
  {
   "cell_type": "markdown",
   "metadata": {},
   "source": [
    "# Homework 7\n",
    "\n",
    "INFO 5871-001\n",
    "\n",
    "Fall 2019\n",
    "\n",
    "_Keke Wu_"
   ]
  },
  {
   "cell_type": "code",
   "execution_count": 1,
   "metadata": {},
   "outputs": [],
   "source": [
    "import numpy as np\n",
    "import scipy.stats as st\n",
    "import pandas as pd\n",
    "import matplotlib.pyplot as plt\n",
    "import seaborn as sns\n",
    "from statsmodels.stats.power import TTestIndPower\n",
    "from statsmodels.stats.multicomp import MultiComparison\n",
    "from scipy import stats\n",
    "%matplotlib inline"
   ]
  },
  {
   "cell_type": "markdown",
   "metadata": {},
   "source": [
    "## Home values\n",
    "\n",
    "This is the familiar Ames home sales data set. We are going to treat home sales as a sample of home values. There are some problems with this assumption. There may be many non-random effects causing people to sell. "
   ]
  },
  {
   "cell_type": "code",
   "execution_count": 2,
   "metadata": {},
   "outputs": [],
   "source": [
    "columns = ['Neighborhood', 'Bldg.Type', 'House.Style', 'Gr.Liv.Area', 'SalePrice']\n",
    "\n",
    "ames_original = pd.read_csv('ames.csv', usecols=columns)"
   ]
  },
  {
   "cell_type": "code",
   "execution_count": 3,
   "metadata": {},
   "outputs": [
    {
     "name": "stdout",
     "output_type": "stream",
     "text": [
      "(2925, 5)\n"
     ]
    },
    {
     "data": {
      "text/html": [
       "<div>\n",
       "<style scoped>\n",
       "    .dataframe tbody tr th:only-of-type {\n",
       "        vertical-align: middle;\n",
       "    }\n",
       "\n",
       "    .dataframe tbody tr th {\n",
       "        vertical-align: top;\n",
       "    }\n",
       "\n",
       "    .dataframe thead th {\n",
       "        text-align: right;\n",
       "    }\n",
       "</style>\n",
       "<table border=\"1\" class=\"dataframe\">\n",
       "  <thead>\n",
       "    <tr style=\"text-align: right;\">\n",
       "      <th></th>\n",
       "      <th>Neighborhood</th>\n",
       "      <th>Bldg.Type</th>\n",
       "      <th>House.Style</th>\n",
       "      <th>Gr.Liv.Area</th>\n",
       "      <th>SalePrice</th>\n",
       "    </tr>\n",
       "  </thead>\n",
       "  <tbody>\n",
       "    <tr>\n",
       "      <th>0</th>\n",
       "      <td>NAmes</td>\n",
       "      <td>1Fam</td>\n",
       "      <td>1Story</td>\n",
       "      <td>1656</td>\n",
       "      <td>215000</td>\n",
       "    </tr>\n",
       "    <tr>\n",
       "      <th>1</th>\n",
       "      <td>NAmes</td>\n",
       "      <td>1Fam</td>\n",
       "      <td>1Story</td>\n",
       "      <td>896</td>\n",
       "      <td>105000</td>\n",
       "    </tr>\n",
       "    <tr>\n",
       "      <th>2</th>\n",
       "      <td>NAmes</td>\n",
       "      <td>1Fam</td>\n",
       "      <td>1Story</td>\n",
       "      <td>1329</td>\n",
       "      <td>172000</td>\n",
       "    </tr>\n",
       "    <tr>\n",
       "      <th>3</th>\n",
       "      <td>NAmes</td>\n",
       "      <td>1Fam</td>\n",
       "      <td>1Story</td>\n",
       "      <td>2110</td>\n",
       "      <td>244000</td>\n",
       "    </tr>\n",
       "    <tr>\n",
       "      <th>4</th>\n",
       "      <td>Gilbert</td>\n",
       "      <td>1Fam</td>\n",
       "      <td>2Story</td>\n",
       "      <td>1629</td>\n",
       "      <td>189900</td>\n",
       "    </tr>\n",
       "  </tbody>\n",
       "</table>\n",
       "</div>"
      ],
      "text/plain": [
       "  Neighborhood Bldg.Type House.Style  Gr.Liv.Area  SalePrice\n",
       "0        NAmes      1Fam      1Story         1656     215000\n",
       "1        NAmes      1Fam      1Story          896     105000\n",
       "2        NAmes      1Fam      1Story         1329     172000\n",
       "3        NAmes      1Fam      1Story         2110     244000\n",
       "4      Gilbert      1Fam      2Story         1629     189900"
      ]
     },
     "execution_count": 3,
     "metadata": {},
     "output_type": "execute_result"
    }
   ],
   "source": [
    "drop_anomaly = ames_original['Gr.Liv.Area'] <= 4000\n",
    "# We use copy here because we will be modifying the data frame later\n",
    "ames = ames_original[drop_anomaly].copy()\n",
    "print (ames.shape)\n",
    "ames.head()"
   ]
  },
  {
   "cell_type": "markdown",
   "metadata": {},
   "source": [
    "## Question 1: What is the mean and 95% confidence interval for sale price?\n",
    "\n",
    "You will have to use the `t` distribution and use the formula below. Remember that we use `ppf` to point at which the area under the distribution curve reaches a particular value.\n",
    "\n",
    "$\\bar{x} \\pm t^* * \\frac{s}{\\sqrt{n}}$\n",
    "\n",
    "where $s$ is the standard deviation of $x$.\n",
    "\n",
    "Hint: The upper limit of the confidence interval should be around \\$183,250."
   ]
  },
  {
   "cell_type": "code",
   "execution_count": 4,
   "metadata": {},
   "outputs": [
    {
     "data": {
      "text/plain": [
       "180411.5747008547"
      ]
     },
     "execution_count": 4,
     "metadata": {},
     "output_type": "execute_result"
    }
   ],
   "source": [
    "mn = ames.SalePrice.mean()\n",
    "mn"
   ]
  },
  {
   "cell_type": "code",
   "execution_count": 5,
   "metadata": {},
   "outputs": [
    {
     "data": {
      "text/plain": [
       "2925"
      ]
     },
     "execution_count": 5,
     "metadata": {},
     "output_type": "execute_result"
    }
   ],
   "source": [
    "cnt = ames.shape[0]\n",
    "cnt"
   ]
  },
  {
   "cell_type": "code",
   "execution_count": 6,
   "metadata": {},
   "outputs": [
    {
     "data": {
      "text/plain": [
       "1452.4798250303313"
      ]
     },
     "execution_count": 6,
     "metadata": {},
     "output_type": "execute_result"
    }
   ],
   "source": [
    "se = ames.SalePrice.std() / np.sqrt(cnt)\n",
    "se"
   ]
  },
  {
   "cell_type": "code",
   "execution_count": 7,
   "metadata": {},
   "outputs": [
    {
     "data": {
      "text/plain": [
       "-1.960775625038038"
      ]
     },
     "execution_count": 7,
     "metadata": {},
     "output_type": "execute_result"
    }
   ],
   "source": [
    "tstar = st.t.ppf(0.025, cnt-1)\n",
    "tstar"
   ]
  },
  {
   "cell_type": "code",
   "execution_count": 8,
   "metadata": {},
   "outputs": [
    {
     "data": {
      "text/plain": [
       "(177563.5876640757, 183259.5617376337)"
      ]
     },
     "execution_count": 8,
     "metadata": {},
     "output_type": "execute_result"
    }
   ],
   "source": [
    "interval = (mn + (tstar * se), mn-(tstar * se))\n",
    "interval"
   ]
  },
  {
   "cell_type": "markdown",
   "metadata": {},
   "source": [
    "## Question 2: Compare normalized prices for 1 story and 2 story houses\n",
    "\n",
    "### Aggregate over house types\n",
    "\n",
    "As in Homework 4, separate the Single Family houses and create an `NStyle` column that combines different types of split, 1 story and 2 story houses."
   ]
  },
  {
   "cell_type": "code",
   "execution_count": 9,
   "metadata": {},
   "outputs": [
    {
     "data": {
      "text/html": [
       "<div>\n",
       "<style scoped>\n",
       "    .dataframe tbody tr th:only-of-type {\n",
       "        vertical-align: middle;\n",
       "    }\n",
       "\n",
       "    .dataframe tbody tr th {\n",
       "        vertical-align: top;\n",
       "    }\n",
       "\n",
       "    .dataframe thead th {\n",
       "        text-align: right;\n",
       "    }\n",
       "</style>\n",
       "<table border=\"1\" class=\"dataframe\">\n",
       "  <thead>\n",
       "    <tr style=\"text-align: right;\">\n",
       "      <th></th>\n",
       "      <th>Neighborhood</th>\n",
       "      <th>Bldg.Type</th>\n",
       "      <th>House.Style</th>\n",
       "      <th>Gr.Liv.Area</th>\n",
       "      <th>SalePrice</th>\n",
       "    </tr>\n",
       "  </thead>\n",
       "  <tbody>\n",
       "    <tr>\n",
       "      <th>0</th>\n",
       "      <td>NAmes</td>\n",
       "      <td>1Fam</td>\n",
       "      <td>1Story</td>\n",
       "      <td>1656</td>\n",
       "      <td>215000</td>\n",
       "    </tr>\n",
       "    <tr>\n",
       "      <th>1</th>\n",
       "      <td>NAmes</td>\n",
       "      <td>1Fam</td>\n",
       "      <td>1Story</td>\n",
       "      <td>896</td>\n",
       "      <td>105000</td>\n",
       "    </tr>\n",
       "    <tr>\n",
       "      <th>2</th>\n",
       "      <td>NAmes</td>\n",
       "      <td>1Fam</td>\n",
       "      <td>1Story</td>\n",
       "      <td>1329</td>\n",
       "      <td>172000</td>\n",
       "    </tr>\n",
       "    <tr>\n",
       "      <th>3</th>\n",
       "      <td>NAmes</td>\n",
       "      <td>1Fam</td>\n",
       "      <td>1Story</td>\n",
       "      <td>2110</td>\n",
       "      <td>244000</td>\n",
       "    </tr>\n",
       "    <tr>\n",
       "      <th>4</th>\n",
       "      <td>Gilbert</td>\n",
       "      <td>1Fam</td>\n",
       "      <td>2Story</td>\n",
       "      <td>1629</td>\n",
       "      <td>189900</td>\n",
       "    </tr>\n",
       "  </tbody>\n",
       "</table>\n",
       "</div>"
      ],
      "text/plain": [
       "  Neighborhood Bldg.Type House.Style  Gr.Liv.Area  SalePrice\n",
       "0        NAmes      1Fam      1Story         1656     215000\n",
       "1        NAmes      1Fam      1Story          896     105000\n",
       "2        NAmes      1Fam      1Story         1329     172000\n",
       "3        NAmes      1Fam      1Story         2110     244000\n",
       "4      Gilbert      1Fam      2Story         1629     189900"
      ]
     },
     "execution_count": 9,
     "metadata": {},
     "output_type": "execute_result"
    }
   ],
   "source": [
    "single_family = ames[ames['Bldg.Type'] == '1Fam'].copy()\n",
    "single_family.head()"
   ]
  },
  {
   "cell_type": "code",
   "execution_count": 10,
   "metadata": {},
   "outputs": [
    {
     "data": {
      "text/html": [
       "<div>\n",
       "<style scoped>\n",
       "    .dataframe tbody tr th:only-of-type {\n",
       "        vertical-align: middle;\n",
       "    }\n",
       "\n",
       "    .dataframe tbody tr th {\n",
       "        vertical-align: top;\n",
       "    }\n",
       "\n",
       "    .dataframe thead th {\n",
       "        text-align: right;\n",
       "    }\n",
       "</style>\n",
       "<table border=\"1\" class=\"dataframe\">\n",
       "  <thead>\n",
       "    <tr style=\"text-align: right;\">\n",
       "      <th></th>\n",
       "      <th>Neighborhood</th>\n",
       "      <th>Bldg.Type</th>\n",
       "      <th>House.Style</th>\n",
       "      <th>Gr.Liv.Area</th>\n",
       "      <th>SalePrice</th>\n",
       "      <th>NStyle</th>\n",
       "    </tr>\n",
       "  </thead>\n",
       "  <tbody>\n",
       "    <tr>\n",
       "      <th>0</th>\n",
       "      <td>NAmes</td>\n",
       "      <td>1Fam</td>\n",
       "      <td>1Story</td>\n",
       "      <td>1656</td>\n",
       "      <td>215000</td>\n",
       "      <td>1 Story</td>\n",
       "    </tr>\n",
       "    <tr>\n",
       "      <th>1</th>\n",
       "      <td>NAmes</td>\n",
       "      <td>1Fam</td>\n",
       "      <td>1Story</td>\n",
       "      <td>896</td>\n",
       "      <td>105000</td>\n",
       "      <td>1 Story</td>\n",
       "    </tr>\n",
       "    <tr>\n",
       "      <th>2</th>\n",
       "      <td>NAmes</td>\n",
       "      <td>1Fam</td>\n",
       "      <td>1Story</td>\n",
       "      <td>1329</td>\n",
       "      <td>172000</td>\n",
       "      <td>1 Story</td>\n",
       "    </tr>\n",
       "    <tr>\n",
       "      <th>3</th>\n",
       "      <td>NAmes</td>\n",
       "      <td>1Fam</td>\n",
       "      <td>1Story</td>\n",
       "      <td>2110</td>\n",
       "      <td>244000</td>\n",
       "      <td>1 Story</td>\n",
       "    </tr>\n",
       "    <tr>\n",
       "      <th>4</th>\n",
       "      <td>Gilbert</td>\n",
       "      <td>1Fam</td>\n",
       "      <td>2Story</td>\n",
       "      <td>1629</td>\n",
       "      <td>189900</td>\n",
       "      <td>2 Story</td>\n",
       "    </tr>\n",
       "  </tbody>\n",
       "</table>\n",
       "</div>"
      ],
      "text/plain": [
       "  Neighborhood Bldg.Type House.Style  Gr.Liv.Area  SalePrice   NStyle\n",
       "0        NAmes      1Fam      1Story         1656     215000  1 Story\n",
       "1        NAmes      1Fam      1Story          896     105000  1 Story\n",
       "2        NAmes      1Fam      1Story         1329     172000  1 Story\n",
       "3        NAmes      1Fam      1Story         2110     244000  1 Story\n",
       "4      Gilbert      1Fam      2Story         1629     189900  2 Story"
      ]
     },
     "execution_count": 10,
     "metadata": {},
     "output_type": "execute_result"
    }
   ],
   "source": [
    "single_family['NStyle'] = 'Split Level'\n",
    "split_filter = (single_family['House.Style'] == 'SFoyer') | (single_family['House.Style'] == 'SLvl')\n",
    "single_family.loc[split_filter, 'NStyle'] = 'Split Level'\n",
    "one_story_filter = ((single_family['House.Style'] == '1.5Fin') | (single_family['House.Style'] == '1Story'))\n",
    "single_family.loc[one_story_filter, 'NStyle'] = '1 Story'\n",
    "two_story_filter = (single_family['House.Style'] == '2.5Unf') | (single_family['House.Style'] == '2.5Fin') | (single_family['House.Style'] == '2Story')\n",
    "single_family.loc[two_story_filter, 'NStyle'] = '2 Story'\n",
    "single_family.head()"
   ]
  },
  {
   "cell_type": "markdown",
   "metadata": {},
   "source": [
    "### Create a price per square foot column"
   ]
  },
  {
   "cell_type": "code",
   "execution_count": 11,
   "metadata": {},
   "outputs": [
    {
     "data": {
      "text/html": [
       "<div>\n",
       "<style scoped>\n",
       "    .dataframe tbody tr th:only-of-type {\n",
       "        vertical-align: middle;\n",
       "    }\n",
       "\n",
       "    .dataframe tbody tr th {\n",
       "        vertical-align: top;\n",
       "    }\n",
       "\n",
       "    .dataframe thead th {\n",
       "        text-align: right;\n",
       "    }\n",
       "</style>\n",
       "<table border=\"1\" class=\"dataframe\">\n",
       "  <thead>\n",
       "    <tr style=\"text-align: right;\">\n",
       "      <th></th>\n",
       "      <th>Neighborhood</th>\n",
       "      <th>Bldg.Type</th>\n",
       "      <th>House.Style</th>\n",
       "      <th>Gr.Liv.Area</th>\n",
       "      <th>SalePrice</th>\n",
       "      <th>NStyle</th>\n",
       "      <th>PriceSqFt</th>\n",
       "    </tr>\n",
       "  </thead>\n",
       "  <tbody>\n",
       "    <tr>\n",
       "      <th>0</th>\n",
       "      <td>NAmes</td>\n",
       "      <td>1Fam</td>\n",
       "      <td>1Story</td>\n",
       "      <td>1656</td>\n",
       "      <td>215000</td>\n",
       "      <td>1 Story</td>\n",
       "      <td>129.830918</td>\n",
       "    </tr>\n",
       "    <tr>\n",
       "      <th>1</th>\n",
       "      <td>NAmes</td>\n",
       "      <td>1Fam</td>\n",
       "      <td>1Story</td>\n",
       "      <td>896</td>\n",
       "      <td>105000</td>\n",
       "      <td>1 Story</td>\n",
       "      <td>117.187500</td>\n",
       "    </tr>\n",
       "    <tr>\n",
       "      <th>2</th>\n",
       "      <td>NAmes</td>\n",
       "      <td>1Fam</td>\n",
       "      <td>1Story</td>\n",
       "      <td>1329</td>\n",
       "      <td>172000</td>\n",
       "      <td>1 Story</td>\n",
       "      <td>129.420617</td>\n",
       "    </tr>\n",
       "    <tr>\n",
       "      <th>3</th>\n",
       "      <td>NAmes</td>\n",
       "      <td>1Fam</td>\n",
       "      <td>1Story</td>\n",
       "      <td>2110</td>\n",
       "      <td>244000</td>\n",
       "      <td>1 Story</td>\n",
       "      <td>115.639810</td>\n",
       "    </tr>\n",
       "    <tr>\n",
       "      <th>4</th>\n",
       "      <td>Gilbert</td>\n",
       "      <td>1Fam</td>\n",
       "      <td>2Story</td>\n",
       "      <td>1629</td>\n",
       "      <td>189900</td>\n",
       "      <td>2 Story</td>\n",
       "      <td>116.574586</td>\n",
       "    </tr>\n",
       "  </tbody>\n",
       "</table>\n",
       "</div>"
      ],
      "text/plain": [
       "  Neighborhood Bldg.Type House.Style  Gr.Liv.Area  SalePrice   NStyle  \\\n",
       "0        NAmes      1Fam      1Story         1656     215000  1 Story   \n",
       "1        NAmes      1Fam      1Story          896     105000  1 Story   \n",
       "2        NAmes      1Fam      1Story         1329     172000  1 Story   \n",
       "3        NAmes      1Fam      1Story         2110     244000  1 Story   \n",
       "4      Gilbert      1Fam      2Story         1629     189900  2 Story   \n",
       "\n",
       "    PriceSqFt  \n",
       "0  129.830918  \n",
       "1  117.187500  \n",
       "2  129.420617  \n",
       "3  115.639810  \n",
       "4  116.574586  "
      ]
     },
     "execution_count": 11,
     "metadata": {},
     "output_type": "execute_result"
    }
   ],
   "source": [
    "single_family['PriceSqFt'] = single_family['SalePrice'] / single_family['Gr.Liv.Area']\n",
    "single_family.head()"
   ]
  },
  {
   "cell_type": "markdown",
   "metadata": {},
   "source": [
    "### Calculate mean price per sqft for each `NStyle` type\n",
    "\n",
    "Use `groupby` and `agg`."
   ]
  },
  {
   "cell_type": "code",
   "execution_count": 12,
   "metadata": {},
   "outputs": [
    {
     "name": "stdout",
     "output_type": "stream",
     "text": [
      "NStyle\n",
      "1 Story        125.356612\n",
      "2 Story        113.402847\n",
      "Split Level    129.402510\n",
      "Name: PriceSqFt, dtype: float64\n"
     ]
    }
   ],
   "source": [
    "price_nstyle_gr = single_family.groupby('NStyle')\n",
    "mean = price_nstyle_gr.agg('mean')['PriceSqFt']\n",
    "print(mean)"
   ]
  },
  {
   "cell_type": "markdown",
   "metadata": {},
   "source": [
    "### Is the difference between the mean PPSqFt for 1Story and 2Story significant?\n",
    "\n",
    "Use `ttest_ind`, $\\alpha=0.05$ (the default)."
   ]
  },
  {
   "cell_type": "code",
   "execution_count": 13,
   "metadata": {},
   "outputs": [
    {
     "data": {
      "text/plain": [
       "NStyle\n",
       "1 Story        [129.83091787439614, 117.1875, 129.42061700526...\n",
       "2 Story        [116.57458563535911, 121.88279301745636, 104.7...\n",
       "Split Level    [144.92753623188406, 134.27947598253274, 125.8...\n",
       "Name: PriceSqFt, dtype: object"
      ]
     },
     "execution_count": 13,
     "metadata": {},
     "output_type": "execute_result"
    }
   ],
   "source": [
    "groups = price_nstyle_gr['PriceSqFt'].apply(list)\n",
    "groups"
   ]
  },
  {
   "cell_type": "code",
   "execution_count": 14,
   "metadata": {},
   "outputs": [
    {
     "data": {
      "text/plain": [
       "NStyle\n",
       "1 Story        33.299048\n",
       "2 Story        22.944254\n",
       "Split Level    24.808773\n",
       "Name: PriceSqFt, dtype: float64"
      ]
     },
     "execution_count": 14,
     "metadata": {},
     "output_type": "execute_result"
    }
   ],
   "source": [
    "stds = price_nstyle_gr.agg('std')['PriceSqFt']\n",
    "stds"
   ]
  },
  {
   "cell_type": "code",
   "execution_count": 15,
   "metadata": {},
   "outputs": [
    {
     "data": {
      "text/plain": [
       "Ttest_indResult(statistic=8.7173653807693, pvalue=5.449853802628117e-18)"
      ]
     },
     "execution_count": 15,
     "metadata": {},
     "output_type": "execute_result"
    }
   ],
   "source": [
    "st.ttest_ind(groups[\"1 Story\"], groups[\"2 Story\"])"
   ]
  },
  {
   "cell_type": "markdown",
   "metadata": {},
   "source": [
    "_The p value is less than 0.05, so we reject the null hypothesis, and conclude that there is a significant difference between the mean PPSqFt for 1 Story and 2 Story houses._"
   ]
  },
  {
   "cell_type": "markdown",
   "metadata": {},
   "source": [
    "### Are the conditions met?"
   ]
  },
  {
   "cell_type": "markdown",
   "metadata": {},
   "source": [
    "- We are assuming that people's individual choice to sell their house is a random act. \n",
    "- Is number of observations in each group > 30? Check with `value_counts` or with `.size()` on the grouped data.\n",
    "- Are there _particularly_ extreme outliers? Use `distplot` and `probplot` to examine the distributions."
   ]
  },
  {
   "cell_type": "code",
   "execution_count": 16,
   "metadata": {},
   "outputs": [
    {
     "data": {
      "text/plain": [
       "NStyle\n",
       "1 Story        1510\n",
       "2 Story         724\n",
       "Split Level     186\n",
       "dtype: int64"
      ]
     },
     "execution_count": 16,
     "metadata": {},
     "output_type": "execute_result"
    }
   ],
   "source": [
    "szs = price_nstyle_gr.size()\n",
    "szs"
   ]
  },
  {
   "cell_type": "code",
   "execution_count": 17,
   "metadata": {},
   "outputs": [
    {
     "data": {
      "text/plain": [
       "2.184136945127827"
      ]
     },
     "execution_count": 17,
     "metadata": {},
     "output_type": "execute_result"
    }
   ],
   "source": [
    "se = np.sqrt((np.square(stds) / szs).sum())\n",
    "se"
   ]
  },
  {
   "cell_type": "code",
   "execution_count": 18,
   "metadata": {},
   "outputs": [
    {
     "data": {
      "image/png": "[encoded data removed]",
      "text/plain": [
       "<Figure size 432x288 with 1 Axes>"
      ]
     },
     "metadata": {
      "needs_background": "light"
     },
     "output_type": "display_data"
    }
   ],
   "source": [
    "sns.distplot(groups['1 Story'], hist=False, label='1 Story');\n",
    "sns.distplot(groups['2 Story'], hist=False, label='2 Story');"
   ]
  },
  {
   "cell_type": "code",
   "execution_count": 19,
   "metadata": {},
   "outputs": [
    {
     "data": {
      "image/png": "[encoded data removed]",
      "text/plain": [
       "<Figure size 432x288 with 1 Axes>"
      ]
     },
     "metadata": {
      "needs_background": "light"
     },
     "output_type": "display_data"
    }
   ],
   "source": [
    "ax = st.probplot(groups['1 Story'], dist=\"norm\", plot=plt);"
   ]
  },
  {
   "cell_type": "code",
   "execution_count": 20,
   "metadata": {},
   "outputs": [
    {
     "data": {
      "image/png": "[encoded data removed]",
      "text/plain": [
       "<Figure size 432x288 with 1 Axes>"
      ]
     },
     "metadata": {
      "needs_background": "light"
     },
     "output_type": "display_data"
    }
   ],
   "source": [
    "ax = st.probplot(groups['2 Story'], dist=\"norm\", plot=plt);"
   ]
  },
  {
   "cell_type": "markdown",
   "metadata": {},
   "source": [
    "### Conclusion\n",
    "\n",
    "_The number of observations >30 in each group, the outliers to the right is kind of extreme, but the data general follows the distribution, so it wouldn't influence our conclusion and we think the conditions are met._ "
   ]
  },
  {
   "cell_type": "markdown",
   "metadata": {},
   "source": [
    "## Question 3: Compare normalized prices across the top 5 neighborhoods\n",
    "\n",
    "### Aggregate over neighborhoods\n",
    "\n",
    "Compute a `Series` of the neighborhod sizes. Use `groupby` and `size` to do this. (Instead of `value_counts` which would also work.) Name the Series so that we can use it with the `merge` operation. "
   ]
  },
  {
   "cell_type": "code",
   "execution_count": 21,
   "metadata": {},
   "outputs": [
    {
     "data": {
      "text/plain": [
       "Neighborhood\n",
       "Blmngtn      3\n",
       "BrkSide    106\n",
       "ClearCr     43\n",
       "CollgCr    253\n",
       "Crawfor     87\n",
       "Edwards    155\n",
       "Gilbert    163\n",
       "IDOTRR      85\n",
       "Mitchel     92\n",
       "NAmes      401\n",
       "NWAmes     127\n",
       "NoRidge     69\n",
       "NridgHt    120\n",
       "OldTown    208\n",
       "SWISU       38\n",
       "Sawyer     134\n",
       "SawyerW    100\n",
       "Somerst    120\n",
       "StoneBr     28\n",
       "Timber      69\n",
       "Veenker     19\n",
       "Name: NHood_Count, dtype: int64"
      ]
     },
     "execution_count": 21,
     "metadata": {},
     "output_type": "execute_result"
    }
   ],
   "source": [
    "nhood_gr = single_family.groupby('Neighborhood')\n",
    "nhood_ct = nhood_gr.size()\n",
    "nhood_ct.name = 'NHood_Count'\n",
    "nhood_ct"
   ]
  },
  {
   "cell_type": "markdown",
   "metadata": {},
   "source": [
    "### Merge with the data frame\n",
    "\n",
    "Merge on the `Neighborhood` key so that each entry has a value with the count of sales in that neighboprhood. \n",
    "`pd.merge(df, neighborhood_count_series, on='Neighborhood')"
   ]
  },
  {
   "cell_type": "code",
   "execution_count": 22,
   "metadata": {},
   "outputs": [
    {
     "data": {
      "text/html": [
       "<div>\n",
       "<style scoped>\n",
       "    .dataframe tbody tr th:only-of-type {\n",
       "        vertical-align: middle;\n",
       "    }\n",
       "\n",
       "    .dataframe tbody tr th {\n",
       "        vertical-align: top;\n",
       "    }\n",
       "\n",
       "    .dataframe thead th {\n",
       "        text-align: right;\n",
       "    }\n",
       "</style>\n",
       "<table border=\"1\" class=\"dataframe\">\n",
       "  <thead>\n",
       "    <tr style=\"text-align: right;\">\n",
       "      <th></th>\n",
       "      <th>Neighborhood</th>\n",
       "      <th>Bldg.Type</th>\n",
       "      <th>House.Style</th>\n",
       "      <th>Gr.Liv.Area</th>\n",
       "      <th>SalePrice</th>\n",
       "      <th>NStyle</th>\n",
       "      <th>PriceSqFt</th>\n",
       "      <th>NHood_Count</th>\n",
       "    </tr>\n",
       "  </thead>\n",
       "  <tbody>\n",
       "    <tr>\n",
       "      <th>0</th>\n",
       "      <td>NAmes</td>\n",
       "      <td>1Fam</td>\n",
       "      <td>1Story</td>\n",
       "      <td>1656</td>\n",
       "      <td>215000</td>\n",
       "      <td>1 Story</td>\n",
       "      <td>129.830918</td>\n",
       "      <td>401</td>\n",
       "    </tr>\n",
       "    <tr>\n",
       "      <th>1</th>\n",
       "      <td>NAmes</td>\n",
       "      <td>1Fam</td>\n",
       "      <td>1Story</td>\n",
       "      <td>896</td>\n",
       "      <td>105000</td>\n",
       "      <td>1 Story</td>\n",
       "      <td>117.187500</td>\n",
       "      <td>401</td>\n",
       "    </tr>\n",
       "    <tr>\n",
       "      <th>2</th>\n",
       "      <td>NAmes</td>\n",
       "      <td>1Fam</td>\n",
       "      <td>1Story</td>\n",
       "      <td>1329</td>\n",
       "      <td>172000</td>\n",
       "      <td>1 Story</td>\n",
       "      <td>129.420617</td>\n",
       "      <td>401</td>\n",
       "    </tr>\n",
       "    <tr>\n",
       "      <th>3</th>\n",
       "      <td>NAmes</td>\n",
       "      <td>1Fam</td>\n",
       "      <td>1Story</td>\n",
       "      <td>2110</td>\n",
       "      <td>244000</td>\n",
       "      <td>1 Story</td>\n",
       "      <td>115.639810</td>\n",
       "      <td>401</td>\n",
       "    </tr>\n",
       "    <tr>\n",
       "      <th>4</th>\n",
       "      <td>NAmes</td>\n",
       "      <td>1Fam</td>\n",
       "      <td>1Story</td>\n",
       "      <td>1004</td>\n",
       "      <td>149000</td>\n",
       "      <td>1 Story</td>\n",
       "      <td>148.406375</td>\n",
       "      <td>401</td>\n",
       "    </tr>\n",
       "  </tbody>\n",
       "</table>\n",
       "</div>"
      ],
      "text/plain": [
       "  Neighborhood Bldg.Type House.Style  Gr.Liv.Area  SalePrice   NStyle  \\\n",
       "0        NAmes      1Fam      1Story         1656     215000  1 Story   \n",
       "1        NAmes      1Fam      1Story          896     105000  1 Story   \n",
       "2        NAmes      1Fam      1Story         1329     172000  1 Story   \n",
       "3        NAmes      1Fam      1Story         2110     244000  1 Story   \n",
       "4        NAmes      1Fam      1Story         1004     149000  1 Story   \n",
       "\n",
       "    PriceSqFt  NHood_Count  \n",
       "0  129.830918          401  \n",
       "1  117.187500          401  \n",
       "2  129.420617          401  \n",
       "3  115.639810          401  \n",
       "4  148.406375          401  "
      ]
     },
     "execution_count": 22,
     "metadata": {},
     "output_type": "execute_result"
    }
   ],
   "source": [
    "fam1_nhood = pd.merge(single_family, nhood_ct, on='Neighborhood')\n",
    "fam1_nhood.head()"
   ]
  },
  {
   "cell_type": "markdown",
   "metadata": {},
   "source": [
    "### Select neighborhods with more than 150 sales\n",
    "\n",
    "Now that each row has the associated neighborhood count, you can select on this value. There should be five (NAmes, CollgCr, OldTown, Gilbert, Edwards). Verify with `value_counts`."
   ]
  },
  {
   "cell_type": "code",
   "execution_count": 23,
   "metadata": {},
   "outputs": [
    {
     "data": {
      "text/plain": [
       "NAmes      401\n",
       "CollgCr    253\n",
       "OldTown    208\n",
       "Gilbert    163\n",
       "Edwards    155\n",
       "Name: Neighborhood, dtype: int64"
      ]
     },
     "execution_count": 23,
     "metadata": {},
     "output_type": "execute_result"
    }
   ],
   "source": [
    "sale_filter = (fam1_nhood['NHood_Count'] > 150)\n",
    "fam1_nhood = fam1_nhood.loc[sale_filter]\n",
    "fam1_nhood['Neighborhood'].value_counts()"
   ]
  },
  {
   "cell_type": "markdown",
   "metadata": {},
   "source": [
    "### Set up the data for each neighborhood\n",
    "\n",
    "Create a subset of the data frame with just the `Neighborhood` and `PPSqFt` columns. "
   ]
  },
  {
   "cell_type": "code",
   "execution_count": 24,
   "metadata": {},
   "outputs": [
    {
     "data": {
      "text/html": [
       "<div>\n",
       "<style scoped>\n",
       "    .dataframe tbody tr th:only-of-type {\n",
       "        vertical-align: middle;\n",
       "    }\n",
       "\n",
       "    .dataframe tbody tr th {\n",
       "        vertical-align: top;\n",
       "    }\n",
       "\n",
       "    .dataframe thead th {\n",
       "        text-align: right;\n",
       "    }\n",
       "</style>\n",
       "<table border=\"1\" class=\"dataframe\">\n",
       "  <thead>\n",
       "    <tr style=\"text-align: right;\">\n",
       "      <th></th>\n",
       "      <th>Neighborhood</th>\n",
       "      <th>PriceSqFt</th>\n",
       "    </tr>\n",
       "  </thead>\n",
       "  <tbody>\n",
       "    <tr>\n",
       "      <th>0</th>\n",
       "      <td>NAmes</td>\n",
       "      <td>129.830918</td>\n",
       "    </tr>\n",
       "    <tr>\n",
       "      <th>1</th>\n",
       "      <td>NAmes</td>\n",
       "      <td>117.187500</td>\n",
       "    </tr>\n",
       "    <tr>\n",
       "      <th>2</th>\n",
       "      <td>NAmes</td>\n",
       "      <td>129.420617</td>\n",
       "    </tr>\n",
       "    <tr>\n",
       "      <th>3</th>\n",
       "      <td>NAmes</td>\n",
       "      <td>115.639810</td>\n",
       "    </tr>\n",
       "    <tr>\n",
       "      <th>4</th>\n",
       "      <td>NAmes</td>\n",
       "      <td>148.406375</td>\n",
       "    </tr>\n",
       "  </tbody>\n",
       "</table>\n",
       "</div>"
      ],
      "text/plain": [
       "  Neighborhood   PriceSqFt\n",
       "0        NAmes  129.830918\n",
       "1        NAmes  117.187500\n",
       "2        NAmes  129.420617\n",
       "3        NAmes  115.639810\n",
       "4        NAmes  148.406375"
      ]
     },
     "execution_count": 24,
     "metadata": {},
     "output_type": "execute_result"
    }
   ],
   "source": [
    "fam1_select = fam1_nhood[['Neighborhood', 'PriceSqFt']]\n",
    "fam1_select.head()"
   ]
  },
  {
   "cell_type": "markdown",
   "metadata": {},
   "source": [
    "### Group\n",
    "\n",
    "Group by neighborhood and apply the `list` function to each group. This will create a new data frame with one row per neighborhood and a list of the transactions in each. "
   ]
  },
  {
   "cell_type": "code",
   "execution_count": 25,
   "metadata": {},
   "outputs": [
    {
     "data": {
      "text/plain": [
       "Neighborhood\n",
       "CollgCr    [144.83471074380165, 170.52980132450332, 162.2...\n",
       "Edwards    [77.01863354037268, 99.40119760479043, 134.543...\n",
       "Gilbert    [116.57458563535911, 121.88279301745636, 104.7...\n",
       "NAmes      [129.83091787439614, 117.1875, 129.42061700526...\n",
       "OldTown    [43.600867678958785, 84.64912280701755, 116.98...\n",
       "Name: PriceSqFt, dtype: object"
      ]
     },
     "execution_count": 25,
     "metadata": {},
     "output_type": "execute_result"
    }
   ],
   "source": [
    "fam1_grouped = fam1_select.groupby('Neighborhood')\n",
    "nhood_series = fam1_grouped['PriceSqFt'].apply(list)\n",
    "nhood_series"
   ]
  },
  {
   "cell_type": "markdown",
   "metadata": {},
   "source": [
    "### Extract the lists of each neighborhood\n",
    "\n",
    "You can just access the individual entries by name."
   ]
  },
  {
   "cell_type": "code",
   "execution_count": 26,
   "metadata": {},
   "outputs": [],
   "source": [
    "coll = nhood_series['CollgCr']\n",
    "edw = nhood_series['Edwards']\n",
    "gil = nhood_series['Gilbert']\n",
    "nam = nhood_series['NAmes']\n",
    "old = nhood_series['OldTown']"
   ]
  },
  {
   "cell_type": "markdown",
   "metadata": {},
   "source": [
    "### Compute the ANOVA\n",
    "\n",
    "`f_oneway` function. Print the F statistic and the p value."
   ]
  },
  {
   "cell_type": "code",
   "execution_count": 27,
   "metadata": {},
   "outputs": [
    {
     "name": "stdout",
     "output_type": "stream",
     "text": [
      "122.59650339283063\n",
      "1.7691697730042124e-87\n"
     ]
    }
   ],
   "source": [
    "ans = st.f_oneway(coll, edw, gil, nam, old)\n",
    "print (ans.statistic)\n",
    "print (ans.pvalue)"
   ]
  },
  {
   "cell_type": "markdown",
   "metadata": {},
   "source": [
    "### Extract the lists of each neighborhood (fancy way, optional)\n",
    "\n",
    "Create a list of lists."
   ]
  },
  {
   "cell_type": "code",
   "execution_count": 28,
   "metadata": {},
   "outputs": [
    {
     "data": {
      "text/plain": [
       "Neighborhood\n",
       "CollgCr    [144.83471074380165, 170.52980132450332, 162.2...\n",
       "Edwards    [77.01863354037268, 99.40119760479043, 134.543...\n",
       "Gilbert    [116.57458563535911, 121.88279301745636, 104.7...\n",
       "NAmes      [129.83091787439614, 117.1875, 129.42061700526...\n",
       "OldTown    [43.600867678958785, 84.64912280701755, 116.98...\n",
       "Name: PriceSqFt, dtype: object"
      ]
     },
     "execution_count": 28,
     "metadata": {},
     "output_type": "execute_result"
    }
   ],
   "source": [
    "# def extractLists(lst): \n",
    "#     return [[el] for el in lst] \n",
    "# extractLists(lst)\n",
    "lst = ['CollgCr','Edwards','Gilbert','NAmes','OldTown']\n",
    "nhood_series[lst]"
   ]
  },
  {
   "cell_type": "markdown",
   "metadata": {},
   "source": [
    "### Compute the ANOVA (fancy way, optional)\n",
    "\n",
    "Then apply the `f_oneway` function using the `*` operator to treat the list as multiple arguments."
   ]
  },
  {
   "cell_type": "code",
   "execution_count": 29,
   "metadata": {},
   "outputs": [
    {
     "name": "stdout",
     "output_type": "stream",
     "text": [
      "122.59650339283063 1.7691697730042124e-87\n"
     ]
    }
   ],
   "source": [
    "fvalue, pvalue = stats.f_oneway(*nhood_series[lst])\n",
    "print(fvalue, pvalue)"
   ]
  },
  {
   "cell_type": "markdown",
   "metadata": {},
   "source": [
    "### Check conditions\n",
    "\n",
    "- Independence: Same assumption as before\n",
    "- Approximately normal: Use distplots\n",
    "- Constant variance: Use boxplot"
   ]
  },
  {
   "cell_type": "markdown",
   "metadata": {},
   "source": [
    "For the distplots, use `FacetGrid` to create multiple linked plots for the five neighborhoods."
   ]
  },
  {
   "cell_type": "code",
   "execution_count": 30,
   "metadata": {},
   "outputs": [
    {
     "data": {
      "text/plain": [
       "Neighborhood\n",
       "CollgCr    253\n",
       "Edwards    155\n",
       "Gilbert    163\n",
       "NAmes      401\n",
       "OldTown    208\n",
       "dtype: int64"
      ]
     },
     "execution_count": 30,
     "metadata": {},
     "output_type": "execute_result"
    }
   ],
   "source": [
    "szs = fam1_grouped.size()\n",
    "szs"
   ]
  },
  {
   "cell_type": "code",
   "execution_count": 31,
   "metadata": {},
   "outputs": [
    {
     "data": {
      "image/png": "[encoded data removed]",
      "text/plain": [
       "<Figure size 432x288 with 1 Axes>"
      ]
     },
     "metadata": {
      "needs_background": "light"
     },
     "output_type": "display_data"
    }
   ],
   "source": [
    "sns.distplot(nhood_series['CollgCr'], hist=False, label='CollgCr');\n",
    "sns.distplot(nhood_series['Edwards'], hist=False, label='Edwards');\n",
    "sns.distplot(nhood_series['Gilbert'], hist=False, label='Gilbert');\n",
    "sns.distplot(nhood_series['NAmes'], hist=False, label='NAmes');\n",
    "sns.distplot(nhood_series['OldTown'], hist=False, label='OldTown');"
   ]
  },
  {
   "cell_type": "code",
   "execution_count": 32,
   "metadata": {},
   "outputs": [
    {
     "data": {
      "image/png": "[encoded data removed]",
      "text/plain": [
       "<Figure size 648x432 with 1 Axes>"
      ]
     },
     "metadata": {
      "needs_background": "light"
     },
     "output_type": "display_data"
    }
   ],
   "source": [
    "np.random.seed(10)\n",
    "data = nhood_series.tolist()\n",
    "\n",
    "# Create a figure instance\n",
    "fig = plt.figure(1, figsize=(9, 6))\n",
    "\n",
    "# Create an axes instance\n",
    "ax = fig.add_subplot(111)\n",
    "\n",
    "# Create the boxplot\n",
    "bp = ax.boxplot(data)"
   ]
  },
  {
   "cell_type": "markdown",
   "metadata": {},
   "source": [
    "### Conclusion\n",
    "\n",
    "_There are more than 30 observations in each group, the distributions are approximately normal, and from the box plots, we can see they have similar range and slightly different outliers, with the p-value less than α, we reject the null hypothesis, and conclude that there are significant price differences among the top 5 neighborhood._"
   ]
  },
  {
   "cell_type": "markdown",
   "metadata": {},
   "source": [
    "### Multiway comparison\n",
    "\n",
    "Use the `multicomp` package to compare the different neighborhoods pairwise.\n",
    "\n",
    "Hint: You should get one pair where the null hypothesis cannot be rejected."
   ]
  },
  {
   "cell_type": "code",
   "execution_count": 33,
   "metadata": {},
   "outputs": [],
   "source": [
    "multicomp = MultiComparison(fam1_select['PriceSqFt'], fam1_select['Neighborhood'], )\n",
    "ans = multicomp.allpairtest(st.ttest_ind, method='bonf')"
   ]
  },
  {
   "cell_type": "code",
   "execution_count": 34,
   "metadata": {},
   "outputs": [
    {
     "data": {
      "text/html": [
       "<table class=\"simpletable\">\n",
       "<caption>Test Multiple Comparison ttest_ind \n",
       "FWER=0.05 method=bonf\n",
       "alphacSidak=0.01, alphacBonf=0.005</caption>\n",
       "<tr>\n",
       "  <th>group1</th>  <th>group2</th>   <th>stat</th>    <th>pval</th>  <th>pval_corr</th> <th>reject</th>\n",
       "</tr>\n",
       "<tr>\n",
       "  <td>CollgCr</td> <td>Edwards</td> <td>13.1972</td>   <td>0.0</td>     <td>0.0</td>     <td>True</td> \n",
       "</tr>\n",
       "<tr>\n",
       "  <td>CollgCr</td> <td>Gilbert</td> <td>8.7055</td>    <td>0.0</td>     <td>0.0</td>     <td>True</td> \n",
       "</tr>\n",
       "<tr>\n",
       "  <td>CollgCr</td>  <td>NAmes</td>  <td>10.0919</td>   <td>0.0</td>     <td>0.0</td>     <td>True</td> \n",
       "</tr>\n",
       "<tr>\n",
       "  <td>CollgCr</td> <td>OldTown</td> <td>20.9784</td>   <td>0.0</td>     <td>0.0</td>     <td>True</td> \n",
       "</tr>\n",
       "<tr>\n",
       "  <td>Edwards</td> <td>Gilbert</td> <td>-5.7241</td>   <td>0.0</td>     <td>0.0</td>     <td>True</td> \n",
       "</tr>\n",
       "<tr>\n",
       "  <td>Edwards</td>  <td>NAmes</td>  <td>-6.639</td>    <td>0.0</td>     <td>0.0</td>     <td>True</td> \n",
       "</tr>\n",
       "<tr>\n",
       "  <td>Edwards</td> <td>OldTown</td> <td>4.2133</td>    <td>0.0</td>   <td>0.0003</td>    <td>True</td> \n",
       "</tr>\n",
       "<tr>\n",
       "  <td>Gilbert</td>  <td>NAmes</td>  <td>0.0357</td>  <td>0.9715</td>    <td>1.0</td>     <td>False</td>\n",
       "</tr>\n",
       "<tr>\n",
       "  <td>Gilbert</td> <td>OldTown</td> <td>11.9321</td>   <td>0.0</td>     <td>0.0</td>     <td>True</td> \n",
       "</tr>\n",
       "<tr>\n",
       "   <td>NAmes</td>  <td>OldTown</td> <td>13.7357</td>   <td>0.0</td>     <td>0.0</td>     <td>True</td> \n",
       "</tr>\n",
       "</table>"
      ],
      "text/plain": [
       "<class 'statsmodels.iolib.table.SimpleTable'>"
      ]
     },
     "execution_count": 34,
     "metadata": {},
     "output_type": "execute_result"
    }
   ],
   "source": [
    "ans[0]"
   ]
  },
  {
   "cell_type": "markdown",
   "metadata": {},
   "source": [
    "## Question 4: Compute the minimum number of houses that we need to sample to determine if two neighborhoods have sale prices at least \\$25 per square foot different.\n",
    "\n",
    "Use `TTestIndPower` with power = 0.9, alpha=0.05. You'll need to calculate the appropriate effect size.\n",
    "\n",
    "Hint: Answer around 32."
   ]
  },
  {
   "cell_type": "code",
   "execution_count": 35,
   "metadata": {},
   "outputs": [],
   "source": [
    "sample_mean = sum(nhood_series['CollgCr'])/len(nhood_series['CollgCr'])\n",
    "population_mean = np.mean(fam1_nhood['PriceSqFt'])\n",
    "sample_standard_deviation = 25\n",
    "\n",
    "cohens_d = (sample_mean - population_mean)/sample_standard_deviation"
   ]
  },
  {
   "cell_type": "code",
   "execution_count": 36,
   "metadata": {},
   "outputs": [
    {
     "name": "stdout",
     "output_type": "stream",
     "text": [
      "Required sample size: 34.88\n"
     ]
    }
   ],
   "source": [
    "# parameters for the analysis \n",
    "effect_size = cohens_d\n",
    "alpha = 0.05 # significance level\n",
    "power = 0.9\n",
    "\n",
    "power_analysis = TTestIndPower()\n",
    "sample_size = power_analysis.solve_power(effect_size = effect_size, \n",
    "                                         power = power, \n",
    "                                         alpha = alpha)\n",
    "\n",
    "print('Required sample size: {0:.2f}'.format(sample_size))"
   ]
  }
 ],
 "metadata": {
  "kernelspec": {
   "display_name": "Python 3",
   "language": "python",
   "name": "python3"
  },
  "language_info": {
   "codemirror_mode": {
    "name": "ipython",
    "version": 3
   },
   "file_extension": ".py",
   "mimetype": "text/x-python",
   "name": "python",
   "nbconvert_exporter": "python",
   "pygments_lexer": "ipython3",
   "version": "3.7.3"
  }
 },
 "nbformat": 4,
 "nbformat_minor": 4
}
