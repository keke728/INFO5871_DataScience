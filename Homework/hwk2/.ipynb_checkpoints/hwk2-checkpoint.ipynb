{
 "cells": [
  {
   "cell_type": "markdown",
   "metadata": {},
   "source": [
    "# Homework 2\n",
    "### _Keke Wu_\n",
    "\n",
    "INFO 5871-001, Prof. Robin Burke, Fall 2019"
   ]
  },
  {
   "cell_type": "markdown",
   "metadata": {},
   "source": [
    "## Imports"
   ]
  },
  {
   "cell_type": "code",
   "execution_count": 1,
   "metadata": {},
   "outputs": [],
   "source": [
    "import pandas as pd\n",
    "import matplotlib.pyplot as plt\n",
    "%matplotlib inline"
   ]
  },
  {
   "cell_type": "markdown",
   "metadata": {},
   "source": [
    "### Load data file\n",
    "Ames Housing dataset. See associated data description file for details"
   ]
  },
  {
   "cell_type": "code",
   "execution_count": 2,
   "metadata": {},
   "outputs": [],
   "source": [
    "ames = pd.read_csv('ames.csv')"
   ]
  },
  {
   "cell_type": "markdown",
   "metadata": {},
   "source": [
    "Print the shape and output the `head` of the DataFrame to show contents.\n",
    "\n",
    "Note that because there are so many columns, not all of them are shown. The `...` after `Land.Contour` shows this."
   ]
  },
  {
   "cell_type": "code",
   "execution_count": 3,
   "metadata": {},
   "outputs": [
    {
     "name": "stdout",
     "output_type": "stream",
     "text": [
      "(2930, 82)\n"
     ]
    },
    {
     "data": {
      "text/html": [
       "<div>\n",
       "<style scoped>\n",
       "    .dataframe tbody tr th:only-of-type {\n",
       "        vertical-align: middle;\n",
       "    }\n",
       "\n",
       "    .dataframe tbody tr th {\n",
       "        vertical-align: top;\n",
       "    }\n",
       "\n",
       "    .dataframe thead th {\n",
       "        text-align: right;\n",
       "    }\n",
       "</style>\n",
       "<table border=\"1\" class=\"dataframe\">\n",
       "  <thead>\n",
       "    <tr style=\"text-align: right;\">\n",
       "      <th></th>\n",
       "      <th>Order</th>\n",
       "      <th>PID</th>\n",
       "      <th>MS.SubClass</th>\n",
       "      <th>MS.Zoning</th>\n",
       "      <th>Lot.Frontage</th>\n",
       "      <th>Lot.Area</th>\n",
       "      <th>Street</th>\n",
       "      <th>Alley</th>\n",
       "      <th>Lot.Shape</th>\n",
       "      <th>Land.Contour</th>\n",
       "      <th>...</th>\n",
       "      <th>Pool.Area</th>\n",
       "      <th>Pool.QC</th>\n",
       "      <th>Fence</th>\n",
       "      <th>Misc.Feature</th>\n",
       "      <th>Misc.Val</th>\n",
       "      <th>Mo.Sold</th>\n",
       "      <th>Yr.Sold</th>\n",
       "      <th>Sale.Type</th>\n",
       "      <th>Sale.Condition</th>\n",
       "      <th>SalePrice</th>\n",
       "    </tr>\n",
       "  </thead>\n",
       "  <tbody>\n",
       "    <tr>\n",
       "      <th>0</th>\n",
       "      <td>1</td>\n",
       "      <td>526301100</td>\n",
       "      <td>20</td>\n",
       "      <td>RL</td>\n",
       "      <td>141.0</td>\n",
       "      <td>31770</td>\n",
       "      <td>Pave</td>\n",
       "      <td>NaN</td>\n",
       "      <td>IR1</td>\n",
       "      <td>Lvl</td>\n",
       "      <td>...</td>\n",
       "      <td>0</td>\n",
       "      <td>NaN</td>\n",
       "      <td>NaN</td>\n",
       "      <td>NaN</td>\n",
       "      <td>0</td>\n",
       "      <td>5</td>\n",
       "      <td>2010</td>\n",
       "      <td>WD</td>\n",
       "      <td>Normal</td>\n",
       "      <td>215000</td>\n",
       "    </tr>\n",
       "    <tr>\n",
       "      <th>1</th>\n",
       "      <td>2</td>\n",
       "      <td>526350040</td>\n",
       "      <td>20</td>\n",
       "      <td>RH</td>\n",
       "      <td>80.0</td>\n",
       "      <td>11622</td>\n",
       "      <td>Pave</td>\n",
       "      <td>NaN</td>\n",
       "      <td>Reg</td>\n",
       "      <td>Lvl</td>\n",
       "      <td>...</td>\n",
       "      <td>0</td>\n",
       "      <td>NaN</td>\n",
       "      <td>MnPrv</td>\n",
       "      <td>NaN</td>\n",
       "      <td>0</td>\n",
       "      <td>6</td>\n",
       "      <td>2010</td>\n",
       "      <td>WD</td>\n",
       "      <td>Normal</td>\n",
       "      <td>105000</td>\n",
       "    </tr>\n",
       "    <tr>\n",
       "      <th>2</th>\n",
       "      <td>3</td>\n",
       "      <td>526351010</td>\n",
       "      <td>20</td>\n",
       "      <td>RL</td>\n",
       "      <td>81.0</td>\n",
       "      <td>14267</td>\n",
       "      <td>Pave</td>\n",
       "      <td>NaN</td>\n",
       "      <td>IR1</td>\n",
       "      <td>Lvl</td>\n",
       "      <td>...</td>\n",
       "      <td>0</td>\n",
       "      <td>NaN</td>\n",
       "      <td>NaN</td>\n",
       "      <td>Gar2</td>\n",
       "      <td>12500</td>\n",
       "      <td>6</td>\n",
       "      <td>2010</td>\n",
       "      <td>WD</td>\n",
       "      <td>Normal</td>\n",
       "      <td>172000</td>\n",
       "    </tr>\n",
       "    <tr>\n",
       "      <th>3</th>\n",
       "      <td>4</td>\n",
       "      <td>526353030</td>\n",
       "      <td>20</td>\n",
       "      <td>RL</td>\n",
       "      <td>93.0</td>\n",
       "      <td>11160</td>\n",
       "      <td>Pave</td>\n",
       "      <td>NaN</td>\n",
       "      <td>Reg</td>\n",
       "      <td>Lvl</td>\n",
       "      <td>...</td>\n",
       "      <td>0</td>\n",
       "      <td>NaN</td>\n",
       "      <td>NaN</td>\n",
       "      <td>NaN</td>\n",
       "      <td>0</td>\n",
       "      <td>4</td>\n",
       "      <td>2010</td>\n",
       "      <td>WD</td>\n",
       "      <td>Normal</td>\n",
       "      <td>244000</td>\n",
       "    </tr>\n",
       "    <tr>\n",
       "      <th>4</th>\n",
       "      <td>5</td>\n",
       "      <td>527105010</td>\n",
       "      <td>60</td>\n",
       "      <td>RL</td>\n",
       "      <td>74.0</td>\n",
       "      <td>13830</td>\n",
       "      <td>Pave</td>\n",
       "      <td>NaN</td>\n",
       "      <td>IR1</td>\n",
       "      <td>Lvl</td>\n",
       "      <td>...</td>\n",
       "      <td>0</td>\n",
       "      <td>NaN</td>\n",
       "      <td>MnPrv</td>\n",
       "      <td>NaN</td>\n",
       "      <td>0</td>\n",
       "      <td>3</td>\n",
       "      <td>2010</td>\n",
       "      <td>WD</td>\n",
       "      <td>Normal</td>\n",
       "      <td>189900</td>\n",
       "    </tr>\n",
       "  </tbody>\n",
       "</table>\n",
       "<p>5 rows × 82 columns</p>\n",
       "</div>"
      ],
      "text/plain": [
       "   Order        PID  MS.SubClass MS.Zoning  Lot.Frontage  Lot.Area Street  \\\n",
       "0      1  526301100           20        RL         141.0     31770   Pave   \n",
       "1      2  526350040           20        RH          80.0     11622   Pave   \n",
       "2      3  526351010           20        RL          81.0     14267   Pave   \n",
       "3      4  526353030           20        RL          93.0     11160   Pave   \n",
       "4      5  527105010           60        RL          74.0     13830   Pave   \n",
       "\n",
       "  Alley Lot.Shape Land.Contour  ... Pool.Area Pool.QC  Fence Misc.Feature  \\\n",
       "0   NaN       IR1          Lvl  ...         0     NaN    NaN          NaN   \n",
       "1   NaN       Reg          Lvl  ...         0     NaN  MnPrv          NaN   \n",
       "2   NaN       IR1          Lvl  ...         0     NaN    NaN         Gar2   \n",
       "3   NaN       Reg          Lvl  ...         0     NaN    NaN          NaN   \n",
       "4   NaN       IR1          Lvl  ...         0     NaN  MnPrv          NaN   \n",
       "\n",
       "  Misc.Val Mo.Sold Yr.Sold Sale.Type  Sale.Condition  SalePrice  \n",
       "0        0       5    2010       WD           Normal     215000  \n",
       "1        0       6    2010       WD           Normal     105000  \n",
       "2    12500       6    2010       WD           Normal     172000  \n",
       "3        0       4    2010       WD           Normal     244000  \n",
       "4        0       3    2010       WD           Normal     189900  \n",
       "\n",
       "[5 rows x 82 columns]"
      ]
     },
     "execution_count": 3,
     "metadata": {},
     "output_type": "execute_result"
    }
   ],
   "source": [
    "print(ames.shape)\n",
    "ames.head()"
   ]
  },
  {
   "cell_type": "markdown",
   "metadata": {},
   "source": [
    "To see all of the columns, access the `columns` value for the data frame."
   ]
  },
  {
   "cell_type": "code",
   "execution_count": 4,
   "metadata": {},
   "outputs": [
    {
     "data": {
      "text/plain": [
       "Index(['Order', 'PID', 'MS.SubClass', 'MS.Zoning', 'Lot.Frontage', 'Lot.Area',\n",
       "       'Street', 'Alley', 'Lot.Shape', 'Land.Contour', 'Utilities',\n",
       "       'Lot.Config', 'Land.Slope', 'Neighborhood', 'Condition.1',\n",
       "       'Condition.2', 'Bldg.Type', 'House.Style', 'Overall.Qual',\n",
       "       'Overall.Cond', 'Year.Built', 'Year.Remod.Add', 'Roof.Style',\n",
       "       'Roof.Matl', 'Exterior.1st', 'Exterior.2nd', 'Mas.Vnr.Type',\n",
       "       'Mas.Vnr.Area', 'Exter.Qual', 'Exter.Cond', 'Foundation', 'Bsmt.Qual',\n",
       "       'Bsmt.Cond', 'Bsmt.Exposure', 'BsmtFin.Type.1', 'BsmtFin.SF.1',\n",
       "       'BsmtFin.Type.2', 'BsmtFin.SF.2', 'Bsmt.Unf.SF', 'Total.Bsmt.SF',\n",
       "       'Heating', 'Heating.QC', 'Central.Air', 'Electrical', 'X1st.Flr.SF',\n",
       "       'X2nd.Flr.SF', 'Low.Qual.Fin.SF', 'Gr.Liv.Area', 'Bsmt.Full.Bath',\n",
       "       'Bsmt.Half.Bath', 'Full.Bath', 'Half.Bath', 'Bedroom.AbvGr',\n",
       "       'Kitchen.AbvGr', 'Kitchen.Qual', 'TotRms.AbvGrd', 'Functional',\n",
       "       'Fireplaces', 'Fireplace.Qu', 'Garage.Type', 'Garage.Yr.Blt',\n",
       "       'Garage.Finish', 'Garage.Cars', 'Garage.Area', 'Garage.Qual',\n",
       "       'Garage.Cond', 'Paved.Drive', 'Wood.Deck.SF', 'Open.Porch.SF',\n",
       "       'Enclosed.Porch', 'X3Ssn.Porch', 'Screen.Porch', 'Pool.Area', 'Pool.QC',\n",
       "       'Fence', 'Misc.Feature', 'Misc.Val', 'Mo.Sold', 'Yr.Sold', 'Sale.Type',\n",
       "       'Sale.Condition', 'SalePrice'],\n",
       "      dtype='object')"
      ]
     },
     "execution_count": 4,
     "metadata": {},
     "output_type": "execute_result"
    }
   ],
   "source": [
    "ames.columns"
   ]
  },
  {
   "cell_type": "markdown",
   "metadata": {},
   "source": [
    "### Cleaning\n",
    "Prof. de Cock recommends removing the houses larger than 4000 sq. ft. because of anomalies in the data. This should drop 5 observations.\n",
    "\n",
    "Once we have done this cleaning, we will only use the cleaned data frame for the rest of the assignment."
   ]
  },
  {
   "cell_type": "code",
   "execution_count": 5,
   "metadata": {},
   "outputs": [
    {
     "data": {
      "text/html": [
       "<div>\n",
       "<style scoped>\n",
       "    .dataframe tbody tr th:only-of-type {\n",
       "        vertical-align: middle;\n",
       "    }\n",
       "\n",
       "    .dataframe tbody tr th {\n",
       "        vertical-align: top;\n",
       "    }\n",
       "\n",
       "    .dataframe thead th {\n",
       "        text-align: right;\n",
       "    }\n",
       "</style>\n",
       "<table border=\"1\" class=\"dataframe\">\n",
       "  <thead>\n",
       "    <tr style=\"text-align: right;\">\n",
       "      <th></th>\n",
       "      <th>Order</th>\n",
       "      <th>PID</th>\n",
       "      <th>MS.SubClass</th>\n",
       "      <th>MS.Zoning</th>\n",
       "      <th>Lot.Frontage</th>\n",
       "      <th>Lot.Area</th>\n",
       "      <th>Street</th>\n",
       "      <th>Alley</th>\n",
       "      <th>Lot.Shape</th>\n",
       "      <th>Land.Contour</th>\n",
       "      <th>...</th>\n",
       "      <th>Pool.Area</th>\n",
       "      <th>Pool.QC</th>\n",
       "      <th>Fence</th>\n",
       "      <th>Misc.Feature</th>\n",
       "      <th>Misc.Val</th>\n",
       "      <th>Mo.Sold</th>\n",
       "      <th>Yr.Sold</th>\n",
       "      <th>Sale.Type</th>\n",
       "      <th>Sale.Condition</th>\n",
       "      <th>SalePrice</th>\n",
       "    </tr>\n",
       "  </thead>\n",
       "  <tbody>\n",
       "    <tr>\n",
       "      <th>0</th>\n",
       "      <td>1</td>\n",
       "      <td>526301100</td>\n",
       "      <td>20</td>\n",
       "      <td>RL</td>\n",
       "      <td>141.0</td>\n",
       "      <td>31770</td>\n",
       "      <td>Pave</td>\n",
       "      <td>NaN</td>\n",
       "      <td>IR1</td>\n",
       "      <td>Lvl</td>\n",
       "      <td>...</td>\n",
       "      <td>0</td>\n",
       "      <td>NaN</td>\n",
       "      <td>NaN</td>\n",
       "      <td>NaN</td>\n",
       "      <td>0</td>\n",
       "      <td>5</td>\n",
       "      <td>2010</td>\n",
       "      <td>WD</td>\n",
       "      <td>Normal</td>\n",
       "      <td>215000</td>\n",
       "    </tr>\n",
       "    <tr>\n",
       "      <th>1</th>\n",
       "      <td>2</td>\n",
       "      <td>526350040</td>\n",
       "      <td>20</td>\n",
       "      <td>RH</td>\n",
       "      <td>80.0</td>\n",
       "      <td>11622</td>\n",
       "      <td>Pave</td>\n",
       "      <td>NaN</td>\n",
       "      <td>Reg</td>\n",
       "      <td>Lvl</td>\n",
       "      <td>...</td>\n",
       "      <td>0</td>\n",
       "      <td>NaN</td>\n",
       "      <td>MnPrv</td>\n",
       "      <td>NaN</td>\n",
       "      <td>0</td>\n",
       "      <td>6</td>\n",
       "      <td>2010</td>\n",
       "      <td>WD</td>\n",
       "      <td>Normal</td>\n",
       "      <td>105000</td>\n",
       "    </tr>\n",
       "    <tr>\n",
       "      <th>2</th>\n",
       "      <td>3</td>\n",
       "      <td>526351010</td>\n",
       "      <td>20</td>\n",
       "      <td>RL</td>\n",
       "      <td>81.0</td>\n",
       "      <td>14267</td>\n",
       "      <td>Pave</td>\n",
       "      <td>NaN</td>\n",
       "      <td>IR1</td>\n",
       "      <td>Lvl</td>\n",
       "      <td>...</td>\n",
       "      <td>0</td>\n",
       "      <td>NaN</td>\n",
       "      <td>NaN</td>\n",
       "      <td>Gar2</td>\n",
       "      <td>12500</td>\n",
       "      <td>6</td>\n",
       "      <td>2010</td>\n",
       "      <td>WD</td>\n",
       "      <td>Normal</td>\n",
       "      <td>172000</td>\n",
       "    </tr>\n",
       "    <tr>\n",
       "      <th>3</th>\n",
       "      <td>4</td>\n",
       "      <td>526353030</td>\n",
       "      <td>20</td>\n",
       "      <td>RL</td>\n",
       "      <td>93.0</td>\n",
       "      <td>11160</td>\n",
       "      <td>Pave</td>\n",
       "      <td>NaN</td>\n",
       "      <td>Reg</td>\n",
       "      <td>Lvl</td>\n",
       "      <td>...</td>\n",
       "      <td>0</td>\n",
       "      <td>NaN</td>\n",
       "      <td>NaN</td>\n",
       "      <td>NaN</td>\n",
       "      <td>0</td>\n",
       "      <td>4</td>\n",
       "      <td>2010</td>\n",
       "      <td>WD</td>\n",
       "      <td>Normal</td>\n",
       "      <td>244000</td>\n",
       "    </tr>\n",
       "    <tr>\n",
       "      <th>4</th>\n",
       "      <td>5</td>\n",
       "      <td>527105010</td>\n",
       "      <td>60</td>\n",
       "      <td>RL</td>\n",
       "      <td>74.0</td>\n",
       "      <td>13830</td>\n",
       "      <td>Pave</td>\n",
       "      <td>NaN</td>\n",
       "      <td>IR1</td>\n",
       "      <td>Lvl</td>\n",
       "      <td>...</td>\n",
       "      <td>0</td>\n",
       "      <td>NaN</td>\n",
       "      <td>MnPrv</td>\n",
       "      <td>NaN</td>\n",
       "      <td>0</td>\n",
       "      <td>3</td>\n",
       "      <td>2010</td>\n",
       "      <td>WD</td>\n",
       "      <td>Normal</td>\n",
       "      <td>189900</td>\n",
       "    </tr>\n",
       "  </tbody>\n",
       "</table>\n",
       "<p>5 rows × 82 columns</p>\n",
       "</div>"
      ],
      "text/plain": [
       "   Order        PID  MS.SubClass MS.Zoning  Lot.Frontage  Lot.Area Street  \\\n",
       "0      1  526301100           20        RL         141.0     31770   Pave   \n",
       "1      2  526350040           20        RH          80.0     11622   Pave   \n",
       "2      3  526351010           20        RL          81.0     14267   Pave   \n",
       "3      4  526353030           20        RL          93.0     11160   Pave   \n",
       "4      5  527105010           60        RL          74.0     13830   Pave   \n",
       "\n",
       "  Alley Lot.Shape Land.Contour  ... Pool.Area Pool.QC  Fence Misc.Feature  \\\n",
       "0   NaN       IR1          Lvl  ...         0     NaN    NaN          NaN   \n",
       "1   NaN       Reg          Lvl  ...         0     NaN  MnPrv          NaN   \n",
       "2   NaN       IR1          Lvl  ...         0     NaN    NaN         Gar2   \n",
       "3   NaN       Reg          Lvl  ...         0     NaN    NaN          NaN   \n",
       "4   NaN       IR1          Lvl  ...         0     NaN  MnPrv          NaN   \n",
       "\n",
       "  Misc.Val Mo.Sold Yr.Sold Sale.Type  Sale.Condition  SalePrice  \n",
       "0        0       5    2010       WD           Normal     215000  \n",
       "1        0       6    2010       WD           Normal     105000  \n",
       "2    12500       6    2010       WD           Normal     172000  \n",
       "3        0       4    2010       WD           Normal     244000  \n",
       "4        0       3    2010       WD           Normal     189900  \n",
       "\n",
       "[5 rows x 82 columns]"
      ]
     },
     "execution_count": 5,
     "metadata": {},
     "output_type": "execute_result"
    }
   ],
   "source": [
    "anomaly = ames['Gr.Liv.Area'] <= 4000\n",
    "ames_cl = ames[anomaly]\n",
    "ames_cl.head()"
   ]
  },
  {
   "cell_type": "code",
   "execution_count": 6,
   "metadata": {},
   "outputs": [
    {
     "data": {
      "text/plain": [
       "1Fam      2420\n",
       "TwnhsE     233\n",
       "Duplex     109\n",
       "Twnhs      101\n",
       "2fmCon      62\n",
       "Name: Bldg.Type, dtype: int64"
      ]
     },
     "execution_count": 6,
     "metadata": {},
     "output_type": "execute_result"
    }
   ],
   "source": [
    "pd.value_counts(ames_cl['Bldg.Type'])"
   ]
  },
  {
   "cell_type": "code",
   "execution_count": 7,
   "metadata": {},
   "outputs": [],
   "source": [
    "obs_count = ames_cl.shape[0]"
   ]
  },
  {
   "cell_type": "markdown",
   "metadata": {},
   "source": [
    "## Question 1: What are the marginal probabilities of Townhouse and Single Family houses, respectively?\n",
    "Note that TwnhsE (Townhouse End Unit) and Twnhs (Townhouse Internal Unit) have to be combined to answer this question. Do not enter any numbers in the notebook: everything must be extracted from the data itself.\n",
    "\n",
    "Steps\n",
    "- [TODO] calculate value counts\n",
    "- [TODO] divide the 1Fam and (TwnhsE + Twnhs) values by the total number of observations (can get from shape)\n",
    "- [TODO] print formatted answer\n",
    "\n",
    "Hint:\n",
    "- P(Townhouse) should be around 0.11"
   ]
  },
  {
   "cell_type": "code",
   "execution_count": 8,
   "metadata": {},
   "outputs": [],
   "source": [
    "bldg_types = pd.value_counts(ames_cl['Bldg.Type'])"
   ]
  },
  {
   "cell_type": "code",
   "execution_count": 9,
   "metadata": {},
   "outputs": [],
   "source": [
    "townhouse = bldg_types['TwnhsE'] + bldg_types['Twnhs']\n",
    "single_family = bldg_types['1Fam']\n",
    "duplex = bldg_types['Duplex']"
   ]
  },
  {
   "cell_type": "code",
   "execution_count": 10,
   "metadata": {},
   "outputs": [],
   "source": [
    "Twh = townhouse / obs_count\n",
    "sif = single_family / obs_count\n",
    "dux = duplex / obs_count"
   ]
  },
  {
   "cell_type": "markdown",
   "metadata": {},
   "source": [
    "[TODO] Print answers (two digital of precision): \n",
    "\n",
    "Use this syntax `print(f\"P(Single Family) = {var:.2f}`, where `var` is the variable with the computed probability you're trying to display.\n"
   ]
  },
  {
   "cell_type": "code",
   "execution_count": 11,
   "metadata": {},
   "outputs": [
    {
     "name": "stdout",
     "output_type": "stream",
     "text": [
      "P(Townhouse) = 0.11\n"
     ]
    }
   ],
   "source": [
    "print(f\"P(Townhouse) = {Twh:.2f}\") "
   ]
  },
  {
   "cell_type": "code",
   "execution_count": 12,
   "metadata": {},
   "outputs": [
    {
     "name": "stdout",
     "output_type": "stream",
     "text": [
      "P(Single Family) = 0.83\n"
     ]
    }
   ],
   "source": [
    "print(f\"P(Single Family) = {sif:.2f}\")"
   ]
  },
  {
   "cell_type": "markdown",
   "metadata": {},
   "source": [
    "## Question 2: What is the relationship between housing type and central air conditioning?\n",
    "\n",
    "Steps:\n",
    "- [TODO] Compute the `value_counts` for the `Central.Air` column.\n",
    "- [TODO] Compute a `crosstab` with `Bldg.Type` as the `index` and `Central.Air` as the `columns`\n",
    "- [TODO] Compute conditional probabilities P(AC | Single Family) and P(AC | Townhouse) \n",
    "- [TODO] Compute conditional probabilities P(Single Family | No AC) and P(Townhouse | No AC)\n",
    "- [TODO] Compute joint probabilities P(Single Family, AC) and P(Duplex, AC)"
   ]
  },
  {
   "cell_type": "code",
   "execution_count": 13,
   "metadata": {},
   "outputs": [
    {
     "data": {
      "text/plain": [
       "Y    2729\n",
       "N     196\n",
       "Name: Central.Air, dtype: int64"
      ]
     },
     "execution_count": 13,
     "metadata": {},
     "output_type": "execute_result"
    }
   ],
   "source": [
    "pd.value_counts(ames_cl['Central.Air'])"
   ]
  },
  {
   "cell_type": "code",
   "execution_count": 14,
   "metadata": {},
   "outputs": [
    {
     "data": {
      "text/html": [
       "<div>\n",
       "<style scoped>\n",
       "    .dataframe tbody tr th:only-of-type {\n",
       "        vertical-align: middle;\n",
       "    }\n",
       "\n",
       "    .dataframe tbody tr th {\n",
       "        vertical-align: top;\n",
       "    }\n",
       "\n",
       "    .dataframe thead th {\n",
       "        text-align: right;\n",
       "    }\n",
       "</style>\n",
       "<table border=\"1\" class=\"dataframe\">\n",
       "  <thead>\n",
       "    <tr style=\"text-align: right;\">\n",
       "      <th>Central.Air</th>\n",
       "      <th>N</th>\n",
       "      <th>Y</th>\n",
       "    </tr>\n",
       "    <tr>\n",
       "      <th>Bldg.Type</th>\n",
       "      <th></th>\n",
       "      <th></th>\n",
       "    </tr>\n",
       "  </thead>\n",
       "  <tbody>\n",
       "    <tr>\n",
       "      <th>1Fam</th>\n",
       "      <td>143</td>\n",
       "      <td>2277</td>\n",
       "    </tr>\n",
       "    <tr>\n",
       "      <th>2fmCon</th>\n",
       "      <td>28</td>\n",
       "      <td>34</td>\n",
       "    </tr>\n",
       "    <tr>\n",
       "      <th>Duplex</th>\n",
       "      <td>25</td>\n",
       "      <td>84</td>\n",
       "    </tr>\n",
       "    <tr>\n",
       "      <th>Twnhs</th>\n",
       "      <td>0</td>\n",
       "      <td>101</td>\n",
       "    </tr>\n",
       "    <tr>\n",
       "      <th>TwnhsE</th>\n",
       "      <td>0</td>\n",
       "      <td>233</td>\n",
       "    </tr>\n",
       "  </tbody>\n",
       "</table>\n",
       "</div>"
      ],
      "text/plain": [
       "Central.Air    N     Y\n",
       "Bldg.Type             \n",
       "1Fam         143  2277\n",
       "2fmCon        28    34\n",
       "Duplex        25    84\n",
       "Twnhs          0   101\n",
       "TwnhsE         0   233"
      ]
     },
     "execution_count": 14,
     "metadata": {},
     "output_type": "execute_result"
    }
   ],
   "source": [
    "type_air_tbl = pd.crosstab(ames_cl['Bldg.Type'], ames_cl['Central.Air'])\n",
    "type_air_tbl"
   ]
  },
  {
   "cell_type": "markdown",
   "metadata": {},
   "source": [
    "### Conditional probabilities \n",
    "\n",
    "- [TODO] P(AC | Single Family)\n",
    "- [TODO] P(AC | Townhouse)"
   ]
  },
  {
   "cell_type": "code",
   "execution_count": 15,
   "metadata": {},
   "outputs": [],
   "source": [
    "ac_single = type_air_tbl['Y'].loc['1Fam'] / single_family"
   ]
  },
  {
   "cell_type": "code",
   "execution_count": 16,
   "metadata": {},
   "outputs": [],
   "source": [
    "ac_twh = (type_air_tbl['Y'].loc['Twnhs'] + type_air_tbl['Y'].loc['TwnhsE']) / townhouse"
   ]
  },
  {
   "cell_type": "markdown",
   "metadata": {},
   "source": [
    "[TODO] Print answers (two digits precision):"
   ]
  },
  {
   "cell_type": "code",
   "execution_count": 17,
   "metadata": {},
   "outputs": [
    {
     "name": "stdout",
     "output_type": "stream",
     "text": [
      "P(AC | Single Family) = 0.94\n"
     ]
    }
   ],
   "source": [
    "print(f\"P(AC | Single Family) = {ac_single:.2f}\")"
   ]
  },
  {
   "cell_type": "code",
   "execution_count": 18,
   "metadata": {},
   "outputs": [
    {
     "name": "stdout",
     "output_type": "stream",
     "text": [
      "P(AC | Townhouse) = 1.00\n"
     ]
    }
   ],
   "source": [
    "print(f\"P(AC | Townhouse) = {ac_twh:.2f}\")"
   ]
  },
  {
   "cell_type": "markdown",
   "metadata": {},
   "source": [
    "Compute\n",
    "\n",
    "- [TODO] P(Single Family | No AC)\n",
    "- [TODO] P(Duplex | No AC)"
   ]
  },
  {
   "cell_type": "code",
   "execution_count": 19,
   "metadata": {},
   "outputs": [],
   "source": [
    "noac_single = type_air_tbl['N'].loc['1Fam'] / type_air_tbl['N'].sum()"
   ]
  },
  {
   "cell_type": "code",
   "execution_count": 20,
   "metadata": {},
   "outputs": [],
   "source": [
    "noac_duplex = type_air_tbl['N'].loc['Duplex'] / type_air_tbl['N'].sum()"
   ]
  },
  {
   "cell_type": "code",
   "execution_count": 21,
   "metadata": {},
   "outputs": [
    {
     "name": "stdout",
     "output_type": "stream",
     "text": [
      "P(Single Family | No AC) = 0.73\n"
     ]
    }
   ],
   "source": [
    "print(f\"P(Single Family | No AC) = {noac_single:.2f}\")"
   ]
  },
  {
   "cell_type": "markdown",
   "metadata": {},
   "source": [
    "[TODO] Print answers (two digits precision):"
   ]
  },
  {
   "cell_type": "code",
   "execution_count": 22,
   "metadata": {},
   "outputs": [
    {
     "name": "stdout",
     "output_type": "stream",
     "text": [
      "P(Duplex | No AC) = 0.13\n"
     ]
    }
   ],
   "source": [
    "print(f\"P(Duplex | No AC) = {noac_duplex:.2f}\")"
   ]
  },
  {
   "cell_type": "markdown",
   "metadata": {},
   "source": [
    "Compute joint probabilities \n",
    "\n",
    "- [TODO] P(Single Family, AC)\n",
    "- [TODO] P(Duplex, No AC)"
   ]
  },
  {
   "cell_type": "code",
   "execution_count": 23,
   "metadata": {},
   "outputs": [],
   "source": [
    "ac = type_air_tbl['Y'].sum() / (type_air_tbl['N'].sum() + type_air_tbl['Y'].sum())\n",
    "noac = 1 - ac\n",
    "single_ac = sif * ac\n",
    "duplex_noac = dux * noac"
   ]
  },
  {
   "cell_type": "markdown",
   "metadata": {},
   "source": [
    "[TODO] Print answer (two digits precision):\n",
    "\n",
    "Note: to get two digits precision displayed for P(Duplex, No AC), you will need 4 digits past the decimal: `:.4f`"
   ]
  },
  {
   "cell_type": "code",
   "execution_count": 24,
   "metadata": {},
   "outputs": [
    {
     "name": "stdout",
     "output_type": "stream",
     "text": [
      "P(Single Family, AC) = 0.77\n",
      "P(Duplex, No AC) = 0.0025\n"
     ]
    }
   ],
   "source": [
    "print(f\"P(Single Family, AC) = {single_ac:.2f}\")\n",
    "print(f\"P(Duplex, No AC) = {duplex_noac:.4f}\")"
   ]
  },
  {
   "cell_type": "markdown",
   "metadata": {},
   "source": [
    "## Question 3: Understanding probability variants\n",
    "From the complementarity rule, we know that, because P(AC | Single Family) is quite high (> .90), P(No AC | Single Family) must be small (less than 0.1). If that is the case, why is P(Single Family | No AC) also pretty high (> 0.70)?\n",
    "\n",
    "Also, given that P(Duplex | No AC) is around 0.13, why is P(Duplex, No AC) so much smaller (approx. factor of 20)?\n"
   ]
  },
  {
   "cell_type": "markdown",
   "metadata": {},
   "source": [
    "[TODO] Answer here:\n",
    "\n",
    "_1. P(Single Family | No AC) is pretty high because in this case, the result of P(No AC|Single Family) has nothing to do with P(Single Family | No AC). Among all building types, no matter there are ACs or not, Single Family has the biggest proportion, and thus the probability of a single family without AC is pretty high when compared with other buiding types._\n",
    "\n",
    "_2. In the case of P(Duplex|No AC), we are calculating the P(Duplex) only under the condition of No AC, however for P(Duplex, No AC), P(Duplex) and P(No AC) are two independent events, where their respective probability will not influence each other. In the formula P(A|B) = P(A,B)/P(B), the smaller the denominator, the bigger the value of the fraction, beacuse P(No AC) is fairly small, thus P(Duplex|No AC) is bigger than P(Duplex,No Ac)._  "
   ]
  },
  {
   "cell_type": "markdown",
   "metadata": {},
   "source": [
    "## Question 4: Price ranges for different kinds of houses\n",
    "In this question, we are going to produce some statistical visualizations of housing prices for different housing types. Later on, we will learn more sophisticated Pandas methods for getting the same results. This week, we are going to be using basic Python data types."
   ]
  },
  {
   "cell_type": "markdown",
   "metadata": {},
   "source": [
    "Steps:\n",
    "\n",
    "- [TODO] Create new smaller data frames for 1fam, townhouse, and duplex properties, containing only the sale price, square footage, and age at time of sale. (We are skipping 2 family conversion properties because there are so many fewer.) I have done the first one, for single-family homes. \n",
    "- [TODO] Create a new column price per square foot\n",
    "- [TODO] Calculate the average home price and avg. price per square foot for each"
   ]
  },
  {
   "cell_type": "code",
   "execution_count": 25,
   "metadata": {},
   "outputs": [
    {
     "data": {
      "text/html": [
       "<div>\n",
       "<style scoped>\n",
       "    .dataframe tbody tr th:only-of-type {\n",
       "        vertical-align: middle;\n",
       "    }\n",
       "\n",
       "    .dataframe tbody tr th {\n",
       "        vertical-align: top;\n",
       "    }\n",
       "\n",
       "    .dataframe thead th {\n",
       "        text-align: right;\n",
       "    }\n",
       "</style>\n",
       "<table border=\"1\" class=\"dataframe\">\n",
       "  <thead>\n",
       "    <tr style=\"text-align: right;\">\n",
       "      <th></th>\n",
       "      <th>Order</th>\n",
       "      <th>PID</th>\n",
       "      <th>MS.SubClass</th>\n",
       "      <th>MS.Zoning</th>\n",
       "      <th>Lot.Frontage</th>\n",
       "      <th>Lot.Area</th>\n",
       "      <th>Street</th>\n",
       "      <th>Alley</th>\n",
       "      <th>Lot.Shape</th>\n",
       "      <th>Land.Contour</th>\n",
       "      <th>...</th>\n",
       "      <th>Pool.Area</th>\n",
       "      <th>Pool.QC</th>\n",
       "      <th>Fence</th>\n",
       "      <th>Misc.Feature</th>\n",
       "      <th>Misc.Val</th>\n",
       "      <th>Mo.Sold</th>\n",
       "      <th>Yr.Sold</th>\n",
       "      <th>Sale.Type</th>\n",
       "      <th>Sale.Condition</th>\n",
       "      <th>SalePrice</th>\n",
       "    </tr>\n",
       "  </thead>\n",
       "  <tbody>\n",
       "    <tr>\n",
       "      <th>0</th>\n",
       "      <td>1</td>\n",
       "      <td>526301100</td>\n",
       "      <td>20</td>\n",
       "      <td>RL</td>\n",
       "      <td>141.0</td>\n",
       "      <td>31770</td>\n",
       "      <td>Pave</td>\n",
       "      <td>NaN</td>\n",
       "      <td>IR1</td>\n",
       "      <td>Lvl</td>\n",
       "      <td>...</td>\n",
       "      <td>0</td>\n",
       "      <td>NaN</td>\n",
       "      <td>NaN</td>\n",
       "      <td>NaN</td>\n",
       "      <td>0</td>\n",
       "      <td>5</td>\n",
       "      <td>2010</td>\n",
       "      <td>WD</td>\n",
       "      <td>Normal</td>\n",
       "      <td>215000</td>\n",
       "    </tr>\n",
       "    <tr>\n",
       "      <th>1</th>\n",
       "      <td>2</td>\n",
       "      <td>526350040</td>\n",
       "      <td>20</td>\n",
       "      <td>RH</td>\n",
       "      <td>80.0</td>\n",
       "      <td>11622</td>\n",
       "      <td>Pave</td>\n",
       "      <td>NaN</td>\n",
       "      <td>Reg</td>\n",
       "      <td>Lvl</td>\n",
       "      <td>...</td>\n",
       "      <td>0</td>\n",
       "      <td>NaN</td>\n",
       "      <td>MnPrv</td>\n",
       "      <td>NaN</td>\n",
       "      <td>0</td>\n",
       "      <td>6</td>\n",
       "      <td>2010</td>\n",
       "      <td>WD</td>\n",
       "      <td>Normal</td>\n",
       "      <td>105000</td>\n",
       "    </tr>\n",
       "    <tr>\n",
       "      <th>2</th>\n",
       "      <td>3</td>\n",
       "      <td>526351010</td>\n",
       "      <td>20</td>\n",
       "      <td>RL</td>\n",
       "      <td>81.0</td>\n",
       "      <td>14267</td>\n",
       "      <td>Pave</td>\n",
       "      <td>NaN</td>\n",
       "      <td>IR1</td>\n",
       "      <td>Lvl</td>\n",
       "      <td>...</td>\n",
       "      <td>0</td>\n",
       "      <td>NaN</td>\n",
       "      <td>NaN</td>\n",
       "      <td>Gar2</td>\n",
       "      <td>12500</td>\n",
       "      <td>6</td>\n",
       "      <td>2010</td>\n",
       "      <td>WD</td>\n",
       "      <td>Normal</td>\n",
       "      <td>172000</td>\n",
       "    </tr>\n",
       "    <tr>\n",
       "      <th>3</th>\n",
       "      <td>4</td>\n",
       "      <td>526353030</td>\n",
       "      <td>20</td>\n",
       "      <td>RL</td>\n",
       "      <td>93.0</td>\n",
       "      <td>11160</td>\n",
       "      <td>Pave</td>\n",
       "      <td>NaN</td>\n",
       "      <td>Reg</td>\n",
       "      <td>Lvl</td>\n",
       "      <td>...</td>\n",
       "      <td>0</td>\n",
       "      <td>NaN</td>\n",
       "      <td>NaN</td>\n",
       "      <td>NaN</td>\n",
       "      <td>0</td>\n",
       "      <td>4</td>\n",
       "      <td>2010</td>\n",
       "      <td>WD</td>\n",
       "      <td>Normal</td>\n",
       "      <td>244000</td>\n",
       "    </tr>\n",
       "    <tr>\n",
       "      <th>4</th>\n",
       "      <td>5</td>\n",
       "      <td>527105010</td>\n",
       "      <td>60</td>\n",
       "      <td>RL</td>\n",
       "      <td>74.0</td>\n",
       "      <td>13830</td>\n",
       "      <td>Pave</td>\n",
       "      <td>NaN</td>\n",
       "      <td>IR1</td>\n",
       "      <td>Lvl</td>\n",
       "      <td>...</td>\n",
       "      <td>0</td>\n",
       "      <td>NaN</td>\n",
       "      <td>MnPrv</td>\n",
       "      <td>NaN</td>\n",
       "      <td>0</td>\n",
       "      <td>3</td>\n",
       "      <td>2010</td>\n",
       "      <td>WD</td>\n",
       "      <td>Normal</td>\n",
       "      <td>189900</td>\n",
       "    </tr>\n",
       "  </tbody>\n",
       "</table>\n",
       "<p>5 rows × 82 columns</p>\n",
       "</div>"
      ],
      "text/plain": [
       "   Order        PID  MS.SubClass MS.Zoning  Lot.Frontage  Lot.Area Street  \\\n",
       "0      1  526301100           20        RL         141.0     31770   Pave   \n",
       "1      2  526350040           20        RH          80.0     11622   Pave   \n",
       "2      3  526351010           20        RL          81.0     14267   Pave   \n",
       "3      4  526353030           20        RL          93.0     11160   Pave   \n",
       "4      5  527105010           60        RL          74.0     13830   Pave   \n",
       "\n",
       "  Alley Lot.Shape Land.Contour  ... Pool.Area Pool.QC  Fence Misc.Feature  \\\n",
       "0   NaN       IR1          Lvl  ...         0     NaN    NaN          NaN   \n",
       "1   NaN       Reg          Lvl  ...         0     NaN  MnPrv          NaN   \n",
       "2   NaN       IR1          Lvl  ...         0     NaN    NaN         Gar2   \n",
       "3   NaN       Reg          Lvl  ...         0     NaN    NaN          NaN   \n",
       "4   NaN       IR1          Lvl  ...         0     NaN  MnPrv          NaN   \n",
       "\n",
       "  Misc.Val Mo.Sold Yr.Sold Sale.Type  Sale.Condition  SalePrice  \n",
       "0        0       5    2010       WD           Normal     215000  \n",
       "1        0       6    2010       WD           Normal     105000  \n",
       "2    12500       6    2010       WD           Normal     172000  \n",
       "3        0       4    2010       WD           Normal     244000  \n",
       "4        0       3    2010       WD           Normal     189900  \n",
       "\n",
       "[5 rows x 82 columns]"
      ]
     },
     "execution_count": 25,
     "metadata": {},
     "output_type": "execute_result"
    }
   ],
   "source": [
    "ames_cl.head()"
   ]
  },
  {
   "cell_type": "code",
   "execution_count": 32,
   "metadata": {},
   "outputs": [
    {
     "data": {
      "text/plain": [
       "0    1Fam\n",
       "1    1Fam\n",
       "2    1Fam\n",
       "3    1Fam\n",
       "4    1Fam\n",
       "Name: Bldg.Type, dtype: object"
      ]
     },
     "execution_count": 32,
     "metadata": {},
     "output_type": "execute_result"
    }
   ],
   "source": [
    "ames_cl['Bldg.Type'].head()"
   ]
  },
  {
   "cell_type": "markdown",
   "metadata": {},
   "source": [
    "### Single Family"
   ]
  },
  {
   "cell_type": "code",
   "execution_count": 27,
   "metadata": {},
   "outputs": [
    {
     "data": {
      "text/html": [
       "<div>\n",
       "<style scoped>\n",
       "    .dataframe tbody tr th:only-of-type {\n",
       "        vertical-align: middle;\n",
       "    }\n",
       "\n",
       "    .dataframe tbody tr th {\n",
       "        vertical-align: top;\n",
       "    }\n",
       "\n",
       "    .dataframe thead th {\n",
       "        text-align: right;\n",
       "    }\n",
       "</style>\n",
       "<table border=\"1\" class=\"dataframe\">\n",
       "  <thead>\n",
       "    <tr style=\"text-align: right;\">\n",
       "      <th></th>\n",
       "      <th>Price</th>\n",
       "      <th>Size</th>\n",
       "      <th>NormPrice</th>\n",
       "      <th>Age</th>\n",
       "    </tr>\n",
       "  </thead>\n",
       "  <tbody>\n",
       "    <tr>\n",
       "      <th>0</th>\n",
       "      <td>215000</td>\n",
       "      <td>1656</td>\n",
       "      <td>129.830918</td>\n",
       "      <td>50</td>\n",
       "    </tr>\n",
       "    <tr>\n",
       "      <th>1</th>\n",
       "      <td>105000</td>\n",
       "      <td>896</td>\n",
       "      <td>117.187500</td>\n",
       "      <td>49</td>\n",
       "    </tr>\n",
       "    <tr>\n",
       "      <th>2</th>\n",
       "      <td>172000</td>\n",
       "      <td>1329</td>\n",
       "      <td>129.420617</td>\n",
       "      <td>52</td>\n",
       "    </tr>\n",
       "    <tr>\n",
       "      <th>3</th>\n",
       "      <td>244000</td>\n",
       "      <td>2110</td>\n",
       "      <td>115.639810</td>\n",
       "      <td>42</td>\n",
       "    </tr>\n",
       "    <tr>\n",
       "      <th>4</th>\n",
       "      <td>189900</td>\n",
       "      <td>1629</td>\n",
       "      <td>116.574586</td>\n",
       "      <td>13</td>\n",
       "    </tr>\n",
       "  </tbody>\n",
       "</table>\n",
       "</div>"
      ],
      "text/plain": [
       "    Price  Size   NormPrice  Age\n",
       "0  215000  1656  129.830918   50\n",
       "1  105000   896  117.187500   49\n",
       "2  172000  1329  129.420617   52\n",
       "3  244000  2110  115.639810   42\n",
       "4  189900  1629  116.574586   13"
      ]
     },
     "execution_count": 27,
     "metadata": {},
     "output_type": "execute_result"
    }
   ],
   "source": [
    "h1fam = ames_cl[ames_cl['Bldg.Type']=='1Fam']\n",
    "h1fam_price = h1fam['SalePrice']\n",
    "h1fam_sqft = h1fam['Gr.Liv.Area']\n",
    "h1fam_age = h1fam['Yr.Sold'] - h1fam['Year.Built'] \n",
    "h1fam_ppsq = h1fam_price / h1fam_sqft\n",
    "\n",
    "df_dict = {'Price': h1fam_price, 'Size': h1fam_sqft, 'NormPrice': h1fam_ppsq, 'Age': h1fam_age}\n",
    "h1fam_df = pd.DataFrame(df_dict)\n",
    "h1fam_df.head()"
   ]
  },
  {
   "cell_type": "markdown",
   "metadata": {},
   "source": [
    "### [TODO] Townhouse"
   ]
  },
  {
   "cell_type": "code",
   "execution_count": 28,
   "metadata": {},
   "outputs": [
    {
     "data": {
      "text/html": [
       "<div>\n",
       "<style scoped>\n",
       "    .dataframe tbody tr th:only-of-type {\n",
       "        vertical-align: middle;\n",
       "    }\n",
       "\n",
       "    .dataframe tbody tr th {\n",
       "        vertical-align: top;\n",
       "    }\n",
       "\n",
       "    .dataframe thead th {\n",
       "        text-align: right;\n",
       "    }\n",
       "</style>\n",
       "<table border=\"1\" class=\"dataframe\">\n",
       "  <thead>\n",
       "    <tr style=\"text-align: right;\">\n",
       "      <th></th>\n",
       "      <th>Price</th>\n",
       "      <th>Size</th>\n",
       "      <th>NormPrice</th>\n",
       "      <th>Age</th>\n",
       "    </tr>\n",
       "  </thead>\n",
       "  <tbody>\n",
       "    <tr>\n",
       "      <th>6</th>\n",
       "      <td>213500</td>\n",
       "      <td>1338</td>\n",
       "      <td>159.566517</td>\n",
       "      <td>9</td>\n",
       "    </tr>\n",
       "    <tr>\n",
       "      <th>7</th>\n",
       "      <td>191500</td>\n",
       "      <td>1280</td>\n",
       "      <td>149.609375</td>\n",
       "      <td>18</td>\n",
       "    </tr>\n",
       "    <tr>\n",
       "      <th>8</th>\n",
       "      <td>236500</td>\n",
       "      <td>1616</td>\n",
       "      <td>146.349010</td>\n",
       "      <td>15</td>\n",
       "    </tr>\n",
       "    <tr>\n",
       "      <th>14</th>\n",
       "      <td>212000</td>\n",
       "      <td>1502</td>\n",
       "      <td>141.145140</td>\n",
       "      <td>25</td>\n",
       "    </tr>\n",
       "    <tr>\n",
       "      <th>28</th>\n",
       "      <td>184000</td>\n",
       "      <td>1337</td>\n",
       "      <td>137.621541</td>\n",
       "      <td>11</td>\n",
       "    </tr>\n",
       "  </tbody>\n",
       "</table>\n",
       "</div>"
      ],
      "text/plain": [
       "     Price  Size   NormPrice  Age\n",
       "6   213500  1338  159.566517    9\n",
       "7   191500  1280  149.609375   18\n",
       "8   236500  1616  146.349010   15\n",
       "14  212000  1502  141.145140   25\n",
       "28  184000  1337  137.621541   11"
      ]
     },
     "execution_count": 28,
     "metadata": {},
     "output_type": "execute_result"
    }
   ],
   "source": [
    "htwh_1 = ames_cl[ames_cl['Bldg.Type']=='TwnhsE']\n",
    "htwh_2 = ames_cl[ames_cl['Bldg.Type'] == 'Twnhs']\n",
    "htwh = pd.concat([htwh_1, htwh_2])\n",
    "htwh_price = htwh['SalePrice']\n",
    "htwh_sqft = htwh['Gr.Liv.Area']\n",
    "htwh_age = htwh['Yr.Sold'] - htwh['Year.Built'] \n",
    "htwh_ppsq = htwh_price / htwh_sqft\n",
    "\n",
    "df_dict_twh = {'Price': htwh_price, 'Size': htwh_sqft, 'NormPrice':  htwh_ppsq, 'Age': htwh_age}\n",
    "htwh_df = pd.DataFrame(df_dict_twh)\n",
    "htwh_df.head()"
   ]
  },
  {
   "cell_type": "markdown",
   "metadata": {},
   "source": [
    "### [TODO] Duplex"
   ]
  },
  {
   "cell_type": "code",
   "execution_count": 29,
   "metadata": {},
   "outputs": [
    {
     "data": {
      "text/html": [
       "<div>\n",
       "<style scoped>\n",
       "    .dataframe tbody tr th:only-of-type {\n",
       "        vertical-align: middle;\n",
       "    }\n",
       "\n",
       "    .dataframe tbody tr th {\n",
       "        vertical-align: top;\n",
       "    }\n",
       "\n",
       "    .dataframe thead th {\n",
       "        text-align: right;\n",
       "    }\n",
       "</style>\n",
       "<table border=\"1\" class=\"dataframe\">\n",
       "  <thead>\n",
       "    <tr style=\"text-align: right;\">\n",
       "      <th></th>\n",
       "      <th>Price</th>\n",
       "      <th>Size</th>\n",
       "      <th>NormPrice</th>\n",
       "      <th>Age</th>\n",
       "    </tr>\n",
       "  </thead>\n",
       "  <tbody>\n",
       "    <tr>\n",
       "      <th>83</th>\n",
       "      <td>112000</td>\n",
       "      <td>1902</td>\n",
       "      <td>58.885384</td>\n",
       "      <td>32</td>\n",
       "    </tr>\n",
       "    <tr>\n",
       "      <th>125</th>\n",
       "      <td>84900</td>\n",
       "      <td>1728</td>\n",
       "      <td>49.131944</td>\n",
       "      <td>48</td>\n",
       "    </tr>\n",
       "    <tr>\n",
       "      <th>135</th>\n",
       "      <td>154300</td>\n",
       "      <td>2274</td>\n",
       "      <td>67.854002</td>\n",
       "      <td>50</td>\n",
       "    </tr>\n",
       "    <tr>\n",
       "      <th>138</th>\n",
       "      <td>135000</td>\n",
       "      <td>1604</td>\n",
       "      <td>84.164589</td>\n",
       "      <td>52</td>\n",
       "    </tr>\n",
       "    <tr>\n",
       "      <th>158</th>\n",
       "      <td>144000</td>\n",
       "      <td>1056</td>\n",
       "      <td>136.363636</td>\n",
       "      <td>30</td>\n",
       "    </tr>\n",
       "  </tbody>\n",
       "</table>\n",
       "</div>"
      ],
      "text/plain": [
       "      Price  Size   NormPrice  Age\n",
       "83   112000  1902   58.885384   32\n",
       "125   84900  1728   49.131944   48\n",
       "135  154300  2274   67.854002   50\n",
       "138  135000  1604   84.164589   52\n",
       "158  144000  1056  136.363636   30"
      ]
     },
     "execution_count": 29,
     "metadata": {},
     "output_type": "execute_result"
    }
   ],
   "source": [
    "hdpx = ames_cl[ames_cl['Bldg.Type']=='Duplex']\n",
    "hdpx_price = hdpx['SalePrice']\n",
    "hdpx_sqft = hdpx['Gr.Liv.Area']\n",
    "hdpx_age = hdpx['Yr.Sold'] - hdpx['Year.Built'] \n",
    "hdpx_ppsq = hdpx_price / hdpx_sqft\n",
    "\n",
    "df_dict_dpx = {'Price': hdpx_price, 'Size': hdpx_sqft, 'NormPrice':  hdpx_ppsq, 'Age': hdpx_age}\n",
    "hdpx_df = pd.DataFrame(df_dict_dpx)\n",
    "hdpx_df.head()"
   ]
  },
  {
   "cell_type": "markdown",
   "metadata": {},
   "source": [
    "### Boxplot of prices\n",
    "Boxplot only works with lists (not `DataFrame` or `Series` types), so we have to convert any values that we want to display into lists. \n",
    "\n",
    "In this case, we want a data structure that looks like this:\n",
    "\n",
    "```\n",
    "[ [list of single-family prices], [list of townhouse prices], [list of duplex prices] ]\n",
    "```\n",
    "\n",
    "Steps:\n",
    "- [TODO] Convert the prices to lists\n",
    "- [TODO] Create a list of these lists\n",
    "- [TODO] Create a list of x axis labels for the three types\n",
    "- [TODO] Plot the boxplot `plt.boxplot(list of lists, labels=labels)`\n"
   ]
  },
  {
   "cell_type": "code",
   "execution_count": 37,
   "metadata": {},
   "outputs": [
    {
     "data": {
      "text/plain": [
       "{'whiskers': [<matplotlib.lines.Line2D at 0x11d5dea20>,\n",
       "  <matplotlib.lines.Line2D at 0x11d5dedd8>,\n",
       "  <matplotlib.lines.Line2D at 0x11d5eaf60>,\n",
       "  <matplotlib.lines.Line2D at 0x11d5f2550>,\n",
       "  <matplotlib.lines.Line2D at 0x11d549940>,\n",
       "  <matplotlib.lines.Line2D at 0x11d549c88>],\n",
       " 'caps': [<matplotlib.lines.Line2D at 0x11d5deeb8>,\n",
       "  <matplotlib.lines.Line2D at 0x11d5ea4a8>,\n",
       "  <matplotlib.lines.Line2D at 0x11d5f2898>,\n",
       "  <matplotlib.lines.Line2D at 0x11d5f2be0>,\n",
       "  <matplotlib.lines.Line2D at 0x11d549fd0>,\n",
       "  <matplotlib.lines.Line2D at 0x11d549f60>],\n",
       " 'boxes': [<matplotlib.lines.Line2D at 0x11d5de668>,\n",
       "  <matplotlib.lines.Line2D at 0x11d5eae80>,\n",
       "  <matplotlib.lines.Line2D at 0x11d5495f8>],\n",
       " 'medians': [<matplotlib.lines.Line2D at 0x11d5ea7f0>,\n",
       "  <matplotlib.lines.Line2D at 0x11d5f2f28>,\n",
       "  <matplotlib.lines.Line2D at 0x11d5566a0>],\n",
       " 'fliers': [<matplotlib.lines.Line2D at 0x11d5eab38>,\n",
       "  <matplotlib.lines.Line2D at 0x11d5f2eb8>,\n",
       "  <matplotlib.lines.Line2D at 0x11d5569e8>],\n",
       " 'means': []}"
      ]
     },
     "execution_count": 37,
     "metadata": {},
     "output_type": "execute_result"
    },
    {
     "data": {
      "image/png": "[encoded data removed]",
      "text/plain": [
       "<Figure size 432x288 with 1 Axes>"
      ]
     },
     "metadata": {
      "needs_background": "light"
     },
     "output_type": "display_data"
    }
   ],
   "source": [
    "h1fam_price_list = h1fam['SalePrice'].tolist()\n",
    "htwh_price_list = htwh['SalePrice'].tolist()\n",
    "hdpx_price_list = hdpx['SalePrice'].tolist()\n",
    "price_lists = [h1fam_price_list, htwh_price_list, hdpx_price_list]\n",
    "price_labels = ['Single Family', 'Townhouse', 'Duplex']\n",
    "plt.boxplot(price_lists, labels=price_labels)"
   ]
  },
  {
   "cell_type": "markdown",
   "metadata": {},
   "source": [
    "### Boxplot of normalized prices\n",
    "[TODO] Do the same as above, but for the normalized price (price per square foot) column"
   ]
  },
  {
   "cell_type": "code",
   "execution_count": 38,
   "metadata": {},
   "outputs": [
    {
     "data": {
      "text/plain": [
       "{'whiskers': [<matplotlib.lines.Line2D at 0x11d659f98>,\n",
       "  <matplotlib.lines.Line2D at 0x11d6675f8>,\n",
       "  <matplotlib.lines.Line2D at 0x11d6709e8>,\n",
       "  <matplotlib.lines.Line2D at 0x11d670d30>,\n",
       "  <matplotlib.lines.Line2D at 0x11d680eb8>,\n",
       "  <matplotlib.lines.Line2D at 0x11d6894a8>],\n",
       " 'caps': [<matplotlib.lines.Line2D at 0x11d667940>,\n",
       "  <matplotlib.lines.Line2D at 0x11d667c88>,\n",
       "  <matplotlib.lines.Line2D at 0x11d670e10>,\n",
       "  <matplotlib.lines.Line2D at 0x11d680400>,\n",
       "  <matplotlib.lines.Line2D at 0x11d6897f0>,\n",
       "  <matplotlib.lines.Line2D at 0x11d689b38>],\n",
       " 'boxes': [<matplotlib.lines.Line2D at 0x11d659e48>,\n",
       "  <matplotlib.lines.Line2D at 0x11d6706a0>,\n",
       "  <matplotlib.lines.Line2D at 0x11d680dd8>],\n",
       " 'medians': [<matplotlib.lines.Line2D at 0x11d667fd0>,\n",
       "  <matplotlib.lines.Line2D at 0x11d680748>,\n",
       "  <matplotlib.lines.Line2D at 0x11d689e80>],\n",
       " 'fliers': [<matplotlib.lines.Line2D at 0x11d667f60>,\n",
       "  <matplotlib.lines.Line2D at 0x11d680a90>,\n",
       "  <matplotlib.lines.Line2D at 0x11d689f60>],\n",
       " 'means': []}"
      ]
     },
     "execution_count": 38,
     "metadata": {},
     "output_type": "execute_result"
    },
    {
     "data": {
      "image/png": "[encoded data removed]",
      "text/plain": [
       "<Figure size 432x288 with 1 Axes>"
      ]
     },
     "metadata": {
      "needs_background": "light"
     },
     "output_type": "display_data"
    }
   ],
   "source": [
    "h1fam_ppsq_list = h1fam_ppsq.tolist()\n",
    "htwh_ppsq_list = htwh_ppsq.tolist()\n",
    "hdpx_ppsq_list = hdpx_ppsq.tolist()\n",
    "ppsq_lists = [h1fam_ppsq_list, htwh_ppsq_list, hdpx_ppsq_list]\n",
    "price_labels = ['Single Family', 'Townhouse', 'Duplex']\n",
    "plt.boxplot(ppsq_lists, labels=price_labels)"
   ]
  },
  {
   "cell_type": "markdown",
   "metadata": {},
   "source": [
    "### Analysis\n",
    "In the Price boxplot, the median (orange line) looks about the same between Single Family and Townhouse, but in the normalized plot, the median for Townhouse is higher. Why is this be the case?"
   ]
  },
  {
   "cell_type": "markdown",
   "metadata": {},
   "source": [
    "[TODO] Answer here: \n",
    "_When we compare prices in the Price boxplot, we're comparing among all the sale prices without considering their building types, the difference between medians is small, however in the normalized plot, we're comparing the prices per square foot, which varies across different building types and thus resulting in a bigger median of normalized price for Townhouse than for Single Family._"
   ]
  },
  {
   "cell_type": "markdown",
   "metadata": {},
   "source": [
    "## Scatter plot\n",
    "[TODO] To further under the relationship between house size and price for these two different housing types, we will use a scatter plot, which is useful for showing these kinds of relationships. We will plot Price vs Size and overlay Twhs and SFam.\n",
    "\n",
    "Steps:\n",
    "- Use `subplots` as in the in-class example to get the axis object\n",
    "- Scatter plot for single family\n",
    "- Scatter plot for townhouse\n",
    "- Legend"
   ]
  },
  {
   "cell_type": "code",
   "execution_count": 69,
   "metadata": {},
   "outputs": [
    {
     "data": {
      "text/plain": [
       "<matplotlib.legend.Legend at 0x11ea5bf98>"
      ]
     },
     "execution_count": 69,
     "metadata": {},
     "output_type": "execute_result"
    },
    {
     "data": {
      "image/png": "[encoded data removed]",
      "text/plain": [
       "<Figure size 432x288 with 1 Axes>"
      ]
     },
     "metadata": {
      "needs_background": "light"
     },
     "output_type": "display_data"
    }
   ],
   "source": [
    "import numpy.random as rnd\n",
    "rnd.seed(20190915)\n",
    "\n",
    "# Use subplots to get the axis object (ax) that lets us access all the attributes of a plot\n",
    "fig, ax = plt.subplots()\n",
    "\n",
    "# Get the list of values and add a little random noise to each one. \n",
    "# X dimensions\n",
    "x1fam = h1fam_price_list\n",
    "x1fam_jit = [xval + rnd.rand()/2.0 for xval in x1fam]\n",
    "xtwh = htwh_price_list\n",
    "xtwh_jit = [xval + rnd.rand()/2.0 for xval in xtwh]\n",
    "\n",
    "# Y dimensions\n",
    "y1fam = h1fam_sqft.tolist()\n",
    "y1fam_jit = [yval + rnd.rand()/10.0 for yval in y1fam]\n",
    "ytwh = htwh_sqft.tolist()\n",
    "ytwh_jit = [yval + rnd.rand()/10.0 for yval in ytwh]\n",
    "\n",
    "# Plot the values\n",
    "ax.scatter(x1fam_jit, y1fam_jit, label='Single Family')\n",
    "ax.scatter(xtwh_jit, ytwh_jit, label='Townhouse')\n",
    "\n",
    "# Label the axes \n",
    "ax.set_xlabel('Sale Price')\n",
    "ax.set_ylabel('Size')\n",
    "\n",
    "ax.legend()"
   ]
  },
  {
   "cell_type": "markdown",
   "metadata": {},
   "source": [
    "How would you compare the distribution of prices for these two different housing types? What about the distribution of sizes? What is a typical townhouse compared to a typical single family house?\n",
    "\n",
    "[TODO] Answer:\n",
    "_There is a strong assosication between Sale Price and Size for both housing types, the higher the sale price, the bigger the size is. There is more variability in prices as well as in sizes for Single family than for Townhouse, meaning that Single family has a larger range than . Townhouse. The median for a single family is around (250000,2000), whearas (180000,1300) for a townhouse, thus a typical townhouse has a smaller size and lower sale price when compared to a single family house._\n",
    "\n"
   ]
  },
  {
   "cell_type": "markdown",
   "metadata": {},
   "source": [
    "## Histograms\n",
    "\n",
    "To understand the distribution of single family prices better, we will display two histograms: one of the prices and one of the normalized prices. "
   ]
  },
  {
   "cell_type": "markdown",
   "metadata": {},
   "source": [
    "### Prices\n",
    "\n",
    "[TODO] A histogram of the single family house prices. Use bins of size 50,000 ranging from \\$0 to \\$700,000.\n",
    "\n",
    "Compute the bins as follows \n",
    "```\n",
    "bins=[i*50000 for i in range(0,14)]\n",
    "```\n",
    "\n",
    "This iterates over the integers 0 to 14, multiplying each by 50,000 to give the bins we want."
   ]
  },
  {
   "cell_type": "code",
   "execution_count": 80,
   "metadata": {},
   "outputs": [
    {
     "data": {
      "image/png": "[encoded data removed]",
      "text/plain": [
       "<Figure size 432x288 with 1 Axes>"
      ]
     },
     "metadata": {
      "needs_background": "light"
     },
     "output_type": "display_data"
    }
   ],
   "source": [
    "bins=[i*50000 for i in range(0,14)]\n",
    "n, bins, patches = plt.hist(h1fam_price_list, bins, facecolor='blue', alpha=0.5)"
   ]
  },
  {
   "cell_type": "markdown",
   "metadata": {},
   "source": [
    "The distribution should be \"left-skewed\", with a few houses at the upper price range, and a few low-priced \"fixers\" but a lot of houses within a fairly narrow price band between 100k and 200k."
   ]
  },
  {
   "cell_type": "markdown",
   "metadata": {},
   "source": [
    "### Normalized price\n",
    "\n",
    "[TODO] A histogram of normalized prices for single family houses. Use bins of size 20 from 0 to 300. "
   ]
  },
  {
   "cell_type": "code",
   "execution_count": 91,
   "metadata": {},
   "outputs": [
    {
     "data": {
      "image/png": "[encoded data removed]",
      "text/plain": [
       "<Figure size 432x288 with 1 Axes>"
      ]
     },
     "metadata": {
      "needs_background": "light"
     },
     "output_type": "display_data"
    }
   ],
   "source": [
    "bins2=[i*20 for i in range(0,14)]\n",
    "n, bins, patches = plt.hist(h1fam_ppsq_list, bins2, facecolor='blue', alpha=0.5)"
   ]
  },
  {
   "cell_type": "markdown",
   "metadata": {},
   "source": [
    "It should be almost perfectly symmetric, showing that the skew in house prices is almost entirely due to the skew in house sizes."
   ]
  }
 ],
 "metadata": {
  "kernelspec": {
   "display_name": "Python 3",
   "language": "python",
   "name": "python3"
  },
  "language_info": {
   "codemirror_mode": {
    "name": "ipython",
    "version": 3
   },
   "file_extension": ".py",
   "mimetype": "text/x-python",
   "name": "python",
   "nbconvert_exporter": "python",
   "pygments_lexer": "ipython3",
   "version": "3.7.3"
  }
 },
 "nbformat": 4,
 "nbformat_minor": 4
}
