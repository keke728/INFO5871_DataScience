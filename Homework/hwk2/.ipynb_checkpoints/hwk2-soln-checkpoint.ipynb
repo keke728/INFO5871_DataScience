{
 "cells": [
  {
   "cell_type": "markdown",
   "metadata": {},
   "source": [
    "# Homework 2\n",
    "### _Your name here_\n",
    "\n",
    "INFO 5871-001, Prof. Robin Burke, Fall 2019"
   ]
  },
  {
   "cell_type": "markdown",
   "metadata": {},
   "source": [
    "## Imports"
   ]
  },
  {
   "cell_type": "code",
   "execution_count": 1,
   "metadata": {},
   "outputs": [],
   "source": [
    "import pandas as pd\n",
    "import matplotlib.pyplot as plt\n",
    "%matplotlib inline"
   ]
  },
  {
   "cell_type": "markdown",
   "metadata": {},
   "source": [
    "### Load data file\n",
    "Ames Housing dataset. See associated data description file for details"
   ]
  },
  {
   "cell_type": "code",
   "execution_count": 2,
   "metadata": {},
   "outputs": [],
   "source": [
    "ames = pd.read_csv('ames.csv')"
   ]
  },
  {
   "cell_type": "markdown",
   "metadata": {},
   "source": [
    "Print the shape and output the `head` of the DataFrame to show contents.\n",
    "\n",
    "Note that because there are so many columns, not all of them are shown. The `...` after `Land.Contour` shows this."
   ]
  },
  {
   "cell_type": "code",
   "execution_count": 3,
   "metadata": {},
   "outputs": [
    {
     "name": "stdout",
     "output_type": "stream",
     "text": [
      "(2930, 82)\n"
     ]
    },
    {
     "data": {
      "text/html": [
       "<div>\n",
       "<style scoped>\n",
       "    .dataframe tbody tr th:only-of-type {\n",
       "        vertical-align: middle;\n",
       "    }\n",
       "\n",
       "    .dataframe tbody tr th {\n",
       "        vertical-align: top;\n",
       "    }\n",
       "\n",
       "    .dataframe thead th {\n",
       "        text-align: right;\n",
       "    }\n",
       "</style>\n",
       "<table border=\"1\" class=\"dataframe\">\n",
       "  <thead>\n",
       "    <tr style=\"text-align: right;\">\n",
       "      <th></th>\n",
       "      <th>Order</th>\n",
       "      <th>PID</th>\n",
       "      <th>MS.SubClass</th>\n",
       "      <th>MS.Zoning</th>\n",
       "      <th>Lot.Frontage</th>\n",
       "      <th>Lot.Area</th>\n",
       "      <th>Street</th>\n",
       "      <th>Alley</th>\n",
       "      <th>Lot.Shape</th>\n",
       "      <th>Land.Contour</th>\n",
       "      <th>...</th>\n",
       "      <th>Pool.Area</th>\n",
       "      <th>Pool.QC</th>\n",
       "      <th>Fence</th>\n",
       "      <th>Misc.Feature</th>\n",
       "      <th>Misc.Val</th>\n",
       "      <th>Mo.Sold</th>\n",
       "      <th>Yr.Sold</th>\n",
       "      <th>Sale.Type</th>\n",
       "      <th>Sale.Condition</th>\n",
       "      <th>SalePrice</th>\n",
       "    </tr>\n",
       "  </thead>\n",
       "  <tbody>\n",
       "    <tr>\n",
       "      <th>0</th>\n",
       "      <td>1</td>\n",
       "      <td>526301100</td>\n",
       "      <td>20</td>\n",
       "      <td>RL</td>\n",
       "      <td>141.0</td>\n",
       "      <td>31770</td>\n",
       "      <td>Pave</td>\n",
       "      <td>NaN</td>\n",
       "      <td>IR1</td>\n",
       "      <td>Lvl</td>\n",
       "      <td>...</td>\n",
       "      <td>0</td>\n",
       "      <td>NaN</td>\n",
       "      <td>NaN</td>\n",
       "      <td>NaN</td>\n",
       "      <td>0</td>\n",
       "      <td>5</td>\n",
       "      <td>2010</td>\n",
       "      <td>WD</td>\n",
       "      <td>Normal</td>\n",
       "      <td>215000</td>\n",
       "    </tr>\n",
       "    <tr>\n",
       "      <th>1</th>\n",
       "      <td>2</td>\n",
       "      <td>526350040</td>\n",
       "      <td>20</td>\n",
       "      <td>RH</td>\n",
       "      <td>80.0</td>\n",
       "      <td>11622</td>\n",
       "      <td>Pave</td>\n",
       "      <td>NaN</td>\n",
       "      <td>Reg</td>\n",
       "      <td>Lvl</td>\n",
       "      <td>...</td>\n",
       "      <td>0</td>\n",
       "      <td>NaN</td>\n",
       "      <td>MnPrv</td>\n",
       "      <td>NaN</td>\n",
       "      <td>0</td>\n",
       "      <td>6</td>\n",
       "      <td>2010</td>\n",
       "      <td>WD</td>\n",
       "      <td>Normal</td>\n",
       "      <td>105000</td>\n",
       "    </tr>\n",
       "    <tr>\n",
       "      <th>2</th>\n",
       "      <td>3</td>\n",
       "      <td>526351010</td>\n",
       "      <td>20</td>\n",
       "      <td>RL</td>\n",
       "      <td>81.0</td>\n",
       "      <td>14267</td>\n",
       "      <td>Pave</td>\n",
       "      <td>NaN</td>\n",
       "      <td>IR1</td>\n",
       "      <td>Lvl</td>\n",
       "      <td>...</td>\n",
       "      <td>0</td>\n",
       "      <td>NaN</td>\n",
       "      <td>NaN</td>\n",
       "      <td>Gar2</td>\n",
       "      <td>12500</td>\n",
       "      <td>6</td>\n",
       "      <td>2010</td>\n",
       "      <td>WD</td>\n",
       "      <td>Normal</td>\n",
       "      <td>172000</td>\n",
       "    </tr>\n",
       "    <tr>\n",
       "      <th>3</th>\n",
       "      <td>4</td>\n",
       "      <td>526353030</td>\n",
       "      <td>20</td>\n",
       "      <td>RL</td>\n",
       "      <td>93.0</td>\n",
       "      <td>11160</td>\n",
       "      <td>Pave</td>\n",
       "      <td>NaN</td>\n",
       "      <td>Reg</td>\n",
       "      <td>Lvl</td>\n",
       "      <td>...</td>\n",
       "      <td>0</td>\n",
       "      <td>NaN</td>\n",
       "      <td>NaN</td>\n",
       "      <td>NaN</td>\n",
       "      <td>0</td>\n",
       "      <td>4</td>\n",
       "      <td>2010</td>\n",
       "      <td>WD</td>\n",
       "      <td>Normal</td>\n",
       "      <td>244000</td>\n",
       "    </tr>\n",
       "    <tr>\n",
       "      <th>4</th>\n",
       "      <td>5</td>\n",
       "      <td>527105010</td>\n",
       "      <td>60</td>\n",
       "      <td>RL</td>\n",
       "      <td>74.0</td>\n",
       "      <td>13830</td>\n",
       "      <td>Pave</td>\n",
       "      <td>NaN</td>\n",
       "      <td>IR1</td>\n",
       "      <td>Lvl</td>\n",
       "      <td>...</td>\n",
       "      <td>0</td>\n",
       "      <td>NaN</td>\n",
       "      <td>MnPrv</td>\n",
       "      <td>NaN</td>\n",
       "      <td>0</td>\n",
       "      <td>3</td>\n",
       "      <td>2010</td>\n",
       "      <td>WD</td>\n",
       "      <td>Normal</td>\n",
       "      <td>189900</td>\n",
       "    </tr>\n",
       "  </tbody>\n",
       "</table>\n",
       "<p>5 rows × 82 columns</p>\n",
       "</div>"
      ],
      "text/plain": [
       "   Order        PID  MS.SubClass MS.Zoning  Lot.Frontage  Lot.Area Street  \\\n",
       "0      1  526301100           20        RL         141.0     31770   Pave   \n",
       "1      2  526350040           20        RH          80.0     11622   Pave   \n",
       "2      3  526351010           20        RL          81.0     14267   Pave   \n",
       "3      4  526353030           20        RL          93.0     11160   Pave   \n",
       "4      5  527105010           60        RL          74.0     13830   Pave   \n",
       "\n",
       "  Alley Lot.Shape Land.Contour  ... Pool.Area Pool.QC  Fence Misc.Feature  \\\n",
       "0   NaN       IR1          Lvl  ...         0     NaN    NaN          NaN   \n",
       "1   NaN       Reg          Lvl  ...         0     NaN  MnPrv          NaN   \n",
       "2   NaN       IR1          Lvl  ...         0     NaN    NaN         Gar2   \n",
       "3   NaN       Reg          Lvl  ...         0     NaN    NaN          NaN   \n",
       "4   NaN       IR1          Lvl  ...         0     NaN  MnPrv          NaN   \n",
       "\n",
       "  Misc.Val Mo.Sold Yr.Sold Sale.Type  Sale.Condition  SalePrice  \n",
       "0        0       5    2010       WD           Normal     215000  \n",
       "1        0       6    2010       WD           Normal     105000  \n",
       "2    12500       6    2010       WD           Normal     172000  \n",
       "3        0       4    2010       WD           Normal     244000  \n",
       "4        0       3    2010       WD           Normal     189900  \n",
       "\n",
       "[5 rows x 82 columns]"
      ]
     },
     "execution_count": 3,
     "metadata": {},
     "output_type": "execute_result"
    }
   ],
   "source": [
    "print(ames.shape)\n",
    "ames.head()"
   ]
  },
  {
   "cell_type": "markdown",
   "metadata": {},
   "source": [
    "To see all of the columns, access the `columns` value for the data frame."
   ]
  },
  {
   "cell_type": "code",
   "execution_count": 4,
   "metadata": {},
   "outputs": [
    {
     "data": {
      "text/plain": [
       "Index(['Order', 'PID', 'MS.SubClass', 'MS.Zoning', 'Lot.Frontage', 'Lot.Area',\n",
       "       'Street', 'Alley', 'Lot.Shape', 'Land.Contour', 'Utilities',\n",
       "       'Lot.Config', 'Land.Slope', 'Neighborhood', 'Condition.1',\n",
       "       'Condition.2', 'Bldg.Type', 'House.Style', 'Overall.Qual',\n",
       "       'Overall.Cond', 'Year.Built', 'Year.Remod.Add', 'Roof.Style',\n",
       "       'Roof.Matl', 'Exterior.1st', 'Exterior.2nd', 'Mas.Vnr.Type',\n",
       "       'Mas.Vnr.Area', 'Exter.Qual', 'Exter.Cond', 'Foundation', 'Bsmt.Qual',\n",
       "       'Bsmt.Cond', 'Bsmt.Exposure', 'BsmtFin.Type.1', 'BsmtFin.SF.1',\n",
       "       'BsmtFin.Type.2', 'BsmtFin.SF.2', 'Bsmt.Unf.SF', 'Total.Bsmt.SF',\n",
       "       'Heating', 'Heating.QC', 'Central.Air', 'Electrical', 'X1st.Flr.SF',\n",
       "       'X2nd.Flr.SF', 'Low.Qual.Fin.SF', 'Gr.Liv.Area', 'Bsmt.Full.Bath',\n",
       "       'Bsmt.Half.Bath', 'Full.Bath', 'Half.Bath', 'Bedroom.AbvGr',\n",
       "       'Kitchen.AbvGr', 'Kitchen.Qual', 'TotRms.AbvGrd', 'Functional',\n",
       "       'Fireplaces', 'Fireplace.Qu', 'Garage.Type', 'Garage.Yr.Blt',\n",
       "       'Garage.Finish', 'Garage.Cars', 'Garage.Area', 'Garage.Qual',\n",
       "       'Garage.Cond', 'Paved.Drive', 'Wood.Deck.SF', 'Open.Porch.SF',\n",
       "       'Enclosed.Porch', 'X3Ssn.Porch', 'Screen.Porch', 'Pool.Area', 'Pool.QC',\n",
       "       'Fence', 'Misc.Feature', 'Misc.Val', 'Mo.Sold', 'Yr.Sold', 'Sale.Type',\n",
       "       'Sale.Condition', 'SalePrice'],\n",
       "      dtype='object')"
      ]
     },
     "execution_count": 4,
     "metadata": {},
     "output_type": "execute_result"
    }
   ],
   "source": [
    "ames.columns"
   ]
  },
  {
   "cell_type": "markdown",
   "metadata": {},
   "source": [
    "### Cleaning\n",
    "Prof. de Cock recommends removing the houses larger than 4000 sq. ft. because of anomalies in the data. This should drop 5 observations.\n",
    "\n",
    "Once we have done this cleaning, we will only use the cleaned data frame for the rest of the assignment."
   ]
  },
  {
   "cell_type": "code",
   "execution_count": 5,
   "metadata": {},
   "outputs": [
    {
     "data": {
      "text/plain": [
       "(2925, 82)"
      ]
     },
     "execution_count": 5,
     "metadata": {},
     "output_type": "execute_result"
    }
   ],
   "source": [
    "anomaly = ames['Gr.Liv.Area'] <= 4000\n",
    "ames_cl = ames[anomaly]\n",
    "ames_cl.shape"
   ]
  },
  {
   "cell_type": "code",
   "execution_count": 6,
   "metadata": {},
   "outputs": [],
   "source": [
    "obs_count = ames_cl.shape[0]"
   ]
  },
  {
   "cell_type": "markdown",
   "metadata": {},
   "source": [
    "## Question 1: What are the marginal probabilities of Townhouse and Single Family houses, respectively?\n",
    "Note that TwnhsE (Townhouse End Unit) and Twnhs (Townhouse Internal Unit) have to be combined to answer this question. Do not enter any numbers in the notebook: everything must be extracted from the data itself.\n",
    "\n",
    "Steps\n",
    "- [TODO] calculate value counts\n",
    "- [TODO] divide the 1Fam and (TwnhsE + Twnhs) values by the total number of observations (can get from shape)\n",
    "- [TODO] print formatted answer\n",
    "\n",
    "Hint:\n",
    "- P(Townhouse) should be around 0.11"
   ]
  },
  {
   "cell_type": "code",
   "execution_count": 7,
   "metadata": {},
   "outputs": [
    {
     "data": {
      "text/plain": [
       "1Fam      2420\n",
       "TwnhsE     233\n",
       "Duplex     109\n",
       "Twnhs      101\n",
       "2fmCon      62\n",
       "Name: Bldg.Type, dtype: int64"
      ]
     },
     "execution_count": 7,
     "metadata": {},
     "output_type": "execute_result"
    }
   ],
   "source": [
    "blg_type_tbl = pd.value_counts(ames_cl['Bldg.Type'])\n",
    "blg_type_tbl"
   ]
  },
  {
   "cell_type": "code",
   "execution_count": 8,
   "metadata": {},
   "outputs": [
    {
     "data": {
      "text/plain": [
       "0.8273504273504273"
      ]
     },
     "execution_count": 8,
     "metadata": {},
     "output_type": "execute_result"
    }
   ],
   "source": [
    "p_1fam = blg_type_tbl['1Fam'] / obs_count\n",
    "p_1fam"
   ]
  },
  {
   "cell_type": "code",
   "execution_count": 9,
   "metadata": {},
   "outputs": [
    {
     "data": {
      "text/plain": [
       "0.1141880341880342"
      ]
     },
     "execution_count": 9,
     "metadata": {},
     "output_type": "execute_result"
    }
   ],
   "source": [
    "p_twn = (blg_type_tbl['TwnhsE'] + blg_type_tbl['Twnhs']) / obs_count\n",
    "p_twn"
   ]
  },
  {
   "cell_type": "markdown",
   "metadata": {},
   "source": [
    "[TODO] Print answers (two digital of precision): \n",
    "\n",
    "Use this syntax `print(f\"P(Single Family) = {var:.2f}`, where `var` is the variable with the computed probability you're trying to display.\n"
   ]
  },
  {
   "cell_type": "code",
   "execution_count": 10,
   "metadata": {},
   "outputs": [
    {
     "name": "stdout",
     "output_type": "stream",
     "text": [
      "P(Single Family) = 0.83\n",
      "P(Townhouse) = 0.11\n"
     ]
    }
   ],
   "source": [
    "print(f\"P(Single Family) = {p_1fam:.2f}\")\n",
    "print(f\"P(Townhouse) = {p_twn:.2f}\")"
   ]
  },
  {
   "cell_type": "markdown",
   "metadata": {},
   "source": [
    "## Question 2: What is the relationship between housing type and central air conditioning?\n",
    "\n",
    "Steps:\n",
    "- [TODO] Compute the `value_counts` for the `Central.Air` column.\n",
    "- [TODO] Compute a `crosstab` with `Bldg.Type` as the `index` and `Central.Air` as the `columns`\n",
    "- [TODO] Compute conditional probabilities P(AC | Single Family) and P(AC | Townhouse) \n",
    "- [TODO] Compute conditional probabilities P(Single Family | No AC) and P(Townhouse | No AC)\n",
    "- [TODO] Compute joint probabilities P(Single Family, AC) and P(Duplex, AC)"
   ]
  },
  {
   "cell_type": "code",
   "execution_count": 11,
   "metadata": {},
   "outputs": [
    {
     "data": {
      "text/plain": [
       "Y    2729\n",
       "N     196\n",
       "Name: Central.Air, dtype: int64"
      ]
     },
     "execution_count": 11,
     "metadata": {},
     "output_type": "execute_result"
    }
   ],
   "source": [
    "ac_tbl = pd.value_counts(ames_cl['Central.Air'])\n",
    "ac_tbl"
   ]
  },
  {
   "cell_type": "code",
   "execution_count": 12,
   "metadata": {},
   "outputs": [
    {
     "data": {
      "text/html": [
       "<div>\n",
       "<style scoped>\n",
       "    .dataframe tbody tr th:only-of-type {\n",
       "        vertical-align: middle;\n",
       "    }\n",
       "\n",
       "    .dataframe tbody tr th {\n",
       "        vertical-align: top;\n",
       "    }\n",
       "\n",
       "    .dataframe thead th {\n",
       "        text-align: right;\n",
       "    }\n",
       "</style>\n",
       "<table border=\"1\" class=\"dataframe\">\n",
       "  <thead>\n",
       "    <tr style=\"text-align: right;\">\n",
       "      <th>Central.Air</th>\n",
       "      <th>N</th>\n",
       "      <th>Y</th>\n",
       "    </tr>\n",
       "    <tr>\n",
       "      <th>Bldg.Type</th>\n",
       "      <th></th>\n",
       "      <th></th>\n",
       "    </tr>\n",
       "  </thead>\n",
       "  <tbody>\n",
       "    <tr>\n",
       "      <th>1Fam</th>\n",
       "      <td>143</td>\n",
       "      <td>2277</td>\n",
       "    </tr>\n",
       "    <tr>\n",
       "      <th>2fmCon</th>\n",
       "      <td>28</td>\n",
       "      <td>34</td>\n",
       "    </tr>\n",
       "    <tr>\n",
       "      <th>Duplex</th>\n",
       "      <td>25</td>\n",
       "      <td>84</td>\n",
       "    </tr>\n",
       "    <tr>\n",
       "      <th>Twnhs</th>\n",
       "      <td>0</td>\n",
       "      <td>101</td>\n",
       "    </tr>\n",
       "    <tr>\n",
       "      <th>TwnhsE</th>\n",
       "      <td>0</td>\n",
       "      <td>233</td>\n",
       "    </tr>\n",
       "  </tbody>\n",
       "</table>\n",
       "</div>"
      ],
      "text/plain": [
       "Central.Air    N     Y\n",
       "Bldg.Type             \n",
       "1Fam         143  2277\n",
       "2fmCon        28    34\n",
       "Duplex        25    84\n",
       "Twnhs          0   101\n",
       "TwnhsE         0   233"
      ]
     },
     "execution_count": 12,
     "metadata": {},
     "output_type": "execute_result"
    }
   ],
   "source": [
    "blg_ac_tbl = pd.crosstab(index=ames_cl['Bldg.Type'], columns=ames_cl['Central.Air'])\n",
    "blg_ac_tbl"
   ]
  },
  {
   "cell_type": "markdown",
   "metadata": {},
   "source": [
    "### Conditional probabilities \n",
    "\n",
    "- [TODO] P(AC | Single Family)\n",
    "- [TODO] P(AC | Townhouse)"
   ]
  },
  {
   "cell_type": "code",
   "execution_count": 13,
   "metadata": {},
   "outputs": [
    {
     "data": {
      "text/plain": [
       "0.9409090909090909"
      ]
     },
     "execution_count": 13,
     "metadata": {},
     "output_type": "execute_result"
    }
   ],
   "source": [
    "cp_ac_1fam = blg_ac_tbl.loc['1Fam','Y'] / blg_type_tbl['1Fam']\n",
    "cp_ac_1fam"
   ]
  },
  {
   "cell_type": "code",
   "execution_count": 14,
   "metadata": {},
   "outputs": [
    {
     "data": {
      "text/plain": [
       "1.0"
      ]
     },
     "execution_count": 14,
     "metadata": {},
     "output_type": "execute_result"
    }
   ],
   "source": [
    "total_town = (blg_type_tbl['TwnhsE'] + blg_type_tbl['Twnhs'])\n",
    "cp_ac_town = (blg_ac_tbl.loc['Twnhs','Y'] + blg_ac_tbl.loc['TwnhsE','Y']) / total_town\n",
    "cp_ac_town"
   ]
  },
  {
   "cell_type": "markdown",
   "metadata": {},
   "source": [
    "[TODO] Print answers (two digits precision):"
   ]
  },
  {
   "cell_type": "code",
   "execution_count": 15,
   "metadata": {},
   "outputs": [
    {
     "name": "stdout",
     "output_type": "stream",
     "text": [
      "P(AC | Single Family) = 0.94\n",
      "P(AC | Townhouse) = 1.00\n"
     ]
    }
   ],
   "source": [
    "print(f\"P(AC | Single Family) = {cp_ac_1fam:.2f}\")\n",
    "print(f\"P(AC | Townhouse) = {cp_ac_town:.2f}\")"
   ]
  },
  {
   "cell_type": "markdown",
   "metadata": {},
   "source": [
    "Compute\n",
    "\n",
    "- [TODO] P(Single Family | No AC)\n",
    "- [TODO] P(Duplex | No AC)"
   ]
  },
  {
   "cell_type": "code",
   "execution_count": 16,
   "metadata": {},
   "outputs": [
    {
     "data": {
      "text/plain": [
       "196"
      ]
     },
     "execution_count": 16,
     "metadata": {},
     "output_type": "execute_result"
    }
   ],
   "source": [
    "no_ac = ac_tbl['N']\n",
    "no_ac"
   ]
  },
  {
   "cell_type": "code",
   "execution_count": 17,
   "metadata": {},
   "outputs": [
    {
     "data": {
      "text/plain": [
       "0.7295918367346939"
      ]
     },
     "execution_count": 17,
     "metadata": {},
     "output_type": "execute_result"
    }
   ],
   "source": [
    "cp_1fam_nac = blg_ac_tbl.loc['1Fam', 'N'] / no_ac\n",
    "cp_1fam_nac"
   ]
  },
  {
   "cell_type": "code",
   "execution_count": 18,
   "metadata": {},
   "outputs": [
    {
     "data": {
      "text/plain": [
       "0.12755102040816327"
      ]
     },
     "execution_count": 18,
     "metadata": {},
     "output_type": "execute_result"
    }
   ],
   "source": [
    "cp_dup_nac = blg_ac_tbl.loc['Duplex', 'N'] / no_ac\n",
    "cp_dup_nac"
   ]
  },
  {
   "cell_type": "markdown",
   "metadata": {},
   "source": [
    "[TODO] Print answers (two digits precision):"
   ]
  },
  {
   "cell_type": "code",
   "execution_count": 19,
   "metadata": {},
   "outputs": [
    {
     "name": "stdout",
     "output_type": "stream",
     "text": [
      "P(Single Family | No AC) = 0.73\n",
      "P(Duplex | No AC) = 0.13\n"
     ]
    }
   ],
   "source": [
    "print(f\"P(Single Family | No AC) = {cp_1fam_nac:.2f}\")\n",
    "print(f\"P(Duplex | No AC) = {cp_dup_nac:.2f}\")"
   ]
  },
  {
   "cell_type": "markdown",
   "metadata": {},
   "source": [
    "Compute joint probabilities \n",
    "\n",
    "- [TODO] P(Single Family, AC)\n",
    "- [TODO] P(Duplex, No AC)"
   ]
  },
  {
   "cell_type": "code",
   "execution_count": 20,
   "metadata": {},
   "outputs": [
    {
     "data": {
      "text/plain": [
       "0.7784615384615384"
      ]
     },
     "execution_count": 20,
     "metadata": {},
     "output_type": "execute_result"
    }
   ],
   "source": [
    "jp_1fam_ac = blg_ac_tbl.loc['1Fam','Y'] / obs_count\n",
    "jp_1fam_ac"
   ]
  },
  {
   "cell_type": "code",
   "execution_count": 21,
   "metadata": {},
   "outputs": [
    {
     "data": {
      "text/plain": [
       "0.008547008547008548"
      ]
     },
     "execution_count": 21,
     "metadata": {},
     "output_type": "execute_result"
    }
   ],
   "source": [
    "jp_dup_nac = blg_ac_tbl.loc['Duplex', 'N'] / obs_count\n",
    "jp_dup_nac"
   ]
  },
  {
   "cell_type": "markdown",
   "metadata": {},
   "source": [
    "[TODO] Print answer (two digits precision):\n",
    "\n",
    "Note: to get two digits precision displayed for P(Duplex, No AC), you will need 4 digits past the decimal: `:.4f`"
   ]
  },
  {
   "cell_type": "code",
   "execution_count": 22,
   "metadata": {},
   "outputs": [
    {
     "name": "stdout",
     "output_type": "stream",
     "text": [
      "P(Single Family, AC) = 0.78\n",
      "P(Duplex, No AC) = 0.0085\n"
     ]
    }
   ],
   "source": [
    "print(f\"P(Single Family, AC) = {jp_1fam_ac:.2f}\")\n",
    "print(f\"P(Duplex, No AC) = {jp_dup_nac:.4f}\")"
   ]
  },
  {
   "cell_type": "markdown",
   "metadata": {},
   "source": [
    "## Question 3: Understanding probability variants\n",
    "From the complementarity rule, we know that, because P(AC | Single Family) is quite high (> .90), P(No AC | Single Family) must be small (less than 0.1). If that is the case, why is P(Single Family | No AC) also pretty high (> 0.70)?\n",
    "\n",
    "Also, given that P(Duplex | No AC) is around 0.13, why is P(Duplex, No AC) so much smaller (approx. factor of 20)?\n"
   ]
  },
  {
   "cell_type": "markdown",
   "metadata": {},
   "source": [
    "[TODO] Answer here:\n",
    "    \n",
    "The reason that there is such a difference between P(No AC | Single Family) and P(Single Family | No AC) is because the condition of \"No AC\" is much rarer than the condition \"Single Family\". There are 2420 Single Family residences total and only 196 \"No AC\" residence total. So what is a small number relative to the total number of single family houses is a large number relative to the total number of No AC residences.\n",
    "\n",
    "There is a similar effect at work in the Duplex case. There are a small number of duplexes, but some of them don't have AC. They form a sizable fraction of the No AC residences. But, when we look at the total number of observations, which is what we do in looking at joint probability, then this becomes a very small proportion of all the observed combinations.\n",
    "    "
   ]
  },
  {
   "cell_type": "markdown",
   "metadata": {},
   "source": [
    "## Question 4: Price ranges for different kinds of houses\n",
    "In this question, we are going to produce some statistical visualizations of housing prices for different housing types. Later on, we will learn more sophisticated Pandas methods for getting the same results. This week, we are going to be using basic Python data types."
   ]
  },
  {
   "cell_type": "markdown",
   "metadata": {},
   "source": [
    "Steps:\n",
    "\n",
    "- [TODO] Create new smaller data frames for 1fam, townhouse, and duplex properties, containing only the sale price, square footage, and age at time of sale. (We are skipping 2 family conversion properties because there are so many fewer.) I have done the first one, for single-family homes. \n",
    "- [TODO] Create a new column price per square foot\n",
    "- [TODO] Calculate the average home price and avg. price per square foot for each"
   ]
  },
  {
   "cell_type": "markdown",
   "metadata": {},
   "source": [
    "### Single Family"
   ]
  },
  {
   "cell_type": "code",
   "execution_count": 23,
   "metadata": {},
   "outputs": [
    {
     "data": {
      "text/html": [
       "<div>\n",
       "<style scoped>\n",
       "    .dataframe tbody tr th:only-of-type {\n",
       "        vertical-align: middle;\n",
       "    }\n",
       "\n",
       "    .dataframe tbody tr th {\n",
       "        vertical-align: top;\n",
       "    }\n",
       "\n",
       "    .dataframe thead th {\n",
       "        text-align: right;\n",
       "    }\n",
       "</style>\n",
       "<table border=\"1\" class=\"dataframe\">\n",
       "  <thead>\n",
       "    <tr style=\"text-align: right;\">\n",
       "      <th></th>\n",
       "      <th>Price</th>\n",
       "      <th>Size</th>\n",
       "      <th>NormPrice</th>\n",
       "      <th>Age</th>\n",
       "    </tr>\n",
       "  </thead>\n",
       "  <tbody>\n",
       "    <tr>\n",
       "      <th>0</th>\n",
       "      <td>215000</td>\n",
       "      <td>1656</td>\n",
       "      <td>129.830918</td>\n",
       "      <td>50</td>\n",
       "    </tr>\n",
       "    <tr>\n",
       "      <th>1</th>\n",
       "      <td>105000</td>\n",
       "      <td>896</td>\n",
       "      <td>117.187500</td>\n",
       "      <td>49</td>\n",
       "    </tr>\n",
       "    <tr>\n",
       "      <th>2</th>\n",
       "      <td>172000</td>\n",
       "      <td>1329</td>\n",
       "      <td>129.420617</td>\n",
       "      <td>52</td>\n",
       "    </tr>\n",
       "    <tr>\n",
       "      <th>3</th>\n",
       "      <td>244000</td>\n",
       "      <td>2110</td>\n",
       "      <td>115.639810</td>\n",
       "      <td>42</td>\n",
       "    </tr>\n",
       "    <tr>\n",
       "      <th>4</th>\n",
       "      <td>189900</td>\n",
       "      <td>1629</td>\n",
       "      <td>116.574586</td>\n",
       "      <td>13</td>\n",
       "    </tr>\n",
       "  </tbody>\n",
       "</table>\n",
       "</div>"
      ],
      "text/plain": [
       "    Price  Size   NormPrice  Age\n",
       "0  215000  1656  129.830918   50\n",
       "1  105000   896  117.187500   49\n",
       "2  172000  1329  129.420617   52\n",
       "3  244000  2110  115.639810   42\n",
       "4  189900  1629  116.574586   13"
      ]
     },
     "execution_count": 23,
     "metadata": {},
     "output_type": "execute_result"
    }
   ],
   "source": [
    "h1fam = ames_cl[ames_cl['Bldg.Type']=='1Fam']\n",
    "h1fam_price = h1fam['SalePrice']\n",
    "h1fam_sqft = h1fam['Gr.Liv.Area']\n",
    "h1fam_age = h1fam['Yr.Sold'] - h1fam['Year.Built'] \n",
    "h1fam_ppsq = h1fam_price / h1fam_sqft\n",
    "\n",
    "df_dict = {'Price': h1fam_price, 'Size': h1fam_sqft, 'NormPrice': h1fam_ppsq, 'Age': h1fam_age }\n",
    "h1fam_df = pd.DataFrame(df_dict)\n",
    "h1fam_df.head()"
   ]
  },
  {
   "cell_type": "markdown",
   "metadata": {},
   "source": [
    "### [TODO] Townhouse"
   ]
  },
  {
   "cell_type": "code",
   "execution_count": 24,
   "metadata": {},
   "outputs": [
    {
     "data": {
      "text/html": [
       "<div>\n",
       "<style scoped>\n",
       "    .dataframe tbody tr th:only-of-type {\n",
       "        vertical-align: middle;\n",
       "    }\n",
       "\n",
       "    .dataframe tbody tr th {\n",
       "        vertical-align: top;\n",
       "    }\n",
       "\n",
       "    .dataframe thead th {\n",
       "        text-align: right;\n",
       "    }\n",
       "</style>\n",
       "<table border=\"1\" class=\"dataframe\">\n",
       "  <thead>\n",
       "    <tr style=\"text-align: right;\">\n",
       "      <th></th>\n",
       "      <th>Price</th>\n",
       "      <th>Size</th>\n",
       "      <th>NormPrice</th>\n",
       "      <th>Age</th>\n",
       "    </tr>\n",
       "  </thead>\n",
       "  <tbody>\n",
       "    <tr>\n",
       "      <th>6</th>\n",
       "      <td>213500</td>\n",
       "      <td>1338</td>\n",
       "      <td>159.566517</td>\n",
       "      <td>9</td>\n",
       "    </tr>\n",
       "    <tr>\n",
       "      <th>7</th>\n",
       "      <td>191500</td>\n",
       "      <td>1280</td>\n",
       "      <td>149.609375</td>\n",
       "      <td>18</td>\n",
       "    </tr>\n",
       "    <tr>\n",
       "      <th>8</th>\n",
       "      <td>236500</td>\n",
       "      <td>1616</td>\n",
       "      <td>146.349010</td>\n",
       "      <td>15</td>\n",
       "    </tr>\n",
       "    <tr>\n",
       "      <th>14</th>\n",
       "      <td>212000</td>\n",
       "      <td>1502</td>\n",
       "      <td>141.145140</td>\n",
       "      <td>25</td>\n",
       "    </tr>\n",
       "    <tr>\n",
       "      <th>28</th>\n",
       "      <td>184000</td>\n",
       "      <td>1337</td>\n",
       "      <td>137.621541</td>\n",
       "      <td>11</td>\n",
       "    </tr>\n",
       "  </tbody>\n",
       "</table>\n",
       "</div>"
      ],
      "text/plain": [
       "     Price  Size   NormPrice  Age\n",
       "6   213500  1338  159.566517    9\n",
       "7   191500  1280  149.609375   18\n",
       "8   236500  1616  146.349010   15\n",
       "14  212000  1502  141.145140   25\n",
       "28  184000  1337  137.621541   11"
      ]
     },
     "execution_count": 24,
     "metadata": {},
     "output_type": "execute_result"
    }
   ],
   "source": [
    "town = ames_cl[(ames_cl['Bldg.Type']=='Twnhs') | (ames_cl['Bldg.Type']=='TwnhsE')]\n",
    "\n",
    "town_price = town['SalePrice']\n",
    "town_sqft = town['Gr.Liv.Area']\n",
    "town_age = town['Yr.Sold'] - town['Year.Built'] \n",
    "town_ppsq = town_price / town_sqft\n",
    "\n",
    "df_dict = {'Price': town_price, 'Size': town_sqft, 'NormPrice': town_ppsq, 'Age': town_age}\n",
    "town_df = pd.DataFrame(df_dict)\n",
    "town_df.head()"
   ]
  },
  {
   "cell_type": "markdown",
   "metadata": {},
   "source": [
    "### [TODO] Duplex"
   ]
  },
  {
   "cell_type": "code",
   "execution_count": 25,
   "metadata": {},
   "outputs": [
    {
     "data": {
      "text/html": [
       "<div>\n",
       "<style scoped>\n",
       "    .dataframe tbody tr th:only-of-type {\n",
       "        vertical-align: middle;\n",
       "    }\n",
       "\n",
       "    .dataframe tbody tr th {\n",
       "        vertical-align: top;\n",
       "    }\n",
       "\n",
       "    .dataframe thead th {\n",
       "        text-align: right;\n",
       "    }\n",
       "</style>\n",
       "<table border=\"1\" class=\"dataframe\">\n",
       "  <thead>\n",
       "    <tr style=\"text-align: right;\">\n",
       "      <th></th>\n",
       "      <th>Price</th>\n",
       "      <th>Size</th>\n",
       "      <th>NormPrice</th>\n",
       "      <th>Age</th>\n",
       "    </tr>\n",
       "  </thead>\n",
       "  <tbody>\n",
       "    <tr>\n",
       "      <th>83</th>\n",
       "      <td>112000</td>\n",
       "      <td>1902</td>\n",
       "      <td>58.885384</td>\n",
       "      <td>32</td>\n",
       "    </tr>\n",
       "    <tr>\n",
       "      <th>125</th>\n",
       "      <td>84900</td>\n",
       "      <td>1728</td>\n",
       "      <td>49.131944</td>\n",
       "      <td>48</td>\n",
       "    </tr>\n",
       "    <tr>\n",
       "      <th>135</th>\n",
       "      <td>154300</td>\n",
       "      <td>2274</td>\n",
       "      <td>67.854002</td>\n",
       "      <td>50</td>\n",
       "    </tr>\n",
       "    <tr>\n",
       "      <th>138</th>\n",
       "      <td>135000</td>\n",
       "      <td>1604</td>\n",
       "      <td>84.164589</td>\n",
       "      <td>52</td>\n",
       "    </tr>\n",
       "    <tr>\n",
       "      <th>158</th>\n",
       "      <td>144000</td>\n",
       "      <td>1056</td>\n",
       "      <td>136.363636</td>\n",
       "      <td>30</td>\n",
       "    </tr>\n",
       "  </tbody>\n",
       "</table>\n",
       "</div>"
      ],
      "text/plain": [
       "      Price  Size   NormPrice  Age\n",
       "83   112000  1902   58.885384   32\n",
       "125   84900  1728   49.131944   48\n",
       "135  154300  2274   67.854002   50\n",
       "138  135000  1604   84.164589   52\n",
       "158  144000  1056  136.363636   30"
      ]
     },
     "execution_count": 25,
     "metadata": {},
     "output_type": "execute_result"
    }
   ],
   "source": [
    "dplx = ames_cl[ames_cl['Bldg.Type']=='Duplex']\n",
    "\n",
    "dplx_price = dplx['SalePrice']\n",
    "dplx_sqft = dplx['Gr.Liv.Area']\n",
    "dplx_age = dplx['Yr.Sold'] - dplx['Year.Built'] \n",
    "dplx_ppsq = dplx_price / dplx_sqft\n",
    "\n",
    "df_dict = {'Price': dplx_price, 'Size': dplx_sqft, 'NormPrice': dplx_ppsq, 'Age': dplx_age}\n",
    "dplx_df = pd.DataFrame(df_dict)\n",
    "dplx_df.head()"
   ]
  },
  {
   "cell_type": "markdown",
   "metadata": {},
   "source": [
    "### Boxplot of prices\n",
    "Boxplot only works with lists (not `DataFrame` or `Series` types), so we have to convert any values that we want to display into lists. \n",
    "\n",
    "In this case, we want a data structure that looks like this:\n",
    "\n",
    "```\n",
    "[ [list of single-family prices], [list of townhouse prices], [list of duplex prices] ]\n",
    "```\n",
    "\n",
    "Steps:\n",
    "- [TODO] Convert the prices to lists\n",
    "- [TODO] Create a list of these lists\n",
    "- [TODO] Create a list of x axis labels for the three types\n",
    "- [TODO] Plot the boxplot `plt.boxplot(list of lists, labels=labels)`\n"
   ]
  },
  {
   "cell_type": "code",
   "execution_count": 26,
   "metadata": {},
   "outputs": [],
   "source": [
    "h1fam_prices = list(h1fam_price)\n",
    "town_prices = list(town_price)\n",
    "dplx_prices = list(dplx_price)\n",
    "\n",
    "prices = [h1fam_prices, town_prices, dplx_prices]\n",
    "types = ['Single Family', 'Townhouse', 'Duplex']"
   ]
  },
  {
   "cell_type": "code",
   "execution_count": 27,
   "metadata": {},
   "outputs": [
    {
     "data": {
      "text/plain": [
       "{'whiskers': [<matplotlib.lines.Line2D at 0x122cd5320>,\n",
       "  <matplotlib.lines.Line2D at 0x122cd5668>,\n",
       "  <matplotlib.lines.Line2D at 0x122ce7a90>,\n",
       "  <matplotlib.lines.Line2D at 0x122ce7dd8>,\n",
       "  <matplotlib.lines.Line2D at 0x122cfb128>,\n",
       "  <matplotlib.lines.Line2D at 0x122cfb470>],\n",
       " 'caps': [<matplotlib.lines.Line2D at 0x122cd59b0>,\n",
       "  <matplotlib.lines.Line2D at 0x122cd5cf8>,\n",
       "  <matplotlib.lines.Line2D at 0x122cf4160>,\n",
       "  <matplotlib.lines.Line2D at 0x1217c6208>,\n",
       "  <matplotlib.lines.Line2D at 0x122cfb7b8>,\n",
       "  <matplotlib.lines.Line2D at 0x122cfbb00>],\n",
       " 'boxes': [<matplotlib.lines.Line2D at 0x122cc5fd0>,\n",
       "  <matplotlib.lines.Line2D at 0x122ce7748>,\n",
       "  <matplotlib.lines.Line2D at 0x122cf4d68>],\n",
       " 'medians': [<matplotlib.lines.Line2D at 0x122ce7080>,\n",
       "  <matplotlib.lines.Line2D at 0x122cf4710>,\n",
       "  <matplotlib.lines.Line2D at 0x122cfbe48>],\n",
       " 'fliers': [<matplotlib.lines.Line2D at 0x122ce73c8>,\n",
       "  <matplotlib.lines.Line2D at 0x122cf4a58>,\n",
       "  <matplotlib.lines.Line2D at 0x122d091d0>],\n",
       " 'means': []}"
      ]
     },
     "execution_count": 27,
     "metadata": {},
     "output_type": "execute_result"
    },
    {
     "data": {
      "image/png": "[encoded data removed]",
      "text/plain": [
       "<Figure size 432x288 with 1 Axes>"
      ]
     },
     "metadata": {
      "needs_background": "light"
     },
     "output_type": "display_data"
    }
   ],
   "source": [
    "plt.boxplot(prices, labels=types)"
   ]
  },
  {
   "cell_type": "markdown",
   "metadata": {},
   "source": [
    "### Boxplot of normalized prices\n",
    "[TODO] Do the same as above, but for the normalized price (price per square foot) column"
   ]
  },
  {
   "cell_type": "code",
   "execution_count": 28,
   "metadata": {},
   "outputs": [],
   "source": [
    "h1fam_nprices = list(h1fam_ppsq)\n",
    "town_nprices = list(town_ppsq)\n",
    "dplx_nprices = list(dplx_ppsq)\n",
    "\n",
    "nprices = [h1fam_nprices, town_nprices, dplx_nprices]"
   ]
  },
  {
   "cell_type": "code",
   "execution_count": 29,
   "metadata": {},
   "outputs": [
    {
     "data": {
      "text/plain": [
       "{'whiskers': [<matplotlib.lines.Line2D at 0x122d1c898>,\n",
       "  <matplotlib.lines.Line2D at 0x122d1cbe0>,\n",
       "  <matplotlib.lines.Line2D at 0x122d29fd0>,\n",
       "  <matplotlib.lines.Line2D at 0x122d34358>,\n",
       "  <matplotlib.lines.Line2D at 0x122d43748>,\n",
       "  <matplotlib.lines.Line2D at 0x122d43a90>],\n",
       " 'caps': [<matplotlib.lines.Line2D at 0x122d1cf28>,\n",
       "  <matplotlib.lines.Line2D at 0x122d292b0>,\n",
       "  <matplotlib.lines.Line2D at 0x122d346a0>,\n",
       "  <matplotlib.lines.Line2D at 0x122d349e8>,\n",
       "  <matplotlib.lines.Line2D at 0x122d43dd8>,\n",
       "  <matplotlib.lines.Line2D at 0x122d4c160>],\n",
       " 'boxes': [<matplotlib.lines.Line2D at 0x122d1c588>,\n",
       "  <matplotlib.lines.Line2D at 0x122d29c50>,\n",
       "  <matplotlib.lines.Line2D at 0x122d433c8>],\n",
       " 'medians': [<matplotlib.lines.Line2D at 0x122d295f8>,\n",
       "  <matplotlib.lines.Line2D at 0x122d34d30>,\n",
       "  <matplotlib.lines.Line2D at 0x122d4c4a8>],\n",
       " 'fliers': [<matplotlib.lines.Line2D at 0x122d29940>,\n",
       "  <matplotlib.lines.Line2D at 0x122d430b8>,\n",
       "  <matplotlib.lines.Line2D at 0x122d4c7f0>],\n",
       " 'means': []}"
      ]
     },
     "execution_count": 29,
     "metadata": {},
     "output_type": "execute_result"
    },
    {
     "data": {
      "image/png": "[encoded data removed]",
      "text/plain": [
       "<Figure size 432x288 with 1 Axes>"
      ]
     },
     "metadata": {
      "needs_background": "light"
     },
     "output_type": "display_data"
    }
   ],
   "source": [
    "plt.boxplot(nprices, labels=types)"
   ]
  },
  {
   "cell_type": "markdown",
   "metadata": {},
   "source": [
    "### Analysis\n",
    "In the Price boxplot, the median (orange line) looks about the same between Single Family and Townhouse, but in the normalized plot, the median for Townhouse is higher. Why is this be the case?"
   ]
  },
  {
   "cell_type": "markdown",
   "metadata": {},
   "source": [
    "[TODO] Answer here:\n",
    "\n",
    "Single family houses can be much larger, which affects the price. In the normalized version, this effect is accounted for. Townhouses are probably newer since this type of housing wasn't as typical in the midwest so a bit pricier."
   ]
  },
  {
   "cell_type": "markdown",
   "metadata": {},
   "source": [
    "## Scatter plot\n",
    "[TODO] To further under the relationship between house size and price for these two different housing types, we will use a scatter plot, which is useful for showing these kinds of relationships. We will plot Price vs Size and overlay Twhs and SFam.\n",
    "\n",
    "Steps:\n",
    "- Use `subplots` as in the in-class example to get the axis object\n",
    "- Scatter plot for single family\n",
    "- Scatter plot for townhouse\n",
    "- Legend"
   ]
  },
  {
   "cell_type": "code",
   "execution_count": 30,
   "metadata": {},
   "outputs": [
    {
     "data": {
      "text/plain": [
       "<matplotlib.legend.Legend at 0x122ea3f98>"
      ]
     },
     "execution_count": 30,
     "metadata": {},
     "output_type": "execute_result"
    },
    {
     "data": {
      "image/png": "[encoded data removed]",
      "text/plain": [
       "<Figure size 432x288 with 1 Axes>"
      ]
     },
     "metadata": {
      "needs_background": "light"
     },
     "output_type": "display_data"
    }
   ],
   "source": [
    "fig, ax = plt.subplots()\n",
    "ax.scatter(list(h1fam_df['Price']), list(h1fam_df['Size']), label='SFam')\n",
    "ax.scatter(list(town_df['Price']), list(town_df['Size']), label='Twnhs')\n",
    "\n",
    "ax.legend()"
   ]
  },
  {
   "cell_type": "markdown",
   "metadata": {},
   "source": [
    "How would you compare the distribution of prices for these two different housing types? What about the distribution of sizes? What is a typical townhouse compared to a typical single family house?\n",
    "\n",
    "[TODO] Answer:\n",
    "\n"
   ]
  },
  {
   "cell_type": "markdown",
   "metadata": {},
   "source": [
    "## Histograms\n",
    "\n",
    "To understand the distribution of single family prices better, we will display two histograms: one of the prices and one of the normalized prices. "
   ]
  },
  {
   "cell_type": "markdown",
   "metadata": {},
   "source": [
    "### Prices\n",
    "\n",
    "[TODO] A histogram of the single family house prices. Use bins of size 50,000 ranging from \\$0 to \\$700,000.\n",
    "\n",
    "Compute the bins as follows \n",
    "```\n",
    "bins=[i*50000 for i in range(0,14)]\n",
    "```\n",
    "\n",
    "This iterates over the integers 0 to 14, multiplying each by 50,000 to give the bins we want."
   ]
  },
  {
   "cell_type": "code",
   "execution_count": 31,
   "metadata": {},
   "outputs": [
    {
     "data": {
      "text/plain": [
       "(array([ 11., 161., 815., 667., 351., 201.,  98.,  54.,  31.,  15.,   6.,\n",
       "          6.,   4.]),\n",
       " array([     0,  50000, 100000, 150000, 200000, 250000, 300000, 350000,\n",
       "        400000, 450000, 500000, 550000, 600000, 650000]),\n",
       " <a list of 13 Patch objects>)"
      ]
     },
     "execution_count": 31,
     "metadata": {},
     "output_type": "execute_result"
    },
    {
     "data": {
      "image/png": "[encoded data removed]",
      "text/plain": [
       "<Figure size 432x288 with 1 Axes>"
      ]
     },
     "metadata": {
      "needs_background": "light"
     },
     "output_type": "display_data"
    }
   ],
   "source": [
    "plt.hist(h1fam_prices, bins=[i*50000 for i in range(0,14)])"
   ]
  },
  {
   "cell_type": "markdown",
   "metadata": {},
   "source": [
    "The distribution should be \"left-skewed\", with a few houses at the upper price range, and a few low-priced \"fixers\" but a lot of houses within a fairly narrow price band between 100k and 200k."
   ]
  },
  {
   "cell_type": "markdown",
   "metadata": {},
   "source": [
    "### Normalized price\n",
    "\n",
    "[TODO] A histogram of normalized prices for single family houses. Use bins of size 20 from 0 to 300. "
   ]
  },
  {
   "cell_type": "code",
   "execution_count": 32,
   "metadata": {},
   "outputs": [
    {
     "data": {
      "text/plain": [
       "(array([  2.,   3.,  35., 129., 372., 644., 652., 351., 133.,  58.,  27.,\n",
       "         10.,   3.,   1.]),\n",
       " array([  0,  20,  40,  60,  80, 100, 120, 140, 160, 180, 200, 220, 240,\n",
       "        260, 280]),\n",
       " <a list of 14 Patch objects>)"
      ]
     },
     "execution_count": 32,
     "metadata": {},
     "output_type": "execute_result"
    },
    {
     "data": {
      "image/png": "[encoded data removed]",
      "text/plain": [
       "<Figure size 432x288 with 1 Axes>"
      ]
     },
     "metadata": {
      "needs_background": "light"
     },
     "output_type": "display_data"
    }
   ],
   "source": [
    "plt.hist(h1fam_ppsq, bins=[i*20 for i in range(0,15)])"
   ]
  },
  {
   "cell_type": "markdown",
   "metadata": {},
   "source": [
    "It should be almost perfectly symmetric, showing that the skew in house prices is almost entirely due to the skew in house sizes."
   ]
  },
  {
   "cell_type": "code",
   "execution_count": null,
   "metadata": {},
   "outputs": [],
   "source": []
  }
 ],
 "metadata": {
  "kernelspec": {
   "display_name": "Python 3",
   "language": "python",
   "name": "python3"
  },
  "language_info": {
   "codemirror_mode": {
    "name": "ipython",
    "version": 3
   },
   "file_extension": ".py",
   "mimetype": "text/x-python",
   "name": "python",
   "nbconvert_exporter": "python",
   "pygments_lexer": "ipython3",
   "version": "3.6.8"
  }
 },
 "nbformat": 4,
 "nbformat_minor": 4
}
