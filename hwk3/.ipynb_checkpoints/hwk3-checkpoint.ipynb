{
 "cells": [
  {
   "cell_type": "markdown",
   "metadata": {},
   "source": [
    "# Homework 3\n",
    "\n",
    "_Keke Wu_"
   ]
  },
  {
   "cell_type": "code",
   "execution_count": 1,
   "metadata": {},
   "outputs": [],
   "source": [
    "import numpy as np\n",
    "import scipy.stats as st\n",
    "import pandas as pd\n",
    "import matplotlib.pyplot as plt"
   ]
  },
  {
   "cell_type": "markdown",
   "metadata": {},
   "source": [
    "# Working with distributions\n",
    "## Loading the data\n",
    "\n",
    "Note that I am only keeping a few of the many columns that are present in the data. Note this step takes a long time because you are downloading a pretty large file over the Internet and decompressing it. You can download this file in your browser and access it locally to avoid needing the heavy bandwidth each time you run this file."
   ]
  },
  {
   "cell_type": "code",
   "execution_count": 2,
   "metadata": {},
   "outputs": [
    {
     "name": "stdout",
     "output_type": "stream",
     "text": [
      "(654360, 19)\n"
     ]
    },
    {
     "data": {
      "text/html": [
       "<div>\n",
       "<style scoped>\n",
       "    .dataframe tbody tr th:only-of-type {\n",
       "        vertical-align: middle;\n",
       "    }\n",
       "\n",
       "    .dataframe tbody tr th {\n",
       "        vertical-align: top;\n",
       "    }\n",
       "\n",
       "    .dataframe thead th {\n",
       "        text-align: right;\n",
       "    }\n",
       "</style>\n",
       "<table border=\"1\" class=\"dataframe\">\n",
       "  <thead>\n",
       "    <tr style=\"text-align: right;\">\n",
       "      <th></th>\n",
       "      <th>CASE_NUMBER</th>\n",
       "      <th>CASE_STATUS</th>\n",
       "      <th>CASE_SUBMITTED</th>\n",
       "      <th>JOB_TITLE</th>\n",
       "      <th>SOC_CODE</th>\n",
       "      <th>SOC_NAME</th>\n",
       "      <th>NAICS_CODE</th>\n",
       "      <th>TOTAL_WORKERS</th>\n",
       "      <th>NEW_EMPLOYMENT</th>\n",
       "      <th>CONTINUED_EMPLOYMENT</th>\n",
       "      <th>CHANGE_PREVIOUS_EMPLOYMENT</th>\n",
       "      <th>NEW_CONCURRENT_EMP</th>\n",
       "      <th>CHANGE_EMPLOYER</th>\n",
       "      <th>AMENDED_PETITION</th>\n",
       "      <th>FULL_TIME_POSITION</th>\n",
       "      <th>PREVAILING_WAGE</th>\n",
       "      <th>WAGE_RATE_OF_PAY_FROM</th>\n",
       "      <th>WAGE_RATE_OF_PAY_TO</th>\n",
       "      <th>WAGE_UNIT_OF_PAY</th>\n",
       "    </tr>\n",
       "  </thead>\n",
       "  <tbody>\n",
       "    <tr>\n",
       "      <th>0</th>\n",
       "      <td>I-200-18026-338377</td>\n",
       "      <td>CERTIFIED</td>\n",
       "      <td>1/29/18</td>\n",
       "      <td>SOFTWARE ENGINEER</td>\n",
       "      <td>15-1132</td>\n",
       "      <td>SOFTWARE DEVELOPERS, APPLICATIONS</td>\n",
       "      <td>51121.0</td>\n",
       "      <td>1</td>\n",
       "      <td>0</td>\n",
       "      <td>1</td>\n",
       "      <td>0</td>\n",
       "      <td>0</td>\n",
       "      <td>0</td>\n",
       "      <td>0</td>\n",
       "      <td>Y</td>\n",
       "      <td>112549.0</td>\n",
       "      <td>143915.0</td>\n",
       "      <td>0.0</td>\n",
       "      <td>Year</td>\n",
       "    </tr>\n",
       "    <tr>\n",
       "      <th>1</th>\n",
       "      <td>I-200-17296-353451</td>\n",
       "      <td>CERTIFIED</td>\n",
       "      <td>10/23/17</td>\n",
       "      <td>TAX SENIOR</td>\n",
       "      <td>13-2011</td>\n",
       "      <td>ACCOUNTANTS AND AUDITORS</td>\n",
       "      <td>541211.0</td>\n",
       "      <td>1</td>\n",
       "      <td>0</td>\n",
       "      <td>0</td>\n",
       "      <td>0</td>\n",
       "      <td>0</td>\n",
       "      <td>1</td>\n",
       "      <td>0</td>\n",
       "      <td>Y</td>\n",
       "      <td>79976.0</td>\n",
       "      <td>100000.0</td>\n",
       "      <td>0.0</td>\n",
       "      <td>Year</td>\n",
       "    </tr>\n",
       "    <tr>\n",
       "      <th>2</th>\n",
       "      <td>I-200-18242-524477</td>\n",
       "      <td>CERTIFIED</td>\n",
       "      <td>8/30/18</td>\n",
       "      <td>DATABASE ADMINISTRATOR</td>\n",
       "      <td>15-1141</td>\n",
       "      <td>DATABASE ADMINISTRATORS</td>\n",
       "      <td>541511.0</td>\n",
       "      <td>1</td>\n",
       "      <td>0</td>\n",
       "      <td>0</td>\n",
       "      <td>0</td>\n",
       "      <td>0</td>\n",
       "      <td>1</td>\n",
       "      <td>0</td>\n",
       "      <td>Y</td>\n",
       "      <td>77792.0</td>\n",
       "      <td>78240.0</td>\n",
       "      <td>0.0</td>\n",
       "      <td>Year</td>\n",
       "    </tr>\n",
       "    <tr>\n",
       "      <th>3</th>\n",
       "      <td>I-200-18070-575236</td>\n",
       "      <td>CERTIFIED</td>\n",
       "      <td>NaN</td>\n",
       "      <td>SOFTWARE ENGINEER</td>\n",
       "      <td>15-1132</td>\n",
       "      <td>SOFTWARE DEVELOPERS, APPLICATIONS</td>\n",
       "      <td>541511.0</td>\n",
       "      <td>5</td>\n",
       "      <td>5</td>\n",
       "      <td>0</td>\n",
       "      <td>0</td>\n",
       "      <td>0</td>\n",
       "      <td>0</td>\n",
       "      <td>0</td>\n",
       "      <td>Y</td>\n",
       "      <td>84406.0</td>\n",
       "      <td>84406.0</td>\n",
       "      <td>85000.0</td>\n",
       "      <td>Year</td>\n",
       "    </tr>\n",
       "    <tr>\n",
       "      <th>4</th>\n",
       "      <td>I-200-18243-850522</td>\n",
       "      <td>CERTIFIED</td>\n",
       "      <td>8/31/18</td>\n",
       "      <td>MICROSOFT DYNAMICS CRM APPLICATION DEVELOPER</td>\n",
       "      <td>15-1132</td>\n",
       "      <td>SOFTWARE DEVELOPERS, APPLICATIONS</td>\n",
       "      <td>541511.0</td>\n",
       "      <td>1</td>\n",
       "      <td>0</td>\n",
       "      <td>0</td>\n",
       "      <td>0</td>\n",
       "      <td>0</td>\n",
       "      <td>0</td>\n",
       "      <td>1</td>\n",
       "      <td>Y</td>\n",
       "      <td>87714.0</td>\n",
       "      <td>95000.0</td>\n",
       "      <td>0.0</td>\n",
       "      <td>Year</td>\n",
       "    </tr>\n",
       "  </tbody>\n",
       "</table>\n",
       "</div>"
      ],
      "text/plain": [
       "          CASE_NUMBER CASE_STATUS CASE_SUBMITTED  \\\n",
       "0  I-200-18026-338377   CERTIFIED        1/29/18   \n",
       "1  I-200-17296-353451   CERTIFIED       10/23/17   \n",
       "2  I-200-18242-524477   CERTIFIED        8/30/18   \n",
       "3  I-200-18070-575236   CERTIFIED            NaN   \n",
       "4  I-200-18243-850522   CERTIFIED        8/31/18   \n",
       "\n",
       "                                      JOB_TITLE SOC_CODE  \\\n",
       "0                             SOFTWARE ENGINEER  15-1132   \n",
       "1                                    TAX SENIOR  13-2011   \n",
       "2                        DATABASE ADMINISTRATOR  15-1141   \n",
       "3                             SOFTWARE ENGINEER  15-1132   \n",
       "4  MICROSOFT DYNAMICS CRM APPLICATION DEVELOPER  15-1132   \n",
       "\n",
       "                            SOC_NAME  NAICS_CODE  TOTAL_WORKERS  \\\n",
       "0  SOFTWARE DEVELOPERS, APPLICATIONS     51121.0              1   \n",
       "1           ACCOUNTANTS AND AUDITORS    541211.0              1   \n",
       "2            DATABASE ADMINISTRATORS    541511.0              1   \n",
       "3  SOFTWARE DEVELOPERS, APPLICATIONS    541511.0              5   \n",
       "4  SOFTWARE DEVELOPERS, APPLICATIONS    541511.0              1   \n",
       "\n",
       "   NEW_EMPLOYMENT  CONTINUED_EMPLOYMENT  CHANGE_PREVIOUS_EMPLOYMENT  \\\n",
       "0               0                     1                           0   \n",
       "1               0                     0                           0   \n",
       "2               0                     0                           0   \n",
       "3               5                     0                           0   \n",
       "4               0                     0                           0   \n",
       "\n",
       "   NEW_CONCURRENT_EMP  CHANGE_EMPLOYER  AMENDED_PETITION FULL_TIME_POSITION  \\\n",
       "0                   0                0                 0                  Y   \n",
       "1                   0                1                 0                  Y   \n",
       "2                   0                1                 0                  Y   \n",
       "3                   0                0                 0                  Y   \n",
       "4                   0                0                 1                  Y   \n",
       "\n",
       "   PREVAILING_WAGE  WAGE_RATE_OF_PAY_FROM  WAGE_RATE_OF_PAY_TO  \\\n",
       "0         112549.0               143915.0                  0.0   \n",
       "1          79976.0               100000.0                  0.0   \n",
       "2          77792.0                78240.0                  0.0   \n",
       "3          84406.0                84406.0              85000.0   \n",
       "4          87714.0                95000.0                  0.0   \n",
       "\n",
       "  WAGE_UNIT_OF_PAY  \n",
       "0             Year  \n",
       "1             Year  \n",
       "2             Year  \n",
       "3             Year  \n",
       "4             Year  "
      ]
     },
     "execution_count": 2,
     "metadata": {},
     "output_type": "execute_result"
    }
   ],
   "source": [
    "keep_cols = ['CASE_NUMBER', 'CASE_STATUS', 'CASE_SUBMITTED', \n",
    "       'JOB_TITLE', 'SOC_CODE', 'SOC_NAME', 'NAICS_CODE', 'TOTAL_WORKERS',\n",
    "       'NEW_EMPLOYMENT', 'CONTINUED_EMPLOYMENT', 'CHANGE_PREVIOUS_EMPLOYMENT',\n",
    "       'NEW_CONCURRENT_EMP', 'CHANGE_EMPLOYER', 'AMENDED_PETITION',\n",
    "       'FULL_TIME_POSITION', 'PREVAILING_WAGE',\n",
    "       'WAGE_RATE_OF_PAY_FROM', 'WAGE_RATE_OF_PAY_TO', 'WAGE_UNIT_OF_PAY']\n",
    "\n",
    "url = 'http://rodan.cdm.depaul.edu/~rburke/courses/h1b-2018.zip'\n",
    "\n",
    "h1b = pd.read_csv(url, usecols=keep_cols, thousands=',', compression='zip')\n",
    "print (h1b.shape)\n",
    "h1b.head()"
   ]
  },
  {
   "cell_type": "markdown",
   "metadata": {},
   "source": [
    "## [TODO] Extract jobs occupation code for academics in math and science\n",
    "\n",
    "We also want to make sure that we are looking only at full-time positions and for a full-year. Otherwise, the salary information will be harder to compare.\n",
    "\n",
    "- professors in math and science areas SOC_CODE = 25-1022\n",
    "- WAGE_UNIT_OF_PAY = Year\n",
    "- FULL_TIME_POSITION = Y\n",
    "\n",
    "Use binary indexing and conjoin the different clauses with & (and): each record must satisfy all the criteria.\n",
    "\n",
    "Print the shape and show the `head()` of the data frame. You should have 775 rows."
   ]
  },
  {
   "cell_type": "code",
   "execution_count": 3,
   "metadata": {},
   "outputs": [
    {
     "name": "stdout",
     "output_type": "stream",
     "text": [
      "(775, 19)\n"
     ]
    },
    {
     "data": {
      "text/html": [
       "<div>\n",
       "<style scoped>\n",
       "    .dataframe tbody tr th:only-of-type {\n",
       "        vertical-align: middle;\n",
       "    }\n",
       "\n",
       "    .dataframe tbody tr th {\n",
       "        vertical-align: top;\n",
       "    }\n",
       "\n",
       "    .dataframe thead th {\n",
       "        text-align: right;\n",
       "    }\n",
       "</style>\n",
       "<table border=\"1\" class=\"dataframe\">\n",
       "  <thead>\n",
       "    <tr style=\"text-align: right;\">\n",
       "      <th></th>\n",
       "      <th>CASE_NUMBER</th>\n",
       "      <th>CASE_STATUS</th>\n",
       "      <th>CASE_SUBMITTED</th>\n",
       "      <th>JOB_TITLE</th>\n",
       "      <th>SOC_CODE</th>\n",
       "      <th>SOC_NAME</th>\n",
       "      <th>NAICS_CODE</th>\n",
       "      <th>TOTAL_WORKERS</th>\n",
       "      <th>NEW_EMPLOYMENT</th>\n",
       "      <th>CONTINUED_EMPLOYMENT</th>\n",
       "      <th>CHANGE_PREVIOUS_EMPLOYMENT</th>\n",
       "      <th>NEW_CONCURRENT_EMP</th>\n",
       "      <th>CHANGE_EMPLOYER</th>\n",
       "      <th>AMENDED_PETITION</th>\n",
       "      <th>FULL_TIME_POSITION</th>\n",
       "      <th>PREVAILING_WAGE</th>\n",
       "      <th>WAGE_RATE_OF_PAY_FROM</th>\n",
       "      <th>WAGE_RATE_OF_PAY_TO</th>\n",
       "      <th>WAGE_UNIT_OF_PAY</th>\n",
       "    </tr>\n",
       "  </thead>\n",
       "  <tbody>\n",
       "    <tr>\n",
       "      <th>66</th>\n",
       "      <td>I-200-16054-038551</td>\n",
       "      <td>CERTIFIED-WITHDRAWN</td>\n",
       "      <td>2/23/16</td>\n",
       "      <td>J.L. DOOB RESEARCH ASSISTANT PROFESSOR</td>\n",
       "      <td>25-1022</td>\n",
       "      <td>MATHEMATICAL SCIENCE TEACHERS, POSTSECONDARY</td>\n",
       "      <td>611310.0</td>\n",
       "      <td>1</td>\n",
       "      <td>1</td>\n",
       "      <td>0</td>\n",
       "      <td>0</td>\n",
       "      <td>0</td>\n",
       "      <td>0</td>\n",
       "      <td>0</td>\n",
       "      <td>Y</td>\n",
       "      <td>38260.0</td>\n",
       "      <td>52000.0</td>\n",
       "      <td>0.0</td>\n",
       "      <td>Year</td>\n",
       "    </tr>\n",
       "    <tr>\n",
       "      <th>363</th>\n",
       "      <td>I-200-18059-096740</td>\n",
       "      <td>DENIED</td>\n",
       "      <td>2/28/18</td>\n",
       "      <td>ASSISTANT PROFESSOR</td>\n",
       "      <td>25-1022</td>\n",
       "      <td>MATHEMATICAL SCIENCE TEACHERS, POSTSECONDARY</td>\n",
       "      <td>611310.0</td>\n",
       "      <td>1</td>\n",
       "      <td>0</td>\n",
       "      <td>1</td>\n",
       "      <td>0</td>\n",
       "      <td>0</td>\n",
       "      <td>0</td>\n",
       "      <td>0</td>\n",
       "      <td>Y</td>\n",
       "      <td>33070.0</td>\n",
       "      <td>80000.0</td>\n",
       "      <td>0.0</td>\n",
       "      <td>Year</td>\n",
       "    </tr>\n",
       "    <tr>\n",
       "      <th>973</th>\n",
       "      <td>I-200-18040-127892</td>\n",
       "      <td>CERTIFIED-WITHDRAWN</td>\n",
       "      <td>2/15/18</td>\n",
       "      <td>ASSISTANT PROFESSOR</td>\n",
       "      <td>25-1022</td>\n",
       "      <td>MATHEMATICAL SCIENCE TEACHERS, POSTSECONDARY</td>\n",
       "      <td>611310.0</td>\n",
       "      <td>1</td>\n",
       "      <td>0</td>\n",
       "      <td>1</td>\n",
       "      <td>0</td>\n",
       "      <td>0</td>\n",
       "      <td>0</td>\n",
       "      <td>0</td>\n",
       "      <td>Y</td>\n",
       "      <td>50680.0</td>\n",
       "      <td>88115.0</td>\n",
       "      <td>0.0</td>\n",
       "      <td>Year</td>\n",
       "    </tr>\n",
       "    <tr>\n",
       "      <th>2040</th>\n",
       "      <td>I-200-17340-332208</td>\n",
       "      <td>CERTIFIED</td>\n",
       "      <td>12/6/17</td>\n",
       "      <td>ASSISTANT PROFESSOR</td>\n",
       "      <td>25-1022</td>\n",
       "      <td>MATHEMATICAL SCIENCE TEACHERS, POSTSECONDARY</td>\n",
       "      <td>611310.0</td>\n",
       "      <td>1</td>\n",
       "      <td>1</td>\n",
       "      <td>0</td>\n",
       "      <td>0</td>\n",
       "      <td>0</td>\n",
       "      <td>0</td>\n",
       "      <td>0</td>\n",
       "      <td>Y</td>\n",
       "      <td>37530.0</td>\n",
       "      <td>62500.0</td>\n",
       "      <td>0.0</td>\n",
       "      <td>Year</td>\n",
       "    </tr>\n",
       "    <tr>\n",
       "      <th>2544</th>\n",
       "      <td>I-200-18128-129134</td>\n",
       "      <td>CERTIFIED</td>\n",
       "      <td>5/8/18</td>\n",
       "      <td>LECTURER</td>\n",
       "      <td>25-1022</td>\n",
       "      <td>MATHEMATICAL SCIENCE TEACHERS, POSTSECONDARY</td>\n",
       "      <td>611310.0</td>\n",
       "      <td>1</td>\n",
       "      <td>0</td>\n",
       "      <td>1</td>\n",
       "      <td>0</td>\n",
       "      <td>0</td>\n",
       "      <td>0</td>\n",
       "      <td>0</td>\n",
       "      <td>Y</td>\n",
       "      <td>48210.0</td>\n",
       "      <td>48577.0</td>\n",
       "      <td>0.0</td>\n",
       "      <td>Year</td>\n",
       "    </tr>\n",
       "  </tbody>\n",
       "</table>\n",
       "</div>"
      ],
      "text/plain": [
       "             CASE_NUMBER          CASE_STATUS CASE_SUBMITTED  \\\n",
       "66    I-200-16054-038551  CERTIFIED-WITHDRAWN        2/23/16   \n",
       "363   I-200-18059-096740               DENIED        2/28/18   \n",
       "973   I-200-18040-127892  CERTIFIED-WITHDRAWN        2/15/18   \n",
       "2040  I-200-17340-332208            CERTIFIED        12/6/17   \n",
       "2544  I-200-18128-129134            CERTIFIED         5/8/18   \n",
       "\n",
       "                                   JOB_TITLE SOC_CODE  \\\n",
       "66    J.L. DOOB RESEARCH ASSISTANT PROFESSOR  25-1022   \n",
       "363                      ASSISTANT PROFESSOR  25-1022   \n",
       "973                      ASSISTANT PROFESSOR  25-1022   \n",
       "2040                     ASSISTANT PROFESSOR  25-1022   \n",
       "2544                                LECTURER  25-1022   \n",
       "\n",
       "                                          SOC_NAME  NAICS_CODE  TOTAL_WORKERS  \\\n",
       "66    MATHEMATICAL SCIENCE TEACHERS, POSTSECONDARY    611310.0              1   \n",
       "363   MATHEMATICAL SCIENCE TEACHERS, POSTSECONDARY    611310.0              1   \n",
       "973   MATHEMATICAL SCIENCE TEACHERS, POSTSECONDARY    611310.0              1   \n",
       "2040  MATHEMATICAL SCIENCE TEACHERS, POSTSECONDARY    611310.0              1   \n",
       "2544  MATHEMATICAL SCIENCE TEACHERS, POSTSECONDARY    611310.0              1   \n",
       "\n",
       "      NEW_EMPLOYMENT  CONTINUED_EMPLOYMENT  CHANGE_PREVIOUS_EMPLOYMENT  \\\n",
       "66                 1                     0                           0   \n",
       "363                0                     1                           0   \n",
       "973                0                     1                           0   \n",
       "2040               1                     0                           0   \n",
       "2544               0                     1                           0   \n",
       "\n",
       "      NEW_CONCURRENT_EMP  CHANGE_EMPLOYER  AMENDED_PETITION  \\\n",
       "66                     0                0                 0   \n",
       "363                    0                0                 0   \n",
       "973                    0                0                 0   \n",
       "2040                   0                0                 0   \n",
       "2544                   0                0                 0   \n",
       "\n",
       "     FULL_TIME_POSITION  PREVAILING_WAGE  WAGE_RATE_OF_PAY_FROM  \\\n",
       "66                    Y          38260.0                52000.0   \n",
       "363                   Y          33070.0                80000.0   \n",
       "973                   Y          50680.0                88115.0   \n",
       "2040                  Y          37530.0                62500.0   \n",
       "2544                  Y          48210.0                48577.0   \n",
       "\n",
       "      WAGE_RATE_OF_PAY_TO WAGE_UNIT_OF_PAY  \n",
       "66                    0.0             Year  \n",
       "363                   0.0             Year  \n",
       "973                   0.0             Year  \n",
       "2040                  0.0             Year  \n",
       "2544                  0.0             Year  "
      ]
     },
     "execution_count": 3,
     "metadata": {},
     "output_type": "execute_result"
    }
   ],
   "source": [
    "professors_in_math_science = h1b[(h1b.SOC_CODE=='25-1022') & (h1b.WAGE_UNIT_OF_PAY=='Year') & (h1b.FULL_TIME_POSITION=='Y')]\n",
    "print(professors_in_math_science.shape)\n",
    "professors_in_math_science.head()"
   ]
  },
  {
   "cell_type": "markdown",
   "metadata": {},
   "source": [
    "### [TODO] Create a boxplot of WAGE_RATE_OF_PAY_FROM\n",
    "This is the amount the company is proposing to pay the prospective H1B visa holder."
   ]
  },
  {
   "cell_type": "code",
   "execution_count": 4,
   "metadata": {},
   "outputs": [
    {
     "data": {
      "image/png": "[encoded data removed]",
      "text/plain": [
       "<Figure size 432x288 with 1 Axes>"
      ]
     },
     "metadata": {
      "needs_background": "light"
     },
     "output_type": "display_data"
    }
   ],
   "source": [
    "plt.boxplot([professors_in_math_science.WAGE_RATE_OF_PAY_FROM], labels=[\"ull time professors in math & science\"]);"
   ]
  },
  {
   "cell_type": "markdown",
   "metadata": {},
   "source": [
    "### [TODO] Outlier\n",
    "\n",
    "There is a major outlier in this data. Using `idxmax` print this row of the data. "
   ]
  },
  {
   "cell_type": "code",
   "execution_count": 5,
   "metadata": {},
   "outputs": [
    {
     "name": "stdout",
     "output_type": "stream",
     "text": [
      "CASE_NUMBER                                             I-200-18110-490090\n",
      "CASE_STATUS                                                      WITHDRAWN\n",
      "CASE_SUBMITTED                                                     4/20/18\n",
      "JOB_TITLE                                              ASSISTANT PROFESSOR\n",
      "SOC_CODE                                                           25-1022\n",
      "SOC_NAME                      MATHEMATICAL SCIENCE TEACHERS, POSTSECONDARY\n",
      "NAICS_CODE                                                          611310\n",
      "TOTAL_WORKERS                                                            1\n",
      "NEW_EMPLOYMENT                                                           1\n",
      "CONTINUED_EMPLOYMENT                                                     0\n",
      "CHANGE_PREVIOUS_EMPLOYMENT                                               0\n",
      "NEW_CONCURRENT_EMP                                                       0\n",
      "CHANGE_EMPLOYER                                                          0\n",
      "AMENDED_PETITION                                                         0\n",
      "FULL_TIME_POSITION                                                       Y\n",
      "PREVAILING_WAGE                                                      83640\n",
      "WAGE_RATE_OF_PAY_FROM                                               836400\n",
      "WAGE_RATE_OF_PAY_TO                                                      0\n",
      "WAGE_UNIT_OF_PAY                                                      Year\n",
      "Name: 467790, dtype: object\n"
     ]
    }
   ],
   "source": [
    "outlier_idx = professors_in_math_science.WAGE_RATE_OF_PAY_FROM.idxmax()\n",
    "outlier_idx\n",
    "print(professors_in_math_science.loc[outlier_idx])"
   ]
  },
  {
   "cell_type": "markdown",
   "metadata": {},
   "source": [
    "### [TODO] What is the problem here? (Compare prevailing wage and wage rate from values.)\n",
    "\n",
    "Answer: The prevailing wage is about tenth of the wage rate, which is unusual and might just be a typo."
   ]
  },
  {
   "cell_type": "markdown",
   "metadata": {},
   "source": [
    "## [TODO] Clean up the data to remove this entry"
   ]
  },
  {
   "cell_type": "code",
   "execution_count": 6,
   "metadata": {},
   "outputs": [
    {
     "name": "stdout",
     "output_type": "stream",
     "text": [
      "(774, 19)\n"
     ]
    }
   ],
   "source": [
    "cl_professors = professors_in_math_science.drop(index=outlier_idx)\n",
    "print(cl_professors.shape)"
   ]
  },
  {
   "cell_type": "code",
   "execution_count": 7,
   "metadata": {},
   "outputs": [
    {
     "data": {
      "text/plain": [
       "count       774.000000\n",
       "mean      75448.039806\n",
       "std       26467.341097\n",
       "min       31890.000000\n",
       "25%       57321.000000\n",
       "50%       72000.000000\n",
       "75%       89218.500000\n",
       "max      360000.000000\n",
       "Name: WAGE_RATE_OF_PAY_FROM, dtype: float64"
      ]
     },
     "execution_count": 7,
     "metadata": {},
     "output_type": "execute_result"
    }
   ],
   "source": [
    "cl_professors.WAGE_RATE_OF_PAY_FROM.describe()"
   ]
  },
  {
   "cell_type": "markdown",
   "metadata": {},
   "source": [
    "## Wage distribution\n",
    "\n",
    "[TODO] Compute a histogram of the wage distribution. Use bins of size $10,000"
   ]
  },
  {
   "cell_type": "code",
   "execution_count": 8,
   "metadata": {},
   "outputs": [
    {
     "data": {
      "image/png": "[encoded data removed]",
      "text/plain": [
       "<Figure size 432x288 with 1 Axes>"
      ]
     },
     "metadata": {
      "needs_background": "light"
     },
     "output_type": "display_data"
    }
   ],
   "source": [
    "bin_wage = int((cl_professors.WAGE_RATE_OF_PAY_FROM.max() - cl_professors.WAGE_RATE_OF_PAY_FROM.min())/10000)\n",
    "plt.hist(cl_professors.WAGE_RATE_OF_PAY_FROM, bins=bin_wage);"
   ]
  },
  {
   "cell_type": "markdown",
   "metadata": {},
   "source": [
    "[TODO] Compute the normal probability plot"
   ]
  },
  {
   "cell_type": "code",
   "execution_count": 9,
   "metadata": {},
   "outputs": [
    {
     "data": {
      "image/png": "[encoded data removed]",
      "text/plain": [
       "<Figure size 432x288 with 1 Axes>"
      ]
     },
     "metadata": {
      "needs_background": "light"
     },
     "output_type": "display_data"
    }
   ],
   "source": [
    "st.probplot(cl_professors.WAGE_RATE_OF_PAY_FROM, dist='norm', plot = plt);"
   ]
  },
  {
   "cell_type": "markdown",
   "metadata": {},
   "source": [
    "### [TODO] Interpret\n",
    "\n",
    "What can we learn about the \"normality\" of the wage distribution?\n",
    "\n",
    "Answer: The wage distribution is heavy-tailed to the right, somewhat light-tailed to the left, many identical values from 5000 - 100000. Max value is around 360000, minimum vaue is around 30000, with a range of about 360000 - 30000 = 35700."
   ]
  },
  {
   "cell_type": "markdown",
   "metadata": {},
   "source": [
    "## Assistant professors\n",
    "\n",
    "[TODO] Extract the assistant professors from the data set, so that the distribution does not combine junior and senior faculty salaries. \n",
    "\n",
    "NEW\n",
    "\n",
    "Hint: Use `.str.contains('ASSISTANT PROF')` as the boolean indexer to extract the appropriate rows."
   ]
  },
  {
   "cell_type": "code",
   "execution_count": 10,
   "metadata": {},
   "outputs": [
    {
     "data": {
      "text/html": [
       "<div>\n",
       "<style scoped>\n",
       "    .dataframe tbody tr th:only-of-type {\n",
       "        vertical-align: middle;\n",
       "    }\n",
       "\n",
       "    .dataframe tbody tr th {\n",
       "        vertical-align: top;\n",
       "    }\n",
       "\n",
       "    .dataframe thead th {\n",
       "        text-align: right;\n",
       "    }\n",
       "</style>\n",
       "<table border=\"1\" class=\"dataframe\">\n",
       "  <thead>\n",
       "    <tr style=\"text-align: right;\">\n",
       "      <th></th>\n",
       "      <th>CASE_NUMBER</th>\n",
       "      <th>CASE_STATUS</th>\n",
       "      <th>CASE_SUBMITTED</th>\n",
       "      <th>JOB_TITLE</th>\n",
       "      <th>SOC_CODE</th>\n",
       "      <th>SOC_NAME</th>\n",
       "      <th>NAICS_CODE</th>\n",
       "      <th>TOTAL_WORKERS</th>\n",
       "      <th>NEW_EMPLOYMENT</th>\n",
       "      <th>CONTINUED_EMPLOYMENT</th>\n",
       "      <th>CHANGE_PREVIOUS_EMPLOYMENT</th>\n",
       "      <th>NEW_CONCURRENT_EMP</th>\n",
       "      <th>CHANGE_EMPLOYER</th>\n",
       "      <th>AMENDED_PETITION</th>\n",
       "      <th>FULL_TIME_POSITION</th>\n",
       "      <th>PREVAILING_WAGE</th>\n",
       "      <th>WAGE_RATE_OF_PAY_FROM</th>\n",
       "      <th>WAGE_RATE_OF_PAY_TO</th>\n",
       "      <th>WAGE_UNIT_OF_PAY</th>\n",
       "    </tr>\n",
       "  </thead>\n",
       "  <tbody>\n",
       "    <tr>\n",
       "      <th>66</th>\n",
       "      <td>I-200-16054-038551</td>\n",
       "      <td>CERTIFIED-WITHDRAWN</td>\n",
       "      <td>2/23/16</td>\n",
       "      <td>J.L. DOOB RESEARCH ASSISTANT PROFESSOR</td>\n",
       "      <td>25-1022</td>\n",
       "      <td>MATHEMATICAL SCIENCE TEACHERS, POSTSECONDARY</td>\n",
       "      <td>611310.0</td>\n",
       "      <td>1</td>\n",
       "      <td>1</td>\n",
       "      <td>0</td>\n",
       "      <td>0</td>\n",
       "      <td>0</td>\n",
       "      <td>0</td>\n",
       "      <td>0</td>\n",
       "      <td>Y</td>\n",
       "      <td>38260.0</td>\n",
       "      <td>52000.0</td>\n",
       "      <td>0.0</td>\n",
       "      <td>Year</td>\n",
       "    </tr>\n",
       "    <tr>\n",
       "      <th>363</th>\n",
       "      <td>I-200-18059-096740</td>\n",
       "      <td>DENIED</td>\n",
       "      <td>2/28/18</td>\n",
       "      <td>ASSISTANT PROFESSOR</td>\n",
       "      <td>25-1022</td>\n",
       "      <td>MATHEMATICAL SCIENCE TEACHERS, POSTSECONDARY</td>\n",
       "      <td>611310.0</td>\n",
       "      <td>1</td>\n",
       "      <td>0</td>\n",
       "      <td>1</td>\n",
       "      <td>0</td>\n",
       "      <td>0</td>\n",
       "      <td>0</td>\n",
       "      <td>0</td>\n",
       "      <td>Y</td>\n",
       "      <td>33070.0</td>\n",
       "      <td>80000.0</td>\n",
       "      <td>0.0</td>\n",
       "      <td>Year</td>\n",
       "    </tr>\n",
       "    <tr>\n",
       "      <th>973</th>\n",
       "      <td>I-200-18040-127892</td>\n",
       "      <td>CERTIFIED-WITHDRAWN</td>\n",
       "      <td>2/15/18</td>\n",
       "      <td>ASSISTANT PROFESSOR</td>\n",
       "      <td>25-1022</td>\n",
       "      <td>MATHEMATICAL SCIENCE TEACHERS, POSTSECONDARY</td>\n",
       "      <td>611310.0</td>\n",
       "      <td>1</td>\n",
       "      <td>0</td>\n",
       "      <td>1</td>\n",
       "      <td>0</td>\n",
       "      <td>0</td>\n",
       "      <td>0</td>\n",
       "      <td>0</td>\n",
       "      <td>Y</td>\n",
       "      <td>50680.0</td>\n",
       "      <td>88115.0</td>\n",
       "      <td>0.0</td>\n",
       "      <td>Year</td>\n",
       "    </tr>\n",
       "    <tr>\n",
       "      <th>2040</th>\n",
       "      <td>I-200-17340-332208</td>\n",
       "      <td>CERTIFIED</td>\n",
       "      <td>12/6/17</td>\n",
       "      <td>ASSISTANT PROFESSOR</td>\n",
       "      <td>25-1022</td>\n",
       "      <td>MATHEMATICAL SCIENCE TEACHERS, POSTSECONDARY</td>\n",
       "      <td>611310.0</td>\n",
       "      <td>1</td>\n",
       "      <td>1</td>\n",
       "      <td>0</td>\n",
       "      <td>0</td>\n",
       "      <td>0</td>\n",
       "      <td>0</td>\n",
       "      <td>0</td>\n",
       "      <td>Y</td>\n",
       "      <td>37530.0</td>\n",
       "      <td>62500.0</td>\n",
       "      <td>0.0</td>\n",
       "      <td>Year</td>\n",
       "    </tr>\n",
       "    <tr>\n",
       "      <th>3947</th>\n",
       "      <td>I-200-18066-520644</td>\n",
       "      <td>CERTIFIED</td>\n",
       "      <td>3/13/18</td>\n",
       "      <td>VISITING ASSISTANT PROFESSOR</td>\n",
       "      <td>25-1022</td>\n",
       "      <td>MATHEMATICAL SCIENCE TEACHERS, POSTSECONDARY</td>\n",
       "      <td>611310.0</td>\n",
       "      <td>1</td>\n",
       "      <td>1</td>\n",
       "      <td>0</td>\n",
       "      <td>0</td>\n",
       "      <td>0</td>\n",
       "      <td>0</td>\n",
       "      <td>0</td>\n",
       "      <td>Y</td>\n",
       "      <td>43580.0</td>\n",
       "      <td>66000.0</td>\n",
       "      <td>0.0</td>\n",
       "      <td>Year</td>\n",
       "    </tr>\n",
       "  </tbody>\n",
       "</table>\n",
       "</div>"
      ],
      "text/plain": [
       "             CASE_NUMBER          CASE_STATUS CASE_SUBMITTED  \\\n",
       "66    I-200-16054-038551  CERTIFIED-WITHDRAWN        2/23/16   \n",
       "363   I-200-18059-096740               DENIED        2/28/18   \n",
       "973   I-200-18040-127892  CERTIFIED-WITHDRAWN        2/15/18   \n",
       "2040  I-200-17340-332208            CERTIFIED        12/6/17   \n",
       "3947  I-200-18066-520644            CERTIFIED        3/13/18   \n",
       "\n",
       "                                   JOB_TITLE SOC_CODE  \\\n",
       "66    J.L. DOOB RESEARCH ASSISTANT PROFESSOR  25-1022   \n",
       "363                      ASSISTANT PROFESSOR  25-1022   \n",
       "973                      ASSISTANT PROFESSOR  25-1022   \n",
       "2040                     ASSISTANT PROFESSOR  25-1022   \n",
       "3947            VISITING ASSISTANT PROFESSOR  25-1022   \n",
       "\n",
       "                                          SOC_NAME  NAICS_CODE  TOTAL_WORKERS  \\\n",
       "66    MATHEMATICAL SCIENCE TEACHERS, POSTSECONDARY    611310.0              1   \n",
       "363   MATHEMATICAL SCIENCE TEACHERS, POSTSECONDARY    611310.0              1   \n",
       "973   MATHEMATICAL SCIENCE TEACHERS, POSTSECONDARY    611310.0              1   \n",
       "2040  MATHEMATICAL SCIENCE TEACHERS, POSTSECONDARY    611310.0              1   \n",
       "3947  MATHEMATICAL SCIENCE TEACHERS, POSTSECONDARY    611310.0              1   \n",
       "\n",
       "      NEW_EMPLOYMENT  CONTINUED_EMPLOYMENT  CHANGE_PREVIOUS_EMPLOYMENT  \\\n",
       "66                 1                     0                           0   \n",
       "363                0                     1                           0   \n",
       "973                0                     1                           0   \n",
       "2040               1                     0                           0   \n",
       "3947               1                     0                           0   \n",
       "\n",
       "      NEW_CONCURRENT_EMP  CHANGE_EMPLOYER  AMENDED_PETITION  \\\n",
       "66                     0                0                 0   \n",
       "363                    0                0                 0   \n",
       "973                    0                0                 0   \n",
       "2040                   0                0                 0   \n",
       "3947                   0                0                 0   \n",
       "\n",
       "     FULL_TIME_POSITION  PREVAILING_WAGE  WAGE_RATE_OF_PAY_FROM  \\\n",
       "66                    Y          38260.0                52000.0   \n",
       "363                   Y          33070.0                80000.0   \n",
       "973                   Y          50680.0                88115.0   \n",
       "2040                  Y          37530.0                62500.0   \n",
       "3947                  Y          43580.0                66000.0   \n",
       "\n",
       "      WAGE_RATE_OF_PAY_TO WAGE_UNIT_OF_PAY  \n",
       "66                    0.0             Year  \n",
       "363                   0.0             Year  \n",
       "973                   0.0             Year  \n",
       "2040                  0.0             Year  \n",
       "3947                  0.0             Year  "
      ]
     },
     "execution_count": 10,
     "metadata": {},
     "output_type": "execute_result"
    }
   ],
   "source": [
    "assistant_professors = cl_professors[(cl_professors.JOB_TITLE.str.contains('ASSISTANT PROF'))]\n",
    "assistant_professors.head()"
   ]
  },
  {
   "cell_type": "markdown",
   "metadata": {},
   "source": [
    "### [TODO] Histogram and [TODO] normal probability plot as above"
   ]
  },
  {
   "cell_type": "code",
   "execution_count": 11,
   "metadata": {},
   "outputs": [
    {
     "data": {
      "image/png": "[encoded data removed]",
      "text/plain": [
       "<Figure size 432x288 with 1 Axes>"
      ]
     },
     "metadata": {
      "needs_background": "light"
     },
     "output_type": "display_data"
    }
   ],
   "source": [
    "wage_bins = int((assistant_professors.WAGE_RATE_OF_PAY_FROM.max() - assistant_professors.WAGE_RATE_OF_PAY_FROM.min())/10000)\n",
    "plt.hist(assistant_professors.WAGE_RATE_OF_PAY_FROM, bins=wage_bins);"
   ]
  },
  {
   "cell_type": "code",
   "execution_count": 12,
   "metadata": {},
   "outputs": [
    {
     "data": {
      "image/png": "[encoded data removed]",
      "text/plain": [
       "<Figure size 432x288 with 1 Axes>"
      ]
     },
     "metadata": {
      "needs_background": "light"
     },
     "output_type": "display_data"
    }
   ],
   "source": [
    "st.probplot(assistant_professors.WAGE_RATE_OF_PAY_FROM, dist='norm', plot = plt);"
   ]
  },
  {
   "cell_type": "markdown",
   "metadata": {},
   "source": [
    "### [TODO] Interpret\n",
    "\n",
    "Is this closer to a normal distribution? What deviations remain?\n",
    "\n",
    "Answer: It is closer to a normal distribution, however the probability plot is still light-tailed to both sides.\n"
   ]
  },
  {
   "cell_type": "markdown",
   "metadata": {},
   "source": [
    "### Comparison\n",
    "\n",
    "Using the random value simulation technique from the in-class exercise, create a plot of the density-based histogram and the theoretical curve. Use 10,000 simulated values. It should look something like this:\n",
    "\n",
    "<img src=\"sample-plot.png\" alt=\"plot\" width=\"300px\" />\n",
    "\n",
    "Steps:\n",
    "\n",
    "- Create random variable\n",
    "- Create histogram counts for the wages\n",
    "- Create random data\n",
    "- Create histogram counts for the random data\n",
    "- Plot "
   ]
  },
  {
   "cell_type": "code",
   "execution_count": 13,
   "metadata": {},
   "outputs": [],
   "source": [
    "ap_wage = list(assistant_professors.WAGE_RATE_OF_PAY_FROM)\n",
    "wage_mean = np.mean(ap_wage)\n",
    "wage_std = np.std(ap_wage)"
   ]
  },
  {
   "cell_type": "code",
   "execution_count": 14,
   "metadata": {},
   "outputs": [],
   "source": [
    "prob = st.norm(wage_mean, wage_std)"
   ]
  },
  {
   "cell_type": "code",
   "execution_count": 15,
   "metadata": {},
   "outputs": [],
   "source": [
    "counts, wage_bins = np.histogram(ap_wage, bins=wage_bins)"
   ]
  },
  {
   "cell_type": "code",
   "execution_count": 16,
   "metadata": {},
   "outputs": [],
   "source": [
    "wage_theory = [prob.rvs() for _ in range(0, 10000)]\n",
    "counts_theory, bins_theory = np.histogram(wage_theory, bins=wage_bins, density=True)"
   ]
  },
  {
   "cell_type": "code",
   "execution_count": 17,
   "metadata": {},
   "outputs": [
    {
     "data": {
      "image/png": "[encoded data removed]",
      "text/plain": [
       "<Figure size 432x288 with 1 Axes>"
      ]
     },
     "metadata": {
      "needs_background": "light"
     },
     "output_type": "display_data"
    }
   ],
   "source": [
    "fig, ax = plt.subplots()\n",
    "ax.hist(ap_wage, bins=wage_bins, density=True)\n",
    "\n",
    "pts = [(wage_bins[i]+wage_bins[i+1])/2 for i in range(0,len(wage_bins)-1)]\n",
    "ax.plot(pts, counts_theory, \"r-\");"
   ]
  },
  {
   "cell_type": "markdown",
   "metadata": {},
   "source": [
    "## Using the normal approximate to compute\n",
    "\n",
    "### What percentile is an $80,000 salary?\n",
    "Print with 2 digits of precision."
   ]
  },
  {
   "cell_type": "code",
   "execution_count": 18,
   "metadata": {},
   "outputs": [
    {
     "name": "stdout",
     "output_type": "stream",
     "text": [
      "0.56\n"
     ]
    }
   ],
   "source": [
    "print(f'{prob.cdf(80000):.2f}')"
   ]
  },
  {
   "cell_type": "markdown",
   "metadata": {},
   "source": [
    "### What is the minimum salary to be in the top 10%?\n",
    "Print rouding to the nearest dollar."
   ]
  },
  {
   "cell_type": "code",
   "execution_count": 19,
   "metadata": {},
   "outputs": [],
   "source": [
    "x = prob.ppf(0.9)"
   ]
  },
  {
   "cell_type": "code",
   "execution_count": 20,
   "metadata": {},
   "outputs": [
    {
     "name": "stdout",
     "output_type": "stream",
     "text": [
      "102122.0\n"
     ]
    }
   ],
   "source": [
    "print(round(x))"
   ]
  }
 ],
 "metadata": {
  "kernelspec": {
   "display_name": "Python 3",
   "language": "python",
   "name": "python3"
  },
  "language_info": {
   "codemirror_mode": {
    "name": "ipython",
    "version": 3
   },
   "file_extension": ".py",
   "mimetype": "text/x-python",
   "name": "python",
   "nbconvert_exporter": "python",
   "pygments_lexer": "ipython3",
   "version": "3.7.3"
  }
 },
 "nbformat": 4,
 "nbformat_minor": 4
}
