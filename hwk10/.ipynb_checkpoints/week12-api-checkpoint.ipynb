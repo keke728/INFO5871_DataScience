{
 "cells": [
  {
   "cell_type": "markdown",
   "metadata": {},
   "source": [
    "# Using an API\n",
    "\n",
    "INFO 5871-001\n",
    "\n",
    "Not an in-class exercise because requires package installation"
   ]
  },
  {
   "cell_type": "code",
   "execution_count": 99,
   "metadata": {},
   "outputs": [],
   "source": [
    "import nltk\n",
    "from nltk.tokenize import word_tokenize\n",
    "\n",
    "import urllib.parse\n",
    "import requests\n",
    "import json\n",
    "from xml.etree import ElementTree\n",
    "from xml.dom import minidom\n",
    "\n",
    "import ddg3"
   ]
  },
  {
   "cell_type": "markdown",
   "metadata": {},
   "source": [
    "## This is the wrapper\n",
    "\n",
    "We can get certain kinds of results from DuckDuckGo. Does not require OAuth."
   ]
  },
  {
   "cell_type": "code",
   "execution_count": 69,
   "metadata": {},
   "outputs": [],
   "source": [
    "r = ddg3.query('keystone resort')"
   ]
  },
  {
   "cell_type": "code",
   "execution_count": 70,
   "metadata": {},
   "outputs": [
    {
     "data": {
      "text/plain": [
       "<ddg3.Results at 0x1a2341d240>"
      ]
     },
     "execution_count": 70,
     "metadata": {},
     "output_type": "execute_result"
    }
   ],
   "source": [
    "r"
   ]
  },
  {
   "cell_type": "code",
   "execution_count": 71,
   "metadata": {},
   "outputs": [
    {
     "data": {
      "text/plain": [
       "'answer'"
      ]
     },
     "execution_count": 71,
     "metadata": {},
     "output_type": "execute_result"
    }
   ],
   "source": [
    "r.type"
   ]
  },
  {
   "cell_type": "code",
   "execution_count": 72,
   "metadata": {},
   "outputs": [
    {
     "data": {
      "text/plain": [
       "[<ddg3.Result at 0x1a234b4cc0>]"
      ]
     },
     "execution_count": 72,
     "metadata": {},
     "output_type": "execute_result"
    }
   ],
   "source": [
    "r.results"
   ]
  },
  {
   "cell_type": "code",
   "execution_count": 73,
   "metadata": {},
   "outputs": [
    {
     "data": {
      "text/plain": [
       "'Keystone Resort'"
      ]
     },
     "execution_count": 73,
     "metadata": {},
     "output_type": "execute_result"
    }
   ],
   "source": [
    "r.heading"
   ]
  },
  {
   "cell_type": "code",
   "execution_count": 74,
   "metadata": {},
   "outputs": [
    {
     "data": {
      "text/plain": [
       "'https://www.keystoneresort.com/'"
      ]
     },
     "execution_count": 74,
     "metadata": {},
     "output_type": "execute_result"
    }
   ],
   "source": [
    "r.results[0].url"
   ]
  },
  {
   "cell_type": "code",
   "execution_count": 75,
   "metadata": {},
   "outputs": [
    {
     "data": {
      "text/plain": [
       "<ddg3.Abstract at 0x1a234b4c18>"
      ]
     },
     "execution_count": 75,
     "metadata": {},
     "output_type": "execute_result"
    }
   ],
   "source": [
    "r.abstract"
   ]
  },
  {
   "cell_type": "code",
   "execution_count": 76,
   "metadata": {},
   "outputs": [
    {
     "data": {
      "text/plain": [
       "'Keystone Resort is a ski resort located in Keystone, Colorado, United States. Since 1997 the resort has been owned and operated by Vail Resorts. It consists of three mountains – Dercum Mountain, North Peak, the Outback – and five Bowls offering skiing at all levels. The three mountains are connected by a series of ski lifts and gondolas. Keystone offers night skiing on Dercum Mountain during the Thanksgiving holiday and mid-December through March.'"
      ]
     },
     "execution_count": 76,
     "metadata": {},
     "output_type": "execute_result"
    }
   ],
   "source": [
    "r.abstract.text"
   ]
  },
  {
   "cell_type": "code",
   "execution_count": 77,
   "metadata": {},
   "outputs": [
    {
     "data": {
      "text/plain": [
       "[<ddg3.Result at 0x1a234b4748>,\n",
       " <ddg3.Result at 0x1a234b4a20>,\n",
       " <ddg3.Result at 0x1a234b4ac8>,\n",
       " <ddg3.Result at 0x1a234b4b70>]"
      ]
     },
     "execution_count": 77,
     "metadata": {},
     "output_type": "execute_result"
    }
   ],
   "source": [
    "r.related"
   ]
  },
  {
   "cell_type": "code",
   "execution_count": 78,
   "metadata": {},
   "outputs": [
    {
     "data": {
      "text/plain": [
       "'Vail Resorts'"
      ]
     },
     "execution_count": 78,
     "metadata": {},
     "output_type": "execute_result"
    }
   ],
   "source": [
    "r.related[0].text"
   ]
  },
  {
   "cell_type": "markdown",
   "metadata": {},
   "source": [
    "## The hard way\n",
    "\n",
    "Build our own urls and process what comes back. This is the JSON version."
   ]
  },
  {
   "cell_type": "code",
   "execution_count": 109,
   "metadata": {},
   "outputs": [],
   "source": [
    "params = urllib.parse.urlencode({'q': 'keystone resort', 'o': 'j'})\n",
    "url = 'http://duckduckgo.com/?{}'.format(params)"
   ]
  },
  {
   "cell_type": "code",
   "execution_count": 84,
   "metadata": {},
   "outputs": [
    {
     "data": {
      "text/plain": [
       "'var ddg745709={\"ImageWidth\":299,\"AbstractText\":\"Keystone Resort is a ski resort located in Keystone, Colorado, United States. Since 1997 the resort has been owned and operated by Vail Resorts. It consists of three mountains \\\\u2013 Dercum Mountain, North Peak, the Outback \\\\u2013 and five Bowls offering skiing at all levels. The three mountains are connected by a series of ski lifts and gondolas. Keystone offers night skiing on Dercum Mountain during the Thanksgiving holiday and mid-December through March.\",\"RelatedTopics\":[{\"FirstURL\":\"https://duckduckgo.com/c/Vail_Resorts\",\"Text\":\"Vail Resorts\",\"Result\":\"<a href=\\\\\"https://duckduckgo.com/c/Vail_Resorts\\\\\">Vail Resorts</a>\",\"Icon\":{\"Width\":\"\",\"URL\":\"\",\"Height\":\"\"}},{\"Icon\":{\"Width\":\"\",\"URL\":\"\",\"Height\":\"\"},\"Result\":\"<a href=\\\\\"https://duckduckgo.com/c/Buildings_and_structures_in_Summit_County%2C_Colorado\\\\\">Buildings and structures in Summit County, Colorado</a>\",\"Text\":\"Buildings and structures in Summit County, Colorado\",\"FirstURL\":\"https://duckduckgo.com/c/Buildings_and_structures_in_Summit_County%2C_Colorado\"},{\"FirstURL\":\"https://duckduckgo.com/c/Ski_areas_and_resorts_in_Colorado\",\"Text\":\"Ski areas and resorts in Colorado\",\"Result\":\"<a href=\\\\\"https://duckduckgo.com/c/Ski_areas_and_resorts_in_Colorado\\\\\">Ski areas and resorts in Colorado</a>\",\"Icon\":{\"URL\":\"\",\"Height\":\"\",\"Width\":\"\"}},{\"FirstURL\":\"https://duckduckgo.com/c/White_River_National_Forest\",\"Text\":\"White River National Forest\",\"Result\":\"<a href=\\\\\"https://duckduckgo.com/c/White_River_National_Forest\\\\\">White River National Forest</a>\",\"Icon\":{\"Height\":\"\",\"URL\":\"\",\"Width\":\"\"}}],\"DefinitionSource\":\"\",\"ImageHeight\":200,\"Entity\":\"ski area\",\"DefinitionURL\":\"\",\"Answer\":\"\",\"Definition\":\"\",\"Heading\":\"Keystone Resort\",\"Image\":\"https://duckduckgo.com/i/fdd55987.jpg\",\"AbstractSource\":\"Wikipedia\",\"Infobox\":{\"content\":[{\"label\":\"Location\",\"value\":\"White River National Forest, Summit County, Colorado, United States\",\"wiki_order\":0,\"data_type\":\"string\"},{\"wiki_order\":1,\"data_type\":\"string\",\"label\":\"Nearest city\",\"value\":\"Keystone, Colorado\"},{\"value\":\"12408 ft (3781.96 m)\",\"label\":\"Top elevation\",\"data_type\":\"string\",\"wiki_order\":2},{\"value\":\"9280 ft (2828.54 m)\",\"label\":\"Base elevation\",\"wiki_order\":3,\"data_type\":\"string\"},{\"label\":\"Skiable area\",\"value\":\"3148 acres (12.7km\\\\u00b2)\",\"data_type\":\"string\",\"wiki_order\":4},{\"wiki_order\":5,\"data_type\":\"string\",\"label\":\"Runs\",\"value\":\"135 total, (19% beginner, 32% intermediate, 49% advanced)\"},{\"label\":\"Longest run\",\"value\":\"Schoolmarm - 3.5 mi (5.63 km)\",\"wiki_order\":6,\"data_type\":\"string\"},{\"value\":\"20 total (2 gondolas, 11 chair lifts (two high speed six packs, four high speed quads, one fixed grip quad, one triple chairlift, three double chairlifts), seven surface lifts)\",\"label\":\"Lift system\",\"data_type\":\"string\",\"wiki_order\":7},{\"label\":\"Snowfall\",\"value\":\"230 in/year (5.8 m/year)\",\"data_type\":\"string\",\"wiki_order\":8},{\"wiki_order\":9,\"data_type\":\"string\",\"label\":\"Snowmaking\",\"value\":\"662+ acres\"},{\"value\":\"15 trails\",\"label\":\"Night skiing\",\"data_type\":\"string\",\"wiki_order\":10},{\"data_type\":\"coordinates\",\"wiki_order\":\"205\",\"value\":{\"altitude\":null,\"longitude\":-105.954,\"globe\":\"http://www.wikidata.org/entity/Q2\",\"latitude\":39.605,\"precision\":0.001},\"label\":\"Coordinates\"},{\"wiki_order\":\"207\",\"data_type\":\"instance\",\"value\":{\"numeric-id\":130003,\"entity-type\":\"item\",\"id\":\"Q130003\"},\"label\":\"Instance of\"}],\"meta\":[{\"label\":\"article_title\",\"value\":\"Keystone Resort\",\"data_type\":\"string\"},{\"label\":\"template_name\",\"value\":\"infobox ski area\",\"data_type\":\"string\"},{\"data_type\":\"string\",\"label\":\"above\",\"value\":\"Keystone Resort\"}]},\"Results\":[{\"FirstURL\":\"https://www.keystoneresort.com/\",\"Text\":\"Official site\",\"Result\":\"<a href=\\\\\"https://www.keystoneresort.com/\\\\\"><b>Official site</b></a><a href=\\\\\"https://www.keystoneresort.com/\\\\\"></a>\",\"Icon\":{\"URL\":\"https://duckduckgo.com/i/keystoneresort.com.ico\",\"Height\":16,\"Width\":16}}],\"AnswerType\":\"\",\"Redirect\":\"\",\"Abstract\":\"Keystone Resort is a ski resort located in Keystone, Colorado, United States. Since 1997 the resort has been owned and operated by Vail Resorts. It consists of three mountains \\\\u2013 Dercum Mountain, North Peak, the Outback \\\\u2013 and five Bowls offering skiing at all levels. The three mountains are connected by a series of ski lifts and gondolas. Keystone offers night skiing on Dercum Mountain during the Thanksgiving holiday and mid-December through March.\",\"Type\":\"A\",\"AbstractURL\":\"https://en.wikipedia.org/wiki/Keystone_Resort\",\"meta\":{\"signal_from\":\"wikipedia_fathead\",\"tab\":\"About\",\"designer\":null,\"producer\":null,\"example_query\":\"nikola tesla\",\"src_url\":null,\"attribution\":null,\"src_domain\":\"en.wikipedia.org\",\"is_stackexchange\":null,\"blockgroup\":null,\"src_options\":{\"language\":\"en\",\"skip_image_name\":0,\"src_info\":\"\",\"skip_qr\":\"\",\"source_skip\":\"\",\"is_mediawiki\":1,\"is_wikipedia\":1,\"directory\":\"\",\"skip_abstract_paren\":0,\"is_fanon\":0,\"skip_end\":\"0\",\"skip_abstract\":0,\"min_abstract_length\":\"20\",\"skip_icon\":0},\"repo\":\"fathead\",\"production_state\":\"online\",\"developer\":[{\"type\":\"ddg\",\"name\":\"DDG Team\",\"url\":\"http://www.duckduckhack.com\"}],\"name\":\"Wikipedia\",\"topic\":[\"productivity\"],\"status\":\"live\",\"src_id\":1,\"created_date\":null,\"unsafe\":0,\"src_name\":\"Wikipedia\",\"maintainer\":{\"github\":\"duckduckgo\"},\"dev_date\":null,\"dev_milestone\":\"live\",\"js_callback_name\":\"wikipedia\",\"perl_module\":\"DDG::Fathead::Wikipedia\",\"id\":\"wikipedia_fathead\",\"live_date\":null,\"description\":\"Wikipedia\"},\"ImageIsLogo\":0};ddg_render2(ddg745709);'"
      ]
     },
     "execution_count": 84,
     "metadata": {},
     "output_type": "execute_result"
    }
   ],
   "source": [
    "request = requests.get(url, headers={'User-Agent': 'Jupyter notebook'})\n",
    "response = request.text\n",
    "response"
   ]
  },
  {
   "cell_type": "code",
   "execution_count": 89,
   "metadata": {},
   "outputs": [],
   "source": [
    "jresp = json.loads(response[14:-24])"
   ]
  },
  {
   "cell_type": "code",
   "execution_count": 90,
   "metadata": {},
   "outputs": [
    {
     "data": {
      "text/plain": [
       "{'ImageWidth': 299,\n",
       " 'AbstractText': 'Keystone Resort is a ski resort located in Keystone, Colorado, United States. Since 1997 the resort has been owned and operated by Vail Resorts. It consists of three mountains – Dercum Mountain, North Peak, the Outback – and five Bowls offering skiing at all levels. The three mountains are connected by a series of ski lifts and gondolas. Keystone offers night skiing on Dercum Mountain during the Thanksgiving holiday and mid-December through March.',\n",
       " 'RelatedTopics': [{'FirstURL': 'https://duckduckgo.com/c/Vail_Resorts',\n",
       "   'Text': 'Vail Resorts',\n",
       "   'Result': '<a href=\"https://duckduckgo.com/c/Vail_Resorts\">Vail Resorts</a>',\n",
       "   'Icon': {'Width': '', 'URL': '', 'Height': ''}},\n",
       "  {'Icon': {'Width': '', 'URL': '', 'Height': ''},\n",
       "   'Result': '<a href=\"https://duckduckgo.com/c/Buildings_and_structures_in_Summit_County%2C_Colorado\">Buildings and structures in Summit County, Colorado</a>',\n",
       "   'Text': 'Buildings and structures in Summit County, Colorado',\n",
       "   'FirstURL': 'https://duckduckgo.com/c/Buildings_and_structures_in_Summit_County%2C_Colorado'},\n",
       "  {'FirstURL': 'https://duckduckgo.com/c/Ski_areas_and_resorts_in_Colorado',\n",
       "   'Text': 'Ski areas and resorts in Colorado',\n",
       "   'Result': '<a href=\"https://duckduckgo.com/c/Ski_areas_and_resorts_in_Colorado\">Ski areas and resorts in Colorado</a>',\n",
       "   'Icon': {'URL': '', 'Height': '', 'Width': ''}},\n",
       "  {'FirstURL': 'https://duckduckgo.com/c/White_River_National_Forest',\n",
       "   'Text': 'White River National Forest',\n",
       "   'Result': '<a href=\"https://duckduckgo.com/c/White_River_National_Forest\">White River National Forest</a>',\n",
       "   'Icon': {'Height': '', 'URL': '', 'Width': ''}}],\n",
       " 'DefinitionSource': '',\n",
       " 'ImageHeight': 200,\n",
       " 'Entity': 'ski area',\n",
       " 'DefinitionURL': '',\n",
       " 'Answer': '',\n",
       " 'Definition': '',\n",
       " 'Heading': 'Keystone Resort',\n",
       " 'Image': 'https://duckduckgo.com/i/fdd55987.jpg',\n",
       " 'AbstractSource': 'Wikipedia',\n",
       " 'Infobox': {'content': [{'label': 'Location',\n",
       "    'value': 'White River National Forest, Summit County, Colorado, United States',\n",
       "    'wiki_order': 0,\n",
       "    'data_type': 'string'},\n",
       "   {'wiki_order': 1,\n",
       "    'data_type': 'string',\n",
       "    'label': 'Nearest city',\n",
       "    'value': 'Keystone, Colorado'},\n",
       "   {'value': '12408 ft (3781.96 m)',\n",
       "    'label': 'Top elevation',\n",
       "    'data_type': 'string',\n",
       "    'wiki_order': 2},\n",
       "   {'value': '9280 ft (2828.54 m)',\n",
       "    'label': 'Base elevation',\n",
       "    'wiki_order': 3,\n",
       "    'data_type': 'string'},\n",
       "   {'label': 'Skiable area',\n",
       "    'value': '3148 acres (12.7km²)',\n",
       "    'data_type': 'string',\n",
       "    'wiki_order': 4},\n",
       "   {'wiki_order': 5,\n",
       "    'data_type': 'string',\n",
       "    'label': 'Runs',\n",
       "    'value': '135 total, (19% beginner, 32% intermediate, 49% advanced)'},\n",
       "   {'label': 'Longest run',\n",
       "    'value': 'Schoolmarm - 3.5 mi (5.63 km)',\n",
       "    'wiki_order': 6,\n",
       "    'data_type': 'string'},\n",
       "   {'value': '20 total (2 gondolas, 11 chair lifts (two high speed six packs, four high speed quads, one fixed grip quad, one triple chairlift, three double chairlifts), seven surface lifts)',\n",
       "    'label': 'Lift system',\n",
       "    'data_type': 'string',\n",
       "    'wiki_order': 7},\n",
       "   {'label': 'Snowfall',\n",
       "    'value': '230 in/year (5.8 m/year)',\n",
       "    'data_type': 'string',\n",
       "    'wiki_order': 8},\n",
       "   {'wiki_order': 9,\n",
       "    'data_type': 'string',\n",
       "    'label': 'Snowmaking',\n",
       "    'value': '662+ acres'},\n",
       "   {'value': '15 trails',\n",
       "    'label': 'Night skiing',\n",
       "    'data_type': 'string',\n",
       "    'wiki_order': 10},\n",
       "   {'data_type': 'coordinates',\n",
       "    'wiki_order': '205',\n",
       "    'value': {'altitude': None,\n",
       "     'longitude': -105.954,\n",
       "     'globe': 'http://www.wikidata.org/entity/Q2',\n",
       "     'latitude': 39.605,\n",
       "     'precision': 0.001},\n",
       "    'label': 'Coordinates'},\n",
       "   {'wiki_order': '207',\n",
       "    'data_type': 'instance',\n",
       "    'value': {'numeric-id': 130003, 'entity-type': 'item', 'id': 'Q130003'},\n",
       "    'label': 'Instance of'}],\n",
       "  'meta': [{'label': 'article_title',\n",
       "    'value': 'Keystone Resort',\n",
       "    'data_type': 'string'},\n",
       "   {'label': 'template_name',\n",
       "    'value': 'infobox ski area',\n",
       "    'data_type': 'string'},\n",
       "   {'data_type': 'string', 'label': 'above', 'value': 'Keystone Resort'}]},\n",
       " 'Results': [{'FirstURL': 'https://www.keystoneresort.com/',\n",
       "   'Text': 'Official site',\n",
       "   'Result': '<a href=\"https://www.keystoneresort.com/\"><b>Official site</b></a><a href=\"https://www.keystoneresort.com/\"></a>',\n",
       "   'Icon': {'URL': 'https://duckduckgo.com/i/keystoneresort.com.ico',\n",
       "    'Height': 16,\n",
       "    'Width': 16}}],\n",
       " 'AnswerType': '',\n",
       " 'Redirect': '',\n",
       " 'Abstract': 'Keystone Resort is a ski resort located in Keystone, Colorado, United States. Since 1997 the resort has been owned and operated by Vail Resorts. It consists of three mountains – Dercum Mountain, North Peak, the Outback – and five Bowls offering skiing at all levels. The three mountains are connected by a series of ski lifts and gondolas. Keystone offers night skiing on Dercum Mountain during the Thanksgiving holiday and mid-December through March.',\n",
       " 'Type': 'A',\n",
       " 'AbstractURL': 'https://en.wikipedia.org/wiki/Keystone_Resort',\n",
       " 'meta': {'signal_from': 'wikipedia_fathead',\n",
       "  'tab': 'About',\n",
       "  'designer': None,\n",
       "  'producer': None,\n",
       "  'example_query': 'nikola tesla',\n",
       "  'src_url': None,\n",
       "  'attribution': None,\n",
       "  'src_domain': 'en.wikipedia.org',\n",
       "  'is_stackexchange': None,\n",
       "  'blockgroup': None,\n",
       "  'src_options': {'language': 'en',\n",
       "   'skip_image_name': 0,\n",
       "   'src_info': '',\n",
       "   'skip_qr': '',\n",
       "   'source_skip': '',\n",
       "   'is_mediawiki': 1,\n",
       "   'is_wikipedia': 1,\n",
       "   'directory': '',\n",
       "   'skip_abstract_paren': 0,\n",
       "   'is_fanon': 0,\n",
       "   'skip_end': '0',\n",
       "   'skip_abstract': 0,\n",
       "   'min_abstract_length': '20',\n",
       "   'skip_icon': 0},\n",
       "  'repo': 'fathead',\n",
       "  'production_state': 'online',\n",
       "  'developer': [{'type': 'ddg',\n",
       "    'name': 'DDG Team',\n",
       "    'url': 'http://www.duckduckhack.com'}],\n",
       "  'name': 'Wikipedia',\n",
       "  'topic': ['productivity'],\n",
       "  'status': 'live',\n",
       "  'src_id': 1,\n",
       "  'created_date': None,\n",
       "  'unsafe': 0,\n",
       "  'src_name': 'Wikipedia',\n",
       "  'maintainer': {'github': 'duckduckgo'},\n",
       "  'dev_date': None,\n",
       "  'dev_milestone': 'live',\n",
       "  'js_callback_name': 'wikipedia',\n",
       "  'perl_module': 'DDG::Fathead::Wikipedia',\n",
       "  'id': 'wikipedia_fathead',\n",
       "  'live_date': None,\n",
       "  'description': 'Wikipedia'},\n",
       " 'ImageIsLogo': 0}"
      ]
     },
     "execution_count": 90,
     "metadata": {},
     "output_type": "execute_result"
    }
   ],
   "source": [
    "jresp"
   ]
  },
  {
   "cell_type": "markdown",
   "metadata": {},
   "source": [
    "### Accessing content"
   ]
  },
  {
   "cell_type": "code",
   "execution_count": 110,
   "metadata": {},
   "outputs": [
    {
     "data": {
      "text/plain": [
       "'Keystone Resort is a ski resort located in Keystone, Colorado, United States. Since 1997 the resort has been owned and operated by Vail Resorts. It consists of three mountains – Dercum Mountain, North Peak, the Outback – and five Bowls offering skiing at all levels. The three mountains are connected by a series of ski lifts and gondolas. Keystone offers night skiing on Dercum Mountain during the Thanksgiving holiday and mid-December through March.'"
      ]
     },
     "execution_count": 110,
     "metadata": {},
     "output_type": "execute_result"
    }
   ],
   "source": [
    "jresp['AbstractText']"
   ]
  },
  {
   "cell_type": "code",
   "execution_count": 111,
   "metadata": {},
   "outputs": [
    {
     "data": {
      "text/plain": [
       "{'FirstURL': 'https://duckduckgo.com/c/Vail_Resorts',\n",
       " 'Text': 'Vail Resorts',\n",
       " 'Result': '<a href=\"https://duckduckgo.com/c/Vail_Resorts\">Vail Resorts</a>',\n",
       " 'Icon': {'Width': '', 'URL': '', 'Height': ''}}"
      ]
     },
     "execution_count": 111,
     "metadata": {},
     "output_type": "execute_result"
    }
   ],
   "source": [
    "jresp['RelatedTopics'][0]"
   ]
  },
  {
   "cell_type": "markdown",
   "metadata": {},
   "source": [
    "## XML version"
   ]
  },
  {
   "cell_type": "code",
   "execution_count": 105,
   "metadata": {},
   "outputs": [],
   "source": [
    "params = urllib.parse.urlencode({'q': 'keystone resort', 'o': 'x'})\n",
    "url = 'http://duckduckgo.com/?{}'.format(params)"
   ]
  },
  {
   "cell_type": "code",
   "execution_count": 106,
   "metadata": {},
   "outputs": [
    {
     "data": {
      "text/plain": [
       "'<?xml version=\"1.0\" encoding=\"UTF-8\"?>\\n<DuckDuckGoResponse version=\"1.0\">\\n<Type>A</Type>\\n<Redirect></Redirect>\\n\\n<Heading>Keystone Resort</Heading>\\n\\n  <Image>https://duckduckgo.com/i/fdd55987.jpg</Image>\\n  <ImageWidth>299</ImageWidth>\\n  <ImageHeight>200</ImageHeight>\\n  <ImageIsLogo>0</ImageIsLogo>\\n  <Abstract>Keystone Resort is a ski resort located in Keystone, Colorado, United States. Since 1997 the resort has been owned and operated by Vail Resorts. It consists of three mountains – Dercum Mountain, North Peak, the Outback – and five Bowls offering skiing at all levels. The three mountains are connected by a series of ski lifts and gondolas. Keystone offers night skiing on Dercum Mountain during the Thanksgiving holiday and mid-December through March.</Abstract>\\n  <AbstractText>Keystone Resort is a ski resort located in Keystone, Colorado, United States. Since 1997 the resort has been owned and operated by Vail Resorts. It consists of three mountains – Dercum Mountain, North Peak, the Outback – and five Bowls offering skiing at all levels. The three mountains are connected by a series of ski lifts and gondolas. Keystone offers night skiing on Dercum Mountain during the Thanksgiving holiday and mid-December through March.</AbstractText>\\n  <AbstractURL>https://en.wikipedia.org/wiki/Keystone_Resort</AbstractURL>\\n  <AbstractSource>Wikipedia</AbstractSource>\\n  <Infobox>{&quot;meta&quot;:[{&quot;value&quot;:&quot;Keystone Resort&quot;,&quot;label&quot;:&quot;article_title&quot;,&quot;data_type&quot;:&quot;string&quot;},{&quot;label&quot;:&quot;template_name&quot;,&quot;data_type&quot;:&quot;string&quot;,&quot;value&quot;:&quot;infobox ski area&quot;},{&quot;data_type&quot;:&quot;string&quot;,&quot;label&quot;:&quot;above&quot;,&quot;value&quot;:&quot;Keystone Resort&quot;}],&quot;content&quot;:[{&quot;data_type&quot;:&quot;string&quot;,&quot;wiki_order&quot;:0,&quot;label&quot;:&quot;Location&quot;,&quot;value&quot;:&quot;White River National Forest, Summit County, Colorado, United States&quot;},{&quot;data_type&quot;:&quot;string&quot;,&quot;label&quot;:&quot;Nearest city&quot;,&quot;wiki_order&quot;:1,&quot;value&quot;:&quot;Keystone, Colorado&quot;},{&quot;value&quot;:&quot;12408 ft (3781.96 m)&quot;,&quot;data_type&quot;:&quot;string&quot;,&quot;label&quot;:&quot;Top elevation&quot;,&quot;wiki_order&quot;:2},{&quot;wiki_order&quot;:3,&quot;label&quot;:&quot;Base elevation&quot;,&quot;data_type&quot;:&quot;string&quot;,&quot;value&quot;:&quot;9280 ft (2828.54 m)&quot;},{&quot;wiki_order&quot;:4,&quot;label&quot;:&quot;Skiable area&quot;,&quot;data_type&quot;:&quot;string&quot;,&quot;value&quot;:&quot;3148 acres (12.7km\\\\u00b2)&quot;},{&quot;value&quot;:&quot;135 total, (19% beginner, 32% intermediate, 49% advanced)&quot;,&quot;data_type&quot;:&quot;string&quot;,&quot;wiki_order&quot;:5,&quot;label&quot;:&quot;Runs&quot;},{&quot;label&quot;:&quot;Longest run&quot;,&quot;wiki_order&quot;:6,&quot;data_type&quot;:&quot;string&quot;,&quot;value&quot;:&quot;Schoolmarm - 3.5 mi (5.63 km)&quot;},{&quot;value&quot;:&quot;20 total (2 gondolas, 11 chair lifts (two high speed six packs, four high speed quads, one fixed grip quad, one triple chairlift, three double chairlifts), seven surface lifts)&quot;,&quot;data_type&quot;:&quot;string&quot;,&quot;wiki_order&quot;:7,&quot;label&quot;:&quot;Lift system&quot;},{&quot;label&quot;:&quot;Snowfall&quot;,&quot;wiki_order&quot;:8,&quot;data_type&quot;:&quot;string&quot;,&quot;value&quot;:&quot;230 in/year (5.8 m/year)&quot;},{&quot;value&quot;:&quot;662+ acres&quot;,&quot;data_type&quot;:&quot;string&quot;,&quot;wiki_order&quot;:9,&quot;label&quot;:&quot;Snowmaking&quot;},{&quot;value&quot;:&quot;15 trails&quot;,&quot;data_type&quot;:&quot;string&quot;,&quot;label&quot;:&quot;Night skiing&quot;,&quot;wiki_order&quot;:10},{&quot;value&quot;:{&quot;precision&quot;:0.001,&quot;longitude&quot;:-105.954,&quot;latitude&quot;:39.605,&quot;altitude&quot;:null,&quot;globe&quot;:&quot;http://www.wikidata.org/entity/Q2&quot;},&quot;wiki_order&quot;:&quot;205&quot;,&quot;label&quot;:&quot;Coordinates&quot;,&quot;data_type&quot;:&quot;coordinates&quot;},{&quot;data_type&quot;:&quot;instance&quot;,&quot;wiki_order&quot;:&quot;207&quot;,&quot;label&quot;:&quot;Instance of&quot;,&quot;value&quot;:{&quot;numeric-id&quot;:130003,&quot;id&quot;:&quot;Q130003&quot;,&quot;entity-type&quot;:&quot;item&quot;}}]}</Infobox>\\n  <Entity>ski area</Entity>\\n\\n  <Definition></Definition>\\n  <Results>\\n    <Result>&lt;a href=&quot;https://www.keystoneresort.com/&quot;&gt;&lt;b&gt;Official site&lt;/b&gt;&lt;/a&gt;&lt;a href=&quot;https://www.keystoneresort.com/&quot;&gt;&lt;/a&gt;<Icon height=\"16\" width=\"16\">https://duckduckgo.com/i/keystoneresort.com.ico</Icon>\\n<Text>Official site</Text>\\n<FirstURL>https://www.keystoneresort.com/</FirstURL>\\n</Result>\\n  </Results>\\n\\n  <RelatedTopics>\\n    <RelatedTopic>&lt;a href=&quot;https://duckduckgo.com/c/Vail_Resorts&quot;&gt;Vail Resorts&lt;/a&gt;<Text>Vail Resorts</Text>\\n<FirstURL>https://duckduckgo.com/c/Vail_Resorts</FirstURL>\\n</RelatedTopic>\\n    <RelatedTopic>&lt;a href=&quot;https://duckduckgo.com/c/Buildings_and_structures_in_Summit_County%2C_Colorado&quot;&gt;Buildings and structures in Summit County, Colorado&lt;/a&gt;<Text>Buildings and structures in Summit County, Colorado</Text>\\n<FirstURL>https://duckduckgo.com/c/Buildings_and_structures_in_Summit_County%2C_Colorado</FirstURL>\\n</RelatedTopic>\\n    <RelatedTopic>&lt;a href=&quot;https://duckduckgo.com/c/Ski_areas_and_resorts_in_Colorado&quot;&gt;Ski areas and resorts in Colorado&lt;/a&gt;<Text>Ski areas and resorts in Colorado</Text>\\n<FirstURL>https://duckduckgo.com/c/Ski_areas_and_resorts_in_Colorado</FirstURL>\\n</RelatedTopic>\\n    <RelatedTopic>&lt;a href=&quot;https://duckduckgo.com/c/White_River_National_Forest&quot;&gt;White River National Forest&lt;/a&gt;<Text>White River National Forest</Text>\\n<FirstURL>https://duckduckgo.com/c/White_River_National_Forest</FirstURL>\\n</RelatedTopic>\\n  </RelatedTopics>\\n\\n</DuckDuckGoResponse>\\n'"
      ]
     },
     "execution_count": 106,
     "metadata": {},
     "output_type": "execute_result"
    }
   ],
   "source": [
    "request = requests.get(url, headers={'User-Agent': 'Jupyter notebook'})\n",
    "response = request.text\n",
    "response"
   ]
  },
  {
   "cell_type": "code",
   "execution_count": 107,
   "metadata": {},
   "outputs": [],
   "source": [
    "xml = minidom.parseString(response)"
   ]
  },
  {
   "cell_type": "code",
   "execution_count": 108,
   "metadata": {},
   "outputs": [
    {
     "name": "stdout",
     "output_type": "stream",
     "text": [
      "<?xml version=\"1.0\" ?>\n",
      "<DuckDuckGoResponse version=\"1.0\">\n",
      "   \n",
      "\n",
      "   <Type>A</Type>\n",
      "   \n",
      "\n",
      "   <Redirect/>\n",
      "   \n",
      "\n",
      "\n",
      "   <Heading>Keystone Resort</Heading>\n",
      "   \n",
      "\n",
      "  \n",
      "   <Image>https://duckduckgo.com/i/fdd55987.jpg</Image>\n",
      "   \n",
      "  \n",
      "   <ImageWidth>299</ImageWidth>\n",
      "   \n",
      "  \n",
      "   <ImageHeight>200</ImageHeight>\n",
      "   \n",
      "  \n",
      "   <ImageIsLogo>0</ImageIsLogo>\n",
      "   \n",
      "  \n",
      "   <Abstract>Keystone Resort is a ski resort located in Keystone, Colorado, United States. Since 1997 the resort has been owned and operated by Vail Resorts. It consists of three mountains – Dercum Mountain, North Peak, the Outback – and five Bowls offering skiing at all levels. The three mountains are connected by a series of ski lifts and gondolas. Keystone offers night skiing on Dercum Mountain during the Thanksgiving holiday and mid-December through March.</Abstract>\n",
      "   \n",
      "  \n",
      "   <AbstractText>Keystone Resort is a ski resort located in Keystone, Colorado, United States. Since 1997 the resort has been owned and operated by Vail Resorts. It consists of three mountains – Dercum Mountain, North Peak, the Outback – and five Bowls offering skiing at all levels. The three mountains are connected by a series of ski lifts and gondolas. Keystone offers night skiing on Dercum Mountain during the Thanksgiving holiday and mid-December through March.</AbstractText>\n",
      "   \n",
      "  \n",
      "   <AbstractURL>https://en.wikipedia.org/wiki/Keystone_Resort</AbstractURL>\n",
      "   \n",
      "  \n",
      "   <AbstractSource>Wikipedia</AbstractSource>\n",
      "   \n",
      "  \n",
      "   <Infobox>{&quot;meta&quot;:[{&quot;value&quot;:&quot;Keystone Resort&quot;,&quot;label&quot;:&quot;article_title&quot;,&quot;data_type&quot;:&quot;string&quot;},{&quot;label&quot;:&quot;template_name&quot;,&quot;data_type&quot;:&quot;string&quot;,&quot;value&quot;:&quot;infobox ski area&quot;},{&quot;data_type&quot;:&quot;string&quot;,&quot;label&quot;:&quot;above&quot;,&quot;value&quot;:&quot;Keystone Resort&quot;}],&quot;content&quot;:[{&quot;data_type&quot;:&quot;string&quot;,&quot;wiki_order&quot;:0,&quot;label&quot;:&quot;Location&quot;,&quot;value&quot;:&quot;White River National Forest, Summit County, Colorado, United States&quot;},{&quot;data_type&quot;:&quot;string&quot;,&quot;label&quot;:&quot;Nearest city&quot;,&quot;wiki_order&quot;:1,&quot;value&quot;:&quot;Keystone, Colorado&quot;},{&quot;value&quot;:&quot;12408 ft (3781.96 m)&quot;,&quot;data_type&quot;:&quot;string&quot;,&quot;label&quot;:&quot;Top elevation&quot;,&quot;wiki_order&quot;:2},{&quot;wiki_order&quot;:3,&quot;label&quot;:&quot;Base elevation&quot;,&quot;data_type&quot;:&quot;string&quot;,&quot;value&quot;:&quot;9280 ft (2828.54 m)&quot;},{&quot;wiki_order&quot;:4,&quot;label&quot;:&quot;Skiable area&quot;,&quot;data_type&quot;:&quot;string&quot;,&quot;value&quot;:&quot;3148 acres (12.7km\\u00b2)&quot;},{&quot;value&quot;:&quot;135 total, (19% beginner, 32% intermediate, 49% advanced)&quot;,&quot;data_type&quot;:&quot;string&quot;,&quot;wiki_order&quot;:5,&quot;label&quot;:&quot;Runs&quot;},{&quot;label&quot;:&quot;Longest run&quot;,&quot;wiki_order&quot;:6,&quot;data_type&quot;:&quot;string&quot;,&quot;value&quot;:&quot;Schoolmarm - 3.5 mi (5.63 km)&quot;},{&quot;value&quot;:&quot;20 total (2 gondolas, 11 chair lifts (two high speed six packs, four high speed quads, one fixed grip quad, one triple chairlift, three double chairlifts), seven surface lifts)&quot;,&quot;data_type&quot;:&quot;string&quot;,&quot;wiki_order&quot;:7,&quot;label&quot;:&quot;Lift system&quot;},{&quot;label&quot;:&quot;Snowfall&quot;,&quot;wiki_order&quot;:8,&quot;data_type&quot;:&quot;string&quot;,&quot;value&quot;:&quot;230 in/year (5.8 m/year)&quot;},{&quot;value&quot;:&quot;662+ acres&quot;,&quot;data_type&quot;:&quot;string&quot;,&quot;wiki_order&quot;:9,&quot;label&quot;:&quot;Snowmaking&quot;},{&quot;value&quot;:&quot;15 trails&quot;,&quot;data_type&quot;:&quot;string&quot;,&quot;label&quot;:&quot;Night skiing&quot;,&quot;wiki_order&quot;:10},{&quot;value&quot;:{&quot;precision&quot;:0.001,&quot;longitude&quot;:-105.954,&quot;latitude&quot;:39.605,&quot;altitude&quot;:null,&quot;globe&quot;:&quot;http://www.wikidata.org/entity/Q2&quot;},&quot;wiki_order&quot;:&quot;205&quot;,&quot;label&quot;:&quot;Coordinates&quot;,&quot;data_type&quot;:&quot;coordinates&quot;},{&quot;data_type&quot;:&quot;instance&quot;,&quot;wiki_order&quot;:&quot;207&quot;,&quot;label&quot;:&quot;Instance of&quot;,&quot;value&quot;:{&quot;numeric-id&quot;:130003,&quot;id&quot;:&quot;Q130003&quot;,&quot;entity-type&quot;:&quot;item&quot;}}]}</Infobox>\n",
      "   \n",
      "  \n",
      "   <Entity>ski area</Entity>\n",
      "   \n",
      "\n",
      "  \n",
      "   <Definition/>\n",
      "   \n",
      "  \n",
      "   <Results>\n",
      "      \n",
      "    \n",
      "      <Result>\n",
      "         &lt;a href=&quot;https://www.keystoneresort.com/&quot;&gt;&lt;b&gt;Official site&lt;/b&gt;&lt;/a&gt;&lt;a href=&quot;https://www.keystoneresort.com/&quot;&gt;&lt;/a&gt;\n",
      "         <Icon height=\"16\" width=\"16\">https://duckduckgo.com/i/keystoneresort.com.ico</Icon>\n",
      "         \n",
      "\n",
      "         <Text>Official site</Text>\n",
      "         \n",
      "\n",
      "         <FirstURL>https://www.keystoneresort.com/</FirstURL>\n",
      "         \n",
      "\n",
      "      </Result>\n",
      "      \n",
      "  \n",
      "   </Results>\n",
      "   \n",
      "\n",
      "  \n",
      "   <RelatedTopics>\n",
      "      \n",
      "    \n",
      "      <RelatedTopic>\n",
      "         &lt;a href=&quot;https://duckduckgo.com/c/Vail_Resorts&quot;&gt;Vail Resorts&lt;/a&gt;\n",
      "         <Text>Vail Resorts</Text>\n",
      "         \n",
      "\n",
      "         <FirstURL>https://duckduckgo.com/c/Vail_Resorts</FirstURL>\n",
      "         \n",
      "\n",
      "      </RelatedTopic>\n",
      "      \n",
      "    \n",
      "      <RelatedTopic>\n",
      "         &lt;a href=&quot;https://duckduckgo.com/c/Buildings_and_structures_in_Summit_County%2C_Colorado&quot;&gt;Buildings and structures in Summit County, Colorado&lt;/a&gt;\n",
      "         <Text>Buildings and structures in Summit County, Colorado</Text>\n",
      "         \n",
      "\n",
      "         <FirstURL>https://duckduckgo.com/c/Buildings_and_structures_in_Summit_County%2C_Colorado</FirstURL>\n",
      "         \n",
      "\n",
      "      </RelatedTopic>\n",
      "      \n",
      "    \n",
      "      <RelatedTopic>\n",
      "         &lt;a href=&quot;https://duckduckgo.com/c/Ski_areas_and_resorts_in_Colorado&quot;&gt;Ski areas and resorts in Colorado&lt;/a&gt;\n",
      "         <Text>Ski areas and resorts in Colorado</Text>\n",
      "         \n",
      "\n",
      "         <FirstURL>https://duckduckgo.com/c/Ski_areas_and_resorts_in_Colorado</FirstURL>\n",
      "         \n",
      "\n",
      "      </RelatedTopic>\n",
      "      \n",
      "    \n",
      "      <RelatedTopic>\n",
      "         &lt;a href=&quot;https://duckduckgo.com/c/White_River_National_Forest&quot;&gt;White River National Forest&lt;/a&gt;\n",
      "         <Text>White River National Forest</Text>\n",
      "         \n",
      "\n",
      "         <FirstURL>https://duckduckgo.com/c/White_River_National_Forest</FirstURL>\n",
      "         \n",
      "\n",
      "      </RelatedTopic>\n",
      "      \n",
      "  \n",
      "   </RelatedTopics>\n",
      "   \n",
      "\n",
      "\n",
      "</DuckDuckGoResponse>\n",
      "\n"
     ]
    }
   ],
   "source": [
    "print (xml.toprettyxml(indent=\"   \"))"
   ]
  },
  {
   "cell_type": "code",
   "execution_count": 113,
   "metadata": {},
   "outputs": [
    {
     "data": {
      "text/plain": [
       "[<DOM Element: RelatedTopic at 0x1a2351b3d8>,\n",
       " <DOM Element: RelatedTopic at 0x1a2351b5a0>,\n",
       " <DOM Element: RelatedTopic at 0x1a2351b768>,\n",
       " <DOM Element: RelatedTopic at 0x1a2351b930>]"
      ]
     },
     "execution_count": 113,
     "metadata": {},
     "output_type": "execute_result"
    }
   ],
   "source": [
    "xml.getElementsByTagName('RelatedTopic')"
   ]
  },
  {
   "cell_type": "code",
   "execution_count": 119,
   "metadata": {},
   "outputs": [
    {
     "data": {
      "text/plain": [
       "[<DOM Text node \"'<a href=\"h'...\">,\n",
       " <DOM Element: Text at 0x1a2351b470>,\n",
       " <DOM Text node \"'\\n'\">,\n",
       " <DOM Element: FirstURL at 0x1a2351b508>,\n",
       " <DOM Text node \"'\\n'\">]"
      ]
     },
     "execution_count": 119,
     "metadata": {},
     "output_type": "execute_result"
    }
   ],
   "source": [
    "xml.getElementsByTagName('RelatedTopic')[0].childNodes"
   ]
  }
 ],
 "metadata": {
  "kernelspec": {
   "display_name": "Python 3",
   "language": "python",
   "name": "python3"
  },
  "language_info": {
   "codemirror_mode": {
    "name": "ipython",
    "version": 3
   },
   "file_extension": ".py",
   "mimetype": "text/x-python",
   "name": "python",
   "nbconvert_exporter": "python",
   "pygments_lexer": "ipython3",
   "version": "3.6.8"
  }
 },
 "nbformat": 4,
 "nbformat_minor": 4
}
