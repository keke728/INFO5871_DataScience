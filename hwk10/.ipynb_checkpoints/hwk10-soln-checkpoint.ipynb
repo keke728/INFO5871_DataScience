{
 "cells": [
  {
   "cell_type": "markdown",
   "metadata": {},
   "source": [
    "# Homework 10 solution\n",
    "\n",
    "- INFO 5871-001\n",
    "- Robin Burke\n",
    "- Fall 2019"
   ]
  },
  {
   "cell_type": "markdown",
   "metadata": {},
   "source": [
    "## Imports\n",
    "\n",
    "If the `WordCloud` line fails, you may need to do `conda install wordcloud` and then restart the kernel to get it to work. Similarly, for `nltk`"
   ]
  },
  {
   "cell_type": "code",
   "execution_count": 1,
   "metadata": {},
   "outputs": [],
   "source": [
    "import pandas as pd \n",
    "import numpy as np\n",
    "import matplotlib.pyplot as plt \n",
    "import seaborn as sns \n",
    "import nltk\n",
    "from nltk.tokenize import word_tokenize\n",
    "from nltk.corpus import stopwords\n",
    "from wordcloud import WordCloud\n",
    "import statsmodels.formula.api as sm\n",
    "from statsmodels.graphics.gofplots import qqplot"
   ]
  },
  {
   "cell_type": "markdown",
   "metadata": {},
   "source": [
    "# Aim\n",
    "\n",
    "The aim of this homework is to introduce text processing with NLTK and to use logistic regression with the resulting features.\n",
    "\n",
    "The data set was compiled by the Washington Post. It lists 12,020 false or misleading statements made by President Trump from his inauguration to August 5, 2019."
   ]
  },
  {
   "cell_type": "code",
   "execution_count": 2,
   "metadata": {},
   "outputs": [
    {
     "name": "stdout",
     "output_type": "stream",
     "text": [
      "(12020, 8)\n"
     ]
    },
    {
     "data": {
      "text/html": [
       "<div>\n",
       "<style scoped>\n",
       "    .dataframe tbody tr th:only-of-type {\n",
       "        vertical-align: middle;\n",
       "    }\n",
       "\n",
       "    .dataframe tbody tr th {\n",
       "        vertical-align: top;\n",
       "    }\n",
       "\n",
       "    .dataframe thead th {\n",
       "        text-align: right;\n",
       "    }\n",
       "</style>\n",
       "<table border=\"1\" class=\"dataframe\">\n",
       "  <thead>\n",
       "    <tr style=\"text-align: right;\">\n",
       "      <th></th>\n",
       "      <th>id</th>\n",
       "      <th>date</th>\n",
       "      <th>source</th>\n",
       "      <th>topic</th>\n",
       "      <th>claim</th>\n",
       "      <th>analysis</th>\n",
       "      <th>repeated_count</th>\n",
       "      <th>repeated_ids</th>\n",
       "    </tr>\n",
       "  </thead>\n",
       "  <tbody>\n",
       "    <tr>\n",
       "      <th>0</th>\n",
       "      <td>11702</td>\n",
       "      <td>08/05/19</td>\n",
       "      <td>Twitter</td>\n",
       "      <td>Guns</td>\n",
       "      <td>“The Media has a big responsibility to life an...</td>\n",
       "      <td>There's &lt;a href=\"https://psmag.com/news/does-t...</td>\n",
       "      <td>0.0</td>\n",
       "      <td>NaN</td>\n",
       "    </tr>\n",
       "    <tr>\n",
       "      <th>1</th>\n",
       "      <td>11703</td>\n",
       "      <td>08/05/19</td>\n",
       "      <td>Twitter</td>\n",
       "      <td>Trade</td>\n",
       "      <td>“China dropped the price of their currency to ...</td>\n",
       "      <td>China's currency dropped to an 11-year low aga...</td>\n",
       "      <td>0.0</td>\n",
       "      <td>NaN</td>\n",
       "    </tr>\n",
       "    <tr>\n",
       "      <th>2</th>\n",
       "      <td>11704</td>\n",
       "      <td>08/05/19</td>\n",
       "      <td>Twitter</td>\n",
       "      <td>Trade</td>\n",
       "      <td>“Based on the historic currency manipulation b...</td>\n",
       "      <td>We calculated that through December, the Trump...</td>\n",
       "      <td>73.0</td>\n",
       "      <td>11704, 11700, 11166, 11307, 11575, 11629, 1135...</td>\n",
       "    </tr>\n",
       "    <tr>\n",
       "      <th>3</th>\n",
       "      <td>11706</td>\n",
       "      <td>08/05/19</td>\n",
       "      <td>Twitter</td>\n",
       "      <td>Trade</td>\n",
       "      <td>“China is intent on continuing to receive the ...</td>\n",
       "      <td>Trump consistently fails to understand trade d...</td>\n",
       "      <td>166.0</td>\n",
       "      <td>11706, 11576, 11388, 12211, 11552, 11394, 1218...</td>\n",
       "    </tr>\n",
       "    <tr>\n",
       "      <th>4</th>\n",
       "      <td>12154</td>\n",
       "      <td>08/05/19</td>\n",
       "      <td>Prepared speech</td>\n",
       "      <td>Guns</td>\n",
       "      <td>“Mental illness and hatred pulls the trigger, ...</td>\n",
       "      <td>The Washington Post &lt;a href=\"https://www.washi...</td>\n",
       "      <td>0.0</td>\n",
       "      <td>NaN</td>\n",
       "    </tr>\n",
       "  </tbody>\n",
       "</table>\n",
       "</div>"
      ],
      "text/plain": [
       "      id      date           source  topic  \\\n",
       "0  11702  08/05/19          Twitter   Guns   \n",
       "1  11703  08/05/19          Twitter  Trade   \n",
       "2  11704  08/05/19          Twitter  Trade   \n",
       "3  11706  08/05/19          Twitter  Trade   \n",
       "4  12154  08/05/19  Prepared speech   Guns   \n",
       "\n",
       "                                               claim  \\\n",
       "0  “The Media has a big responsibility to life an...   \n",
       "1  “China dropped the price of their currency to ...   \n",
       "2  “Based on the historic currency manipulation b...   \n",
       "3  “China is intent on continuing to receive the ...   \n",
       "4  “Mental illness and hatred pulls the trigger, ...   \n",
       "\n",
       "                                            analysis  repeated_count  \\\n",
       "0  There's <a href=\"https://psmag.com/news/does-t...             0.0   \n",
       "1  China's currency dropped to an 11-year low aga...             0.0   \n",
       "2  We calculated that through December, the Trump...            73.0   \n",
       "3  Trump consistently fails to understand trade d...           166.0   \n",
       "4  The Washington Post <a href=\"https://www.washi...             0.0   \n",
       "\n",
       "                                        repeated_ids  \n",
       "0                                                NaN  \n",
       "1                                                NaN  \n",
       "2  11704, 11700, 11166, 11307, 11575, 11629, 1135...  \n",
       "3  11706, 11576, 11388, 12211, 11552, 11394, 1218...  \n",
       "4                                                NaN  "
      ]
     },
     "execution_count": 2,
     "metadata": {},
     "output_type": "execute_result"
    }
   ],
   "source": [
    "trump = pd.read_csv('wapo_trumpclaims_export-080519.csv')\n",
    "print (trump.shape)\n",
    "trump.head()"
   ]
  },
  {
   "cell_type": "markdown",
   "metadata": {},
   "source": [
    "## The corpus\n",
    "\n",
    "Create a corpus by joining together all of the entries in the `claim` column. Some are not strings, so you will have convert to strings. Join using the following syntax:\n",
    "\n",
    "`' '.join(_list_)`\n",
    "\n",
    "This will join together all of the string in `_list_`"
   ]
  },
  {
   "cell_type": "code",
   "execution_count": 3,
   "metadata": {},
   "outputs": [],
   "source": [
    "claimlst = list(trump.claim)\n",
    "claimstr = [str(item) for item in claimlst]\n",
    "claims = ' '.join(claimstr)"
   ]
  },
  {
   "cell_type": "markdown",
   "metadata": {},
   "source": [
    "### Tokenize the claim string"
   ]
  },
  {
   "cell_type": "code",
   "execution_count": 4,
   "metadata": {},
   "outputs": [
    {
     "data": {
      "text/plain": [
       "['“', 'the', 'media', 'has', 'a', 'big', 'responsibility', 'to', 'life', 'and']"
      ]
     },
     "execution_count": 4,
     "metadata": {},
     "output_type": "execute_result"
    }
   ],
   "source": [
    "cl_words = word_tokenize(claims)\n",
    "cl_words = [word.lower() for word in cl_words]\n",
    "cl_words[0:10]"
   ]
  },
  {
   "cell_type": "markdown",
   "metadata": {},
   "source": [
    "## Remove stopwords and punctuation"
   ]
  },
  {
   "cell_type": "code",
   "execution_count": 5,
   "metadata": {},
   "outputs": [
    {
     "data": {
      "text/plain": [
       "['media',\n",
       " 'big',\n",
       " 'responsibility',\n",
       " 'life',\n",
       " 'safety',\n",
       " 'country',\n",
       " 'fake',\n",
       " 'news',\n",
       " 'contributed',\n",
       " 'greatly']"
      ]
     },
     "execution_count": 5,
     "metadata": {},
     "output_type": "execute_result"
    }
   ],
   "source": [
    "from nltk.corpus import stopwords\n",
    "english_stops = set(stopwords.words('english'))\n",
    "cl_ns = [word for word in cl_words if word not in english_stops]\n",
    "\n",
    "cl_np = [word.lower() for word in cl_ns if word.isalpha()]\n",
    "\n",
    "cl_np[0:10]"
   ]
  },
  {
   "cell_type": "markdown",
   "metadata": {},
   "source": [
    "### Lemmatize"
   ]
  },
  {
   "cell_type": "code",
   "execution_count": 6,
   "metadata": {},
   "outputs": [
    {
     "data": {
      "text/plain": [
       "['medium',\n",
       " 'big',\n",
       " 'responsibility',\n",
       " 'life',\n",
       " 'safety',\n",
       " 'country',\n",
       " 'fake',\n",
       " 'news',\n",
       " 'contributed',\n",
       " 'greatly']"
      ]
     },
     "execution_count": 6,
     "metadata": {},
     "output_type": "execute_result"
    }
   ],
   "source": [
    "from nltk.stem import WordNetLemmatizer\n",
    "lemmatizer = WordNetLemmatizer()\n",
    "\n",
    "cl_lem = [lemmatizer.lemmatize(word) for word in cl_np]\n",
    "\n",
    "cl_lem[0:10]"
   ]
  },
  {
   "cell_type": "markdown",
   "metadata": {},
   "source": [
    "### Calculate frequency distribution\n",
    "\n",
    "Output top 25 words."
   ]
  },
  {
   "cell_type": "code",
   "execution_count": 7,
   "metadata": {},
   "outputs": [
    {
     "name": "stdout",
     "output_type": "stream",
     "text": [
      "people;2197\n",
      "year;1987\n",
      "country;1814\n",
      "going;1740\n",
      "know;1559\n",
      "billion;1470\n",
      "want;1306\n",
      "one;1270\n",
      "democrat;1219\n",
      "would;1131\n",
      "said;1120\n",
      "many;1077\n",
      "get;1036\n",
      "great;1019\n",
      "like;988\n",
      "ever;943\n",
      "think;943\n",
      "time;925\n",
      "border;889\n",
      "job;888\n",
      "wall;877\n",
      "right;857\n",
      "american;854\n",
      "lot;851\n",
      "state;841\n"
     ]
    }
   ],
   "source": [
    "fdist = nltk.FreqDist(cl_lem)\n",
    "\n",
    "# Output top 25 words\n",
    "\n",
    "for word, frequency in fdist.most_common(25):\n",
    "    print(u'{};{}'.format(word, frequency))"
   ]
  },
  {
   "cell_type": "markdown",
   "metadata": {},
   "source": [
    "## Create a word cloud using the top 50 most common words\n",
    "\n",
    "- get words\n",
    "- create dictionary\n",
    "- create wordcloud\n",
    "\n"
   ]
  },
  {
   "cell_type": "code",
   "execution_count": 8,
   "metadata": {},
   "outputs": [],
   "source": [
    "top50 = fdist.most_common(50)"
   ]
  },
  {
   "cell_type": "code",
   "execution_count": 9,
   "metadata": {},
   "outputs": [],
   "source": [
    "top50_dict = {word:freq for word, freq in top50}"
   ]
  },
  {
   "cell_type": "code",
   "execution_count": 10,
   "metadata": {},
   "outputs": [
    {
     "data": {
      "image/png": "[encoded data removed]",
      "text/plain": [
       "<PIL.Image.Image image mode=RGB size=400x200 at 0x1A1D9E7358>"
      ]
     },
     "execution_count": 10,
     "metadata": {},
     "output_type": "execute_result"
    }
   ],
   "source": [
    "from wordcloud import WordCloud\n",
    "\n",
    "wc_gen = WordCloud()\n",
    "wc_gen.generate_from_frequencies(top50_dict).to_image()"
   ]
  },
  {
   "cell_type": "markdown",
   "metadata": {},
   "source": [
    "### Convert top 25 words to features\n",
    "\n",
    "Use the `convert_to_features` and `feature_to_series` functions from class.\n",
    "\n",
    "First define `convert_to_features`\n"
   ]
  },
  {
   "cell_type": "code",
   "execution_count": 11,
   "metadata": {},
   "outputs": [],
   "source": [
    "def convert_to_features (text, fwords):\n",
    "    feature_dict = {}\n",
    "    tokens = word_tokenize(str(text))\n",
    "    lower = [word.lower() for word in tokens]\n",
    "    lems = [lemmatizer.lemmatize(word) for word in lower]\n",
    "    for word in fwords:\n",
    "        if word in lems:\n",
    "            feature_dict[word] = 1\n",
    "        else:\n",
    "            feature_dict[word] = 0\n",
    "    return feature_dict"
   ]
  },
  {
   "cell_type": "markdown",
   "metadata": {},
   "source": [
    "#### Test of `convert_to_features`\n",
    "\n",
    "Next cell should return a dictionary with these contents:\n",
    "\n",
    "`{'this': 1, 'test': 1, 'piano': 0, 'cookie': 0}`"
   ]
  },
  {
   "cell_type": "code",
   "execution_count": 12,
   "metadata": {},
   "outputs": [
    {
     "data": {
      "text/plain": [
       "{'this': 1, 'test': 1, 'piano': 0, 'cookie': 0}"
      ]
     },
     "execution_count": 12,
     "metadata": {},
     "output_type": "execute_result"
    }
   ],
   "source": [
    "convert_to_features(\"This is a test\", ['this', 'test', 'piano', 'cookie'])"
   ]
  },
  {
   "cell_type": "markdown",
   "metadata": {},
   "source": [
    "Then define `feature_to_series`"
   ]
  },
  {
   "cell_type": "code",
   "execution_count": 13,
   "metadata": {},
   "outputs": [],
   "source": [
    "def feature_to_series (feature_dicts, fword):\n",
    "    return pd.Series([feature_dict[fword] for feature_dict in feature_dicts])"
   ]
  },
  {
   "cell_type": "markdown",
   "metadata": {},
   "source": [
    "#### Test of `convert_to_features`"
   ]
  },
  {
   "cell_type": "code",
   "execution_count": 14,
   "metadata": {},
   "outputs": [],
   "source": [
    "d1 = convert_to_features(\"This is a test\", ['this', 'test', 'piano', 'cookie'])\n",
    "d2 = convert_to_features(\"This is a cookie that looks like a piano!\", ['this', 'test', 'piano', 'cookie'])\n"
   ]
  },
  {
   "cell_type": "markdown",
   "metadata": {},
   "source": [
    "Next cell should return\n",
    "\n",
    "`0   1\n",
    "1   1`"
   ]
  },
  {
   "cell_type": "code",
   "execution_count": 15,
   "metadata": {},
   "outputs": [
    {
     "data": {
      "text/plain": [
       "0    1\n",
       "1    1\n",
       "dtype: int64"
      ]
     },
     "execution_count": 15,
     "metadata": {},
     "output_type": "execute_result"
    }
   ],
   "source": [
    "feature_to_series([d1, d2], 'this')"
   ]
  },
  {
   "cell_type": "markdown",
   "metadata": {},
   "source": [
    "Next cell should return\n",
    "\n",
    "`0   0\n",
    "1   1`"
   ]
  },
  {
   "cell_type": "code",
   "execution_count": 16,
   "metadata": {},
   "outputs": [
    {
     "data": {
      "text/plain": [
       "0    0\n",
       "1    1\n",
       "dtype: int64"
      ]
     },
     "execution_count": 16,
     "metadata": {},
     "output_type": "execute_result"
    }
   ],
   "source": [
    "feature_to_series([d1, d2], 'cookie')"
   ]
  },
  {
   "cell_type": "markdown",
   "metadata": {},
   "source": [
    "### Use the functions to set up features\n",
    "\n",
    "First, create the dictionary of top25 words. then use `map` to apply it to all of the claims."
   ]
  },
  {
   "cell_type": "code",
   "execution_count": 18,
   "metadata": {},
   "outputs": [],
   "source": [
    "top25_dict = {word:freq for word, freq in fdist.most_common(25)}"
   ]
  },
  {
   "cell_type": "code",
   "execution_count": 19,
   "metadata": {},
   "outputs": [],
   "source": [
    "entry_dicts = trump.claim.map(lambda text: convert_to_features(str(text), top25_dict.keys()))"
   ]
  },
  {
   "cell_type": "code",
   "execution_count": 20,
   "metadata": {},
   "outputs": [
    {
     "name": "stdout",
     "output_type": "stream",
     "text": [
      "(12020, 25)\n"
     ]
    },
    {
     "data": {
      "text/html": [
       "<div>\n",
       "<style scoped>\n",
       "    .dataframe tbody tr th:only-of-type {\n",
       "        vertical-align: middle;\n",
       "    }\n",
       "\n",
       "    .dataframe tbody tr th {\n",
       "        vertical-align: top;\n",
       "    }\n",
       "\n",
       "    .dataframe thead th {\n",
       "        text-align: right;\n",
       "    }\n",
       "</style>\n",
       "<table border=\"1\" class=\"dataframe\">\n",
       "  <thead>\n",
       "    <tr style=\"text-align: right;\">\n",
       "      <th></th>\n",
       "      <th>people</th>\n",
       "      <th>year</th>\n",
       "      <th>country</th>\n",
       "      <th>going</th>\n",
       "      <th>know</th>\n",
       "      <th>billion</th>\n",
       "      <th>want</th>\n",
       "      <th>one</th>\n",
       "      <th>democrat</th>\n",
       "      <th>would</th>\n",
       "      <th>...</th>\n",
       "      <th>ever</th>\n",
       "      <th>think</th>\n",
       "      <th>time</th>\n",
       "      <th>border</th>\n",
       "      <th>job</th>\n",
       "      <th>wall</th>\n",
       "      <th>right</th>\n",
       "      <th>american</th>\n",
       "      <th>lot</th>\n",
       "      <th>state</th>\n",
       "    </tr>\n",
       "  </thead>\n",
       "  <tbody>\n",
       "    <tr>\n",
       "      <th>0</th>\n",
       "      <td>0</td>\n",
       "      <td>1</td>\n",
       "      <td>1</td>\n",
       "      <td>0</td>\n",
       "      <td>0</td>\n",
       "      <td>0</td>\n",
       "      <td>0</td>\n",
       "      <td>0</td>\n",
       "      <td>0</td>\n",
       "      <td>0</td>\n",
       "      <td>...</td>\n",
       "      <td>0</td>\n",
       "      <td>0</td>\n",
       "      <td>0</td>\n",
       "      <td>0</td>\n",
       "      <td>0</td>\n",
       "      <td>0</td>\n",
       "      <td>0</td>\n",
       "      <td>0</td>\n",
       "      <td>0</td>\n",
       "      <td>0</td>\n",
       "    </tr>\n",
       "    <tr>\n",
       "      <th>1</th>\n",
       "      <td>0</td>\n",
       "      <td>0</td>\n",
       "      <td>0</td>\n",
       "      <td>0</td>\n",
       "      <td>0</td>\n",
       "      <td>0</td>\n",
       "      <td>0</td>\n",
       "      <td>0</td>\n",
       "      <td>0</td>\n",
       "      <td>0</td>\n",
       "      <td>...</td>\n",
       "      <td>0</td>\n",
       "      <td>0</td>\n",
       "      <td>1</td>\n",
       "      <td>0</td>\n",
       "      <td>0</td>\n",
       "      <td>0</td>\n",
       "      <td>0</td>\n",
       "      <td>0</td>\n",
       "      <td>0</td>\n",
       "      <td>0</td>\n",
       "    </tr>\n",
       "    <tr>\n",
       "      <th>2</th>\n",
       "      <td>0</td>\n",
       "      <td>0</td>\n",
       "      <td>0</td>\n",
       "      <td>0</td>\n",
       "      <td>0</td>\n",
       "      <td>1</td>\n",
       "      <td>0</td>\n",
       "      <td>0</td>\n",
       "      <td>0</td>\n",
       "      <td>0</td>\n",
       "      <td>...</td>\n",
       "      <td>0</td>\n",
       "      <td>0</td>\n",
       "      <td>0</td>\n",
       "      <td>0</td>\n",
       "      <td>0</td>\n",
       "      <td>0</td>\n",
       "      <td>0</td>\n",
       "      <td>1</td>\n",
       "      <td>0</td>\n",
       "      <td>0</td>\n",
       "    </tr>\n",
       "    <tr>\n",
       "      <th>3</th>\n",
       "      <td>0</td>\n",
       "      <td>1</td>\n",
       "      <td>0</td>\n",
       "      <td>0</td>\n",
       "      <td>0</td>\n",
       "      <td>1</td>\n",
       "      <td>0</td>\n",
       "      <td>0</td>\n",
       "      <td>0</td>\n",
       "      <td>0</td>\n",
       "      <td>...</td>\n",
       "      <td>0</td>\n",
       "      <td>0</td>\n",
       "      <td>0</td>\n",
       "      <td>0</td>\n",
       "      <td>0</td>\n",
       "      <td>0</td>\n",
       "      <td>0</td>\n",
       "      <td>0</td>\n",
       "      <td>0</td>\n",
       "      <td>0</td>\n",
       "    </tr>\n",
       "    <tr>\n",
       "      <th>4</th>\n",
       "      <td>0</td>\n",
       "      <td>0</td>\n",
       "      <td>0</td>\n",
       "      <td>0</td>\n",
       "      <td>0</td>\n",
       "      <td>0</td>\n",
       "      <td>0</td>\n",
       "      <td>0</td>\n",
       "      <td>0</td>\n",
       "      <td>0</td>\n",
       "      <td>...</td>\n",
       "      <td>0</td>\n",
       "      <td>0</td>\n",
       "      <td>0</td>\n",
       "      <td>0</td>\n",
       "      <td>0</td>\n",
       "      <td>0</td>\n",
       "      <td>0</td>\n",
       "      <td>0</td>\n",
       "      <td>0</td>\n",
       "      <td>0</td>\n",
       "    </tr>\n",
       "  </tbody>\n",
       "</table>\n",
       "<p>5 rows × 25 columns</p>\n",
       "</div>"
      ],
      "text/plain": [
       "   people  year  country  going  know  billion  want  one  democrat  would  \\\n",
       "0       0     1        1      0     0        0     0    0         0      0   \n",
       "1       0     0        0      0     0        0     0    0         0      0   \n",
       "2       0     0        0      0     0        1     0    0         0      0   \n",
       "3       0     1        0      0     0        1     0    0         0      0   \n",
       "4       0     0        0      0     0        0     0    0         0      0   \n",
       "\n",
       "   ...  ever  think  time  border  job  wall  right  american  lot  state  \n",
       "0  ...     0      0     0       0    0     0      0         0    0      0  \n",
       "1  ...     0      0     1       0    0     0      0         0    0      0  \n",
       "2  ...     0      0     0       0    0     0      0         1    0      0  \n",
       "3  ...     0      0     0       0    0     0      0         0    0      0  \n",
       "4  ...     0      0     0       0    0     0      0         0    0      0  \n",
       "\n",
       "[5 rows x 25 columns]"
      ]
     },
     "execution_count": 20,
     "metadata": {},
     "output_type": "execute_result"
    }
   ],
   "source": [
    "entry_series_dict = {fword:feature_to_series(entry_dicts, fword) for fword in top25_dict.keys()}\n",
    "feature_df = pd.DataFrame(entry_series_dict)\n",
    "print (feature_df.shape)\n",
    "feature_df.head()"
   ]
  },
  {
   "cell_type": "markdown",
   "metadata": {},
   "source": [
    "### Combine with original data frame"
   ]
  },
  {
   "cell_type": "code",
   "execution_count": 21,
   "metadata": {},
   "outputs": [
    {
     "name": "stdout",
     "output_type": "stream",
     "text": [
      "(12020, 33)\n"
     ]
    },
    {
     "data": {
      "text/html": [
       "<div>\n",
       "<style scoped>\n",
       "    .dataframe tbody tr th:only-of-type {\n",
       "        vertical-align: middle;\n",
       "    }\n",
       "\n",
       "    .dataframe tbody tr th {\n",
       "        vertical-align: top;\n",
       "    }\n",
       "\n",
       "    .dataframe thead th {\n",
       "        text-align: right;\n",
       "    }\n",
       "</style>\n",
       "<table border=\"1\" class=\"dataframe\">\n",
       "  <thead>\n",
       "    <tr style=\"text-align: right;\">\n",
       "      <th></th>\n",
       "      <th>id</th>\n",
       "      <th>date</th>\n",
       "      <th>source</th>\n",
       "      <th>topic</th>\n",
       "      <th>claim</th>\n",
       "      <th>analysis</th>\n",
       "      <th>repeated_count</th>\n",
       "      <th>repeated_ids</th>\n",
       "      <th>people</th>\n",
       "      <th>year</th>\n",
       "      <th>...</th>\n",
       "      <th>ever</th>\n",
       "      <th>think</th>\n",
       "      <th>time</th>\n",
       "      <th>border</th>\n",
       "      <th>job</th>\n",
       "      <th>wall</th>\n",
       "      <th>right</th>\n",
       "      <th>american</th>\n",
       "      <th>lot</th>\n",
       "      <th>state</th>\n",
       "    </tr>\n",
       "  </thead>\n",
       "  <tbody>\n",
       "    <tr>\n",
       "      <th>0</th>\n",
       "      <td>11702</td>\n",
       "      <td>08/05/19</td>\n",
       "      <td>Twitter</td>\n",
       "      <td>Guns</td>\n",
       "      <td>“The Media has a big responsibility to life an...</td>\n",
       "      <td>There's &lt;a href=\"https://psmag.com/news/does-t...</td>\n",
       "      <td>0.0</td>\n",
       "      <td>NaN</td>\n",
       "      <td>0</td>\n",
       "      <td>1</td>\n",
       "      <td>...</td>\n",
       "      <td>0</td>\n",
       "      <td>0</td>\n",
       "      <td>0</td>\n",
       "      <td>0</td>\n",
       "      <td>0</td>\n",
       "      <td>0</td>\n",
       "      <td>0</td>\n",
       "      <td>0</td>\n",
       "      <td>0</td>\n",
       "      <td>0</td>\n",
       "    </tr>\n",
       "    <tr>\n",
       "      <th>1</th>\n",
       "      <td>11703</td>\n",
       "      <td>08/05/19</td>\n",
       "      <td>Twitter</td>\n",
       "      <td>Trade</td>\n",
       "      <td>“China dropped the price of their currency to ...</td>\n",
       "      <td>China's currency dropped to an 11-year low aga...</td>\n",
       "      <td>0.0</td>\n",
       "      <td>NaN</td>\n",
       "      <td>0</td>\n",
       "      <td>0</td>\n",
       "      <td>...</td>\n",
       "      <td>0</td>\n",
       "      <td>0</td>\n",
       "      <td>1</td>\n",
       "      <td>0</td>\n",
       "      <td>0</td>\n",
       "      <td>0</td>\n",
       "      <td>0</td>\n",
       "      <td>0</td>\n",
       "      <td>0</td>\n",
       "      <td>0</td>\n",
       "    </tr>\n",
       "    <tr>\n",
       "      <th>2</th>\n",
       "      <td>11704</td>\n",
       "      <td>08/05/19</td>\n",
       "      <td>Twitter</td>\n",
       "      <td>Trade</td>\n",
       "      <td>“Based on the historic currency manipulation b...</td>\n",
       "      <td>We calculated that through December, the Trump...</td>\n",
       "      <td>73.0</td>\n",
       "      <td>11704, 11700, 11166, 11307, 11575, 11629, 1135...</td>\n",
       "      <td>0</td>\n",
       "      <td>0</td>\n",
       "      <td>...</td>\n",
       "      <td>0</td>\n",
       "      <td>0</td>\n",
       "      <td>0</td>\n",
       "      <td>0</td>\n",
       "      <td>0</td>\n",
       "      <td>0</td>\n",
       "      <td>0</td>\n",
       "      <td>1</td>\n",
       "      <td>0</td>\n",
       "      <td>0</td>\n",
       "    </tr>\n",
       "    <tr>\n",
       "      <th>3</th>\n",
       "      <td>11706</td>\n",
       "      <td>08/05/19</td>\n",
       "      <td>Twitter</td>\n",
       "      <td>Trade</td>\n",
       "      <td>“China is intent on continuing to receive the ...</td>\n",
       "      <td>Trump consistently fails to understand trade d...</td>\n",
       "      <td>166.0</td>\n",
       "      <td>11706, 11576, 11388, 12211, 11552, 11394, 1218...</td>\n",
       "      <td>0</td>\n",
       "      <td>1</td>\n",
       "      <td>...</td>\n",
       "      <td>0</td>\n",
       "      <td>0</td>\n",
       "      <td>0</td>\n",
       "      <td>0</td>\n",
       "      <td>0</td>\n",
       "      <td>0</td>\n",
       "      <td>0</td>\n",
       "      <td>0</td>\n",
       "      <td>0</td>\n",
       "      <td>0</td>\n",
       "    </tr>\n",
       "    <tr>\n",
       "      <th>4</th>\n",
       "      <td>12154</td>\n",
       "      <td>08/05/19</td>\n",
       "      <td>Prepared speech</td>\n",
       "      <td>Guns</td>\n",
       "      <td>“Mental illness and hatred pulls the trigger, ...</td>\n",
       "      <td>The Washington Post &lt;a href=\"https://www.washi...</td>\n",
       "      <td>0.0</td>\n",
       "      <td>NaN</td>\n",
       "      <td>0</td>\n",
       "      <td>0</td>\n",
       "      <td>...</td>\n",
       "      <td>0</td>\n",
       "      <td>0</td>\n",
       "      <td>0</td>\n",
       "      <td>0</td>\n",
       "      <td>0</td>\n",
       "      <td>0</td>\n",
       "      <td>0</td>\n",
       "      <td>0</td>\n",
       "      <td>0</td>\n",
       "      <td>0</td>\n",
       "    </tr>\n",
       "  </tbody>\n",
       "</table>\n",
       "<p>5 rows × 33 columns</p>\n",
       "</div>"
      ],
      "text/plain": [
       "      id      date           source  topic  \\\n",
       "0  11702  08/05/19          Twitter   Guns   \n",
       "1  11703  08/05/19          Twitter  Trade   \n",
       "2  11704  08/05/19          Twitter  Trade   \n",
       "3  11706  08/05/19          Twitter  Trade   \n",
       "4  12154  08/05/19  Prepared speech   Guns   \n",
       "\n",
       "                                               claim  \\\n",
       "0  “The Media has a big responsibility to life an...   \n",
       "1  “China dropped the price of their currency to ...   \n",
       "2  “Based on the historic currency manipulation b...   \n",
       "3  “China is intent on continuing to receive the ...   \n",
       "4  “Mental illness and hatred pulls the trigger, ...   \n",
       "\n",
       "                                            analysis  repeated_count  \\\n",
       "0  There's <a href=\"https://psmag.com/news/does-t...             0.0   \n",
       "1  China's currency dropped to an 11-year low aga...             0.0   \n",
       "2  We calculated that through December, the Trump...            73.0   \n",
       "3  Trump consistently fails to understand trade d...           166.0   \n",
       "4  The Washington Post <a href=\"https://www.washi...             0.0   \n",
       "\n",
       "                                        repeated_ids  people  year  ...  ever  \\\n",
       "0                                                NaN       0     1  ...     0   \n",
       "1                                                NaN       0     0  ...     0   \n",
       "2  11704, 11700, 11166, 11307, 11575, 11629, 1135...       0     0  ...     0   \n",
       "3  11706, 11576, 11388, 12211, 11552, 11394, 1218...       0     1  ...     0   \n",
       "4                                                NaN       0     0  ...     0   \n",
       "\n",
       "   think  time  border  job  wall  right  american  lot  state  \n",
       "0      0     0       0    0     0      0         0    0      0  \n",
       "1      0     1       0    0     0      0         0    0      0  \n",
       "2      0     0       0    0     0      0         1    0      0  \n",
       "3      0     0       0    0     0      0         0    0      0  \n",
       "4      0     0       0    0     0      0         0    0      0  \n",
       "\n",
       "[5 rows x 33 columns]"
      ]
     },
     "execution_count": 21,
     "metadata": {},
     "output_type": "execute_result"
    }
   ],
   "source": [
    "trumpf = pd.concat([trump, feature_df], axis=1)\n",
    "print (trumpf.shape)\n",
    "trumpf.head()"
   ]
  },
  {
   "cell_type": "markdown",
   "metadata": {},
   "source": [
    "### Create a column for when the topic is immigration\n"
   ]
  },
  {
   "cell_type": "code",
   "execution_count": 22,
   "metadata": {},
   "outputs": [
    {
     "data": {
      "text/plain": [
       "2173"
      ]
     },
     "execution_count": 22,
     "metadata": {},
     "output_type": "execute_result"
    }
   ],
   "source": [
    "trumpf['immigration'] = trumpf.topic == 'Immigration'\n",
    "trumpf.immigration.sum()"
   ]
  },
  {
   "cell_type": "markdown",
   "metadata": {},
   "source": [
    "### Make dummy variables\n",
    "\n",
    "Use the `immigration` and `source` columns. "
   ]
  },
  {
   "cell_type": "code",
   "execution_count": 23,
   "metadata": {},
   "outputs": [
    {
     "name": "stdout",
     "output_type": "stream",
     "text": [
      "(12020, 45)\n"
     ]
    },
    {
     "data": {
      "text/html": [
       "<div>\n",
       "<style scoped>\n",
       "    .dataframe tbody tr th:only-of-type {\n",
       "        vertical-align: middle;\n",
       "    }\n",
       "\n",
       "    .dataframe tbody tr th {\n",
       "        vertical-align: top;\n",
       "    }\n",
       "\n",
       "    .dataframe thead th {\n",
       "        text-align: right;\n",
       "    }\n",
       "</style>\n",
       "<table border=\"1\" class=\"dataframe\">\n",
       "  <thead>\n",
       "    <tr style=\"text-align: right;\">\n",
       "      <th></th>\n",
       "      <th>id</th>\n",
       "      <th>date</th>\n",
       "      <th>topic</th>\n",
       "      <th>claim</th>\n",
       "      <th>analysis</th>\n",
       "      <th>repeated_count</th>\n",
       "      <th>repeated_ids</th>\n",
       "      <th>people</th>\n",
       "      <th>year</th>\n",
       "      <th>country</th>\n",
       "      <th>...</th>\n",
       "      <th>s_Campaign rally</th>\n",
       "      <th>s_Facebook</th>\n",
       "      <th>s_Interview</th>\n",
       "      <th>s_Leaked transcript</th>\n",
       "      <th>s_News conference</th>\n",
       "      <th>s_Prepared speech</th>\n",
       "      <th>s_Remarks</th>\n",
       "      <th>s_Statement</th>\n",
       "      <th>s_Twitter</th>\n",
       "      <th>s_Vlog</th>\n",
       "    </tr>\n",
       "  </thead>\n",
       "  <tbody>\n",
       "    <tr>\n",
       "      <th>0</th>\n",
       "      <td>11702</td>\n",
       "      <td>08/05/19</td>\n",
       "      <td>Guns</td>\n",
       "      <td>“The Media has a big responsibility to life an...</td>\n",
       "      <td>There's &lt;a href=\"https://psmag.com/news/does-t...</td>\n",
       "      <td>0.0</td>\n",
       "      <td>NaN</td>\n",
       "      <td>0</td>\n",
       "      <td>1</td>\n",
       "      <td>1</td>\n",
       "      <td>...</td>\n",
       "      <td>0</td>\n",
       "      <td>0</td>\n",
       "      <td>0</td>\n",
       "      <td>0</td>\n",
       "      <td>0</td>\n",
       "      <td>0</td>\n",
       "      <td>0</td>\n",
       "      <td>0</td>\n",
       "      <td>1</td>\n",
       "      <td>0</td>\n",
       "    </tr>\n",
       "    <tr>\n",
       "      <th>1</th>\n",
       "      <td>11703</td>\n",
       "      <td>08/05/19</td>\n",
       "      <td>Trade</td>\n",
       "      <td>“China dropped the price of their currency to ...</td>\n",
       "      <td>China's currency dropped to an 11-year low aga...</td>\n",
       "      <td>0.0</td>\n",
       "      <td>NaN</td>\n",
       "      <td>0</td>\n",
       "      <td>0</td>\n",
       "      <td>0</td>\n",
       "      <td>...</td>\n",
       "      <td>0</td>\n",
       "      <td>0</td>\n",
       "      <td>0</td>\n",
       "      <td>0</td>\n",
       "      <td>0</td>\n",
       "      <td>0</td>\n",
       "      <td>0</td>\n",
       "      <td>0</td>\n",
       "      <td>1</td>\n",
       "      <td>0</td>\n",
       "    </tr>\n",
       "    <tr>\n",
       "      <th>2</th>\n",
       "      <td>11704</td>\n",
       "      <td>08/05/19</td>\n",
       "      <td>Trade</td>\n",
       "      <td>“Based on the historic currency manipulation b...</td>\n",
       "      <td>We calculated that through December, the Trump...</td>\n",
       "      <td>73.0</td>\n",
       "      <td>11704, 11700, 11166, 11307, 11575, 11629, 1135...</td>\n",
       "      <td>0</td>\n",
       "      <td>0</td>\n",
       "      <td>0</td>\n",
       "      <td>...</td>\n",
       "      <td>0</td>\n",
       "      <td>0</td>\n",
       "      <td>0</td>\n",
       "      <td>0</td>\n",
       "      <td>0</td>\n",
       "      <td>0</td>\n",
       "      <td>0</td>\n",
       "      <td>0</td>\n",
       "      <td>1</td>\n",
       "      <td>0</td>\n",
       "    </tr>\n",
       "    <tr>\n",
       "      <th>3</th>\n",
       "      <td>11706</td>\n",
       "      <td>08/05/19</td>\n",
       "      <td>Trade</td>\n",
       "      <td>“China is intent on continuing to receive the ...</td>\n",
       "      <td>Trump consistently fails to understand trade d...</td>\n",
       "      <td>166.0</td>\n",
       "      <td>11706, 11576, 11388, 12211, 11552, 11394, 1218...</td>\n",
       "      <td>0</td>\n",
       "      <td>1</td>\n",
       "      <td>0</td>\n",
       "      <td>...</td>\n",
       "      <td>0</td>\n",
       "      <td>0</td>\n",
       "      <td>0</td>\n",
       "      <td>0</td>\n",
       "      <td>0</td>\n",
       "      <td>0</td>\n",
       "      <td>0</td>\n",
       "      <td>0</td>\n",
       "      <td>1</td>\n",
       "      <td>0</td>\n",
       "    </tr>\n",
       "    <tr>\n",
       "      <th>4</th>\n",
       "      <td>12154</td>\n",
       "      <td>08/05/19</td>\n",
       "      <td>Guns</td>\n",
       "      <td>“Mental illness and hatred pulls the trigger, ...</td>\n",
       "      <td>The Washington Post &lt;a href=\"https://www.washi...</td>\n",
       "      <td>0.0</td>\n",
       "      <td>NaN</td>\n",
       "      <td>0</td>\n",
       "      <td>0</td>\n",
       "      <td>0</td>\n",
       "      <td>...</td>\n",
       "      <td>0</td>\n",
       "      <td>0</td>\n",
       "      <td>0</td>\n",
       "      <td>0</td>\n",
       "      <td>0</td>\n",
       "      <td>1</td>\n",
       "      <td>0</td>\n",
       "      <td>0</td>\n",
       "      <td>0</td>\n",
       "      <td>0</td>\n",
       "    </tr>\n",
       "  </tbody>\n",
       "</table>\n",
       "<p>5 rows × 45 columns</p>\n",
       "</div>"
      ],
      "text/plain": [
       "      id      date  topic                                              claim  \\\n",
       "0  11702  08/05/19   Guns  “The Media has a big responsibility to life an...   \n",
       "1  11703  08/05/19  Trade  “China dropped the price of their currency to ...   \n",
       "2  11704  08/05/19  Trade  “Based on the historic currency manipulation b...   \n",
       "3  11706  08/05/19  Trade  “China is intent on continuing to receive the ...   \n",
       "4  12154  08/05/19   Guns  “Mental illness and hatred pulls the trigger, ...   \n",
       "\n",
       "                                            analysis  repeated_count  \\\n",
       "0  There's <a href=\"https://psmag.com/news/does-t...             0.0   \n",
       "1  China's currency dropped to an 11-year low aga...             0.0   \n",
       "2  We calculated that through December, the Trump...            73.0   \n",
       "3  Trump consistently fails to understand trade d...           166.0   \n",
       "4  The Washington Post <a href=\"https://www.washi...             0.0   \n",
       "\n",
       "                                        repeated_ids  people  year  country  \\\n",
       "0                                                NaN       0     1        1   \n",
       "1                                                NaN       0     0        0   \n",
       "2  11704, 11700, 11166, 11307, 11575, 11629, 1135...       0     0        0   \n",
       "3  11706, 11576, 11388, 12211, 11552, 11394, 1218...       0     1        0   \n",
       "4                                                NaN       0     0        0   \n",
       "\n",
       "   ...  s_Campaign rally  s_Facebook  s_Interview  s_Leaked transcript  \\\n",
       "0  ...                 0           0            0                    0   \n",
       "1  ...                 0           0            0                    0   \n",
       "2  ...                 0           0            0                    0   \n",
       "3  ...                 0           0            0                    0   \n",
       "4  ...                 0           0            0                    0   \n",
       "\n",
       "   s_News conference  s_Prepared speech  s_Remarks  s_Statement  s_Twitter  \\\n",
       "0                  0                  0          0            0          1   \n",
       "1                  0                  0          0            0          1   \n",
       "2                  0                  0          0            0          1   \n",
       "3                  0                  0          0            0          1   \n",
       "4                  0                  1          0            0          0   \n",
       "\n",
       "   s_Vlog  \n",
       "0       0  \n",
       "1       0  \n",
       "2       0  \n",
       "3       0  \n",
       "4       0  \n",
       "\n",
       "[5 rows x 45 columns]"
      ]
     },
     "execution_count": 23,
     "metadata": {},
     "output_type": "execute_result"
    }
   ],
   "source": [
    "trumpf = pd.get_dummies(trumpf, columns=['immigration','source'], prefix=['immigration', 's'])\n",
    "print (trumpf.shape)\n",
    "trumpf.head()"
   ]
  },
  {
   "cell_type": "markdown",
   "metadata": {},
   "source": [
    "## Logistic regression to predict the immigration topic in online posts\n",
    "\n",
    "Only use the Twitter, Facebook, VLog sources\n",
    "\n",
    "We will use backward-selection via p-value.\n",
    "\n",
    "### First: Check correlation\n",
    "\n",
    "Should be no variables above 0.8 or below -0.8"
   ]
  },
  {
   "cell_type": "code",
   "execution_count": 24,
   "metadata": {},
   "outputs": [
    {
     "data": {
      "text/plain": [
       "<matplotlib.axes._subplots.AxesSubplot at 0x1a288118d0>"
      ]
     },
     "execution_count": 24,
     "metadata": {},
     "output_type": "execute_result"
    },
    {
     "data": {
      "image/png": "[encoded data removed]",
      "text/plain": [
       "<Figure size 432x288 with 2 Axes>"
      ]
     },
     "metadata": {
      "needs_background": "light"
     },
     "output_type": "display_data"
    }
   ],
   "source": [
    "sns.heatmap(trumpf.corr())"
   ]
  },
  {
   "cell_type": "code",
   "execution_count": 25,
   "metadata": {},
   "outputs": [
    {
     "data": {
      "text/plain": [
       "repeated_count         1\n",
       "people                 1\n",
       "year                   1\n",
       "country                1\n",
       "going                  1\n",
       "know                   1\n",
       "billion                1\n",
       "want                   1\n",
       "one                    1\n",
       "democrat               1\n",
       "would                  1\n",
       "said                   1\n",
       "many                   1\n",
       "get                    1\n",
       "great                  1\n",
       "like                   1\n",
       "ever                   1\n",
       "think                  1\n",
       "time                   1\n",
       "border                 1\n",
       "job                    1\n",
       "wall                   1\n",
       "right                  1\n",
       "american               1\n",
       "lot                    1\n",
       "state                  1\n",
       "immigration_False      1\n",
       "immigration_True       1\n",
       "s_65                   1\n",
       "s_Campaign rally       1\n",
       "s_Facebook             1\n",
       "s_Interview            1\n",
       "s_Leaked transcript    1\n",
       "s_News conference      1\n",
       "s_Prepared speech      1\n",
       "s_Remarks              1\n",
       "s_Statement            1\n",
       "s_Twitter              1\n",
       "s_Vlog                 1\n",
       "dtype: int64"
      ]
     },
     "execution_count": 25,
     "metadata": {},
     "output_type": "execute_result"
    }
   ],
   "source": [
    "(trumpf.corr() > 0.8).sum()"
   ]
  },
  {
   "cell_type": "code",
   "execution_count": 26,
   "metadata": {},
   "outputs": [
    {
     "data": {
      "text/plain": [
       "repeated_count         0\n",
       "people                 0\n",
       "year                   0\n",
       "country                0\n",
       "going                  0\n",
       "know                   0\n",
       "billion                0\n",
       "want                   0\n",
       "one                    0\n",
       "democrat               0\n",
       "would                  0\n",
       "said                   0\n",
       "many                   0\n",
       "get                    0\n",
       "great                  0\n",
       "like                   0\n",
       "ever                   0\n",
       "think                  0\n",
       "time                   0\n",
       "border                 0\n",
       "job                    0\n",
       "wall                   0\n",
       "right                  0\n",
       "american               0\n",
       "lot                    0\n",
       "state                  0\n",
       "immigration_False      1\n",
       "immigration_True       1\n",
       "s_65                   0\n",
       "s_Campaign rally       0\n",
       "s_Facebook             0\n",
       "s_Interview            0\n",
       "s_Leaked transcript    0\n",
       "s_News conference      0\n",
       "s_Prepared speech      0\n",
       "s_Remarks              0\n",
       "s_Statement            0\n",
       "s_Twitter              0\n",
       "s_Vlog                 0\n",
       "dtype: int64"
      ]
     },
     "execution_count": 26,
     "metadata": {},
     "output_type": "execute_result"
    }
   ],
   "source": [
    "(trumpf.corr() < -0.8).sum()"
   ]
  },
  {
   "cell_type": "markdown",
   "metadata": {},
   "source": [
    "### Create initial full model\n",
    "\n",
    "`immigration_True` is the dependent variable"
   ]
  },
  {
   "cell_type": "code",
   "execution_count": 27,
   "metadata": {},
   "outputs": [
    {
     "name": "stdout",
     "output_type": "stream",
     "text": [
      "Optimization terminated successfully.\n",
      "         Current function value: 0.301954\n",
      "         Iterations 17\n"
     ]
    }
   ],
   "source": [
    "reg1 = sm.logit(formula='immigration_True ~ people + year + country + going + \\\n",
    "            know + billion + want + one + democrat + would + said + many + get + great + like + \\\n",
    "            ever + think + time + border + job + wall + right + american + lot + state + \\\n",
    "            s_Twitter + s_Facebook + s_Vlog', \n",
    "               data = trumpf).fit()"
   ]
  },
  {
   "cell_type": "code",
   "execution_count": 28,
   "metadata": {},
   "outputs": [
    {
     "data": {
      "text/html": [
       "<table class=\"simpletable\">\n",
       "<caption>Logit Regression Results</caption>\n",
       "<tr>\n",
       "  <th>Dep. Variable:</th>   <td>immigration_True</td> <th>  No. Observations:  </th>  <td> 12020</td> \n",
       "</tr>\n",
       "<tr>\n",
       "  <th>Model:</th>                 <td>Logit</td>      <th>  Df Residuals:      </th>  <td> 11991</td> \n",
       "</tr>\n",
       "<tr>\n",
       "  <th>Method:</th>                 <td>MLE</td>       <th>  Df Model:          </th>  <td>    28</td> \n",
       "</tr>\n",
       "<tr>\n",
       "  <th>Date:</th>            <td>Mon, 11 Nov 2019</td> <th>  Pseudo R-squ.:     </th>  <td>0.3610</td> \n",
       "</tr>\n",
       "<tr>\n",
       "  <th>Time:</th>                <td>21:05:09</td>     <th>  Log-Likelihood:    </th> <td> -3629.5</td>\n",
       "</tr>\n",
       "<tr>\n",
       "  <th>converged:</th>             <td>True</td>       <th>  LL-Null:           </th> <td> -5680.4</td>\n",
       "</tr>\n",
       "<tr>\n",
       "  <th>Covariance Type:</th>     <td>nonrobust</td>    <th>  LLR p-value:       </th>  <td> 0.000</td> \n",
       "</tr>\n",
       "</table>\n",
       "<table class=\"simpletable\">\n",
       "<tr>\n",
       "       <td></td>         <th>coef</th>     <th>std err</th>      <th>z</th>      <th>P>|z|</th>  <th>[0.025</th>    <th>0.975]</th>  \n",
       "</tr>\n",
       "<tr>\n",
       "  <th>Intercept</th>  <td>   -2.2680</td> <td>    0.054</td> <td>  -42.028</td> <td> 0.000</td> <td>   -2.374</td> <td>   -2.162</td>\n",
       "</tr>\n",
       "<tr>\n",
       "  <th>people</th>     <td>    0.8858</td> <td>    0.079</td> <td>   11.263</td> <td> 0.000</td> <td>    0.732</td> <td>    1.040</td>\n",
       "</tr>\n",
       "<tr>\n",
       "  <th>year</th>       <td>   -0.2309</td> <td>    0.098</td> <td>   -2.345</td> <td> 0.019</td> <td>   -0.424</td> <td>   -0.038</td>\n",
       "</tr>\n",
       "<tr>\n",
       "  <th>country</th>    <td>    0.8546</td> <td>    0.076</td> <td>   11.274</td> <td> 0.000</td> <td>    0.706</td> <td>    1.003</td>\n",
       "</tr>\n",
       "<tr>\n",
       "  <th>going</th>      <td>   -0.2711</td> <td>    0.104</td> <td>   -2.601</td> <td> 0.009</td> <td>   -0.475</td> <td>   -0.067</td>\n",
       "</tr>\n",
       "<tr>\n",
       "  <th>know</th>       <td>   -0.0622</td> <td>    0.099</td> <td>   -0.631</td> <td> 0.528</td> <td>   -0.255</td> <td>    0.131</td>\n",
       "</tr>\n",
       "<tr>\n",
       "  <th>billion</th>    <td>   -0.6734</td> <td>    0.140</td> <td>   -4.803</td> <td> 0.000</td> <td>   -0.948</td> <td>   -0.399</td>\n",
       "</tr>\n",
       "<tr>\n",
       "  <th>want</th>       <td>    0.7658</td> <td>    0.096</td> <td>    7.961</td> <td> 0.000</td> <td>    0.577</td> <td>    0.954</td>\n",
       "</tr>\n",
       "<tr>\n",
       "  <th>one</th>        <td>    0.0948</td> <td>    0.109</td> <td>    0.873</td> <td> 0.383</td> <td>   -0.118</td> <td>    0.308</td>\n",
       "</tr>\n",
       "<tr>\n",
       "  <th>democrat</th>   <td>    1.1953</td> <td>    0.092</td> <td>   13.042</td> <td> 0.000</td> <td>    1.016</td> <td>    1.375</td>\n",
       "</tr>\n",
       "<tr>\n",
       "  <th>would</th>      <td>   -0.1613</td> <td>    0.122</td> <td>   -1.320</td> <td> 0.187</td> <td>   -0.401</td> <td>    0.078</td>\n",
       "</tr>\n",
       "<tr>\n",
       "  <th>said</th>       <td>   -0.4570</td> <td>    0.148</td> <td>   -3.084</td> <td> 0.002</td> <td>   -0.747</td> <td>   -0.167</td>\n",
       "</tr>\n",
       "<tr>\n",
       "  <th>many</th>       <td>   -0.1168</td> <td>    0.125</td> <td>   -0.935</td> <td> 0.350</td> <td>   -0.362</td> <td>    0.128</td>\n",
       "</tr>\n",
       "<tr>\n",
       "  <th>get</th>        <td>    0.1578</td> <td>    0.116</td> <td>    1.355</td> <td> 0.175</td> <td>   -0.070</td> <td>    0.386</td>\n",
       "</tr>\n",
       "<tr>\n",
       "  <th>great</th>      <td>   -0.6253</td> <td>    0.145</td> <td>   -4.314</td> <td> 0.000</td> <td>   -0.909</td> <td>   -0.341</td>\n",
       "</tr>\n",
       "<tr>\n",
       "  <th>like</th>       <td>    0.1475</td> <td>    0.115</td> <td>    1.285</td> <td> 0.199</td> <td>   -0.078</td> <td>    0.373</td>\n",
       "</tr>\n",
       "<tr>\n",
       "  <th>ever</th>       <td>   -1.4008</td> <td>    0.185</td> <td>   -7.577</td> <td> 0.000</td> <td>   -1.763</td> <td>   -1.038</td>\n",
       "</tr>\n",
       "<tr>\n",
       "  <th>think</th>      <td>   -0.1180</td> <td>    0.125</td> <td>   -0.946</td> <td> 0.344</td> <td>   -0.363</td> <td>    0.127</td>\n",
       "</tr>\n",
       "<tr>\n",
       "  <th>time</th>       <td>   -0.3807</td> <td>    0.137</td> <td>   -2.778</td> <td> 0.005</td> <td>   -0.649</td> <td>   -0.112</td>\n",
       "</tr>\n",
       "<tr>\n",
       "  <th>border</th>     <td>    3.4816</td> <td>    0.123</td> <td>   28.238</td> <td> 0.000</td> <td>    3.240</td> <td>    3.723</td>\n",
       "</tr>\n",
       "<tr>\n",
       "  <th>job</th>        <td>   -0.8321</td> <td>    0.164</td> <td>   -5.084</td> <td> 0.000</td> <td>   -1.153</td> <td>   -0.511</td>\n",
       "</tr>\n",
       "<tr>\n",
       "  <th>wall</th>       <td>    4.4236</td> <td>    0.158</td> <td>   28.082</td> <td> 0.000</td> <td>    4.115</td> <td>    4.732</td>\n",
       "</tr>\n",
       "<tr>\n",
       "  <th>right</th>      <td>   -0.0598</td> <td>    0.127</td> <td>   -0.472</td> <td> 0.637</td> <td>   -0.308</td> <td>    0.188</td>\n",
       "</tr>\n",
       "<tr>\n",
       "  <th>american</th>   <td>   -0.2957</td> <td>    0.149</td> <td>   -1.978</td> <td> 0.048</td> <td>   -0.589</td> <td>   -0.003</td>\n",
       "</tr>\n",
       "<tr>\n",
       "  <th>lot</th>        <td>   -0.0830</td> <td>    0.129</td> <td>   -0.642</td> <td> 0.521</td> <td>   -0.336</td> <td>    0.170</td>\n",
       "</tr>\n",
       "<tr>\n",
       "  <th>state</th>      <td>    0.1410</td> <td>    0.122</td> <td>    1.158</td> <td> 0.247</td> <td>   -0.098</td> <td>    0.380</td>\n",
       "</tr>\n",
       "<tr>\n",
       "  <th>s_Twitter</th>  <td>   -0.8134</td> <td>    0.097</td> <td>   -8.403</td> <td> 0.000</td> <td>   -1.003</td> <td>   -0.624</td>\n",
       "</tr>\n",
       "<tr>\n",
       "  <th>s_Facebook</th> <td> -287.6784</td> <td>  3.2e+62</td> <td>-8.98e-61</td> <td> 1.000</td> <td>-6.28e+62</td> <td> 6.28e+62</td>\n",
       "</tr>\n",
       "<tr>\n",
       "  <th>s_Vlog</th>     <td>    0.3056</td> <td>    0.590</td> <td>    0.518</td> <td> 0.604</td> <td>   -0.850</td> <td>    1.461</td>\n",
       "</tr>\n",
       "</table>"
      ],
      "text/plain": [
       "<class 'statsmodels.iolib.summary.Summary'>\n",
       "\"\"\"\n",
       "                           Logit Regression Results                           \n",
       "==============================================================================\n",
       "Dep. Variable:       immigration_True   No. Observations:                12020\n",
       "Model:                          Logit   Df Residuals:                    11991\n",
       "Method:                           MLE   Df Model:                           28\n",
       "Date:                Mon, 11 Nov 2019   Pseudo R-squ.:                  0.3610\n",
       "Time:                        21:05:09   Log-Likelihood:                -3629.5\n",
       "converged:                       True   LL-Null:                       -5680.4\n",
       "Covariance Type:            nonrobust   LLR p-value:                     0.000\n",
       "==============================================================================\n",
       "                 coef    std err          z      P>|z|      [0.025      0.975]\n",
       "------------------------------------------------------------------------------\n",
       "Intercept     -2.2680      0.054    -42.028      0.000      -2.374      -2.162\n",
       "people         0.8858      0.079     11.263      0.000       0.732       1.040\n",
       "year          -0.2309      0.098     -2.345      0.019      -0.424      -0.038\n",
       "country        0.8546      0.076     11.274      0.000       0.706       1.003\n",
       "going         -0.2711      0.104     -2.601      0.009      -0.475      -0.067\n",
       "know          -0.0622      0.099     -0.631      0.528      -0.255       0.131\n",
       "billion       -0.6734      0.140     -4.803      0.000      -0.948      -0.399\n",
       "want           0.7658      0.096      7.961      0.000       0.577       0.954\n",
       "one            0.0948      0.109      0.873      0.383      -0.118       0.308\n",
       "democrat       1.1953      0.092     13.042      0.000       1.016       1.375\n",
       "would         -0.1613      0.122     -1.320      0.187      -0.401       0.078\n",
       "said          -0.4570      0.148     -3.084      0.002      -0.747      -0.167\n",
       "many          -0.1168      0.125     -0.935      0.350      -0.362       0.128\n",
       "get            0.1578      0.116      1.355      0.175      -0.070       0.386\n",
       "great         -0.6253      0.145     -4.314      0.000      -0.909      -0.341\n",
       "like           0.1475      0.115      1.285      0.199      -0.078       0.373\n",
       "ever          -1.4008      0.185     -7.577      0.000      -1.763      -1.038\n",
       "think         -0.1180      0.125     -0.946      0.344      -0.363       0.127\n",
       "time          -0.3807      0.137     -2.778      0.005      -0.649      -0.112\n",
       "border         3.4816      0.123     28.238      0.000       3.240       3.723\n",
       "job           -0.8321      0.164     -5.084      0.000      -1.153      -0.511\n",
       "wall           4.4236      0.158     28.082      0.000       4.115       4.732\n",
       "right         -0.0598      0.127     -0.472      0.637      -0.308       0.188\n",
       "american      -0.2957      0.149     -1.978      0.048      -0.589      -0.003\n",
       "lot           -0.0830      0.129     -0.642      0.521      -0.336       0.170\n",
       "state          0.1410      0.122      1.158      0.247      -0.098       0.380\n",
       "s_Twitter     -0.8134      0.097     -8.403      0.000      -1.003      -0.624\n",
       "s_Facebook  -287.6784    3.2e+62  -8.98e-61      1.000   -6.28e+62    6.28e+62\n",
       "s_Vlog         0.3056      0.590      0.518      0.604      -0.850       1.461\n",
       "==============================================================================\n",
       "\"\"\""
      ]
     },
     "execution_count": 28,
     "metadata": {},
     "output_type": "execute_result"
    }
   ],
   "source": [
    "reg1.summary()"
   ]
  },
  {
   "cell_type": "markdown",
   "metadata": {},
   "source": [
    "### What is the worst (highest) p-value?"
   ]
  },
  {
   "cell_type": "code",
   "execution_count": 64,
   "metadata": {},
   "outputs": [
    {
     "data": {
      "text/plain": [
       "'s_Facebook'"
      ]
     },
     "execution_count": 64,
     "metadata": {},
     "output_type": "execute_result"
    }
   ],
   "source": [
    "reg1.pvalues.idxmax()"
   ]
  },
  {
   "cell_type": "markdown",
   "metadata": {},
   "source": [
    "### For each subsequent model, indicate what variable you will drop"
   ]
  },
  {
   "cell_type": "code",
   "execution_count": 30,
   "metadata": {},
   "outputs": [
    {
     "name": "stdout",
     "output_type": "stream",
     "text": [
      "Optimization terminated successfully.\n",
      "         Current function value: 0.302017\n",
      "         Iterations 7\n"
     ]
    }
   ],
   "source": [
    "reg2 = sm.logit(formula='immigration_True ~ people + year + country + going + \\\n",
    "            know + billion + want + one + democrat + would + said + many + get + great + like + \\\n",
    "            ever + think + time + border + job + wall + right + american + lot + state + \\\n",
    "            s_Twitter + s_Vlog', \n",
    "               data = trumpf).fit()"
   ]
  },
  {
   "cell_type": "code",
   "execution_count": 31,
   "metadata": {},
   "outputs": [
    {
     "data": {
      "text/html": [
       "<table class=\"simpletable\">\n",
       "<caption>Logit Regression Results</caption>\n",
       "<tr>\n",
       "  <th>Dep. Variable:</th>   <td>immigration_True</td> <th>  No. Observations:  </th>  <td> 12020</td> \n",
       "</tr>\n",
       "<tr>\n",
       "  <th>Model:</th>                 <td>Logit</td>      <th>  Df Residuals:      </th>  <td> 11992</td> \n",
       "</tr>\n",
       "<tr>\n",
       "  <th>Method:</th>                 <td>MLE</td>       <th>  Df Model:          </th>  <td>    27</td> \n",
       "</tr>\n",
       "<tr>\n",
       "  <th>Date:</th>            <td>Mon, 11 Nov 2019</td> <th>  Pseudo R-squ.:     </th>  <td>0.3609</td> \n",
       "</tr>\n",
       "<tr>\n",
       "  <th>Time:</th>                <td>21:07:04</td>     <th>  Log-Likelihood:    </th> <td> -3630.2</td>\n",
       "</tr>\n",
       "<tr>\n",
       "  <th>converged:</th>             <td>True</td>       <th>  LL-Null:           </th> <td> -5680.4</td>\n",
       "</tr>\n",
       "<tr>\n",
       "  <th>Covariance Type:</th>     <td>nonrobust</td>    <th>  LLR p-value:       </th>  <td> 0.000</td> \n",
       "</tr>\n",
       "</table>\n",
       "<table class=\"simpletable\">\n",
       "<tr>\n",
       "      <td></td>         <th>coef</th>     <th>std err</th>      <th>z</th>      <th>P>|z|</th>  <th>[0.025</th>    <th>0.975]</th>  \n",
       "</tr>\n",
       "<tr>\n",
       "  <th>Intercept</th> <td>   -2.2692</td> <td>    0.054</td> <td>  -42.050</td> <td> 0.000</td> <td>   -2.375</td> <td>   -2.163</td>\n",
       "</tr>\n",
       "<tr>\n",
       "  <th>people</th>    <td>    0.8866</td> <td>    0.079</td> <td>   11.273</td> <td> 0.000</td> <td>    0.732</td> <td>    1.041</td>\n",
       "</tr>\n",
       "<tr>\n",
       "  <th>year</th>      <td>   -0.2301</td> <td>    0.098</td> <td>   -2.338</td> <td> 0.019</td> <td>   -0.423</td> <td>   -0.037</td>\n",
       "</tr>\n",
       "<tr>\n",
       "  <th>country</th>   <td>    0.8542</td> <td>    0.076</td> <td>   11.270</td> <td> 0.000</td> <td>    0.706</td> <td>    1.003</td>\n",
       "</tr>\n",
       "<tr>\n",
       "  <th>going</th>     <td>   -0.2707</td> <td>    0.104</td> <td>   -2.597</td> <td> 0.009</td> <td>   -0.475</td> <td>   -0.066</td>\n",
       "</tr>\n",
       "<tr>\n",
       "  <th>know</th>      <td>   -0.0625</td> <td>    0.099</td> <td>   -0.635</td> <td> 0.526</td> <td>   -0.256</td> <td>    0.131</td>\n",
       "</tr>\n",
       "<tr>\n",
       "  <th>billion</th>   <td>   -0.6732</td> <td>    0.140</td> <td>   -4.802</td> <td> 0.000</td> <td>   -0.948</td> <td>   -0.398</td>\n",
       "</tr>\n",
       "<tr>\n",
       "  <th>want</th>      <td>    0.7668</td> <td>    0.096</td> <td>    7.972</td> <td> 0.000</td> <td>    0.578</td> <td>    0.955</td>\n",
       "</tr>\n",
       "<tr>\n",
       "  <th>one</th>       <td>    0.0952</td> <td>    0.109</td> <td>    0.876</td> <td> 0.381</td> <td>   -0.118</td> <td>    0.308</td>\n",
       "</tr>\n",
       "<tr>\n",
       "  <th>democrat</th>  <td>    1.1939</td> <td>    0.092</td> <td>   13.031</td> <td> 0.000</td> <td>    1.014</td> <td>    1.373</td>\n",
       "</tr>\n",
       "<tr>\n",
       "  <th>would</th>     <td>   -0.1618</td> <td>    0.122</td> <td>   -1.325</td> <td> 0.185</td> <td>   -0.401</td> <td>    0.078</td>\n",
       "</tr>\n",
       "<tr>\n",
       "  <th>said</th>      <td>   -0.4572</td> <td>    0.148</td> <td>   -3.085</td> <td> 0.002</td> <td>   -0.748</td> <td>   -0.167</td>\n",
       "</tr>\n",
       "<tr>\n",
       "  <th>many</th>      <td>   -0.1172</td> <td>    0.125</td> <td>   -0.938</td> <td> 0.348</td> <td>   -0.362</td> <td>    0.128</td>\n",
       "</tr>\n",
       "<tr>\n",
       "  <th>get</th>       <td>    0.1579</td> <td>    0.116</td> <td>    1.356</td> <td> 0.175</td> <td>   -0.070</td> <td>    0.386</td>\n",
       "</tr>\n",
       "<tr>\n",
       "  <th>great</th>     <td>   -0.6259</td> <td>    0.145</td> <td>   -4.319</td> <td> 0.000</td> <td>   -0.910</td> <td>   -0.342</td>\n",
       "</tr>\n",
       "<tr>\n",
       "  <th>like</th>      <td>    0.1482</td> <td>    0.115</td> <td>    1.291</td> <td> 0.197</td> <td>   -0.077</td> <td>    0.373</td>\n",
       "</tr>\n",
       "<tr>\n",
       "  <th>ever</th>      <td>   -1.4003</td> <td>    0.185</td> <td>   -7.574</td> <td> 0.000</td> <td>   -1.763</td> <td>   -1.038</td>\n",
       "</tr>\n",
       "<tr>\n",
       "  <th>think</th>     <td>   -0.1174</td> <td>    0.125</td> <td>   -0.941</td> <td> 0.347</td> <td>   -0.362</td> <td>    0.127</td>\n",
       "</tr>\n",
       "<tr>\n",
       "  <th>time</th>      <td>   -0.3803</td> <td>    0.137</td> <td>   -2.775</td> <td> 0.006</td> <td>   -0.649</td> <td>   -0.112</td>\n",
       "</tr>\n",
       "<tr>\n",
       "  <th>border</th>    <td>    3.4823</td> <td>    0.123</td> <td>   28.244</td> <td> 0.000</td> <td>    3.241</td> <td>    3.724</td>\n",
       "</tr>\n",
       "<tr>\n",
       "  <th>job</th>       <td>   -0.8329</td> <td>    0.164</td> <td>   -5.089</td> <td> 0.000</td> <td>   -1.154</td> <td>   -0.512</td>\n",
       "</tr>\n",
       "<tr>\n",
       "  <th>wall</th>      <td>    4.4242</td> <td>    0.158</td> <td>   28.086</td> <td> 0.000</td> <td>    4.115</td> <td>    4.733</td>\n",
       "</tr>\n",
       "<tr>\n",
       "  <th>right</th>     <td>   -0.0592</td> <td>    0.127</td> <td>   -0.468</td> <td> 0.640</td> <td>   -0.307</td> <td>    0.189</td>\n",
       "</tr>\n",
       "<tr>\n",
       "  <th>american</th>  <td>   -0.2948</td> <td>    0.149</td> <td>   -1.972</td> <td> 0.049</td> <td>   -0.588</td> <td>   -0.002</td>\n",
       "</tr>\n",
       "<tr>\n",
       "  <th>lot</th>       <td>   -0.0829</td> <td>    0.129</td> <td>   -0.642</td> <td> 0.521</td> <td>   -0.336</td> <td>    0.170</td>\n",
       "</tr>\n",
       "<tr>\n",
       "  <th>state</th>     <td>    0.1416</td> <td>    0.122</td> <td>    1.163</td> <td> 0.245</td> <td>   -0.097</td> <td>    0.380</td>\n",
       "</tr>\n",
       "<tr>\n",
       "  <th>s_Twitter</th> <td>   -0.8123</td> <td>    0.097</td> <td>   -8.392</td> <td> 0.000</td> <td>   -1.002</td> <td>   -0.623</td>\n",
       "</tr>\n",
       "<tr>\n",
       "  <th>s_Vlog</th>    <td>    0.3064</td> <td>    0.590</td> <td>    0.520</td> <td> 0.603</td> <td>   -0.849</td> <td>    1.462</td>\n",
       "</tr>\n",
       "</table>"
      ],
      "text/plain": [
       "<class 'statsmodels.iolib.summary.Summary'>\n",
       "\"\"\"\n",
       "                           Logit Regression Results                           \n",
       "==============================================================================\n",
       "Dep. Variable:       immigration_True   No. Observations:                12020\n",
       "Model:                          Logit   Df Residuals:                    11992\n",
       "Method:                           MLE   Df Model:                           27\n",
       "Date:                Mon, 11 Nov 2019   Pseudo R-squ.:                  0.3609\n",
       "Time:                        21:07:04   Log-Likelihood:                -3630.2\n",
       "converged:                       True   LL-Null:                       -5680.4\n",
       "Covariance Type:            nonrobust   LLR p-value:                     0.000\n",
       "==============================================================================\n",
       "                 coef    std err          z      P>|z|      [0.025      0.975]\n",
       "------------------------------------------------------------------------------\n",
       "Intercept     -2.2692      0.054    -42.050      0.000      -2.375      -2.163\n",
       "people         0.8866      0.079     11.273      0.000       0.732       1.041\n",
       "year          -0.2301      0.098     -2.338      0.019      -0.423      -0.037\n",
       "country        0.8542      0.076     11.270      0.000       0.706       1.003\n",
       "going         -0.2707      0.104     -2.597      0.009      -0.475      -0.066\n",
       "know          -0.0625      0.099     -0.635      0.526      -0.256       0.131\n",
       "billion       -0.6732      0.140     -4.802      0.000      -0.948      -0.398\n",
       "want           0.7668      0.096      7.972      0.000       0.578       0.955\n",
       "one            0.0952      0.109      0.876      0.381      -0.118       0.308\n",
       "democrat       1.1939      0.092     13.031      0.000       1.014       1.373\n",
       "would         -0.1618      0.122     -1.325      0.185      -0.401       0.078\n",
       "said          -0.4572      0.148     -3.085      0.002      -0.748      -0.167\n",
       "many          -0.1172      0.125     -0.938      0.348      -0.362       0.128\n",
       "get            0.1579      0.116      1.356      0.175      -0.070       0.386\n",
       "great         -0.6259      0.145     -4.319      0.000      -0.910      -0.342\n",
       "like           0.1482      0.115      1.291      0.197      -0.077       0.373\n",
       "ever          -1.4003      0.185     -7.574      0.000      -1.763      -1.038\n",
       "think         -0.1174      0.125     -0.941      0.347      -0.362       0.127\n",
       "time          -0.3803      0.137     -2.775      0.006      -0.649      -0.112\n",
       "border         3.4823      0.123     28.244      0.000       3.241       3.724\n",
       "job           -0.8329      0.164     -5.089      0.000      -1.154      -0.512\n",
       "wall           4.4242      0.158     28.086      0.000       4.115       4.733\n",
       "right         -0.0592      0.127     -0.468      0.640      -0.307       0.189\n",
       "american      -0.2948      0.149     -1.972      0.049      -0.588      -0.002\n",
       "lot           -0.0829      0.129     -0.642      0.521      -0.336       0.170\n",
       "state          0.1416      0.122      1.163      0.245      -0.097       0.380\n",
       "s_Twitter     -0.8123      0.097     -8.392      0.000      -1.002      -0.623\n",
       "s_Vlog         0.3064      0.590      0.520      0.603      -0.849       1.462\n",
       "==============================================================================\n",
       "\"\"\""
      ]
     },
     "execution_count": 31,
     "metadata": {},
     "output_type": "execute_result"
    }
   ],
   "source": [
    "reg2.summary()"
   ]
  },
  {
   "cell_type": "code",
   "execution_count": 34,
   "metadata": {},
   "outputs": [
    {
     "data": {
      "text/plain": [
       "'right'"
      ]
     },
     "execution_count": 34,
     "metadata": {},
     "output_type": "execute_result"
    }
   ],
   "source": [
    "reg2.pvalues.idxmax()"
   ]
  },
  {
   "cell_type": "markdown",
   "metadata": {},
   "source": [
    "Remove 'right'"
   ]
  },
  {
   "cell_type": "code",
   "execution_count": 32,
   "metadata": {},
   "outputs": [
    {
     "name": "stdout",
     "output_type": "stream",
     "text": [
      "Optimization terminated successfully.\n",
      "         Current function value: 0.302026\n",
      "         Iterations 7\n"
     ]
    }
   ],
   "source": [
    "reg3 = sm.logit(formula='immigration_True ~ people + year + country + going + \\\n",
    "            know + billion + want + one + democrat + would + said + many + get + great + like + \\\n",
    "            ever + think + time + border + job + wall + american + lot + state + \\\n",
    "            s_Twitter + s_Vlog', \n",
    "               data = trumpf).fit()"
   ]
  },
  {
   "cell_type": "code",
   "execution_count": 158,
   "metadata": {},
   "outputs": [
    {
     "data": {
      "text/html": [
       "<table class=\"simpletable\">\n",
       "<caption>Logit Regression Results</caption>\n",
       "<tr>\n",
       "  <th>Dep. Variable:</th>   <td>immigration_True</td> <th>  No. Observations:  </th>  <td> 12020</td> \n",
       "</tr>\n",
       "<tr>\n",
       "  <th>Model:</th>                 <td>Logit</td>      <th>  Df Residuals:      </th>  <td> 11993</td> \n",
       "</tr>\n",
       "<tr>\n",
       "  <th>Method:</th>                 <td>MLE</td>       <th>  Df Model:          </th>  <td>    26</td> \n",
       "</tr>\n",
       "<tr>\n",
       "  <th>Date:</th>            <td>Sun, 10 Nov 2019</td> <th>  Pseudo R-squ.:     </th>  <td>0.3609</td> \n",
       "</tr>\n",
       "<tr>\n",
       "  <th>Time:</th>                <td>18:13:01</td>     <th>  Log-Likelihood:    </th> <td> -3630.4</td>\n",
       "</tr>\n",
       "<tr>\n",
       "  <th>converged:</th>             <td>True</td>       <th>  LL-Null:           </th> <td> -5680.4</td>\n",
       "</tr>\n",
       "<tr>\n",
       "  <th>Covariance Type:</th>     <td>nonrobust</td>    <th>  LLR p-value:       </th>  <td> 0.000</td> \n",
       "</tr>\n",
       "</table>\n",
       "<table class=\"simpletable\">\n",
       "<tr>\n",
       "      <td></td>         <th>coef</th>     <th>std err</th>      <th>z</th>      <th>P>|z|</th>  <th>[0.025</th>    <th>0.975]</th>  \n",
       "</tr>\n",
       "<tr>\n",
       "  <th>Intercept</th> <td>   -2.2719</td> <td>    0.054</td> <td>  -42.339</td> <td> 0.000</td> <td>   -2.377</td> <td>   -2.167</td>\n",
       "</tr>\n",
       "<tr>\n",
       "  <th>people</th>    <td>    0.8862</td> <td>    0.079</td> <td>   11.269</td> <td> 0.000</td> <td>    0.732</td> <td>    1.040</td>\n",
       "</tr>\n",
       "<tr>\n",
       "  <th>year</th>      <td>   -0.2304</td> <td>    0.098</td> <td>   -2.341</td> <td> 0.019</td> <td>   -0.423</td> <td>   -0.038</td>\n",
       "</tr>\n",
       "<tr>\n",
       "  <th>country</th>   <td>    0.8542</td> <td>    0.076</td> <td>   11.270</td> <td> 0.000</td> <td>    0.706</td> <td>    1.003</td>\n",
       "</tr>\n",
       "<tr>\n",
       "  <th>going</th>     <td>   -0.2726</td> <td>    0.104</td> <td>   -2.618</td> <td> 0.009</td> <td>   -0.477</td> <td>   -0.069</td>\n",
       "</tr>\n",
       "<tr>\n",
       "  <th>know</th>      <td>   -0.0646</td> <td>    0.098</td> <td>   -0.657</td> <td> 0.511</td> <td>   -0.258</td> <td>    0.128</td>\n",
       "</tr>\n",
       "<tr>\n",
       "  <th>billion</th>   <td>   -0.6723</td> <td>    0.140</td> <td>   -4.797</td> <td> 0.000</td> <td>   -0.947</td> <td>   -0.398</td>\n",
       "</tr>\n",
       "<tr>\n",
       "  <th>want</th>      <td>    0.7655</td> <td>    0.096</td> <td>    7.964</td> <td> 0.000</td> <td>    0.577</td> <td>    0.954</td>\n",
       "</tr>\n",
       "<tr>\n",
       "  <th>one</th>       <td>    0.0946</td> <td>    0.109</td> <td>    0.871</td> <td> 0.384</td> <td>   -0.118</td> <td>    0.308</td>\n",
       "</tr>\n",
       "<tr>\n",
       "  <th>democrat</th>  <td>    1.1946</td> <td>    0.092</td> <td>   13.041</td> <td> 0.000</td> <td>    1.015</td> <td>    1.374</td>\n",
       "</tr>\n",
       "<tr>\n",
       "  <th>would</th>     <td>   -0.1633</td> <td>    0.122</td> <td>   -1.337</td> <td> 0.181</td> <td>   -0.403</td> <td>    0.076</td>\n",
       "</tr>\n",
       "<tr>\n",
       "  <th>said</th>      <td>   -0.4598</td> <td>    0.148</td> <td>   -3.105</td> <td> 0.002</td> <td>   -0.750</td> <td>   -0.170</td>\n",
       "</tr>\n",
       "<tr>\n",
       "  <th>many</th>      <td>   -0.1165</td> <td>    0.125</td> <td>   -0.933</td> <td> 0.351</td> <td>   -0.361</td> <td>    0.128</td>\n",
       "</tr>\n",
       "<tr>\n",
       "  <th>get</th>       <td>    0.1566</td> <td>    0.116</td> <td>    1.346</td> <td> 0.178</td> <td>   -0.071</td> <td>    0.385</td>\n",
       "</tr>\n",
       "<tr>\n",
       "  <th>great</th>     <td>   -0.6266</td> <td>    0.145</td> <td>   -4.325</td> <td> 0.000</td> <td>   -0.910</td> <td>   -0.343</td>\n",
       "</tr>\n",
       "<tr>\n",
       "  <th>like</th>      <td>    0.1472</td> <td>    0.115</td> <td>    1.282</td> <td> 0.200</td> <td>   -0.078</td> <td>    0.372</td>\n",
       "</tr>\n",
       "<tr>\n",
       "  <th>ever</th>      <td>   -1.4014</td> <td>    0.185</td> <td>   -7.578</td> <td> 0.000</td> <td>   -1.764</td> <td>   -1.039</td>\n",
       "</tr>\n",
       "<tr>\n",
       "  <th>think</th>     <td>   -0.1197</td> <td>    0.125</td> <td>   -0.959</td> <td> 0.337</td> <td>   -0.364</td> <td>    0.125</td>\n",
       "</tr>\n",
       "<tr>\n",
       "  <th>time</th>      <td>   -0.3800</td> <td>    0.137</td> <td>   -2.773</td> <td> 0.006</td> <td>   -0.649</td> <td>   -0.111</td>\n",
       "</tr>\n",
       "<tr>\n",
       "  <th>border</th>    <td>    3.4816</td> <td>    0.123</td> <td>   28.242</td> <td> 0.000</td> <td>    3.240</td> <td>    3.723</td>\n",
       "</tr>\n",
       "<tr>\n",
       "  <th>job</th>       <td>   -0.8339</td> <td>    0.164</td> <td>   -5.095</td> <td> 0.000</td> <td>   -1.155</td> <td>   -0.513</td>\n",
       "</tr>\n",
       "<tr>\n",
       "  <th>wall</th>      <td>    4.4224</td> <td>    0.157</td> <td>   28.083</td> <td> 0.000</td> <td>    4.114</td> <td>    4.731</td>\n",
       "</tr>\n",
       "<tr>\n",
       "  <th>american</th>  <td>   -0.2949</td> <td>    0.149</td> <td>   -1.973</td> <td> 0.048</td> <td>   -0.588</td> <td>   -0.002</td>\n",
       "</tr>\n",
       "<tr>\n",
       "  <th>lot</th>       <td>   -0.0832</td> <td>    0.129</td> <td>   -0.644</td> <td> 0.520</td> <td>   -0.337</td> <td>    0.170</td>\n",
       "</tr>\n",
       "<tr>\n",
       "  <th>state</th>     <td>    0.1413</td> <td>    0.122</td> <td>    1.160</td> <td> 0.246</td> <td>   -0.097</td> <td>    0.380</td>\n",
       "</tr>\n",
       "<tr>\n",
       "  <th>s_Twitter</th> <td>   -0.8105</td> <td>    0.097</td> <td>   -8.380</td> <td> 0.000</td> <td>   -1.000</td> <td>   -0.621</td>\n",
       "</tr>\n",
       "<tr>\n",
       "  <th>s_Vlog</th>    <td>    0.3051</td> <td>    0.590</td> <td>    0.517</td> <td> 0.605</td> <td>   -0.852</td> <td>    1.462</td>\n",
       "</tr>\n",
       "</table>"
      ],
      "text/plain": [
       "<class 'statsmodels.iolib.summary.Summary'>\n",
       "\"\"\"\n",
       "                           Logit Regression Results                           \n",
       "==============================================================================\n",
       "Dep. Variable:       immigration_True   No. Observations:                12020\n",
       "Model:                          Logit   Df Residuals:                    11993\n",
       "Method:                           MLE   Df Model:                           26\n",
       "Date:                Sun, 10 Nov 2019   Pseudo R-squ.:                  0.3609\n",
       "Time:                        18:13:01   Log-Likelihood:                -3630.4\n",
       "converged:                       True   LL-Null:                       -5680.4\n",
       "Covariance Type:            nonrobust   LLR p-value:                     0.000\n",
       "==============================================================================\n",
       "                 coef    std err          z      P>|z|      [0.025      0.975]\n",
       "------------------------------------------------------------------------------\n",
       "Intercept     -2.2719      0.054    -42.339      0.000      -2.377      -2.167\n",
       "people         0.8862      0.079     11.269      0.000       0.732       1.040\n",
       "year          -0.2304      0.098     -2.341      0.019      -0.423      -0.038\n",
       "country        0.8542      0.076     11.270      0.000       0.706       1.003\n",
       "going         -0.2726      0.104     -2.618      0.009      -0.477      -0.069\n",
       "know          -0.0646      0.098     -0.657      0.511      -0.258       0.128\n",
       "billion       -0.6723      0.140     -4.797      0.000      -0.947      -0.398\n",
       "want           0.7655      0.096      7.964      0.000       0.577       0.954\n",
       "one            0.0946      0.109      0.871      0.384      -0.118       0.308\n",
       "democrat       1.1946      0.092     13.041      0.000       1.015       1.374\n",
       "would         -0.1633      0.122     -1.337      0.181      -0.403       0.076\n",
       "said          -0.4598      0.148     -3.105      0.002      -0.750      -0.170\n",
       "many          -0.1165      0.125     -0.933      0.351      -0.361       0.128\n",
       "get            0.1566      0.116      1.346      0.178      -0.071       0.385\n",
       "great         -0.6266      0.145     -4.325      0.000      -0.910      -0.343\n",
       "like           0.1472      0.115      1.282      0.200      -0.078       0.372\n",
       "ever          -1.4014      0.185     -7.578      0.000      -1.764      -1.039\n",
       "think         -0.1197      0.125     -0.959      0.337      -0.364       0.125\n",
       "time          -0.3800      0.137     -2.773      0.006      -0.649      -0.111\n",
       "border         3.4816      0.123     28.242      0.000       3.240       3.723\n",
       "job           -0.8339      0.164     -5.095      0.000      -1.155      -0.513\n",
       "wall           4.4224      0.157     28.083      0.000       4.114       4.731\n",
       "american      -0.2949      0.149     -1.973      0.048      -0.588      -0.002\n",
       "lot           -0.0832      0.129     -0.644      0.520      -0.337       0.170\n",
       "state          0.1413      0.122      1.160      0.246      -0.097       0.380\n",
       "s_Twitter     -0.8105      0.097     -8.380      0.000      -1.000      -0.621\n",
       "s_Vlog         0.3051      0.590      0.517      0.605      -0.852       1.462\n",
       "==============================================================================\n",
       "\"\"\""
      ]
     },
     "execution_count": 158,
     "metadata": {},
     "output_type": "execute_result"
    }
   ],
   "source": [
    "reg3.summary()"
   ]
  },
  {
   "cell_type": "code",
   "execution_count": 35,
   "metadata": {},
   "outputs": [
    {
     "data": {
      "text/plain": [
       "'s_Vlog'"
      ]
     },
     "execution_count": 35,
     "metadata": {},
     "output_type": "execute_result"
    }
   ],
   "source": [
    "reg3.pvalues.idxmax()"
   ]
  },
  {
   "cell_type": "markdown",
   "metadata": {},
   "source": [
    "Drop 's_Vlog'"
   ]
  },
  {
   "cell_type": "code",
   "execution_count": 37,
   "metadata": {},
   "outputs": [
    {
     "name": "stdout",
     "output_type": "stream",
     "text": [
      "Optimization terminated successfully.\n",
      "         Current function value: 0.302037\n",
      "         Iterations 7\n"
     ]
    }
   ],
   "source": [
    "reg4 = sm.logit(formula='immigration_True ~ people + year + country + going + \\\n",
    "            know + billion + want + one + democrat + would + said + many + get + great + like + \\\n",
    "            ever + think + time + border + job + wall + american + lot + state + \\\n",
    "            s_Twitter', \n",
    "               data = trumpf).fit()"
   ]
  },
  {
   "cell_type": "code",
   "execution_count": 38,
   "metadata": {},
   "outputs": [
    {
     "data": {
      "text/html": [
       "<table class=\"simpletable\">\n",
       "<caption>Logit Regression Results</caption>\n",
       "<tr>\n",
       "  <th>Dep. Variable:</th>   <td>immigration_True</td> <th>  No. Observations:  </th>  <td> 12020</td> \n",
       "</tr>\n",
       "<tr>\n",
       "  <th>Model:</th>                 <td>Logit</td>      <th>  Df Residuals:      </th>  <td> 11994</td> \n",
       "</tr>\n",
       "<tr>\n",
       "  <th>Method:</th>                 <td>MLE</td>       <th>  Df Model:          </th>  <td>    25</td> \n",
       "</tr>\n",
       "<tr>\n",
       "  <th>Date:</th>            <td>Mon, 11 Nov 2019</td> <th>  Pseudo R-squ.:     </th>  <td>0.3609</td> \n",
       "</tr>\n",
       "<tr>\n",
       "  <th>Time:</th>                <td>21:08:07</td>     <th>  Log-Likelihood:    </th> <td> -3630.5</td>\n",
       "</tr>\n",
       "<tr>\n",
       "  <th>converged:</th>             <td>True</td>       <th>  LL-Null:           </th> <td> -5680.4</td>\n",
       "</tr>\n",
       "<tr>\n",
       "  <th>Covariance Type:</th>     <td>nonrobust</td>    <th>  LLR p-value:       </th>  <td> 0.000</td> \n",
       "</tr>\n",
       "</table>\n",
       "<table class=\"simpletable\">\n",
       "<tr>\n",
       "      <td></td>         <th>coef</th>     <th>std err</th>      <th>z</th>      <th>P>|z|</th>  <th>[0.025</th>    <th>0.975]</th>  \n",
       "</tr>\n",
       "<tr>\n",
       "  <th>Intercept</th> <td>   -2.2712</td> <td>    0.054</td> <td>  -42.342</td> <td> 0.000</td> <td>   -2.376</td> <td>   -2.166</td>\n",
       "</tr>\n",
       "<tr>\n",
       "  <th>people</th>    <td>    0.8861</td> <td>    0.079</td> <td>   11.266</td> <td> 0.000</td> <td>    0.732</td> <td>    1.040</td>\n",
       "</tr>\n",
       "<tr>\n",
       "  <th>year</th>      <td>   -0.2300</td> <td>    0.098</td> <td>   -2.337</td> <td> 0.019</td> <td>   -0.423</td> <td>   -0.037</td>\n",
       "</tr>\n",
       "<tr>\n",
       "  <th>country</th>   <td>    0.8552</td> <td>    0.076</td> <td>   11.288</td> <td> 0.000</td> <td>    0.707</td> <td>    1.004</td>\n",
       "</tr>\n",
       "<tr>\n",
       "  <th>going</th>     <td>   -0.2725</td> <td>    0.104</td> <td>   -2.617</td> <td> 0.009</td> <td>   -0.477</td> <td>   -0.068</td>\n",
       "</tr>\n",
       "<tr>\n",
       "  <th>know</th>      <td>   -0.0657</td> <td>    0.098</td> <td>   -0.668</td> <td> 0.504</td> <td>   -0.259</td> <td>    0.127</td>\n",
       "</tr>\n",
       "<tr>\n",
       "  <th>billion</th>   <td>   -0.6724</td> <td>    0.140</td> <td>   -4.798</td> <td> 0.000</td> <td>   -0.947</td> <td>   -0.398</td>\n",
       "</tr>\n",
       "<tr>\n",
       "  <th>want</th>      <td>    0.7653</td> <td>    0.096</td> <td>    7.961</td> <td> 0.000</td> <td>    0.577</td> <td>    0.954</td>\n",
       "</tr>\n",
       "<tr>\n",
       "  <th>one</th>       <td>    0.0945</td> <td>    0.109</td> <td>    0.870</td> <td> 0.384</td> <td>   -0.118</td> <td>    0.307</td>\n",
       "</tr>\n",
       "<tr>\n",
       "  <th>democrat</th>  <td>    1.1950</td> <td>    0.092</td> <td>   13.047</td> <td> 0.000</td> <td>    1.016</td> <td>    1.375</td>\n",
       "</tr>\n",
       "<tr>\n",
       "  <th>would</th>     <td>   -0.1641</td> <td>    0.122</td> <td>   -1.344</td> <td> 0.179</td> <td>   -0.403</td> <td>    0.075</td>\n",
       "</tr>\n",
       "<tr>\n",
       "  <th>said</th>      <td>   -0.4599</td> <td>    0.148</td> <td>   -3.105</td> <td> 0.002</td> <td>   -0.750</td> <td>   -0.170</td>\n",
       "</tr>\n",
       "<tr>\n",
       "  <th>many</th>      <td>   -0.1164</td> <td>    0.125</td> <td>   -0.932</td> <td> 0.351</td> <td>   -0.361</td> <td>    0.128</td>\n",
       "</tr>\n",
       "<tr>\n",
       "  <th>get</th>       <td>    0.1568</td> <td>    0.116</td> <td>    1.348</td> <td> 0.178</td> <td>   -0.071</td> <td>    0.385</td>\n",
       "</tr>\n",
       "<tr>\n",
       "  <th>great</th>     <td>   -0.6271</td> <td>    0.145</td> <td>   -4.329</td> <td> 0.000</td> <td>   -0.911</td> <td>   -0.343</td>\n",
       "</tr>\n",
       "<tr>\n",
       "  <th>like</th>      <td>    0.1483</td> <td>    0.115</td> <td>    1.293</td> <td> 0.196</td> <td>   -0.077</td> <td>    0.373</td>\n",
       "</tr>\n",
       "<tr>\n",
       "  <th>ever</th>      <td>   -1.4014</td> <td>    0.185</td> <td>   -7.577</td> <td> 0.000</td> <td>   -1.764</td> <td>   -1.039</td>\n",
       "</tr>\n",
       "<tr>\n",
       "  <th>think</th>     <td>   -0.1206</td> <td>    0.125</td> <td>   -0.967</td> <td> 0.334</td> <td>   -0.365</td> <td>    0.124</td>\n",
       "</tr>\n",
       "<tr>\n",
       "  <th>time</th>      <td>   -0.3790</td> <td>    0.137</td> <td>   -2.766</td> <td> 0.006</td> <td>   -0.648</td> <td>   -0.110</td>\n",
       "</tr>\n",
       "<tr>\n",
       "  <th>border</th>    <td>    3.4821</td> <td>    0.123</td> <td>   28.249</td> <td> 0.000</td> <td>    3.241</td> <td>    3.724</td>\n",
       "</tr>\n",
       "<tr>\n",
       "  <th>job</th>       <td>   -0.8330</td> <td>    0.164</td> <td>   -5.089</td> <td> 0.000</td> <td>   -1.154</td> <td>   -0.512</td>\n",
       "</tr>\n",
       "<tr>\n",
       "  <th>wall</th>      <td>    4.4232</td> <td>    0.157</td> <td>   28.091</td> <td> 0.000</td> <td>    4.115</td> <td>    4.732</td>\n",
       "</tr>\n",
       "<tr>\n",
       "  <th>american</th>  <td>   -0.2959</td> <td>    0.149</td> <td>   -1.980</td> <td> 0.048</td> <td>   -0.589</td> <td>   -0.003</td>\n",
       "</tr>\n",
       "<tr>\n",
       "  <th>lot</th>       <td>   -0.0827</td> <td>    0.129</td> <td>   -0.640</td> <td> 0.522</td> <td>   -0.336</td> <td>    0.171</td>\n",
       "</tr>\n",
       "<tr>\n",
       "  <th>state</th>     <td>    0.1415</td> <td>    0.122</td> <td>    1.163</td> <td> 0.245</td> <td>   -0.097</td> <td>    0.380</td>\n",
       "</tr>\n",
       "<tr>\n",
       "  <th>s_Twitter</th> <td>   -0.8116</td> <td>    0.097</td> <td>   -8.393</td> <td> 0.000</td> <td>   -1.001</td> <td>   -0.622</td>\n",
       "</tr>\n",
       "</table>"
      ],
      "text/plain": [
       "<class 'statsmodels.iolib.summary.Summary'>\n",
       "\"\"\"\n",
       "                           Logit Regression Results                           \n",
       "==============================================================================\n",
       "Dep. Variable:       immigration_True   No. Observations:                12020\n",
       "Model:                          Logit   Df Residuals:                    11994\n",
       "Method:                           MLE   Df Model:                           25\n",
       "Date:                Mon, 11 Nov 2019   Pseudo R-squ.:                  0.3609\n",
       "Time:                        21:08:07   Log-Likelihood:                -3630.5\n",
       "converged:                       True   LL-Null:                       -5680.4\n",
       "Covariance Type:            nonrobust   LLR p-value:                     0.000\n",
       "==============================================================================\n",
       "                 coef    std err          z      P>|z|      [0.025      0.975]\n",
       "------------------------------------------------------------------------------\n",
       "Intercept     -2.2712      0.054    -42.342      0.000      -2.376      -2.166\n",
       "people         0.8861      0.079     11.266      0.000       0.732       1.040\n",
       "year          -0.2300      0.098     -2.337      0.019      -0.423      -0.037\n",
       "country        0.8552      0.076     11.288      0.000       0.707       1.004\n",
       "going         -0.2725      0.104     -2.617      0.009      -0.477      -0.068\n",
       "know          -0.0657      0.098     -0.668      0.504      -0.259       0.127\n",
       "billion       -0.6724      0.140     -4.798      0.000      -0.947      -0.398\n",
       "want           0.7653      0.096      7.961      0.000       0.577       0.954\n",
       "one            0.0945      0.109      0.870      0.384      -0.118       0.307\n",
       "democrat       1.1950      0.092     13.047      0.000       1.016       1.375\n",
       "would         -0.1641      0.122     -1.344      0.179      -0.403       0.075\n",
       "said          -0.4599      0.148     -3.105      0.002      -0.750      -0.170\n",
       "many          -0.1164      0.125     -0.932      0.351      -0.361       0.128\n",
       "get            0.1568      0.116      1.348      0.178      -0.071       0.385\n",
       "great         -0.6271      0.145     -4.329      0.000      -0.911      -0.343\n",
       "like           0.1483      0.115      1.293      0.196      -0.077       0.373\n",
       "ever          -1.4014      0.185     -7.577      0.000      -1.764      -1.039\n",
       "think         -0.1206      0.125     -0.967      0.334      -0.365       0.124\n",
       "time          -0.3790      0.137     -2.766      0.006      -0.648      -0.110\n",
       "border         3.4821      0.123     28.249      0.000       3.241       3.724\n",
       "job           -0.8330      0.164     -5.089      0.000      -1.154      -0.512\n",
       "wall           4.4232      0.157     28.091      0.000       4.115       4.732\n",
       "american      -0.2959      0.149     -1.980      0.048      -0.589      -0.003\n",
       "lot           -0.0827      0.129     -0.640      0.522      -0.336       0.171\n",
       "state          0.1415      0.122      1.163      0.245      -0.097       0.380\n",
       "s_Twitter     -0.8116      0.097     -8.393      0.000      -1.001      -0.622\n",
       "==============================================================================\n",
       "\"\"\""
      ]
     },
     "execution_count": 38,
     "metadata": {},
     "output_type": "execute_result"
    }
   ],
   "source": [
    "reg4.summary()"
   ]
  },
  {
   "cell_type": "code",
   "execution_count": 39,
   "metadata": {},
   "outputs": [
    {
     "data": {
      "text/plain": [
       "'lot'"
      ]
     },
     "execution_count": 39,
     "metadata": {},
     "output_type": "execute_result"
    }
   ],
   "source": [
    "reg4.pvalues.idxmax()"
   ]
  },
  {
   "cell_type": "markdown",
   "metadata": {},
   "source": [
    "Drop 'lot'"
   ]
  },
  {
   "cell_type": "code",
   "execution_count": 40,
   "metadata": {},
   "outputs": [
    {
     "name": "stdout",
     "output_type": "stream",
     "text": [
      "Optimization terminated successfully.\n",
      "         Current function value: 0.302054\n",
      "         Iterations 7\n"
     ]
    }
   ],
   "source": [
    "reg5 = sm.logit(formula='immigration_True ~ people + year + country + going + \\\n",
    "            know + billion + want + one + democrat + would + said + many + get + great + like + \\\n",
    "            ever + think + time + border + job + wall + american + state + \\\n",
    "            s_Twitter', \n",
    "               data = trumpf).fit()"
   ]
  },
  {
   "cell_type": "code",
   "execution_count": 41,
   "metadata": {},
   "outputs": [
    {
     "data": {
      "text/html": [
       "<table class=\"simpletable\">\n",
       "<caption>Logit Regression Results</caption>\n",
       "<tr>\n",
       "  <th>Dep. Variable:</th>   <td>immigration_True</td> <th>  No. Observations:  </th>  <td> 12020</td> \n",
       "</tr>\n",
       "<tr>\n",
       "  <th>Model:</th>                 <td>Logit</td>      <th>  Df Residuals:      </th>  <td> 11995</td> \n",
       "</tr>\n",
       "<tr>\n",
       "  <th>Method:</th>                 <td>MLE</td>       <th>  Df Model:          </th>  <td>    24</td> \n",
       "</tr>\n",
       "<tr>\n",
       "  <th>Date:</th>            <td>Mon, 11 Nov 2019</td> <th>  Pseudo R-squ.:     </th>  <td>0.3608</td> \n",
       "</tr>\n",
       "<tr>\n",
       "  <th>Time:</th>                <td>21:08:24</td>     <th>  Log-Likelihood:    </th> <td> -3630.7</td>\n",
       "</tr>\n",
       "<tr>\n",
       "  <th>converged:</th>             <td>True</td>       <th>  LL-Null:           </th> <td> -5680.4</td>\n",
       "</tr>\n",
       "<tr>\n",
       "  <th>Covariance Type:</th>     <td>nonrobust</td>    <th>  LLR p-value:       </th>  <td> 0.000</td> \n",
       "</tr>\n",
       "</table>\n",
       "<table class=\"simpletable\">\n",
       "<tr>\n",
       "      <td></td>         <th>coef</th>     <th>std err</th>      <th>z</th>      <th>P>|z|</th>  <th>[0.025</th>    <th>0.975]</th>  \n",
       "</tr>\n",
       "<tr>\n",
       "  <th>Intercept</th> <td>   -2.2748</td> <td>    0.053</td> <td>  -42.624</td> <td> 0.000</td> <td>   -2.379</td> <td>   -2.170</td>\n",
       "</tr>\n",
       "<tr>\n",
       "  <th>people</th>    <td>    0.8802</td> <td>    0.078</td> <td>   11.269</td> <td> 0.000</td> <td>    0.727</td> <td>    1.033</td>\n",
       "</tr>\n",
       "<tr>\n",
       "  <th>year</th>      <td>   -0.2302</td> <td>    0.098</td> <td>   -2.339</td> <td> 0.019</td> <td>   -0.423</td> <td>   -0.037</td>\n",
       "</tr>\n",
       "<tr>\n",
       "  <th>country</th>   <td>    0.8558</td> <td>    0.076</td> <td>   11.297</td> <td> 0.000</td> <td>    0.707</td> <td>    1.004</td>\n",
       "</tr>\n",
       "<tr>\n",
       "  <th>going</th>     <td>   -0.2772</td> <td>    0.104</td> <td>   -2.668</td> <td> 0.008</td> <td>   -0.481</td> <td>   -0.074</td>\n",
       "</tr>\n",
       "<tr>\n",
       "  <th>know</th>      <td>   -0.0699</td> <td>    0.098</td> <td>   -0.712</td> <td> 0.476</td> <td>   -0.262</td> <td>    0.123</td>\n",
       "</tr>\n",
       "<tr>\n",
       "  <th>billion</th>   <td>   -0.6729</td> <td>    0.140</td> <td>   -4.801</td> <td> 0.000</td> <td>   -0.948</td> <td>   -0.398</td>\n",
       "</tr>\n",
       "<tr>\n",
       "  <th>want</th>      <td>    0.7655</td> <td>    0.096</td> <td>    7.965</td> <td> 0.000</td> <td>    0.577</td> <td>    0.954</td>\n",
       "</tr>\n",
       "<tr>\n",
       "  <th>one</th>       <td>    0.0959</td> <td>    0.109</td> <td>    0.883</td> <td> 0.377</td> <td>   -0.117</td> <td>    0.309</td>\n",
       "</tr>\n",
       "<tr>\n",
       "  <th>democrat</th>  <td>    1.1966</td> <td>    0.092</td> <td>   13.069</td> <td> 0.000</td> <td>    1.017</td> <td>    1.376</td>\n",
       "</tr>\n",
       "<tr>\n",
       "  <th>would</th>     <td>   -0.1654</td> <td>    0.122</td> <td>   -1.356</td> <td> 0.175</td> <td>   -0.405</td> <td>    0.074</td>\n",
       "</tr>\n",
       "<tr>\n",
       "  <th>said</th>      <td>   -0.4593</td> <td>    0.148</td> <td>   -3.103</td> <td> 0.002</td> <td>   -0.749</td> <td>   -0.169</td>\n",
       "</tr>\n",
       "<tr>\n",
       "  <th>many</th>      <td>   -0.1163</td> <td>    0.125</td> <td>   -0.931</td> <td> 0.352</td> <td>   -0.361</td> <td>    0.128</td>\n",
       "</tr>\n",
       "<tr>\n",
       "  <th>get</th>       <td>    0.1557</td> <td>    0.116</td> <td>    1.338</td> <td> 0.181</td> <td>   -0.072</td> <td>    0.384</td>\n",
       "</tr>\n",
       "<tr>\n",
       "  <th>great</th>     <td>   -0.6280</td> <td>    0.145</td> <td>   -4.336</td> <td> 0.000</td> <td>   -0.912</td> <td>   -0.344</td>\n",
       "</tr>\n",
       "<tr>\n",
       "  <th>like</th>      <td>    0.1482</td> <td>    0.115</td> <td>    1.291</td> <td> 0.197</td> <td>   -0.077</td> <td>    0.373</td>\n",
       "</tr>\n",
       "<tr>\n",
       "  <th>ever</th>      <td>   -1.3996</td> <td>    0.185</td> <td>   -7.570</td> <td> 0.000</td> <td>   -1.762</td> <td>   -1.037</td>\n",
       "</tr>\n",
       "<tr>\n",
       "  <th>think</th>     <td>   -0.1231</td> <td>    0.125</td> <td>   -0.987</td> <td> 0.324</td> <td>   -0.367</td> <td>    0.121</td>\n",
       "</tr>\n",
       "<tr>\n",
       "  <th>time</th>      <td>   -0.3808</td> <td>    0.137</td> <td>   -2.779</td> <td> 0.005</td> <td>   -0.649</td> <td>   -0.112</td>\n",
       "</tr>\n",
       "<tr>\n",
       "  <th>border</th>    <td>    3.4817</td> <td>    0.123</td> <td>   28.250</td> <td> 0.000</td> <td>    3.240</td> <td>    3.723</td>\n",
       "</tr>\n",
       "<tr>\n",
       "  <th>job</th>       <td>   -0.8323</td> <td>    0.164</td> <td>   -5.086</td> <td> 0.000</td> <td>   -1.153</td> <td>   -0.512</td>\n",
       "</tr>\n",
       "<tr>\n",
       "  <th>wall</th>      <td>    4.4122</td> <td>    0.156</td> <td>   28.202</td> <td> 0.000</td> <td>    4.106</td> <td>    4.719</td>\n",
       "</tr>\n",
       "<tr>\n",
       "  <th>american</th>  <td>   -0.2937</td> <td>    0.149</td> <td>   -1.966</td> <td> 0.049</td> <td>   -0.587</td> <td>   -0.001</td>\n",
       "</tr>\n",
       "<tr>\n",
       "  <th>state</th>     <td>    0.1423</td> <td>    0.122</td> <td>    1.169</td> <td> 0.242</td> <td>   -0.096</td> <td>    0.381</td>\n",
       "</tr>\n",
       "<tr>\n",
       "  <th>s_Twitter</th> <td>   -0.8065</td> <td>    0.096</td> <td>   -8.372</td> <td> 0.000</td> <td>   -0.995</td> <td>   -0.618</td>\n",
       "</tr>\n",
       "</table>"
      ],
      "text/plain": [
       "<class 'statsmodels.iolib.summary.Summary'>\n",
       "\"\"\"\n",
       "                           Logit Regression Results                           \n",
       "==============================================================================\n",
       "Dep. Variable:       immigration_True   No. Observations:                12020\n",
       "Model:                          Logit   Df Residuals:                    11995\n",
       "Method:                           MLE   Df Model:                           24\n",
       "Date:                Mon, 11 Nov 2019   Pseudo R-squ.:                  0.3608\n",
       "Time:                        21:08:24   Log-Likelihood:                -3630.7\n",
       "converged:                       True   LL-Null:                       -5680.4\n",
       "Covariance Type:            nonrobust   LLR p-value:                     0.000\n",
       "==============================================================================\n",
       "                 coef    std err          z      P>|z|      [0.025      0.975]\n",
       "------------------------------------------------------------------------------\n",
       "Intercept     -2.2748      0.053    -42.624      0.000      -2.379      -2.170\n",
       "people         0.8802      0.078     11.269      0.000       0.727       1.033\n",
       "year          -0.2302      0.098     -2.339      0.019      -0.423      -0.037\n",
       "country        0.8558      0.076     11.297      0.000       0.707       1.004\n",
       "going         -0.2772      0.104     -2.668      0.008      -0.481      -0.074\n",
       "know          -0.0699      0.098     -0.712      0.476      -0.262       0.123\n",
       "billion       -0.6729      0.140     -4.801      0.000      -0.948      -0.398\n",
       "want           0.7655      0.096      7.965      0.000       0.577       0.954\n",
       "one            0.0959      0.109      0.883      0.377      -0.117       0.309\n",
       "democrat       1.1966      0.092     13.069      0.000       1.017       1.376\n",
       "would         -0.1654      0.122     -1.356      0.175      -0.405       0.074\n",
       "said          -0.4593      0.148     -3.103      0.002      -0.749      -0.169\n",
       "many          -0.1163      0.125     -0.931      0.352      -0.361       0.128\n",
       "get            0.1557      0.116      1.338      0.181      -0.072       0.384\n",
       "great         -0.6280      0.145     -4.336      0.000      -0.912      -0.344\n",
       "like           0.1482      0.115      1.291      0.197      -0.077       0.373\n",
       "ever          -1.3996      0.185     -7.570      0.000      -1.762      -1.037\n",
       "think         -0.1231      0.125     -0.987      0.324      -0.367       0.121\n",
       "time          -0.3808      0.137     -2.779      0.005      -0.649      -0.112\n",
       "border         3.4817      0.123     28.250      0.000       3.240       3.723\n",
       "job           -0.8323      0.164     -5.086      0.000      -1.153      -0.512\n",
       "wall           4.4122      0.156     28.202      0.000       4.106       4.719\n",
       "american      -0.2937      0.149     -1.966      0.049      -0.587      -0.001\n",
       "state          0.1423      0.122      1.169      0.242      -0.096       0.381\n",
       "s_Twitter     -0.8065      0.096     -8.372      0.000      -0.995      -0.618\n",
       "==============================================================================\n",
       "\"\"\""
      ]
     },
     "execution_count": 41,
     "metadata": {},
     "output_type": "execute_result"
    }
   ],
   "source": [
    "reg5.summary()"
   ]
  },
  {
   "cell_type": "code",
   "execution_count": 42,
   "metadata": {},
   "outputs": [
    {
     "data": {
      "text/plain": [
       "'know'"
      ]
     },
     "execution_count": 42,
     "metadata": {},
     "output_type": "execute_result"
    }
   ],
   "source": [
    "reg5.pvalues.idxmax()"
   ]
  },
  {
   "cell_type": "markdown",
   "metadata": {},
   "source": [
    "Drop 'know'"
   ]
  },
  {
   "cell_type": "code",
   "execution_count": 43,
   "metadata": {},
   "outputs": [
    {
     "name": "stdout",
     "output_type": "stream",
     "text": [
      "Optimization terminated successfully.\n",
      "         Current function value: 0.302075\n",
      "         Iterations 7\n"
     ]
    }
   ],
   "source": [
    "reg6 = sm.logit(formula='immigration_True ~ people + year + country + going + \\\n",
    "            billion + want + one + democrat + would + said + many + get + great + like + \\\n",
    "            ever + think + time + border + job + wall + american + state + \\\n",
    "            s_Twitter', \n",
    "               data = trumpf).fit()"
   ]
  },
  {
   "cell_type": "code",
   "execution_count": 44,
   "metadata": {},
   "outputs": [
    {
     "data": {
      "text/html": [
       "<table class=\"simpletable\">\n",
       "<caption>Logit Regression Results</caption>\n",
       "<tr>\n",
       "  <th>Dep. Variable:</th>   <td>immigration_True</td> <th>  No. Observations:  </th>  <td> 12020</td> \n",
       "</tr>\n",
       "<tr>\n",
       "  <th>Model:</th>                 <td>Logit</td>      <th>  Df Residuals:      </th>  <td> 11996</td> \n",
       "</tr>\n",
       "<tr>\n",
       "  <th>Method:</th>                 <td>MLE</td>       <th>  Df Model:          </th>  <td>    23</td> \n",
       "</tr>\n",
       "<tr>\n",
       "  <th>Date:</th>            <td>Mon, 11 Nov 2019</td> <th>  Pseudo R-squ.:     </th>  <td>0.3608</td> \n",
       "</tr>\n",
       "<tr>\n",
       "  <th>Time:</th>                <td>21:08:33</td>     <th>  Log-Likelihood:    </th> <td> -3630.9</td>\n",
       "</tr>\n",
       "<tr>\n",
       "  <th>converged:</th>             <td>True</td>       <th>  LL-Null:           </th> <td> -5680.4</td>\n",
       "</tr>\n",
       "<tr>\n",
       "  <th>Covariance Type:</th>     <td>nonrobust</td>    <th>  LLR p-value:       </th>  <td> 0.000</td> \n",
       "</tr>\n",
       "</table>\n",
       "<table class=\"simpletable\">\n",
       "<tr>\n",
       "      <td></td>         <th>coef</th>     <th>std err</th>      <th>z</th>      <th>P>|z|</th>  <th>[0.025</th>    <th>0.975]</th>  \n",
       "</tr>\n",
       "<tr>\n",
       "  <th>Intercept</th> <td>   -2.2806</td> <td>    0.053</td> <td>  -43.205</td> <td> 0.000</td> <td>   -2.384</td> <td>   -2.177</td>\n",
       "</tr>\n",
       "<tr>\n",
       "  <th>people</th>    <td>    0.8741</td> <td>    0.078</td> <td>   11.259</td> <td> 0.000</td> <td>    0.722</td> <td>    1.026</td>\n",
       "</tr>\n",
       "<tr>\n",
       "  <th>year</th>      <td>   -0.2308</td> <td>    0.098</td> <td>   -2.345</td> <td> 0.019</td> <td>   -0.424</td> <td>   -0.038</td>\n",
       "</tr>\n",
       "<tr>\n",
       "  <th>country</th>   <td>    0.8575</td> <td>    0.076</td> <td>   11.324</td> <td> 0.000</td> <td>    0.709</td> <td>    1.006</td>\n",
       "</tr>\n",
       "<tr>\n",
       "  <th>going</th>     <td>   -0.2806</td> <td>    0.104</td> <td>   -2.703</td> <td> 0.007</td> <td>   -0.484</td> <td>   -0.077</td>\n",
       "</tr>\n",
       "<tr>\n",
       "  <th>billion</th>   <td>   -0.6729</td> <td>    0.140</td> <td>   -4.801</td> <td> 0.000</td> <td>   -0.948</td> <td>   -0.398</td>\n",
       "</tr>\n",
       "<tr>\n",
       "  <th>want</th>      <td>    0.7637</td> <td>    0.096</td> <td>    7.952</td> <td> 0.000</td> <td>    0.576</td> <td>    0.952</td>\n",
       "</tr>\n",
       "<tr>\n",
       "  <th>one</th>       <td>    0.0926</td> <td>    0.108</td> <td>    0.854</td> <td> 0.393</td> <td>   -0.120</td> <td>    0.305</td>\n",
       "</tr>\n",
       "<tr>\n",
       "  <th>democrat</th>  <td>    1.1976</td> <td>    0.092</td> <td>   13.084</td> <td> 0.000</td> <td>    1.018</td> <td>    1.377</td>\n",
       "</tr>\n",
       "<tr>\n",
       "  <th>would</th>     <td>   -0.1663</td> <td>    0.122</td> <td>   -1.363</td> <td> 0.173</td> <td>   -0.405</td> <td>    0.073</td>\n",
       "</tr>\n",
       "<tr>\n",
       "  <th>said</th>      <td>   -0.4667</td> <td>    0.148</td> <td>   -3.161</td> <td> 0.002</td> <td>   -0.756</td> <td>   -0.177</td>\n",
       "</tr>\n",
       "<tr>\n",
       "  <th>many</th>      <td>   -0.1188</td> <td>    0.125</td> <td>   -0.952</td> <td> 0.341</td> <td>   -0.363</td> <td>    0.126</td>\n",
       "</tr>\n",
       "<tr>\n",
       "  <th>get</th>       <td>    0.1529</td> <td>    0.116</td> <td>    1.316</td> <td> 0.188</td> <td>   -0.075</td> <td>    0.381</td>\n",
       "</tr>\n",
       "<tr>\n",
       "  <th>great</th>     <td>   -0.6311</td> <td>    0.145</td> <td>   -4.359</td> <td> 0.000</td> <td>   -0.915</td> <td>   -0.347</td>\n",
       "</tr>\n",
       "<tr>\n",
       "  <th>like</th>      <td>    0.1411</td> <td>    0.114</td> <td>    1.234</td> <td> 0.217</td> <td>   -0.083</td> <td>    0.365</td>\n",
       "</tr>\n",
       "<tr>\n",
       "  <th>ever</th>      <td>   -1.3982</td> <td>    0.185</td> <td>   -7.561</td> <td> 0.000</td> <td>   -1.761</td> <td>   -1.036</td>\n",
       "</tr>\n",
       "<tr>\n",
       "  <th>think</th>     <td>   -0.1267</td> <td>    0.125</td> <td>   -1.017</td> <td> 0.309</td> <td>   -0.371</td> <td>    0.118</td>\n",
       "</tr>\n",
       "<tr>\n",
       "  <th>time</th>      <td>   -0.3826</td> <td>    0.137</td> <td>   -2.793</td> <td> 0.005</td> <td>   -0.651</td> <td>   -0.114</td>\n",
       "</tr>\n",
       "<tr>\n",
       "  <th>border</th>    <td>    3.4814</td> <td>    0.123</td> <td>   28.257</td> <td> 0.000</td> <td>    3.240</td> <td>    3.723</td>\n",
       "</tr>\n",
       "<tr>\n",
       "  <th>job</th>       <td>   -0.8309</td> <td>    0.164</td> <td>   -5.076</td> <td> 0.000</td> <td>   -1.152</td> <td>   -0.510</td>\n",
       "</tr>\n",
       "<tr>\n",
       "  <th>wall</th>      <td>    4.4111</td> <td>    0.156</td> <td>   28.202</td> <td> 0.000</td> <td>    4.105</td> <td>    4.718</td>\n",
       "</tr>\n",
       "<tr>\n",
       "  <th>american</th>  <td>   -0.2901</td> <td>    0.149</td> <td>   -1.943</td> <td> 0.052</td> <td>   -0.583</td> <td>    0.003</td>\n",
       "</tr>\n",
       "<tr>\n",
       "  <th>state</th>     <td>    0.1417</td> <td>    0.122</td> <td>    1.165</td> <td> 0.244</td> <td>   -0.097</td> <td>    0.380</td>\n",
       "</tr>\n",
       "<tr>\n",
       "  <th>s_Twitter</th> <td>   -0.8010</td> <td>    0.096</td> <td>   -8.341</td> <td> 0.000</td> <td>   -0.989</td> <td>   -0.613</td>\n",
       "</tr>\n",
       "</table>"
      ],
      "text/plain": [
       "<class 'statsmodels.iolib.summary.Summary'>\n",
       "\"\"\"\n",
       "                           Logit Regression Results                           \n",
       "==============================================================================\n",
       "Dep. Variable:       immigration_True   No. Observations:                12020\n",
       "Model:                          Logit   Df Residuals:                    11996\n",
       "Method:                           MLE   Df Model:                           23\n",
       "Date:                Mon, 11 Nov 2019   Pseudo R-squ.:                  0.3608\n",
       "Time:                        21:08:33   Log-Likelihood:                -3630.9\n",
       "converged:                       True   LL-Null:                       -5680.4\n",
       "Covariance Type:            nonrobust   LLR p-value:                     0.000\n",
       "==============================================================================\n",
       "                 coef    std err          z      P>|z|      [0.025      0.975]\n",
       "------------------------------------------------------------------------------\n",
       "Intercept     -2.2806      0.053    -43.205      0.000      -2.384      -2.177\n",
       "people         0.8741      0.078     11.259      0.000       0.722       1.026\n",
       "year          -0.2308      0.098     -2.345      0.019      -0.424      -0.038\n",
       "country        0.8575      0.076     11.324      0.000       0.709       1.006\n",
       "going         -0.2806      0.104     -2.703      0.007      -0.484      -0.077\n",
       "billion       -0.6729      0.140     -4.801      0.000      -0.948      -0.398\n",
       "want           0.7637      0.096      7.952      0.000       0.576       0.952\n",
       "one            0.0926      0.108      0.854      0.393      -0.120       0.305\n",
       "democrat       1.1976      0.092     13.084      0.000       1.018       1.377\n",
       "would         -0.1663      0.122     -1.363      0.173      -0.405       0.073\n",
       "said          -0.4667      0.148     -3.161      0.002      -0.756      -0.177\n",
       "many          -0.1188      0.125     -0.952      0.341      -0.363       0.126\n",
       "get            0.1529      0.116      1.316      0.188      -0.075       0.381\n",
       "great         -0.6311      0.145     -4.359      0.000      -0.915      -0.347\n",
       "like           0.1411      0.114      1.234      0.217      -0.083       0.365\n",
       "ever          -1.3982      0.185     -7.561      0.000      -1.761      -1.036\n",
       "think         -0.1267      0.125     -1.017      0.309      -0.371       0.118\n",
       "time          -0.3826      0.137     -2.793      0.005      -0.651      -0.114\n",
       "border         3.4814      0.123     28.257      0.000       3.240       3.723\n",
       "job           -0.8309      0.164     -5.076      0.000      -1.152      -0.510\n",
       "wall           4.4111      0.156     28.202      0.000       4.105       4.718\n",
       "american      -0.2901      0.149     -1.943      0.052      -0.583       0.003\n",
       "state          0.1417      0.122      1.165      0.244      -0.097       0.380\n",
       "s_Twitter     -0.8010      0.096     -8.341      0.000      -0.989      -0.613\n",
       "==============================================================================\n",
       "\"\"\""
      ]
     },
     "execution_count": 44,
     "metadata": {},
     "output_type": "execute_result"
    }
   ],
   "source": [
    "reg6.summary()"
   ]
  },
  {
   "cell_type": "code",
   "execution_count": 45,
   "metadata": {},
   "outputs": [
    {
     "data": {
      "text/plain": [
       "'one'"
      ]
     },
     "execution_count": 45,
     "metadata": {},
     "output_type": "execute_result"
    }
   ],
   "source": [
    "reg6.pvalues.idxmax()"
   ]
  },
  {
   "cell_type": "markdown",
   "metadata": {},
   "source": [
    "Drop 'one'"
   ]
  },
  {
   "cell_type": "code",
   "execution_count": 46,
   "metadata": {},
   "outputs": [
    {
     "name": "stdout",
     "output_type": "stream",
     "text": [
      "Optimization terminated successfully.\n",
      "         Current function value: 0.302105\n",
      "         Iterations 7\n"
     ]
    }
   ],
   "source": [
    "reg7 = sm.logit(formula='immigration_True ~ people + year + country + going + \\\n",
    "            billion + want + democrat + would + said + many + get + great + like + \\\n",
    "            ever + think + time + border + job + wall + american + state + \\\n",
    "            s_Twitter', \n",
    "               data = trumpf).fit()"
   ]
  },
  {
   "cell_type": "code",
   "execution_count": 47,
   "metadata": {},
   "outputs": [
    {
     "data": {
      "text/html": [
       "<table class=\"simpletable\">\n",
       "<caption>Logit Regression Results</caption>\n",
       "<tr>\n",
       "  <th>Dep. Variable:</th>   <td>immigration_True</td> <th>  No. Observations:  </th>  <td> 12020</td> \n",
       "</tr>\n",
       "<tr>\n",
       "  <th>Model:</th>                 <td>Logit</td>      <th>  Df Residuals:      </th>  <td> 11997</td> \n",
       "</tr>\n",
       "<tr>\n",
       "  <th>Method:</th>                 <td>MLE</td>       <th>  Df Model:          </th>  <td>    22</td> \n",
       "</tr>\n",
       "<tr>\n",
       "  <th>Date:</th>            <td>Mon, 11 Nov 2019</td> <th>  Pseudo R-squ.:     </th>  <td>0.3607</td> \n",
       "</tr>\n",
       "<tr>\n",
       "  <th>Time:</th>                <td>21:09:02</td>     <th>  Log-Likelihood:    </th> <td> -3631.3</td>\n",
       "</tr>\n",
       "<tr>\n",
       "  <th>converged:</th>             <td>True</td>       <th>  LL-Null:           </th> <td> -5680.4</td>\n",
       "</tr>\n",
       "<tr>\n",
       "  <th>Covariance Type:</th>     <td>nonrobust</td>    <th>  LLR p-value:       </th>  <td> 0.000</td> \n",
       "</tr>\n",
       "</table>\n",
       "<table class=\"simpletable\">\n",
       "<tr>\n",
       "      <td></td>         <th>coef</th>     <th>std err</th>      <th>z</th>      <th>P>|z|</th>  <th>[0.025</th>    <th>0.975]</th>  \n",
       "</tr>\n",
       "<tr>\n",
       "  <th>Intercept</th> <td>   -2.2742</td> <td>    0.052</td> <td>  -43.557</td> <td> 0.000</td> <td>   -2.377</td> <td>   -2.172</td>\n",
       "</tr>\n",
       "<tr>\n",
       "  <th>people</th>    <td>    0.8755</td> <td>    0.078</td> <td>   11.279</td> <td> 0.000</td> <td>    0.723</td> <td>    1.028</td>\n",
       "</tr>\n",
       "<tr>\n",
       "  <th>year</th>      <td>   -0.2281</td> <td>    0.098</td> <td>   -2.320</td> <td> 0.020</td> <td>   -0.421</td> <td>   -0.035</td>\n",
       "</tr>\n",
       "<tr>\n",
       "  <th>country</th>   <td>    0.8578</td> <td>    0.076</td> <td>   11.328</td> <td> 0.000</td> <td>    0.709</td> <td>    1.006</td>\n",
       "</tr>\n",
       "<tr>\n",
       "  <th>going</th>     <td>   -0.2809</td> <td>    0.104</td> <td>   -2.706</td> <td> 0.007</td> <td>   -0.484</td> <td>   -0.077</td>\n",
       "</tr>\n",
       "<tr>\n",
       "  <th>billion</th>   <td>   -0.6744</td> <td>    0.140</td> <td>   -4.815</td> <td> 0.000</td> <td>   -0.949</td> <td>   -0.400</td>\n",
       "</tr>\n",
       "<tr>\n",
       "  <th>want</th>      <td>    0.7643</td> <td>    0.096</td> <td>    7.958</td> <td> 0.000</td> <td>    0.576</td> <td>    0.953</td>\n",
       "</tr>\n",
       "<tr>\n",
       "  <th>democrat</th>  <td>    1.1976</td> <td>    0.092</td> <td>   13.086</td> <td> 0.000</td> <td>    1.018</td> <td>    1.377</td>\n",
       "</tr>\n",
       "<tr>\n",
       "  <th>would</th>     <td>   -0.1628</td> <td>    0.122</td> <td>   -1.335</td> <td> 0.182</td> <td>   -0.402</td> <td>    0.076</td>\n",
       "</tr>\n",
       "<tr>\n",
       "  <th>said</th>      <td>   -0.4591</td> <td>    0.147</td> <td>   -3.114</td> <td> 0.002</td> <td>   -0.748</td> <td>   -0.170</td>\n",
       "</tr>\n",
       "<tr>\n",
       "  <th>many</th>      <td>   -0.1167</td> <td>    0.125</td> <td>   -0.935</td> <td> 0.350</td> <td>   -0.361</td> <td>    0.128</td>\n",
       "</tr>\n",
       "<tr>\n",
       "  <th>get</th>       <td>    0.1575</td> <td>    0.116</td> <td>    1.357</td> <td> 0.175</td> <td>   -0.070</td> <td>    0.385</td>\n",
       "</tr>\n",
       "<tr>\n",
       "  <th>great</th>     <td>   -0.6284</td> <td>    0.145</td> <td>   -4.341</td> <td> 0.000</td> <td>   -0.912</td> <td>   -0.345</td>\n",
       "</tr>\n",
       "<tr>\n",
       "  <th>like</th>      <td>    0.1432</td> <td>    0.114</td> <td>    1.253</td> <td> 0.210</td> <td>   -0.081</td> <td>    0.367</td>\n",
       "</tr>\n",
       "<tr>\n",
       "  <th>ever</th>      <td>   -1.3946</td> <td>    0.185</td> <td>   -7.544</td> <td> 0.000</td> <td>   -1.757</td> <td>   -1.032</td>\n",
       "</tr>\n",
       "<tr>\n",
       "  <th>think</th>     <td>   -0.1237</td> <td>    0.125</td> <td>   -0.993</td> <td> 0.321</td> <td>   -0.368</td> <td>    0.120</td>\n",
       "</tr>\n",
       "<tr>\n",
       "  <th>time</th>      <td>   -0.3803</td> <td>    0.137</td> <td>   -2.778</td> <td> 0.005</td> <td>   -0.649</td> <td>   -0.112</td>\n",
       "</tr>\n",
       "<tr>\n",
       "  <th>border</th>    <td>    3.4788</td> <td>    0.123</td> <td>   28.249</td> <td> 0.000</td> <td>    3.237</td> <td>    3.720</td>\n",
       "</tr>\n",
       "<tr>\n",
       "  <th>job</th>       <td>   -0.8306</td> <td>    0.164</td> <td>   -5.076</td> <td> 0.000</td> <td>   -1.151</td> <td>   -0.510</td>\n",
       "</tr>\n",
       "<tr>\n",
       "  <th>wall</th>      <td>    4.4101</td> <td>    0.156</td> <td>   28.196</td> <td> 0.000</td> <td>    4.104</td> <td>    4.717</td>\n",
       "</tr>\n",
       "<tr>\n",
       "  <th>american</th>  <td>   -0.2926</td> <td>    0.149</td> <td>   -1.959</td> <td> 0.050</td> <td>   -0.585</td> <td> 9.29e-05</td>\n",
       "</tr>\n",
       "<tr>\n",
       "  <th>state</th>     <td>    0.1445</td> <td>    0.122</td> <td>    1.188</td> <td> 0.235</td> <td>   -0.094</td> <td>    0.383</td>\n",
       "</tr>\n",
       "<tr>\n",
       "  <th>s_Twitter</th> <td>   -0.8047</td> <td>    0.096</td> <td>   -8.393</td> <td> 0.000</td> <td>   -0.993</td> <td>   -0.617</td>\n",
       "</tr>\n",
       "</table>"
      ],
      "text/plain": [
       "<class 'statsmodels.iolib.summary.Summary'>\n",
       "\"\"\"\n",
       "                           Logit Regression Results                           \n",
       "==============================================================================\n",
       "Dep. Variable:       immigration_True   No. Observations:                12020\n",
       "Model:                          Logit   Df Residuals:                    11997\n",
       "Method:                           MLE   Df Model:                           22\n",
       "Date:                Mon, 11 Nov 2019   Pseudo R-squ.:                  0.3607\n",
       "Time:                        21:09:02   Log-Likelihood:                -3631.3\n",
       "converged:                       True   LL-Null:                       -5680.4\n",
       "Covariance Type:            nonrobust   LLR p-value:                     0.000\n",
       "==============================================================================\n",
       "                 coef    std err          z      P>|z|      [0.025      0.975]\n",
       "------------------------------------------------------------------------------\n",
       "Intercept     -2.2742      0.052    -43.557      0.000      -2.377      -2.172\n",
       "people         0.8755      0.078     11.279      0.000       0.723       1.028\n",
       "year          -0.2281      0.098     -2.320      0.020      -0.421      -0.035\n",
       "country        0.8578      0.076     11.328      0.000       0.709       1.006\n",
       "going         -0.2809      0.104     -2.706      0.007      -0.484      -0.077\n",
       "billion       -0.6744      0.140     -4.815      0.000      -0.949      -0.400\n",
       "want           0.7643      0.096      7.958      0.000       0.576       0.953\n",
       "democrat       1.1976      0.092     13.086      0.000       1.018       1.377\n",
       "would         -0.1628      0.122     -1.335      0.182      -0.402       0.076\n",
       "said          -0.4591      0.147     -3.114      0.002      -0.748      -0.170\n",
       "many          -0.1167      0.125     -0.935      0.350      -0.361       0.128\n",
       "get            0.1575      0.116      1.357      0.175      -0.070       0.385\n",
       "great         -0.6284      0.145     -4.341      0.000      -0.912      -0.345\n",
       "like           0.1432      0.114      1.253      0.210      -0.081       0.367\n",
       "ever          -1.3946      0.185     -7.544      0.000      -1.757      -1.032\n",
       "think         -0.1237      0.125     -0.993      0.321      -0.368       0.120\n",
       "time          -0.3803      0.137     -2.778      0.005      -0.649      -0.112\n",
       "border         3.4788      0.123     28.249      0.000       3.237       3.720\n",
       "job           -0.8306      0.164     -5.076      0.000      -1.151      -0.510\n",
       "wall           4.4101      0.156     28.196      0.000       4.104       4.717\n",
       "american      -0.2926      0.149     -1.959      0.050      -0.585    9.29e-05\n",
       "state          0.1445      0.122      1.188      0.235      -0.094       0.383\n",
       "s_Twitter     -0.8047      0.096     -8.393      0.000      -0.993      -0.617\n",
       "==============================================================================\n",
       "\"\"\""
      ]
     },
     "execution_count": 47,
     "metadata": {},
     "output_type": "execute_result"
    }
   ],
   "source": [
    "reg7.summary()"
   ]
  },
  {
   "cell_type": "code",
   "execution_count": 48,
   "metadata": {},
   "outputs": [
    {
     "data": {
      "text/plain": [
       "'many'"
      ]
     },
     "execution_count": 48,
     "metadata": {},
     "output_type": "execute_result"
    }
   ],
   "source": [
    "reg7.pvalues.idxmax()"
   ]
  },
  {
   "cell_type": "markdown",
   "metadata": {},
   "source": [
    "drop 'many'"
   ]
  },
  {
   "cell_type": "code",
   "execution_count": 49,
   "metadata": {},
   "outputs": [
    {
     "name": "stdout",
     "output_type": "stream",
     "text": [
      "Optimization terminated successfully.\n",
      "         Current function value: 0.302142\n",
      "         Iterations 7\n"
     ]
    }
   ],
   "source": [
    "reg8 = sm.logit(formula='immigration_True ~ people + year + country + going + \\\n",
    "            billion + want + democrat + would + said + get + great + like + \\\n",
    "            ever + think + time + border + job + wall + american + state + \\\n",
    "            s_Twitter', \n",
    "               data = trumpf).fit()"
   ]
  },
  {
   "cell_type": "code",
   "execution_count": 50,
   "metadata": {},
   "outputs": [
    {
     "data": {
      "text/html": [
       "<table class=\"simpletable\">\n",
       "<caption>Logit Regression Results</caption>\n",
       "<tr>\n",
       "  <th>Dep. Variable:</th>   <td>immigration_True</td> <th>  No. Observations:  </th>  <td> 12020</td> \n",
       "</tr>\n",
       "<tr>\n",
       "  <th>Model:</th>                 <td>Logit</td>      <th>  Df Residuals:      </th>  <td> 11998</td> \n",
       "</tr>\n",
       "<tr>\n",
       "  <th>Method:</th>                 <td>MLE</td>       <th>  Df Model:          </th>  <td>    21</td> \n",
       "</tr>\n",
       "<tr>\n",
       "  <th>Date:</th>            <td>Mon, 11 Nov 2019</td> <th>  Pseudo R-squ.:     </th>  <td>0.3607</td> \n",
       "</tr>\n",
       "<tr>\n",
       "  <th>Time:</th>                <td>21:09:24</td>     <th>  Log-Likelihood:    </th> <td> -3631.7</td>\n",
       "</tr>\n",
       "<tr>\n",
       "  <th>converged:</th>             <td>True</td>       <th>  LL-Null:           </th> <td> -5680.4</td>\n",
       "</tr>\n",
       "<tr>\n",
       "  <th>Covariance Type:</th>     <td>nonrobust</td>    <th>  LLR p-value:       </th>  <td> 0.000</td> \n",
       "</tr>\n",
       "</table>\n",
       "<table class=\"simpletable\">\n",
       "<tr>\n",
       "      <td></td>         <th>coef</th>     <th>std err</th>      <th>z</th>      <th>P>|z|</th>  <th>[0.025</th>    <th>0.975]</th>  \n",
       "</tr>\n",
       "<tr>\n",
       "  <th>Intercept</th> <td>   -2.2772</td> <td>    0.052</td> <td>  -43.689</td> <td> 0.000</td> <td>   -2.379</td> <td>   -2.175</td>\n",
       "</tr>\n",
       "<tr>\n",
       "  <th>people</th>    <td>    0.8681</td> <td>    0.077</td> <td>   11.241</td> <td> 0.000</td> <td>    0.717</td> <td>    1.019</td>\n",
       "</tr>\n",
       "<tr>\n",
       "  <th>year</th>      <td>   -0.2396</td> <td>    0.098</td> <td>   -2.454</td> <td> 0.014</td> <td>   -0.431</td> <td>   -0.048</td>\n",
       "</tr>\n",
       "<tr>\n",
       "  <th>country</th>   <td>    0.8561</td> <td>    0.076</td> <td>   11.309</td> <td> 0.000</td> <td>    0.708</td> <td>    1.004</td>\n",
       "</tr>\n",
       "<tr>\n",
       "  <th>going</th>     <td>   -0.2829</td> <td>    0.104</td> <td>   -2.727</td> <td> 0.006</td> <td>   -0.486</td> <td>   -0.080</td>\n",
       "</tr>\n",
       "<tr>\n",
       "  <th>billion</th>   <td>   -0.6765</td> <td>    0.140</td> <td>   -4.832</td> <td> 0.000</td> <td>   -0.951</td> <td>   -0.402</td>\n",
       "</tr>\n",
       "<tr>\n",
       "  <th>want</th>      <td>    0.7650</td> <td>    0.096</td> <td>    7.968</td> <td> 0.000</td> <td>    0.577</td> <td>    0.953</td>\n",
       "</tr>\n",
       "<tr>\n",
       "  <th>democrat</th>  <td>    1.1975</td> <td>    0.092</td> <td>   13.087</td> <td> 0.000</td> <td>    1.018</td> <td>    1.377</td>\n",
       "</tr>\n",
       "<tr>\n",
       "  <th>would</th>     <td>   -0.1632</td> <td>    0.122</td> <td>   -1.339</td> <td> 0.181</td> <td>   -0.402</td> <td>    0.076</td>\n",
       "</tr>\n",
       "<tr>\n",
       "  <th>said</th>      <td>   -0.4597</td> <td>    0.147</td> <td>   -3.118</td> <td> 0.002</td> <td>   -0.749</td> <td>   -0.171</td>\n",
       "</tr>\n",
       "<tr>\n",
       "  <th>get</th>       <td>    0.1567</td> <td>    0.116</td> <td>    1.351</td> <td> 0.177</td> <td>   -0.071</td> <td>    0.384</td>\n",
       "</tr>\n",
       "<tr>\n",
       "  <th>great</th>     <td>   -0.6313</td> <td>    0.145</td> <td>   -4.362</td> <td> 0.000</td> <td>   -0.915</td> <td>   -0.348</td>\n",
       "</tr>\n",
       "<tr>\n",
       "  <th>like</th>      <td>    0.1397</td> <td>    0.114</td> <td>    1.223</td> <td> 0.221</td> <td>   -0.084</td> <td>    0.364</td>\n",
       "</tr>\n",
       "<tr>\n",
       "  <th>ever</th>      <td>   -1.3943</td> <td>    0.185</td> <td>   -7.537</td> <td> 0.000</td> <td>   -1.757</td> <td>   -1.032</td>\n",
       "</tr>\n",
       "<tr>\n",
       "  <th>think</th>     <td>   -0.1200</td> <td>    0.124</td> <td>   -0.965</td> <td> 0.335</td> <td>   -0.364</td> <td>    0.124</td>\n",
       "</tr>\n",
       "<tr>\n",
       "  <th>time</th>      <td>   -0.3864</td> <td>    0.137</td> <td>   -2.825</td> <td> 0.005</td> <td>   -0.655</td> <td>   -0.118</td>\n",
       "</tr>\n",
       "<tr>\n",
       "  <th>border</th>    <td>    3.4758</td> <td>    0.123</td> <td>   28.251</td> <td> 0.000</td> <td>    3.235</td> <td>    3.717</td>\n",
       "</tr>\n",
       "<tr>\n",
       "  <th>job</th>       <td>   -0.8317</td> <td>    0.164</td> <td>   -5.083</td> <td> 0.000</td> <td>   -1.152</td> <td>   -0.511</td>\n",
       "</tr>\n",
       "<tr>\n",
       "  <th>wall</th>      <td>    4.4113</td> <td>    0.156</td> <td>   28.205</td> <td> 0.000</td> <td>    4.105</td> <td>    4.718</td>\n",
       "</tr>\n",
       "<tr>\n",
       "  <th>american</th>  <td>   -0.2906</td> <td>    0.149</td> <td>   -1.947</td> <td> 0.052</td> <td>   -0.583</td> <td>    0.002</td>\n",
       "</tr>\n",
       "<tr>\n",
       "  <th>state</th>     <td>    0.1382</td> <td>    0.121</td> <td>    1.138</td> <td> 0.255</td> <td>   -0.100</td> <td>    0.376</td>\n",
       "</tr>\n",
       "<tr>\n",
       "  <th>s_Twitter</th> <td>   -0.8085</td> <td>    0.096</td> <td>   -8.440</td> <td> 0.000</td> <td>   -0.996</td> <td>   -0.621</td>\n",
       "</tr>\n",
       "</table>"
      ],
      "text/plain": [
       "<class 'statsmodels.iolib.summary.Summary'>\n",
       "\"\"\"\n",
       "                           Logit Regression Results                           \n",
       "==============================================================================\n",
       "Dep. Variable:       immigration_True   No. Observations:                12020\n",
       "Model:                          Logit   Df Residuals:                    11998\n",
       "Method:                           MLE   Df Model:                           21\n",
       "Date:                Mon, 11 Nov 2019   Pseudo R-squ.:                  0.3607\n",
       "Time:                        21:09:24   Log-Likelihood:                -3631.7\n",
       "converged:                       True   LL-Null:                       -5680.4\n",
       "Covariance Type:            nonrobust   LLR p-value:                     0.000\n",
       "==============================================================================\n",
       "                 coef    std err          z      P>|z|      [0.025      0.975]\n",
       "------------------------------------------------------------------------------\n",
       "Intercept     -2.2772      0.052    -43.689      0.000      -2.379      -2.175\n",
       "people         0.8681      0.077     11.241      0.000       0.717       1.019\n",
       "year          -0.2396      0.098     -2.454      0.014      -0.431      -0.048\n",
       "country        0.8561      0.076     11.309      0.000       0.708       1.004\n",
       "going         -0.2829      0.104     -2.727      0.006      -0.486      -0.080\n",
       "billion       -0.6765      0.140     -4.832      0.000      -0.951      -0.402\n",
       "want           0.7650      0.096      7.968      0.000       0.577       0.953\n",
       "democrat       1.1975      0.092     13.087      0.000       1.018       1.377\n",
       "would         -0.1632      0.122     -1.339      0.181      -0.402       0.076\n",
       "said          -0.4597      0.147     -3.118      0.002      -0.749      -0.171\n",
       "get            0.1567      0.116      1.351      0.177      -0.071       0.384\n",
       "great         -0.6313      0.145     -4.362      0.000      -0.915      -0.348\n",
       "like           0.1397      0.114      1.223      0.221      -0.084       0.364\n",
       "ever          -1.3943      0.185     -7.537      0.000      -1.757      -1.032\n",
       "think         -0.1200      0.124     -0.965      0.335      -0.364       0.124\n",
       "time          -0.3864      0.137     -2.825      0.005      -0.655      -0.118\n",
       "border         3.4758      0.123     28.251      0.000       3.235       3.717\n",
       "job           -0.8317      0.164     -5.083      0.000      -1.152      -0.511\n",
       "wall           4.4113      0.156     28.205      0.000       4.105       4.718\n",
       "american      -0.2906      0.149     -1.947      0.052      -0.583       0.002\n",
       "state          0.1382      0.121      1.138      0.255      -0.100       0.376\n",
       "s_Twitter     -0.8085      0.096     -8.440      0.000      -0.996      -0.621\n",
       "==============================================================================\n",
       "\"\"\""
      ]
     },
     "execution_count": 50,
     "metadata": {},
     "output_type": "execute_result"
    }
   ],
   "source": [
    "reg8.summary()"
   ]
  },
  {
   "cell_type": "code",
   "execution_count": 51,
   "metadata": {},
   "outputs": [
    {
     "data": {
      "text/plain": [
       "'think'"
      ]
     },
     "execution_count": 51,
     "metadata": {},
     "output_type": "execute_result"
    }
   ],
   "source": [
    "reg8.pvalues.idxmax()"
   ]
  },
  {
   "cell_type": "markdown",
   "metadata": {},
   "source": [
    "Drop 'think'"
   ]
  },
  {
   "cell_type": "code",
   "execution_count": 52,
   "metadata": {},
   "outputs": [
    {
     "name": "stdout",
     "output_type": "stream",
     "text": [
      "Optimization terminated successfully.\n",
      "         Current function value: 0.302182\n",
      "         Iterations 7\n"
     ]
    }
   ],
   "source": [
    "reg9 = sm.logit(formula='immigration_True ~ people + year + country + going + \\\n",
    "            billion + want + democrat + would + said + get + great + like + \\\n",
    "            ever + time + border + job + wall + american + state + \\\n",
    "            s_Twitter', \n",
    "               data = trumpf).fit()"
   ]
  },
  {
   "cell_type": "code",
   "execution_count": 53,
   "metadata": {},
   "outputs": [
    {
     "data": {
      "text/html": [
       "<table class=\"simpletable\">\n",
       "<caption>Logit Regression Results</caption>\n",
       "<tr>\n",
       "  <th>Dep. Variable:</th>   <td>immigration_True</td> <th>  No. Observations:  </th>  <td> 12020</td> \n",
       "</tr>\n",
       "<tr>\n",
       "  <th>Model:</th>                 <td>Logit</td>      <th>  Df Residuals:      </th>  <td> 11999</td> \n",
       "</tr>\n",
       "<tr>\n",
       "  <th>Method:</th>                 <td>MLE</td>       <th>  Df Model:          </th>  <td>    20</td> \n",
       "</tr>\n",
       "<tr>\n",
       "  <th>Date:</th>            <td>Mon, 11 Nov 2019</td> <th>  Pseudo R-squ.:     </th>  <td>0.3606</td> \n",
       "</tr>\n",
       "<tr>\n",
       "  <th>Time:</th>                <td>21:10:21</td>     <th>  Log-Likelihood:    </th> <td> -3632.2</td>\n",
       "</tr>\n",
       "<tr>\n",
       "  <th>converged:</th>             <td>True</td>       <th>  LL-Null:           </th> <td> -5680.4</td>\n",
       "</tr>\n",
       "<tr>\n",
       "  <th>Covariance Type:</th>     <td>nonrobust</td>    <th>  LLR p-value:       </th>  <td> 0.000</td> \n",
       "</tr>\n",
       "</table>\n",
       "<table class=\"simpletable\">\n",
       "<tr>\n",
       "      <td></td>         <th>coef</th>     <th>std err</th>      <th>z</th>      <th>P>|z|</th>  <th>[0.025</th>    <th>0.975]</th>  \n",
       "</tr>\n",
       "<tr>\n",
       "  <th>Intercept</th> <td>   -2.2829</td> <td>    0.052</td> <td>  -44.064</td> <td> 0.000</td> <td>   -2.384</td> <td>   -2.181</td>\n",
       "</tr>\n",
       "<tr>\n",
       "  <th>people</th>    <td>    0.8621</td> <td>    0.077</td> <td>   11.199</td> <td> 0.000</td> <td>    0.711</td> <td>    1.013</td>\n",
       "</tr>\n",
       "<tr>\n",
       "  <th>year</th>      <td>   -0.2394</td> <td>    0.098</td> <td>   -2.452</td> <td> 0.014</td> <td>   -0.431</td> <td>   -0.048</td>\n",
       "</tr>\n",
       "<tr>\n",
       "  <th>country</th>   <td>    0.8545</td> <td>    0.076</td> <td>   11.292</td> <td> 0.000</td> <td>    0.706</td> <td>    1.003</td>\n",
       "</tr>\n",
       "<tr>\n",
       "  <th>going</th>     <td>   -0.2876</td> <td>    0.104</td> <td>   -2.777</td> <td> 0.005</td> <td>   -0.491</td> <td>   -0.085</td>\n",
       "</tr>\n",
       "<tr>\n",
       "  <th>billion</th>   <td>   -0.6767</td> <td>    0.140</td> <td>   -4.834</td> <td> 0.000</td> <td>   -0.951</td> <td>   -0.402</td>\n",
       "</tr>\n",
       "<tr>\n",
       "  <th>want</th>      <td>    0.7640</td> <td>    0.096</td> <td>    7.961</td> <td> 0.000</td> <td>    0.576</td> <td>    0.952</td>\n",
       "</tr>\n",
       "<tr>\n",
       "  <th>democrat</th>  <td>    1.1981</td> <td>    0.091</td> <td>   13.095</td> <td> 0.000</td> <td>    1.019</td> <td>    1.377</td>\n",
       "</tr>\n",
       "<tr>\n",
       "  <th>would</th>     <td>   -0.1693</td> <td>    0.122</td> <td>   -1.391</td> <td> 0.164</td> <td>   -0.408</td> <td>    0.069</td>\n",
       "</tr>\n",
       "<tr>\n",
       "  <th>said</th>      <td>   -0.4636</td> <td>    0.147</td> <td>   -3.145</td> <td> 0.002</td> <td>   -0.752</td> <td>   -0.175</td>\n",
       "</tr>\n",
       "<tr>\n",
       "  <th>get</th>       <td>    0.1541</td> <td>    0.116</td> <td>    1.328</td> <td> 0.184</td> <td>   -0.073</td> <td>    0.381</td>\n",
       "</tr>\n",
       "<tr>\n",
       "  <th>great</th>     <td>   -0.6345</td> <td>    0.145</td> <td>   -4.383</td> <td> 0.000</td> <td>   -0.918</td> <td>   -0.351</td>\n",
       "</tr>\n",
       "<tr>\n",
       "  <th>like</th>      <td>    0.1363</td> <td>    0.114</td> <td>    1.194</td> <td> 0.232</td> <td>   -0.087</td> <td>    0.360</td>\n",
       "</tr>\n",
       "<tr>\n",
       "  <th>ever</th>      <td>   -1.3978</td> <td>    0.185</td> <td>   -7.551</td> <td> 0.000</td> <td>   -1.761</td> <td>   -1.035</td>\n",
       "</tr>\n",
       "<tr>\n",
       "  <th>time</th>      <td>   -0.3861</td> <td>    0.137</td> <td>   -2.823</td> <td> 0.005</td> <td>   -0.654</td> <td>   -0.118</td>\n",
       "</tr>\n",
       "<tr>\n",
       "  <th>border</th>    <td>    3.4764</td> <td>    0.123</td> <td>   28.262</td> <td> 0.000</td> <td>    3.235</td> <td>    3.717</td>\n",
       "</tr>\n",
       "<tr>\n",
       "  <th>job</th>       <td>   -0.8314</td> <td>    0.164</td> <td>   -5.081</td> <td> 0.000</td> <td>   -1.152</td> <td>   -0.511</td>\n",
       "</tr>\n",
       "<tr>\n",
       "  <th>wall</th>      <td>    4.4105</td> <td>    0.156</td> <td>   28.216</td> <td> 0.000</td> <td>    4.104</td> <td>    4.717</td>\n",
       "</tr>\n",
       "<tr>\n",
       "  <th>american</th>  <td>   -0.2869</td> <td>    0.149</td> <td>   -1.923</td> <td> 0.055</td> <td>   -0.579</td> <td>    0.006</td>\n",
       "</tr>\n",
       "<tr>\n",
       "  <th>state</th>     <td>    0.1366</td> <td>    0.121</td> <td>    1.125</td> <td> 0.261</td> <td>   -0.101</td> <td>    0.375</td>\n",
       "</tr>\n",
       "<tr>\n",
       "  <th>s_Twitter</th> <td>   -0.8024</td> <td>    0.096</td> <td>   -8.393</td> <td> 0.000</td> <td>   -0.990</td> <td>   -0.615</td>\n",
       "</tr>\n",
       "</table>"
      ],
      "text/plain": [
       "<class 'statsmodels.iolib.summary.Summary'>\n",
       "\"\"\"\n",
       "                           Logit Regression Results                           \n",
       "==============================================================================\n",
       "Dep. Variable:       immigration_True   No. Observations:                12020\n",
       "Model:                          Logit   Df Residuals:                    11999\n",
       "Method:                           MLE   Df Model:                           20\n",
       "Date:                Mon, 11 Nov 2019   Pseudo R-squ.:                  0.3606\n",
       "Time:                        21:10:21   Log-Likelihood:                -3632.2\n",
       "converged:                       True   LL-Null:                       -5680.4\n",
       "Covariance Type:            nonrobust   LLR p-value:                     0.000\n",
       "==============================================================================\n",
       "                 coef    std err          z      P>|z|      [0.025      0.975]\n",
       "------------------------------------------------------------------------------\n",
       "Intercept     -2.2829      0.052    -44.064      0.000      -2.384      -2.181\n",
       "people         0.8621      0.077     11.199      0.000       0.711       1.013\n",
       "year          -0.2394      0.098     -2.452      0.014      -0.431      -0.048\n",
       "country        0.8545      0.076     11.292      0.000       0.706       1.003\n",
       "going         -0.2876      0.104     -2.777      0.005      -0.491      -0.085\n",
       "billion       -0.6767      0.140     -4.834      0.000      -0.951      -0.402\n",
       "want           0.7640      0.096      7.961      0.000       0.576       0.952\n",
       "democrat       1.1981      0.091     13.095      0.000       1.019       1.377\n",
       "would         -0.1693      0.122     -1.391      0.164      -0.408       0.069\n",
       "said          -0.4636      0.147     -3.145      0.002      -0.752      -0.175\n",
       "get            0.1541      0.116      1.328      0.184      -0.073       0.381\n",
       "great         -0.6345      0.145     -4.383      0.000      -0.918      -0.351\n",
       "like           0.1363      0.114      1.194      0.232      -0.087       0.360\n",
       "ever          -1.3978      0.185     -7.551      0.000      -1.761      -1.035\n",
       "time          -0.3861      0.137     -2.823      0.005      -0.654      -0.118\n",
       "border         3.4764      0.123     28.262      0.000       3.235       3.717\n",
       "job           -0.8314      0.164     -5.081      0.000      -1.152      -0.511\n",
       "wall           4.4105      0.156     28.216      0.000       4.104       4.717\n",
       "american      -0.2869      0.149     -1.923      0.055      -0.579       0.006\n",
       "state          0.1366      0.121      1.125      0.261      -0.101       0.375\n",
       "s_Twitter     -0.8024      0.096     -8.393      0.000      -0.990      -0.615\n",
       "==============================================================================\n",
       "\"\"\""
      ]
     },
     "execution_count": 53,
     "metadata": {},
     "output_type": "execute_result"
    }
   ],
   "source": [
    "reg9.summary()"
   ]
  },
  {
   "cell_type": "code",
   "execution_count": 54,
   "metadata": {},
   "outputs": [
    {
     "data": {
      "text/plain": [
       "'state'"
      ]
     },
     "execution_count": 54,
     "metadata": {},
     "output_type": "execute_result"
    }
   ],
   "source": [
    "reg9.pvalues.idxmax()"
   ]
  },
  {
   "cell_type": "markdown",
   "metadata": {},
   "source": [
    "drop 'state'"
   ]
  },
  {
   "cell_type": "code",
   "execution_count": 55,
   "metadata": {},
   "outputs": [
    {
     "name": "stdout",
     "output_type": "stream",
     "text": [
      "Optimization terminated successfully.\n",
      "         Current function value: 0.302233\n",
      "         Iterations 7\n"
     ]
    }
   ],
   "source": [
    "reg10 = sm.logit(formula='immigration_True ~ people + year + country + going + \\\n",
    "            billion + want + democrat + would + said + get + great + like + \\\n",
    "            ever + time + border + job + wall + american + \\\n",
    "            s_Twitter', \n",
    "               data = trumpf).fit()"
   ]
  },
  {
   "cell_type": "code",
   "execution_count": 56,
   "metadata": {},
   "outputs": [
    {
     "data": {
      "text/html": [
       "<table class=\"simpletable\">\n",
       "<caption>Logit Regression Results</caption>\n",
       "<tr>\n",
       "  <th>Dep. Variable:</th>   <td>immigration_True</td> <th>  No. Observations:  </th>  <td> 12020</td> \n",
       "</tr>\n",
       "<tr>\n",
       "  <th>Model:</th>                 <td>Logit</td>      <th>  Df Residuals:      </th>  <td> 12000</td> \n",
       "</tr>\n",
       "<tr>\n",
       "  <th>Method:</th>                 <td>MLE</td>       <th>  Df Model:          </th>  <td>    19</td> \n",
       "</tr>\n",
       "<tr>\n",
       "  <th>Date:</th>            <td>Mon, 11 Nov 2019</td> <th>  Pseudo R-squ.:     </th>  <td>0.3605</td> \n",
       "</tr>\n",
       "<tr>\n",
       "  <th>Time:</th>                <td>21:10:50</td>     <th>  Log-Likelihood:    </th> <td> -3632.8</td>\n",
       "</tr>\n",
       "<tr>\n",
       "  <th>converged:</th>             <td>True</td>       <th>  LL-Null:           </th> <td> -5680.4</td>\n",
       "</tr>\n",
       "<tr>\n",
       "  <th>Covariance Type:</th>     <td>nonrobust</td>    <th>  LLR p-value:       </th>  <td> 0.000</td> \n",
       "</tr>\n",
       "</table>\n",
       "<table class=\"simpletable\">\n",
       "<tr>\n",
       "      <td></td>         <th>coef</th>     <th>std err</th>      <th>z</th>      <th>P>|z|</th>  <th>[0.025</th>    <th>0.975]</th>  \n",
       "</tr>\n",
       "<tr>\n",
       "  <th>Intercept</th> <td>   -2.2738</td> <td>    0.051</td> <td>  -44.488</td> <td> 0.000</td> <td>   -2.374</td> <td>   -2.174</td>\n",
       "</tr>\n",
       "<tr>\n",
       "  <th>people</th>    <td>    0.8628</td> <td>    0.077</td> <td>   11.211</td> <td> 0.000</td> <td>    0.712</td> <td>    1.014</td>\n",
       "</tr>\n",
       "<tr>\n",
       "  <th>year</th>      <td>   -0.2384</td> <td>    0.098</td> <td>   -2.442</td> <td> 0.015</td> <td>   -0.430</td> <td>   -0.047</td>\n",
       "</tr>\n",
       "<tr>\n",
       "  <th>country</th>   <td>    0.8561</td> <td>    0.076</td> <td>   11.316</td> <td> 0.000</td> <td>    0.708</td> <td>    1.004</td>\n",
       "</tr>\n",
       "<tr>\n",
       "  <th>going</th>     <td>   -0.2846</td> <td>    0.104</td> <td>   -2.749</td> <td> 0.006</td> <td>   -0.488</td> <td>   -0.082</td>\n",
       "</tr>\n",
       "<tr>\n",
       "  <th>billion</th>   <td>   -0.6710</td> <td>    0.140</td> <td>   -4.794</td> <td> 0.000</td> <td>   -0.945</td> <td>   -0.397</td>\n",
       "</tr>\n",
       "<tr>\n",
       "  <th>want</th>      <td>    0.7640</td> <td>    0.096</td> <td>    7.959</td> <td> 0.000</td> <td>    0.576</td> <td>    0.952</td>\n",
       "</tr>\n",
       "<tr>\n",
       "  <th>democrat</th>  <td>    1.1925</td> <td>    0.091</td> <td>   13.056</td> <td> 0.000</td> <td>    1.013</td> <td>    1.372</td>\n",
       "</tr>\n",
       "<tr>\n",
       "  <th>would</th>     <td>   -0.1698</td> <td>    0.122</td> <td>   -1.394</td> <td> 0.163</td> <td>   -0.408</td> <td>    0.069</td>\n",
       "</tr>\n",
       "<tr>\n",
       "  <th>said</th>      <td>   -0.4665</td> <td>    0.147</td> <td>   -3.165</td> <td> 0.002</td> <td>   -0.755</td> <td>   -0.178</td>\n",
       "</tr>\n",
       "<tr>\n",
       "  <th>get</th>       <td>    0.1522</td> <td>    0.116</td> <td>    1.312</td> <td> 0.190</td> <td>   -0.075</td> <td>    0.380</td>\n",
       "</tr>\n",
       "<tr>\n",
       "  <th>great</th>     <td>   -0.6312</td> <td>    0.145</td> <td>   -4.358</td> <td> 0.000</td> <td>   -0.915</td> <td>   -0.347</td>\n",
       "</tr>\n",
       "<tr>\n",
       "  <th>like</th>      <td>    0.1364</td> <td>    0.114</td> <td>    1.196</td> <td> 0.232</td> <td>   -0.087</td> <td>    0.360</td>\n",
       "</tr>\n",
       "<tr>\n",
       "  <th>ever</th>      <td>   -1.3932</td> <td>    0.185</td> <td>   -7.534</td> <td> 0.000</td> <td>   -1.756</td> <td>   -1.031</td>\n",
       "</tr>\n",
       "<tr>\n",
       "  <th>time</th>      <td>   -0.3867</td> <td>    0.137</td> <td>   -2.827</td> <td> 0.005</td> <td>   -0.655</td> <td>   -0.119</td>\n",
       "</tr>\n",
       "<tr>\n",
       "  <th>border</th>    <td>    3.4777</td> <td>    0.123</td> <td>   28.265</td> <td> 0.000</td> <td>    3.237</td> <td>    3.719</td>\n",
       "</tr>\n",
       "<tr>\n",
       "  <th>job</th>       <td>   -0.8303</td> <td>    0.164</td> <td>   -5.075</td> <td> 0.000</td> <td>   -1.151</td> <td>   -0.510</td>\n",
       "</tr>\n",
       "<tr>\n",
       "  <th>wall</th>      <td>    4.4009</td> <td>    0.156</td> <td>   28.215</td> <td> 0.000</td> <td>    4.095</td> <td>    4.707</td>\n",
       "</tr>\n",
       "<tr>\n",
       "  <th>american</th>  <td>   -0.2887</td> <td>    0.149</td> <td>   -1.936</td> <td> 0.053</td> <td>   -0.581</td> <td>    0.004</td>\n",
       "</tr>\n",
       "<tr>\n",
       "  <th>s_Twitter</th> <td>   -0.8009</td> <td>    0.096</td> <td>   -8.379</td> <td> 0.000</td> <td>   -0.988</td> <td>   -0.614</td>\n",
       "</tr>\n",
       "</table>"
      ],
      "text/plain": [
       "<class 'statsmodels.iolib.summary.Summary'>\n",
       "\"\"\"\n",
       "                           Logit Regression Results                           \n",
       "==============================================================================\n",
       "Dep. Variable:       immigration_True   No. Observations:                12020\n",
       "Model:                          Logit   Df Residuals:                    12000\n",
       "Method:                           MLE   Df Model:                           19\n",
       "Date:                Mon, 11 Nov 2019   Pseudo R-squ.:                  0.3605\n",
       "Time:                        21:10:50   Log-Likelihood:                -3632.8\n",
       "converged:                       True   LL-Null:                       -5680.4\n",
       "Covariance Type:            nonrobust   LLR p-value:                     0.000\n",
       "==============================================================================\n",
       "                 coef    std err          z      P>|z|      [0.025      0.975]\n",
       "------------------------------------------------------------------------------\n",
       "Intercept     -2.2738      0.051    -44.488      0.000      -2.374      -2.174\n",
       "people         0.8628      0.077     11.211      0.000       0.712       1.014\n",
       "year          -0.2384      0.098     -2.442      0.015      -0.430      -0.047\n",
       "country        0.8561      0.076     11.316      0.000       0.708       1.004\n",
       "going         -0.2846      0.104     -2.749      0.006      -0.488      -0.082\n",
       "billion       -0.6710      0.140     -4.794      0.000      -0.945      -0.397\n",
       "want           0.7640      0.096      7.959      0.000       0.576       0.952\n",
       "democrat       1.1925      0.091     13.056      0.000       1.013       1.372\n",
       "would         -0.1698      0.122     -1.394      0.163      -0.408       0.069\n",
       "said          -0.4665      0.147     -3.165      0.002      -0.755      -0.178\n",
       "get            0.1522      0.116      1.312      0.190      -0.075       0.380\n",
       "great         -0.6312      0.145     -4.358      0.000      -0.915      -0.347\n",
       "like           0.1364      0.114      1.196      0.232      -0.087       0.360\n",
       "ever          -1.3932      0.185     -7.534      0.000      -1.756      -1.031\n",
       "time          -0.3867      0.137     -2.827      0.005      -0.655      -0.119\n",
       "border         3.4777      0.123     28.265      0.000       3.237       3.719\n",
       "job           -0.8303      0.164     -5.075      0.000      -1.151      -0.510\n",
       "wall           4.4009      0.156     28.215      0.000       4.095       4.707\n",
       "american      -0.2887      0.149     -1.936      0.053      -0.581       0.004\n",
       "s_Twitter     -0.8009      0.096     -8.379      0.000      -0.988      -0.614\n",
       "==============================================================================\n",
       "\"\"\""
      ]
     },
     "execution_count": 56,
     "metadata": {},
     "output_type": "execute_result"
    }
   ],
   "source": [
    "reg10.summary()"
   ]
  },
  {
   "cell_type": "code",
   "execution_count": 57,
   "metadata": {},
   "outputs": [
    {
     "data": {
      "text/plain": [
       "'like'"
      ]
     },
     "execution_count": 57,
     "metadata": {},
     "output_type": "execute_result"
    }
   ],
   "source": [
    "reg10.pvalues.idxmax()"
   ]
  },
  {
   "cell_type": "markdown",
   "metadata": {},
   "source": [
    "Drop 'like'"
   ]
  },
  {
   "cell_type": "code",
   "execution_count": 58,
   "metadata": {},
   "outputs": [
    {
     "name": "stdout",
     "output_type": "stream",
     "text": [
      "Optimization terminated successfully.\n",
      "         Current function value: 0.302291\n",
      "         Iterations 7\n"
     ]
    }
   ],
   "source": [
    "reg11 = sm.logit(formula='immigration_True ~ people + year + country + going + \\\n",
    "            billion + want + democrat + would + said + get + great + \\\n",
    "            ever + time + border + job + wall + american + \\\n",
    "            s_Twitter', \n",
    "               data = trumpf).fit()"
   ]
  },
  {
   "cell_type": "code",
   "execution_count": 59,
   "metadata": {},
   "outputs": [
    {
     "data": {
      "text/html": [
       "<table class=\"simpletable\">\n",
       "<caption>Logit Regression Results</caption>\n",
       "<tr>\n",
       "  <th>Dep. Variable:</th>   <td>immigration_True</td> <th>  No. Observations:  </th>  <td> 12020</td> \n",
       "</tr>\n",
       "<tr>\n",
       "  <th>Model:</th>                 <td>Logit</td>      <th>  Df Residuals:      </th>  <td> 12001</td> \n",
       "</tr>\n",
       "<tr>\n",
       "  <th>Method:</th>                 <td>MLE</td>       <th>  Df Model:          </th>  <td>    18</td> \n",
       "</tr>\n",
       "<tr>\n",
       "  <th>Date:</th>            <td>Mon, 11 Nov 2019</td> <th>  Pseudo R-squ.:     </th>  <td>0.3603</td> \n",
       "</tr>\n",
       "<tr>\n",
       "  <th>Time:</th>                <td>21:11:09</td>     <th>  Log-Likelihood:    </th> <td> -3633.5</td>\n",
       "</tr>\n",
       "<tr>\n",
       "  <th>converged:</th>             <td>True</td>       <th>  LL-Null:           </th> <td> -5680.4</td>\n",
       "</tr>\n",
       "<tr>\n",
       "  <th>Covariance Type:</th>     <td>nonrobust</td>    <th>  LLR p-value:       </th>  <td> 0.000</td> \n",
       "</tr>\n",
       "</table>\n",
       "<table class=\"simpletable\">\n",
       "<tr>\n",
       "      <td></td>         <th>coef</th>     <th>std err</th>      <th>z</th>      <th>P>|z|</th>  <th>[0.025</th>    <th>0.975]</th>  \n",
       "</tr>\n",
       "<tr>\n",
       "  <th>Intercept</th> <td>   -2.2665</td> <td>    0.051</td> <td>  -44.701</td> <td> 0.000</td> <td>   -2.366</td> <td>   -2.167</td>\n",
       "</tr>\n",
       "<tr>\n",
       "  <th>people</th>    <td>    0.8694</td> <td>    0.077</td> <td>   11.329</td> <td> 0.000</td> <td>    0.719</td> <td>    1.020</td>\n",
       "</tr>\n",
       "<tr>\n",
       "  <th>year</th>      <td>   -0.2373</td> <td>    0.098</td> <td>   -2.431</td> <td> 0.015</td> <td>   -0.429</td> <td>   -0.046</td>\n",
       "</tr>\n",
       "<tr>\n",
       "  <th>country</th>   <td>    0.8593</td> <td>    0.076</td> <td>   11.367</td> <td> 0.000</td> <td>    0.711</td> <td>    1.007</td>\n",
       "</tr>\n",
       "<tr>\n",
       "  <th>going</th>     <td>   -0.2815</td> <td>    0.104</td> <td>   -2.719</td> <td> 0.007</td> <td>   -0.484</td> <td>   -0.079</td>\n",
       "</tr>\n",
       "<tr>\n",
       "  <th>billion</th>   <td>   -0.6732</td> <td>    0.140</td> <td>   -4.809</td> <td> 0.000</td> <td>   -0.948</td> <td>   -0.399</td>\n",
       "</tr>\n",
       "<tr>\n",
       "  <th>want</th>      <td>    0.7626</td> <td>    0.096</td> <td>    7.948</td> <td> 0.000</td> <td>    0.575</td> <td>    0.951</td>\n",
       "</tr>\n",
       "<tr>\n",
       "  <th>democrat</th>  <td>    1.1945</td> <td>    0.091</td> <td>   13.084</td> <td> 0.000</td> <td>    1.016</td> <td>    1.373</td>\n",
       "</tr>\n",
       "<tr>\n",
       "  <th>would</th>     <td>   -0.1640</td> <td>    0.122</td> <td>   -1.348</td> <td> 0.178</td> <td>   -0.402</td> <td>    0.074</td>\n",
       "</tr>\n",
       "<tr>\n",
       "  <th>said</th>      <td>   -0.4601</td> <td>    0.147</td> <td>   -3.126</td> <td> 0.002</td> <td>   -0.749</td> <td>   -0.172</td>\n",
       "</tr>\n",
       "<tr>\n",
       "  <th>get</th>       <td>    0.1588</td> <td>    0.116</td> <td>    1.371</td> <td> 0.170</td> <td>   -0.068</td> <td>    0.386</td>\n",
       "</tr>\n",
       "<tr>\n",
       "  <th>great</th>     <td>   -0.6321</td> <td>    0.145</td> <td>   -4.367</td> <td> 0.000</td> <td>   -0.916</td> <td>   -0.348</td>\n",
       "</tr>\n",
       "<tr>\n",
       "  <th>ever</th>      <td>   -1.3838</td> <td>    0.184</td> <td>   -7.503</td> <td> 0.000</td> <td>   -1.745</td> <td>   -1.022</td>\n",
       "</tr>\n",
       "<tr>\n",
       "  <th>time</th>      <td>   -0.3843</td> <td>    0.137</td> <td>   -2.809</td> <td> 0.005</td> <td>   -0.652</td> <td>   -0.116</td>\n",
       "</tr>\n",
       "<tr>\n",
       "  <th>border</th>    <td>    3.4794</td> <td>    0.123</td> <td>   28.267</td> <td> 0.000</td> <td>    3.238</td> <td>    3.721</td>\n",
       "</tr>\n",
       "<tr>\n",
       "  <th>job</th>       <td>   -0.8308</td> <td>    0.164</td> <td>   -5.080</td> <td> 0.000</td> <td>   -1.151</td> <td>   -0.510</td>\n",
       "</tr>\n",
       "<tr>\n",
       "  <th>wall</th>      <td>    4.3974</td> <td>    0.156</td> <td>   28.201</td> <td> 0.000</td> <td>    4.092</td> <td>    4.703</td>\n",
       "</tr>\n",
       "<tr>\n",
       "  <th>american</th>  <td>   -0.2923</td> <td>    0.149</td> <td>   -1.961</td> <td> 0.050</td> <td>   -0.584</td> <td>   -0.000</td>\n",
       "</tr>\n",
       "<tr>\n",
       "  <th>s_Twitter</th> <td>   -0.8046</td> <td>    0.096</td> <td>   -8.421</td> <td> 0.000</td> <td>   -0.992</td> <td>   -0.617</td>\n",
       "</tr>\n",
       "</table>"
      ],
      "text/plain": [
       "<class 'statsmodels.iolib.summary.Summary'>\n",
       "\"\"\"\n",
       "                           Logit Regression Results                           \n",
       "==============================================================================\n",
       "Dep. Variable:       immigration_True   No. Observations:                12020\n",
       "Model:                          Logit   Df Residuals:                    12001\n",
       "Method:                           MLE   Df Model:                           18\n",
       "Date:                Mon, 11 Nov 2019   Pseudo R-squ.:                  0.3603\n",
       "Time:                        21:11:09   Log-Likelihood:                -3633.5\n",
       "converged:                       True   LL-Null:                       -5680.4\n",
       "Covariance Type:            nonrobust   LLR p-value:                     0.000\n",
       "==============================================================================\n",
       "                 coef    std err          z      P>|z|      [0.025      0.975]\n",
       "------------------------------------------------------------------------------\n",
       "Intercept     -2.2665      0.051    -44.701      0.000      -2.366      -2.167\n",
       "people         0.8694      0.077     11.329      0.000       0.719       1.020\n",
       "year          -0.2373      0.098     -2.431      0.015      -0.429      -0.046\n",
       "country        0.8593      0.076     11.367      0.000       0.711       1.007\n",
       "going         -0.2815      0.104     -2.719      0.007      -0.484      -0.079\n",
       "billion       -0.6732      0.140     -4.809      0.000      -0.948      -0.399\n",
       "want           0.7626      0.096      7.948      0.000       0.575       0.951\n",
       "democrat       1.1945      0.091     13.084      0.000       1.016       1.373\n",
       "would         -0.1640      0.122     -1.348      0.178      -0.402       0.074\n",
       "said          -0.4601      0.147     -3.126      0.002      -0.749      -0.172\n",
       "get            0.1588      0.116      1.371      0.170      -0.068       0.386\n",
       "great         -0.6321      0.145     -4.367      0.000      -0.916      -0.348\n",
       "ever          -1.3838      0.184     -7.503      0.000      -1.745      -1.022\n",
       "time          -0.3843      0.137     -2.809      0.005      -0.652      -0.116\n",
       "border         3.4794      0.123     28.267      0.000       3.238       3.721\n",
       "job           -0.8308      0.164     -5.080      0.000      -1.151      -0.510\n",
       "wall           4.3974      0.156     28.201      0.000       4.092       4.703\n",
       "american      -0.2923      0.149     -1.961      0.050      -0.584      -0.000\n",
       "s_Twitter     -0.8046      0.096     -8.421      0.000      -0.992      -0.617\n",
       "==============================================================================\n",
       "\"\"\""
      ]
     },
     "execution_count": 59,
     "metadata": {},
     "output_type": "execute_result"
    }
   ],
   "source": [
    "reg11.summary()"
   ]
  },
  {
   "cell_type": "code",
   "execution_count": 60,
   "metadata": {},
   "outputs": [
    {
     "data": {
      "text/plain": [
       "'would'"
      ]
     },
     "execution_count": 60,
     "metadata": {},
     "output_type": "execute_result"
    }
   ],
   "source": [
    "reg11.pvalues.idxmax()"
   ]
  },
  {
   "cell_type": "markdown",
   "metadata": {},
   "source": [
    "Drop 'would'"
   ]
  },
  {
   "cell_type": "code",
   "execution_count": 61,
   "metadata": {},
   "outputs": [
    {
     "name": "stdout",
     "output_type": "stream",
     "text": [
      "Optimization terminated successfully.\n",
      "         Current function value: 0.302369\n",
      "         Iterations 7\n"
     ]
    }
   ],
   "source": [
    "reg12 = sm.logit(formula='immigration_True ~ people + year + country + going + \\\n",
    "            billion + want + democrat + said + get + great + \\\n",
    "            ever + time + border + job + wall + american + \\\n",
    "            s_Twitter', \n",
    "               data = trumpf).fit()"
   ]
  },
  {
   "cell_type": "code",
   "execution_count": 62,
   "metadata": {},
   "outputs": [
    {
     "data": {
      "text/html": [
       "<table class=\"simpletable\">\n",
       "<caption>Logit Regression Results</caption>\n",
       "<tr>\n",
       "  <th>Dep. Variable:</th>   <td>immigration_True</td> <th>  No. Observations:  </th>  <td> 12020</td> \n",
       "</tr>\n",
       "<tr>\n",
       "  <th>Model:</th>                 <td>Logit</td>      <th>  Df Residuals:      </th>  <td> 12002</td> \n",
       "</tr>\n",
       "<tr>\n",
       "  <th>Method:</th>                 <td>MLE</td>       <th>  Df Model:          </th>  <td>    17</td> \n",
       "</tr>\n",
       "<tr>\n",
       "  <th>Date:</th>            <td>Mon, 11 Nov 2019</td> <th>  Pseudo R-squ.:     </th>  <td>0.3602</td> \n",
       "</tr>\n",
       "<tr>\n",
       "  <th>Time:</th>                <td>21:11:25</td>     <th>  Log-Likelihood:    </th> <td> -3634.5</td>\n",
       "</tr>\n",
       "<tr>\n",
       "  <th>converged:</th>             <td>True</td>       <th>  LL-Null:           </th> <td> -5680.4</td>\n",
       "</tr>\n",
       "<tr>\n",
       "  <th>Covariance Type:</th>     <td>nonrobust</td>    <th>  LLR p-value:       </th>  <td> 0.000</td> \n",
       "</tr>\n",
       "</table>\n",
       "<table class=\"simpletable\">\n",
       "<tr>\n",
       "      <td></td>         <th>coef</th>     <th>std err</th>      <th>z</th>      <th>P>|z|</th>  <th>[0.025</th>    <th>0.975]</th>  \n",
       "</tr>\n",
       "<tr>\n",
       "  <th>Intercept</th> <td>   -2.2736</td> <td>    0.050</td> <td>  -45.071</td> <td> 0.000</td> <td>   -2.372</td> <td>   -2.175</td>\n",
       "</tr>\n",
       "<tr>\n",
       "  <th>people</th>    <td>    0.8672</td> <td>    0.077</td> <td>   11.302</td> <td> 0.000</td> <td>    0.717</td> <td>    1.018</td>\n",
       "</tr>\n",
       "<tr>\n",
       "  <th>year</th>      <td>   -0.2397</td> <td>    0.098</td> <td>   -2.456</td> <td> 0.014</td> <td>   -0.431</td> <td>   -0.048</td>\n",
       "</tr>\n",
       "<tr>\n",
       "  <th>country</th>   <td>    0.8596</td> <td>    0.076</td> <td>   11.372</td> <td> 0.000</td> <td>    0.711</td> <td>    1.008</td>\n",
       "</tr>\n",
       "<tr>\n",
       "  <th>going</th>     <td>   -0.2833</td> <td>    0.103</td> <td>   -2.739</td> <td> 0.006</td> <td>   -0.486</td> <td>   -0.081</td>\n",
       "</tr>\n",
       "<tr>\n",
       "  <th>billion</th>   <td>   -0.6715</td> <td>    0.140</td> <td>   -4.803</td> <td> 0.000</td> <td>   -0.946</td> <td>   -0.397</td>\n",
       "</tr>\n",
       "<tr>\n",
       "  <th>want</th>      <td>    0.7611</td> <td>    0.096</td> <td>    7.941</td> <td> 0.000</td> <td>    0.573</td> <td>    0.949</td>\n",
       "</tr>\n",
       "<tr>\n",
       "  <th>democrat</th>  <td>    1.1830</td> <td>    0.091</td> <td>   13.029</td> <td> 0.000</td> <td>    1.005</td> <td>    1.361</td>\n",
       "</tr>\n",
       "<tr>\n",
       "  <th>said</th>      <td>   -0.4714</td> <td>    0.147</td> <td>   -3.205</td> <td> 0.001</td> <td>   -0.760</td> <td>   -0.183</td>\n",
       "</tr>\n",
       "<tr>\n",
       "  <th>get</th>       <td>    0.1524</td> <td>    0.116</td> <td>    1.317</td> <td> 0.188</td> <td>   -0.074</td> <td>    0.379</td>\n",
       "</tr>\n",
       "<tr>\n",
       "  <th>great</th>     <td>   -0.6419</td> <td>    0.145</td> <td>   -4.436</td> <td> 0.000</td> <td>   -0.926</td> <td>   -0.358</td>\n",
       "</tr>\n",
       "<tr>\n",
       "  <th>ever</th>      <td>   -1.3852</td> <td>    0.185</td> <td>   -7.505</td> <td> 0.000</td> <td>   -1.747</td> <td>   -1.023</td>\n",
       "</tr>\n",
       "<tr>\n",
       "  <th>time</th>      <td>   -0.3881</td> <td>    0.137</td> <td>   -2.837</td> <td> 0.005</td> <td>   -0.656</td> <td>   -0.120</td>\n",
       "</tr>\n",
       "<tr>\n",
       "  <th>border</th>    <td>    3.4775</td> <td>    0.123</td> <td>   28.281</td> <td> 0.000</td> <td>    3.237</td> <td>    3.719</td>\n",
       "</tr>\n",
       "<tr>\n",
       "  <th>job</th>       <td>   -0.8324</td> <td>    0.164</td> <td>   -5.086</td> <td> 0.000</td> <td>   -1.153</td> <td>   -0.512</td>\n",
       "</tr>\n",
       "<tr>\n",
       "  <th>wall</th>      <td>    4.3946</td> <td>    0.156</td> <td>   28.179</td> <td> 0.000</td> <td>    4.089</td> <td>    4.700</td>\n",
       "</tr>\n",
       "<tr>\n",
       "  <th>american</th>  <td>   -0.2942</td> <td>    0.149</td> <td>   -1.973</td> <td> 0.048</td> <td>   -0.586</td> <td>   -0.002</td>\n",
       "</tr>\n",
       "<tr>\n",
       "  <th>s_Twitter</th> <td>   -0.8051</td> <td>    0.096</td> <td>   -8.429</td> <td> 0.000</td> <td>   -0.992</td> <td>   -0.618</td>\n",
       "</tr>\n",
       "</table>"
      ],
      "text/plain": [
       "<class 'statsmodels.iolib.summary.Summary'>\n",
       "\"\"\"\n",
       "                           Logit Regression Results                           \n",
       "==============================================================================\n",
       "Dep. Variable:       immigration_True   No. Observations:                12020\n",
       "Model:                          Logit   Df Residuals:                    12002\n",
       "Method:                           MLE   Df Model:                           17\n",
       "Date:                Mon, 11 Nov 2019   Pseudo R-squ.:                  0.3602\n",
       "Time:                        21:11:25   Log-Likelihood:                -3634.5\n",
       "converged:                       True   LL-Null:                       -5680.4\n",
       "Covariance Type:            nonrobust   LLR p-value:                     0.000\n",
       "==============================================================================\n",
       "                 coef    std err          z      P>|z|      [0.025      0.975]\n",
       "------------------------------------------------------------------------------\n",
       "Intercept     -2.2736      0.050    -45.071      0.000      -2.372      -2.175\n",
       "people         0.8672      0.077     11.302      0.000       0.717       1.018\n",
       "year          -0.2397      0.098     -2.456      0.014      -0.431      -0.048\n",
       "country        0.8596      0.076     11.372      0.000       0.711       1.008\n",
       "going         -0.2833      0.103     -2.739      0.006      -0.486      -0.081\n",
       "billion       -0.6715      0.140     -4.803      0.000      -0.946      -0.397\n",
       "want           0.7611      0.096      7.941      0.000       0.573       0.949\n",
       "democrat       1.1830      0.091     13.029      0.000       1.005       1.361\n",
       "said          -0.4714      0.147     -3.205      0.001      -0.760      -0.183\n",
       "get            0.1524      0.116      1.317      0.188      -0.074       0.379\n",
       "great         -0.6419      0.145     -4.436      0.000      -0.926      -0.358\n",
       "ever          -1.3852      0.185     -7.505      0.000      -1.747      -1.023\n",
       "time          -0.3881      0.137     -2.837      0.005      -0.656      -0.120\n",
       "border         3.4775      0.123     28.281      0.000       3.237       3.719\n",
       "job           -0.8324      0.164     -5.086      0.000      -1.153      -0.512\n",
       "wall           4.3946      0.156     28.179      0.000       4.089       4.700\n",
       "american      -0.2942      0.149     -1.973      0.048      -0.586      -0.002\n",
       "s_Twitter     -0.8051      0.096     -8.429      0.000      -0.992      -0.618\n",
       "==============================================================================\n",
       "\"\"\""
      ]
     },
     "execution_count": 62,
     "metadata": {},
     "output_type": "execute_result"
    }
   ],
   "source": [
    "reg12.summary()"
   ]
  },
  {
   "cell_type": "code",
   "execution_count": 63,
   "metadata": {},
   "outputs": [
    {
     "data": {
      "text/plain": [
       "'get'"
      ]
     },
     "execution_count": 63,
     "metadata": {},
     "output_type": "execute_result"
    }
   ],
   "source": [
    "reg12.pvalues.idxmax()"
   ]
  },
  {
   "cell_type": "markdown",
   "metadata": {},
   "source": [
    "Drop 'get'"
   ]
  },
  {
   "cell_type": "code",
   "execution_count": 65,
   "metadata": {},
   "outputs": [
    {
     "name": "stdout",
     "output_type": "stream",
     "text": [
      "Optimization terminated successfully.\n",
      "         Current function value: 0.302440\n",
      "         Iterations 7\n"
     ]
    }
   ],
   "source": [
    "reg13 = sm.logit(formula='immigration_True ~ people + year + country + going + \\\n",
    "            billion + want + democrat + said + great + \\\n",
    "            ever + time + border + job + wall + american + \\\n",
    "            s_Twitter', \n",
    "               data = trumpf).fit()"
   ]
  },
  {
   "cell_type": "code",
   "execution_count": 66,
   "metadata": {},
   "outputs": [
    {
     "data": {
      "text/html": [
       "<table class=\"simpletable\">\n",
       "<caption>Logit Regression Results</caption>\n",
       "<tr>\n",
       "  <th>Dep. Variable:</th>   <td>immigration_True</td> <th>  No. Observations:  </th>  <td> 12020</td> \n",
       "</tr>\n",
       "<tr>\n",
       "  <th>Model:</th>                 <td>Logit</td>      <th>  Df Residuals:      </th>  <td> 12003</td> \n",
       "</tr>\n",
       "<tr>\n",
       "  <th>Method:</th>                 <td>MLE</td>       <th>  Df Model:          </th>  <td>    16</td> \n",
       "</tr>\n",
       "<tr>\n",
       "  <th>Date:</th>            <td>Mon, 11 Nov 2019</td> <th>  Pseudo R-squ.:     </th>  <td>0.3600</td> \n",
       "</tr>\n",
       "<tr>\n",
       "  <th>Time:</th>                <td>21:13:42</td>     <th>  Log-Likelihood:    </th> <td> -3635.3</td>\n",
       "</tr>\n",
       "<tr>\n",
       "  <th>converged:</th>             <td>True</td>       <th>  LL-Null:           </th> <td> -5680.4</td>\n",
       "</tr>\n",
       "<tr>\n",
       "  <th>Covariance Type:</th>     <td>nonrobust</td>    <th>  LLR p-value:       </th>  <td> 0.000</td> \n",
       "</tr>\n",
       "</table>\n",
       "<table class=\"simpletable\">\n",
       "<tr>\n",
       "      <td></td>         <th>coef</th>     <th>std err</th>      <th>z</th>      <th>P>|z|</th>  <th>[0.025</th>    <th>0.975]</th>  \n",
       "</tr>\n",
       "<tr>\n",
       "  <th>Intercept</th> <td>   -2.2667</td> <td>    0.050</td> <td>  -45.218</td> <td> 0.000</td> <td>   -2.365</td> <td>   -2.168</td>\n",
       "</tr>\n",
       "<tr>\n",
       "  <th>people</th>    <td>    0.8771</td> <td>    0.076</td> <td>   11.490</td> <td> 0.000</td> <td>    0.728</td> <td>    1.027</td>\n",
       "</tr>\n",
       "<tr>\n",
       "  <th>year</th>      <td>   -0.2300</td> <td>    0.097</td> <td>   -2.363</td> <td> 0.018</td> <td>   -0.421</td> <td>   -0.039</td>\n",
       "</tr>\n",
       "<tr>\n",
       "  <th>country</th>   <td>    0.8572</td> <td>    0.076</td> <td>   11.346</td> <td> 0.000</td> <td>    0.709</td> <td>    1.005</td>\n",
       "</tr>\n",
       "<tr>\n",
       "  <th>going</th>     <td>   -0.2752</td> <td>    0.103</td> <td>   -2.667</td> <td> 0.008</td> <td>   -0.477</td> <td>   -0.073</td>\n",
       "</tr>\n",
       "<tr>\n",
       "  <th>billion</th>   <td>   -0.6748</td> <td>    0.140</td> <td>   -4.830</td> <td> 0.000</td> <td>   -0.949</td> <td>   -0.401</td>\n",
       "</tr>\n",
       "<tr>\n",
       "  <th>want</th>      <td>    0.7699</td> <td>    0.096</td> <td>    8.049</td> <td> 0.000</td> <td>    0.582</td> <td>    0.957</td>\n",
       "</tr>\n",
       "<tr>\n",
       "  <th>democrat</th>  <td>    1.1857</td> <td>    0.091</td> <td>   13.059</td> <td> 0.000</td> <td>    1.008</td> <td>    1.364</td>\n",
       "</tr>\n",
       "<tr>\n",
       "  <th>said</th>      <td>   -0.4688</td> <td>    0.147</td> <td>   -3.188</td> <td> 0.001</td> <td>   -0.757</td> <td>   -0.181</td>\n",
       "</tr>\n",
       "<tr>\n",
       "  <th>great</th>     <td>   -0.6382</td> <td>    0.145</td> <td>   -4.412</td> <td> 0.000</td> <td>   -0.922</td> <td>   -0.355</td>\n",
       "</tr>\n",
       "<tr>\n",
       "  <th>ever</th>      <td>   -1.3896</td> <td>    0.185</td> <td>   -7.529</td> <td> 0.000</td> <td>   -1.751</td> <td>   -1.028</td>\n",
       "</tr>\n",
       "<tr>\n",
       "  <th>time</th>      <td>   -0.3863</td> <td>    0.137</td> <td>   -2.824</td> <td> 0.005</td> <td>   -0.654</td> <td>   -0.118</td>\n",
       "</tr>\n",
       "<tr>\n",
       "  <th>border</th>    <td>    3.4758</td> <td>    0.123</td> <td>   28.276</td> <td> 0.000</td> <td>    3.235</td> <td>    3.717</td>\n",
       "</tr>\n",
       "<tr>\n",
       "  <th>job</th>       <td>   -0.8290</td> <td>    0.163</td> <td>   -5.072</td> <td> 0.000</td> <td>   -1.149</td> <td>   -0.509</td>\n",
       "</tr>\n",
       "<tr>\n",
       "  <th>wall</th>      <td>    4.3947</td> <td>    0.156</td> <td>   28.182</td> <td> 0.000</td> <td>    4.089</td> <td>    4.700</td>\n",
       "</tr>\n",
       "<tr>\n",
       "  <th>american</th>  <td>   -0.2975</td> <td>    0.149</td> <td>   -1.996</td> <td> 0.046</td> <td>   -0.590</td> <td>   -0.005</td>\n",
       "</tr>\n",
       "<tr>\n",
       "  <th>s_Twitter</th> <td>   -0.8062</td> <td>    0.096</td> <td>   -8.439</td> <td> 0.000</td> <td>   -0.993</td> <td>   -0.619</td>\n",
       "</tr>\n",
       "</table>"
      ],
      "text/plain": [
       "<class 'statsmodels.iolib.summary.Summary'>\n",
       "\"\"\"\n",
       "                           Logit Regression Results                           \n",
       "==============================================================================\n",
       "Dep. Variable:       immigration_True   No. Observations:                12020\n",
       "Model:                          Logit   Df Residuals:                    12003\n",
       "Method:                           MLE   Df Model:                           16\n",
       "Date:                Mon, 11 Nov 2019   Pseudo R-squ.:                  0.3600\n",
       "Time:                        21:13:42   Log-Likelihood:                -3635.3\n",
       "converged:                       True   LL-Null:                       -5680.4\n",
       "Covariance Type:            nonrobust   LLR p-value:                     0.000\n",
       "==============================================================================\n",
       "                 coef    std err          z      P>|z|      [0.025      0.975]\n",
       "------------------------------------------------------------------------------\n",
       "Intercept     -2.2667      0.050    -45.218      0.000      -2.365      -2.168\n",
       "people         0.8771      0.076     11.490      0.000       0.728       1.027\n",
       "year          -0.2300      0.097     -2.363      0.018      -0.421      -0.039\n",
       "country        0.8572      0.076     11.346      0.000       0.709       1.005\n",
       "going         -0.2752      0.103     -2.667      0.008      -0.477      -0.073\n",
       "billion       -0.6748      0.140     -4.830      0.000      -0.949      -0.401\n",
       "want           0.7699      0.096      8.049      0.000       0.582       0.957\n",
       "democrat       1.1857      0.091     13.059      0.000       1.008       1.364\n",
       "said          -0.4688      0.147     -3.188      0.001      -0.757      -0.181\n",
       "great         -0.6382      0.145     -4.412      0.000      -0.922      -0.355\n",
       "ever          -1.3896      0.185     -7.529      0.000      -1.751      -1.028\n",
       "time          -0.3863      0.137     -2.824      0.005      -0.654      -0.118\n",
       "border         3.4758      0.123     28.276      0.000       3.235       3.717\n",
       "job           -0.8290      0.163     -5.072      0.000      -1.149      -0.509\n",
       "wall           4.3947      0.156     28.182      0.000       4.089       4.700\n",
       "american      -0.2975      0.149     -1.996      0.046      -0.590      -0.005\n",
       "s_Twitter     -0.8062      0.096     -8.439      0.000      -0.993      -0.619\n",
       "==============================================================================\n",
       "\"\"\""
      ]
     },
     "execution_count": 66,
     "metadata": {},
     "output_type": "execute_result"
    }
   ],
   "source": [
    "reg13.summary()"
   ]
  },
  {
   "cell_type": "markdown",
   "metadata": {},
   "source": [
    "## Interpretation\n",
    "\n",
    "### Compare the AIC of the first and last regression models\n",
    "\n",
    "Did it improve?"
   ]
  },
  {
   "cell_type": "code",
   "execution_count": 67,
   "metadata": {},
   "outputs": [
    {
     "data": {
      "text/plain": [
       "7316.965118798255"
      ]
     },
     "execution_count": 67,
     "metadata": {},
     "output_type": "execute_result"
    }
   ],
   "source": [
    "reg1.aic"
   ]
  },
  {
   "cell_type": "code",
   "execution_count": 68,
   "metadata": {},
   "outputs": [
    {
     "data": {
      "text/plain": [
       "7304.6477518879055"
      ]
     },
     "execution_count": 68,
     "metadata": {},
     "output_type": "execute_result"
    }
   ],
   "source": [
    "reg13.aic"
   ]
  },
  {
   "cell_type": "markdown",
   "metadata": {},
   "source": [
    "### Examining the parameters answer the following questions?"
   ]
  },
  {
   "cell_type": "markdown",
   "metadata": {},
   "source": [
    "What word has the most positive impact on the log-odds of a false statement being about immigration?"
   ]
  },
  {
   "cell_type": "markdown",
   "metadata": {},
   "source": [
    "\"Wall\""
   ]
  },
  {
   "cell_type": "markdown",
   "metadata": {},
   "source": [
    "What word has the most negative impact on the log-odds of a false statement being about immigration?"
   ]
  },
  {
   "cell_type": "markdown",
   "metadata": {},
   "source": [
    "\"Ever\""
   ]
  },
  {
   "cell_type": "markdown",
   "metadata": {},
   "source": [
    "Does Trump make false statements more often on twitter or on other venues"
   ]
  },
  {
   "cell_type": "markdown",
   "metadata": {},
   "source": [
    "\"On other venues\""
   ]
  },
  {
   "cell_type": "markdown",
   "metadata": {},
   "source": [
    "### Using the `predict()` function"
   ]
  },
  {
   "cell_type": "markdown",
   "metadata": {},
   "source": [
    "What would the model predict about a statement made somewhere other than Twitter that included the words: country, american, job, time, democrat, people, want?"
   ]
  },
  {
   "cell_type": "code",
   "execution_count": 69,
   "metadata": {},
   "outputs": [],
   "source": [
    "statement = {'people':1, 'year':0, 'country':1, 'going':0,\n",
    "            'billion':0,  'want':1, 'democrat':1, 'said':0, 'great':0,\n",
    "            'ever':0, 'time':1, 'border':0, 'job':0, 'wall':0, 'american':1, \\\n",
    "            's_Twitter':0}"
   ]
  },
  {
   "cell_type": "code",
   "execution_count": 70,
   "metadata": {},
   "outputs": [
    {
     "data": {
      "text/plain": [
       "0    0.676849\n",
       "dtype: float64"
      ]
     },
     "execution_count": 70,
     "metadata": {},
     "output_type": "execute_result"
    }
   ],
   "source": [
    "reg13.predict(statement)"
   ]
  },
  {
   "cell_type": "markdown",
   "metadata": {},
   "source": [
    "The statement is most likely about immigration."
   ]
  },
  {
   "cell_type": "markdown",
   "metadata": {},
   "source": [
    "### Conditions\n",
    "\n",
    "Show the distribution of the residuals in a distplot and a QQ plot. What problems do you see?"
   ]
  },
  {
   "cell_type": "code",
   "execution_count": 79,
   "metadata": {},
   "outputs": [
    {
     "data": {
      "text/plain": [
       "<matplotlib.axes._subplots.AxesSubplot at 0x1a2f3b0fd0>"
      ]
     },
     "execution_count": 79,
     "metadata": {},
     "output_type": "execute_result"
    },
    {
     "data": {
      "image/png": "[encoded data removed]",
      "text/plain": [
       "<Figure size 432x288 with 1 Axes>"
      ]
     },
     "metadata": {
      "needs_background": "light"
     },
     "output_type": "display_data"
    }
   ],
   "source": [
    "sns.distplot(reg13.resid_response)"
   ]
  },
  {
   "cell_type": "code",
   "execution_count": 80,
   "metadata": {},
   "outputs": [
    {
     "data": {
      "image/png": "[encoded data removed]",
      "text/plain": [
       "<Figure size 432x288 with 1 Axes>"
      ]
     },
     "metadata": {
      "needs_background": "light"
     },
     "output_type": "display_data"
    }
   ],
   "source": [
    "p = qqplot(reg13.resid_pearson,line='45',fit='True')"
   ]
  },
  {
   "cell_type": "markdown",
   "metadata": {},
   "source": [
    "### Pick any two word features\n",
    "\n",
    "Create two violin plots with the residuals for each value: 1 (word present) and 0 (word not present). Is there significant heteroskedasticity?\n",
    "\n",
    "Billion"
   ]
  },
  {
   "cell_type": "code",
   "execution_count": 81,
   "metadata": {},
   "outputs": [
    {
     "data": {
      "text/plain": [
       "<matplotlib.axes._subplots.AxesSubplot at 0x1a2f8c2c50>"
      ]
     },
     "execution_count": 81,
     "metadata": {},
     "output_type": "execute_result"
    },
    {
     "data": {
      "image/png": "[encoded data removed]",
      "text/plain": [
       "<Figure size 432x288 with 1 Axes>"
      ]
     },
     "metadata": {
      "needs_background": "light"
     },
     "output_type": "display_data"
    }
   ],
   "source": [
    "sns.violinplot(x=trumpf.billion, y=reg13.resid_response)"
   ]
  },
  {
   "cell_type": "markdown",
   "metadata": {},
   "source": [
    "Pretty good\n",
    "\n",
    "Wall"
   ]
  },
  {
   "cell_type": "code",
   "execution_count": 83,
   "metadata": {},
   "outputs": [
    {
     "data": {
      "text/plain": [
       "<matplotlib.axes._subplots.AxesSubplot at 0x1a2fa296d8>"
      ]
     },
     "execution_count": 83,
     "metadata": {},
     "output_type": "execute_result"
    },
    {
     "data": {
      "image/png": "[encoded data removed]",
      "text/plain": [
       "<Figure size 432x288 with 1 Axes>"
      ]
     },
     "metadata": {
      "needs_background": "light"
     },
     "output_type": "display_data"
    }
   ],
   "source": [
    "sns.violinplot(x=trumpf.wall, y=reg13.resid_response)"
   ]
  },
  {
   "cell_type": "markdown",
   "metadata": {},
   "source": [
    "More heteroskedasticity. Residuals are worse when the word is present."
   ]
  },
  {
   "cell_type": "code",
   "execution_count": null,
   "metadata": {},
   "outputs": [],
   "source": []
  }
 ],
 "metadata": {
  "kernelspec": {
   "display_name": "Python 3",
   "language": "python",
   "name": "python3"
  },
  "language_info": {
   "codemirror_mode": {
    "name": "ipython",
    "version": 3
   },
   "file_extension": ".py",
   "mimetype": "text/x-python",
   "name": "python",
   "nbconvert_exporter": "python",
   "pygments_lexer": "ipython3",
   "version": "3.6.8"
  }
 },
 "nbformat": 4,
 "nbformat_minor": 4
}
