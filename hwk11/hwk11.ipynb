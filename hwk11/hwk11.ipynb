{
 "cells": [
  {
   "cell_type": "markdown",
   "metadata": {},
   "source": [
    "# Homework 11 \n",
    "\n",
    "- INFO 5871-001\n",
    "- Keke Wu\n",
    "- Fall 2019"
   ]
  },
  {
   "cell_type": "markdown",
   "metadata": {},
   "source": [
    "## Imports\n",
    "\n",
    "Gensim and pyLDAvis are _not_ standard packages with Anaconda. You will need to uncomment and run the following cell to install them."
   ]
  },
  {
   "cell_type": "code",
   "execution_count": 1,
   "metadata": {},
   "outputs": [],
   "source": [
    "import pandas as pd \n",
    "import numpy as np\n",
    "import matplotlib.pyplot as plt \n",
    "import seaborn as sns \n",
    "import nltk\n",
    "from nltk.tokenize import word_tokenize\n",
    "from nltk.corpus import stopwords\n",
    "from nltk.stem import WordNetLemmatizer\n",
    "import gensim\n",
    "from gensim.utils import simple_preprocess\n",
    "from gensim.models import CoherenceModel\n",
    "import pyLDAvis\n",
    "import pyLDAvis.gensim"
   ]
  },
  {
   "cell_type": "code",
   "execution_count": 2,
   "metadata": {},
   "outputs": [
    {
     "name": "stderr",
     "output_type": "stream",
     "text": [
      "[nltk_data] Downloading package punkt to /Users/keke/nltk_data...\n",
      "[nltk_data]   Package punkt is already up-to-date!\n",
      "[nltk_data] Downloading package stopwords to /Users/keke/nltk_data...\n",
      "[nltk_data]   Package stopwords is already up-to-date!\n",
      "[nltk_data] Downloading package wordnet to /Users/keke/nltk_data...\n",
      "[nltk_data]   Package wordnet is already up-to-date!\n"
     ]
    },
    {
     "data": {
      "text/plain": [
       "True"
      ]
     },
     "execution_count": 2,
     "metadata": {},
     "output_type": "execute_result"
    }
   ],
   "source": [
    "nltk.download('punkt')\n",
    "nltk.download('stopwords')\n",
    "nltk.download('wordnet')"
   ]
  },
  {
   "cell_type": "markdown",
   "metadata": {},
   "source": [
    "# Aim\n",
    "\n",
    "The aim of this homework is to introduce LDA for topic modeling using the Trump false statements database. We load the CSV file as before."
   ]
  },
  {
   "cell_type": "code",
   "execution_count": 3,
   "metadata": {},
   "outputs": [
    {
     "name": "stdout",
     "output_type": "stream",
     "text": [
      "(12020, 8)\n"
     ]
    },
    {
     "data": {
      "text/html": [
       "<div>\n",
       "<style scoped>\n",
       "    .dataframe tbody tr th:only-of-type {\n",
       "        vertical-align: middle;\n",
       "    }\n",
       "\n",
       "    .dataframe tbody tr th {\n",
       "        vertical-align: top;\n",
       "    }\n",
       "\n",
       "    .dataframe thead th {\n",
       "        text-align: right;\n",
       "    }\n",
       "</style>\n",
       "<table border=\"1\" class=\"dataframe\">\n",
       "  <thead>\n",
       "    <tr style=\"text-align: right;\">\n",
       "      <th></th>\n",
       "      <th>id</th>\n",
       "      <th>date</th>\n",
       "      <th>source</th>\n",
       "      <th>topic</th>\n",
       "      <th>claim</th>\n",
       "      <th>analysis</th>\n",
       "      <th>repeated_count</th>\n",
       "      <th>repeated_ids</th>\n",
       "    </tr>\n",
       "  </thead>\n",
       "  <tbody>\n",
       "    <tr>\n",
       "      <th>0</th>\n",
       "      <td>11702</td>\n",
       "      <td>08/05/19</td>\n",
       "      <td>Twitter</td>\n",
       "      <td>Guns</td>\n",
       "      <td>“The Media has a big responsibility to life an...</td>\n",
       "      <td>There's &lt;a href=\"https://psmag.com/news/does-t...</td>\n",
       "      <td>0.0</td>\n",
       "      <td>NaN</td>\n",
       "    </tr>\n",
       "    <tr>\n",
       "      <th>1</th>\n",
       "      <td>11703</td>\n",
       "      <td>08/05/19</td>\n",
       "      <td>Twitter</td>\n",
       "      <td>Trade</td>\n",
       "      <td>“China dropped the price of their currency to ...</td>\n",
       "      <td>China's currency dropped to an 11-year low aga...</td>\n",
       "      <td>0.0</td>\n",
       "      <td>NaN</td>\n",
       "    </tr>\n",
       "    <tr>\n",
       "      <th>2</th>\n",
       "      <td>11704</td>\n",
       "      <td>08/05/19</td>\n",
       "      <td>Twitter</td>\n",
       "      <td>Trade</td>\n",
       "      <td>“Based on the historic currency manipulation b...</td>\n",
       "      <td>We calculated that through December, the Trump...</td>\n",
       "      <td>73.0</td>\n",
       "      <td>11704, 11700, 11166, 11307, 11575, 11629, 1135...</td>\n",
       "    </tr>\n",
       "    <tr>\n",
       "      <th>3</th>\n",
       "      <td>11706</td>\n",
       "      <td>08/05/19</td>\n",
       "      <td>Twitter</td>\n",
       "      <td>Trade</td>\n",
       "      <td>“China is intent on continuing to receive the ...</td>\n",
       "      <td>Trump consistently fails to understand trade d...</td>\n",
       "      <td>166.0</td>\n",
       "      <td>11706, 11576, 11388, 12211, 11552, 11394, 1218...</td>\n",
       "    </tr>\n",
       "    <tr>\n",
       "      <th>4</th>\n",
       "      <td>12154</td>\n",
       "      <td>08/05/19</td>\n",
       "      <td>Prepared speech</td>\n",
       "      <td>Guns</td>\n",
       "      <td>“Mental illness and hatred pulls the trigger, ...</td>\n",
       "      <td>The Washington Post &lt;a href=\"https://www.washi...</td>\n",
       "      <td>0.0</td>\n",
       "      <td>NaN</td>\n",
       "    </tr>\n",
       "  </tbody>\n",
       "</table>\n",
       "</div>"
      ],
      "text/plain": [
       "      id      date           source  topic  \\\n",
       "0  11702  08/05/19          Twitter   Guns   \n",
       "1  11703  08/05/19          Twitter  Trade   \n",
       "2  11704  08/05/19          Twitter  Trade   \n",
       "3  11706  08/05/19          Twitter  Trade   \n",
       "4  12154  08/05/19  Prepared speech   Guns   \n",
       "\n",
       "                                               claim  \\\n",
       "0  “The Media has a big responsibility to life an...   \n",
       "1  “China dropped the price of their currency to ...   \n",
       "2  “Based on the historic currency manipulation b...   \n",
       "3  “China is intent on continuing to receive the ...   \n",
       "4  “Mental illness and hatred pulls the trigger, ...   \n",
       "\n",
       "                                            analysis  repeated_count  \\\n",
       "0  There's <a href=\"https://psmag.com/news/does-t...             0.0   \n",
       "1  China's currency dropped to an 11-year low aga...             0.0   \n",
       "2  We calculated that through December, the Trump...            73.0   \n",
       "3  Trump consistently fails to understand trade d...           166.0   \n",
       "4  The Washington Post <a href=\"https://www.washi...             0.0   \n",
       "\n",
       "                                        repeated_ids  \n",
       "0                                                NaN  \n",
       "1                                                NaN  \n",
       "2  11704, 11700, 11166, 11307, 11575, 11629, 1135...  \n",
       "3  11706, 11576, 11388, 12211, 11552, 11394, 1218...  \n",
       "4                                                NaN  "
      ]
     },
     "execution_count": 3,
     "metadata": {},
     "output_type": "execute_result"
    }
   ],
   "source": [
    "trump = pd.read_csv('wapo_trumpclaims_export-080519.csv')\n",
    "print (trump.shape)\n",
    "trump.head()"
   ]
  },
  {
   "cell_type": "markdown",
   "metadata": {},
   "source": [
    "## The corpus\n",
    "\n",
    "Create a corpus by joining together the entries in the `claim` and `analysis` columns. With just the claims, there isn't quite enough text for LDA to work well. Note that these preprocessing steps will be similar to those in Homework 10, but instead of operating on the whole set of claims, we want to operate on a list of entries/documents. "
   ]
  },
  {
   "cell_type": "code",
   "execution_count": 4,
   "metadata": {},
   "outputs": [
    {
     "data": {
      "text/plain": [
       "'“The Media has a big responsibility to life and safety in our Country. Fake News has contributed greatly to the anger and rage that has built up over many years. News coverage has got to start being fair, balanced and unbiased, or these terrible problems will only get worse!”There\\'s <a href=\"https://psmag.com/news/does-the-media-cause-mass-shootings\">some</a> evidence to suggest that intense media coverage of a shooting could be partially to blame for a future mass shooting, but extensive coverage isn\\'t the same as not being \"fair\" or \"balanced,\" as Trump suggests. Plus, it\\'s not likely journalist will just stop covering mass shootings, in part, as Pacific Standard explained, \"media organizations have an ethical responsibility to bear witness to the tragedies of history, to ensure that future generations don’t forget the horrors of epochs past.\"'"
      ]
     },
     "execution_count": 4,
     "metadata": {},
     "output_type": "execute_result"
    }
   ],
   "source": [
    "trump['corpus'] = trump['claim'] + trump['analysis']\n",
    "datalst = list(trump.corpus)\n",
    "data = [str(item) for item in datalst]\n",
    "data[0]"
   ]
  },
  {
   "cell_type": "markdown",
   "metadata": {},
   "source": [
    "### Tokenize the entries and remove punctuation"
   ]
  },
  {
   "cell_type": "code",
   "execution_count": 5,
   "metadata": {},
   "outputs": [],
   "source": [
    "data_tokens = [word_tokenize(entry) for entry in data]\n",
    "data_words  = [[word.lower() for word in entry if word.isalpha()] for entry in data_tokens]"
   ]
  },
  {
   "cell_type": "markdown",
   "metadata": {},
   "source": [
    "## Remove stopwords"
   ]
  },
  {
   "cell_type": "code",
   "execution_count": 6,
   "metadata": {},
   "outputs": [],
   "source": [
    "english_stops = set(stopwords.words('english'))\n",
    "data_stops = [[word for word in entry if word not in english_stops] for entry in data_words]"
   ]
  },
  {
   "cell_type": "markdown",
   "metadata": {},
   "source": [
    "### Lemmatize"
   ]
  },
  {
   "cell_type": "code",
   "execution_count": 7,
   "metadata": {},
   "outputs": [
    {
     "name": "stdout",
     "output_type": "stream",
     "text": [
      "['medium', 'big', 'responsibility', 'life', 'safety', 'country', 'fake', 'news', 'contributed', 'greatly', 'anger', 'rage', 'built', 'many', 'year', 'news', 'coverage', 'got', 'start', 'fair', 'balanced', 'unbiased', 'terrible', 'problem', 'get', 'worse', 'http', 'evidence', 'suggest', 'intense', 'medium', 'coverage', 'shooting', 'could', 'partially', 'blame', 'future', 'mass', 'shooting', 'extensive', 'coverage', 'fair', 'balanced', 'trump', 'suggests', 'plus', 'likely', 'journalist', 'stop', 'covering', 'mass', 'shooting', 'part', 'pacific', 'standard', 'explained', 'medium', 'organization', 'ethical', 'responsibility', 'bear', 'witness', 'tragedy', 'history', 'ensure', 'future', 'generation', 'forget', 'horror', 'epoch', 'past']\n",
      "12020\n"
     ]
    }
   ],
   "source": [
    "lemmatizer = WordNetLemmatizer()\n",
    "data_lem = [[lemmatizer.lemmatize(word) for word in entry] for entry in data_stops]\n",
    "print(data_lem[0])\n",
    "print(len(data_lem))"
   ]
  },
  {
   "cell_type": "markdown",
   "metadata": {},
   "source": [
    "### Hint\n",
    "\n",
    "At this point, you should have a list of 12,020 lists. The first item in the list should look something like this:\n",
    "\n",
    "```['medium', 'big', 'responsibility', 'life', 'safety', 'country', 'fake', 'news', 'contributed', 'greatly', 'anger', 'rage', 'built', 'many', 'year', 'news', 'coverage', 'got', 'start', 'fair', 'balanced', 'unbiased', 'terrible', 'problem', 'get', 'worse', 'http', 'evidence', 'suggest', 'intense', 'medium', 'coverage', 'shooting', 'could', 'partially', 'blame', 'future', 'mass', 'shooting', 'extensive', 'coverage', 'fair', 'balanced', 'trump', 'suggests', 'plus', 'likely', 'journalist', 'stop', 'covering', 'mass', 'shooting', 'part', 'pacific', 'standard', 'explained', 'medium', 'organization', 'ethical', 'responsibility', 'bear', 'witness', 'tragedy', 'history', 'ensure', 'future', 'generation', 'forget', 'horror', 'epoch', 'past']```\n"
   ]
  },
  {
   "cell_type": "markdown",
   "metadata": {},
   "source": [
    "### Create an `id2word` dictionary"
   ]
  },
  {
   "cell_type": "code",
   "execution_count": 8,
   "metadata": {},
   "outputs": [],
   "source": [
    "id2word = gensim.corpora.Dictionary(data_lem)"
   ]
  },
  {
   "cell_type": "markdown",
   "metadata": {},
   "source": [
    "### Create a bag-of-words representation for each entry"
   ]
  },
  {
   "cell_type": "code",
   "execution_count": 9,
   "metadata": {},
   "outputs": [
    {
     "name": "stdout",
     "output_type": "stream",
     "text": [
      "[(0, 1), (1, 2), (2, 1), (3, 1), (4, 1), (5, 1), (6, 1), (7, 1), (8, 1), (9, 3), (10, 1), (11, 1), (12, 1), (13, 1), (14, 1), (15, 1), (16, 1), (17, 2), (18, 1), (19, 1), (20, 2), (21, 1), (22, 1), (23, 1), (24, 1), (25, 1), (26, 1), (27, 1), (28, 1), (29, 1), (30, 1), (31, 1), (32, 1), (33, 2), (34, 3), (35, 2), (36, 1), (37, 1), (38, 1), (39, 1), (40, 1), (41, 1), (42, 1), (43, 1), (44, 2), (45, 1), (46, 3), (47, 1), (48, 1), (49, 1), (50, 1), (51, 1), (52, 1), (53, 1), (54, 1), (55, 1), (56, 1), (57, 1), (58, 1)]\n"
     ]
    }
   ],
   "source": [
    "data_id = [id2word.doc2bow(entry) for entry in data_lem]\n",
    "print(data_id[0])"
   ]
  },
  {
   "cell_type": "markdown",
   "metadata": {},
   "source": [
    "### Count how many manually-assigned topics there are "
   ]
  },
  {
   "cell_type": "code",
   "execution_count": 10,
   "metadata": {},
   "outputs": [
    {
     "data": {
      "text/plain": [
       "17"
      ]
     },
     "execution_count": 10,
     "metadata": {},
     "output_type": "execute_result"
    }
   ],
   "source": [
    "len(pd.value_counts(trump.topic))"
   ]
  },
  {
   "cell_type": "markdown",
   "metadata": {},
   "source": [
    "## Create LDA model\n",
    "\n",
    "Use the number of topics that the Washington Post assigned. There's no guarantee that LDA will match them exactly. Use the same settings as we did in class.\n",
    "\n",
    "This takes some minutes. Some library versions issue a warning on every LDA iteration with is really annoying."
   ]
  },
  {
   "cell_type": "code",
   "execution_count": 11,
   "metadata": {},
   "outputs": [],
   "source": [
    "import warnings\n",
    "\n",
    "with warnings.catch_warnings():\n",
    "    warnings.simplefilter(\"ignore\")\n",
    "    \n",
    "    lda_model = gensim.models.ldamodel.LdaModel(corpus=data_id, id2word=id2word, num_topics=17,\n",
    "                                              random_state=20191119, update_every=1, chunksize=100,\n",
    "                                              passes=10, alpha='auto', per_word_topics=True)"
   ]
  },
  {
   "cell_type": "markdown",
   "metadata": {},
   "source": [
    "### Print the topics"
   ]
  },
  {
   "cell_type": "code",
   "execution_count": 12,
   "metadata": {},
   "outputs": [
    {
     "data": {
      "text/plain": [
       "[(0,\n",
       "  '0.056*\"white\" + 0.051*\"defense\" + 0.050*\"city\" + 0.042*\"call\" + 0.038*\"obama\" + 0.038*\"rule\" + 0.037*\"reduction\" + 0.034*\"remain\" + 0.029*\"developed\" + 0.027*\"military\"'),\n",
       " (1,\n",
       "  '0.096*\"increase\" + 0.031*\"government\" + 0.028*\"lowest\" + 0.025*\"veteran\" + 0.024*\"issued\" + 0.024*\"step\" + 0.022*\"clear\" + 0.020*\"va\" + 0.019*\"historic\" + 0.018*\"recession\"'),\n",
       " (2,\n",
       "  '0.117*\"trump\" + 0.036*\"people\" + 0.027*\"said\" + 0.022*\"president\" + 0.021*\"time\" + 0.020*\"one\" + 0.018*\"say\" + 0.017*\"many\" + 0.016*\"year\" + 0.015*\"new\"'),\n",
       " (3,\n",
       "  '0.063*\"vote\" + 0.053*\"mexico\" + 0.048*\"obamacare\" + 0.041*\"figure\" + 0.027*\"order\" + 0.024*\"small\" + 0.023*\"among\" + 0.022*\"false\" + 0.021*\"percentage\" + 0.020*\"research\"'),\n",
       " (4,\n",
       "  '0.098*\"state\" + 0.075*\"country\" + 0.063*\"united\" + 0.046*\"going\" + 0.025*\"deal\" + 0.024*\"trillion\" + 0.022*\"work\" + 0.019*\"also\" + 0.019*\"worker\" + 0.018*\"world\"'),\n",
       " (5,\n",
       "  '0.111*\"rate\" + 0.102*\"percent\" + 0.079*\"american\" + 0.051*\"unemployment\" + 0.033*\"average\" + 0.028*\"statistic\" + 0.025*\"decline\" + 0.022*\"lower\" + 0.021*\"level\" + 0.020*\"record\"'),\n",
       " (6,\n",
       "  '0.112*\"korea\" + 0.111*\"north\" + 0.085*\"signed\" + 0.071*\"south\" + 0.059*\"nuclear\" + 0.053*\"bill\" + 0.048*\"woman\" + 0.032*\"police\" + 0.027*\"needed\" + 0.025*\"hold\"'),\n",
       " (7,\n",
       "  '0.039*\"decision\" + 0.038*\"foreign\" + 0.034*\"smaller\" + 0.030*\"highest\" + 0.027*\"department\" + 0.024*\"area\" + 0.024*\"iran\" + 0.024*\"america\" + 0.024*\"meeting\" + 0.022*\"left\"'),\n",
       " (8,\n",
       "  '0.130*\"plan\" + 0.085*\"care\" + 0.065*\"would\" + 0.058*\"act\" + 0.051*\"affordable\" + 0.048*\"senate\" + 0.047*\"health\" + 0.047*\"project\" + 0.046*\"domestic\" + 0.041*\"budget\"'),\n",
       " (9,\n",
       "  '0.051*\"russia\" + 0.039*\"campaign\" + 0.038*\"russian\" + 0.029*\"report\" + 0.029*\"crime\" + 0.029*\"information\" + 0.026*\"investigation\" + 0.022*\"trump\" + 0.022*\"election\" + 0.021*\"evidence\"'),\n",
       " (10,\n",
       "  '0.067*\"company\" + 0.063*\"billion\" + 0.045*\"trade\" + 0.043*\"million\" + 0.041*\"product\" + 0.032*\"china\" + 0.023*\"good\" + 0.023*\"money\" + 0.023*\"deficit\" + 0.020*\"announced\"'),\n",
       " (11,\n",
       "  '0.071*\"obama\" + 0.059*\"clinton\" + 0.039*\"national\" + 0.036*\"intelligence\" + 0.029*\"federal\" + 0.025*\"committee\" + 0.024*\"gross\" + 0.024*\"barack\" + 0.024*\"referring\" + 0.023*\"major\"'),\n",
       " (12,\n",
       "  '0.040*\"democrat\" + 0.033*\"fbi\" + 0.032*\"republican\" + 0.032*\"immigration\" + 0.029*\"border\" + 0.025*\"want\" + 0.023*\"illegal\" + 0.022*\"law\" + 0.020*\"overseas\" + 0.019*\"support\"'),\n",
       " (13,\n",
       "  '0.090*\"drug\" + 0.061*\"nato\" + 0.045*\"bush\" + 0.044*\"especially\" + 0.038*\"example\" + 0.037*\"saved\" + 0.036*\"misleading\" + 0.033*\"travel\" + 0.030*\"later\" + 0.024*\"percent\"'),\n",
       " (14,\n",
       "  '0.088*\"tax\" + 0.064*\"job\" + 0.051*\"percent\" + 0.042*\"cut\" + 0.036*\"since\" + 0.035*\"trump\" + 0.024*\"even\" + 0.024*\"month\" + 0.023*\"million\" + 0.023*\"first\"'),\n",
       " (15,\n",
       "  '0.115*\"market\" + 0.083*\"stock\" + 0.075*\"job\" + 0.059*\"manufacturing\" + 0.038*\"june\" + 0.037*\"certainly\" + 0.033*\"today\" + 0.032*\"remember\" + 0.031*\"bill\" + 0.026*\"pouring\"'),\n",
       " (16,\n",
       "  '0.096*\"wall\" + 0.070*\"crowd\" + 0.066*\"spending\" + 0.053*\"build\" + 0.044*\"spent\" + 0.035*\"border\" + 0.032*\"building\" + 0.027*\"billion\" + 0.026*\"dead\" + 0.024*\"fund\"')]"
      ]
     },
     "execution_count": 12,
     "metadata": {},
     "output_type": "execute_result"
    }
   ],
   "source": [
    "lda_model.print_topics()"
   ]
  },
  {
   "cell_type": "markdown",
   "metadata": {},
   "source": [
    "### Print `log_perplexity`"
   ]
  },
  {
   "cell_type": "code",
   "execution_count": 13,
   "metadata": {},
   "outputs": [
    {
     "name": "stdout",
     "output_type": "stream",
     "text": [
      "-11.318696517962755\n"
     ]
    }
   ],
   "source": [
    "with warnings.catch_warnings():\n",
    "    warnings.simplefilter(\"ignore\")\n",
    "    \n",
    "    print(lda_model.log_perplexity(data_id))"
   ]
  },
  {
   "cell_type": "markdown",
   "metadata": {},
   "source": [
    "### Compute the model coherence"
   ]
  },
  {
   "cell_type": "code",
   "execution_count": 14,
   "metadata": {},
   "outputs": [
    {
     "data": {
      "text/plain": [
       "0.44334501665275566"
      ]
     },
     "execution_count": 14,
     "metadata": {},
     "output_type": "execute_result"
    }
   ],
   "source": [
    "coherence_model = CoherenceModel(model=lda_model, texts=data_lem, dictionary=id2word, coherence='c_v')\n",
    "coherence_model.get_coherence()"
   ]
  },
  {
   "cell_type": "markdown",
   "metadata": {},
   "source": [
    "## Create an LDAvis for the model\n",
    "\n",
    "This also takes some time."
   ]
  },
  {
   "cell_type": "code",
   "execution_count": 15,
   "metadata": {},
   "outputs": [
    {
     "name": "stderr",
     "output_type": "stream",
     "text": [
      "//anaconda3/lib/python3.7/site-packages/pyLDAvis/_prepare.py:257: FutureWarning: Sorting because non-concatenation axis is not aligned. A future version\n",
      "of pandas will change to not sort by default.\n",
      "\n",
      "To accept the future behavior, pass 'sort=False'.\n",
      "\n",
      "To retain the current behavior and silence the warning, pass 'sort=True'.\n",
      "\n",
      "  return pd.concat([default_term_info] + list(topic_dfs))\n"
     ]
    },
    {
     "data": {
      "text/html": [
       "\n",
       "<link rel=\"stylesheet\" type=\"text/css\" href=\"https://cdn.rawgit.com/bmabey/pyLDAvis/files/ldavis.v1.0.0.css\">\n",
       "\n",
       "\n",
       "<div id=\"ldavis_el29174112420113288835619753\"></div>\n",
       "<script type=\"text/javascript\">\n",
       "\n",
       "var ldavis_el29174112420113288835619753_data = {\"mdsDat\": {\"x\": [-0.24663615488900986, -0.047178232453962174, -0.24483159139229935, -0.10245217106403504, 0.11911005726331302, -0.0334787867947279, -0.10789859437123812, -0.14161295042530037, 0.04148143215688941, 0.05010641540381396, 0.13643923000624827, 0.007404293098757448, 0.09439302048561417, 0.05042951847821666, 0.06411081625119676, 0.11571629681748902, 0.24489740142903446], \"y\": [-0.08182286084838154, -0.11183815437379917, 0.13494779332052673, 0.0038685142105993886, -0.07618428407872462, -0.24056222635602986, -0.16244691202980838, 0.2640859694879659, -0.03443081426448462, -0.05786415760628072, -0.05385835153566357, 0.05346526645869498, -0.055208188151897555, 0.07426601120474922, 0.1748665342107408, 0.0844776630079624, 0.08423819734383033], \"topics\": [1, 2, 3, 4, 5, 6, 7, 8, 9, 10, 11, 12, 13, 14, 15, 16, 17], \"cluster\": [1, 1, 1, 1, 1, 1, 1, 1, 1, 1, 1, 1, 1, 1, 1, 1, 1], \"Freq\": [22.305572509765625, 9.954291343688965, 8.666994094848633, 8.662300109863281, 8.096352577209473, 7.639371395111084, 5.033377647399902, 5.004583835601807, 4.480749607086182, 3.963298797607422, 3.527308702468872, 2.747051477432251, 2.397984504699707, 2.030524730682373, 2.0076842308044434, 1.9659700393676758, 1.51658296585083]}, \"tinfo\": {\"Category\": [\"Default\", \"Default\", \"Default\", \"Default\", \"Default\", \"Default\", \"Default\", \"Default\", \"Default\", \"Default\", \"Default\", \"Default\", \"Default\", \"Default\", \"Default\", \"Default\", \"Default\", \"Default\", \"Default\", \"Default\", \"Default\", \"Default\", \"Default\", \"Default\", \"Default\", \"Default\", \"Default\", \"Default\", \"Default\", \"Default\", \"Topic1\", \"Topic1\", \"Topic1\", \"Topic1\", \"Topic1\", \"Topic1\", \"Topic1\", \"Topic1\", \"Topic1\", \"Topic1\", \"Topic1\", \"Topic1\", \"Topic1\", \"Topic1\", \"Topic1\", \"Topic1\", \"Topic1\", \"Topic1\", \"Topic1\", \"Topic1\", \"Topic1\", \"Topic1\", \"Topic1\", \"Topic1\", \"Topic1\", \"Topic1\", \"Topic1\", \"Topic1\", \"Topic1\", \"Topic1\", \"Topic1\", \"Topic1\", \"Topic1\", \"Topic1\", \"Topic1\", \"Topic1\", \"Topic1\", \"Topic1\", \"Topic1\", \"Topic1\", \"Topic1\", \"Topic1\", \"Topic1\", \"Topic1\", \"Topic1\", \"Topic1\", \"Topic1\", \"Topic1\", \"Topic1\", \"Topic1\", \"Topic1\", \"Topic1\", \"Topic1\", \"Topic1\", \"Topic1\", \"Topic1\", \"Topic1\", \"Topic1\", \"Topic1\", \"Topic1\", \"Topic1\", \"Topic2\", \"Topic2\", \"Topic2\", \"Topic2\", \"Topic2\", \"Topic2\", \"Topic2\", \"Topic2\", \"Topic2\", \"Topic2\", \"Topic2\", \"Topic2\", \"Topic2\", \"Topic2\", \"Topic2\", \"Topic2\", \"Topic2\", \"Topic2\", \"Topic2\", \"Topic2\", \"Topic2\", \"Topic2\", \"Topic2\", \"Topic2\", \"Topic2\", \"Topic2\", \"Topic2\", \"Topic2\", \"Topic2\", \"Topic2\", \"Topic2\", \"Topic2\", \"Topic2\", \"Topic2\", \"Topic2\", \"Topic2\", \"Topic2\", \"Topic2\", \"Topic2\", \"Topic2\", \"Topic2\", \"Topic2\", \"Topic2\", \"Topic2\", \"Topic2\", \"Topic2\", \"Topic2\", \"Topic2\", \"Topic2\", \"Topic2\", \"Topic2\", \"Topic2\", \"Topic2\", \"Topic2\", \"Topic2\", \"Topic2\", \"Topic3\", \"Topic3\", \"Topic3\", \"Topic3\", \"Topic3\", \"Topic3\", \"Topic3\", \"Topic3\", \"Topic3\", \"Topic3\", \"Topic3\", \"Topic3\", \"Topic3\", \"Topic3\", \"Topic3\", \"Topic3\", \"Topic3\", \"Topic3\", \"Topic3\", \"Topic3\", \"Topic3\", \"Topic3\", \"Topic3\", \"Topic3\", \"Topic3\", \"Topic3\", \"Topic3\", \"Topic3\", \"Topic3\", \"Topic3\", \"Topic3\", \"Topic3\", \"Topic3\", \"Topic3\", \"Topic3\", \"Topic3\", \"Topic3\", \"Topic3\", \"Topic3\", \"Topic3\", \"Topic3\", \"Topic3\", \"Topic3\", \"Topic3\", \"Topic3\", \"Topic3\", \"Topic3\", \"Topic3\", \"Topic3\", \"Topic3\", \"Topic3\", \"Topic3\", \"Topic3\", \"Topic3\", \"Topic3\", \"Topic4\", \"Topic4\", \"Topic4\", \"Topic4\", \"Topic4\", \"Topic4\", \"Topic4\", \"Topic4\", \"Topic4\", \"Topic4\", \"Topic4\", \"Topic4\", \"Topic4\", \"Topic4\", \"Topic4\", \"Topic4\", \"Topic4\", \"Topic4\", \"Topic4\", \"Topic4\", \"Topic4\", \"Topic4\", \"Topic4\", \"Topic4\", \"Topic4\", \"Topic4\", \"Topic4\", \"Topic4\", \"Topic4\", \"Topic4\", \"Topic4\", \"Topic4\", \"Topic4\", \"Topic4\", \"Topic4\", \"Topic4\", \"Topic4\", \"Topic4\", \"Topic4\", \"Topic4\", \"Topic4\", \"Topic4\", \"Topic4\", \"Topic4\", \"Topic4\", \"Topic4\", \"Topic5\", \"Topic5\", \"Topic5\", \"Topic5\", \"Topic5\", \"Topic5\", \"Topic5\", \"Topic5\", \"Topic5\", \"Topic5\", \"Topic5\", \"Topic5\", \"Topic5\", \"Topic5\", \"Topic5\", \"Topic5\", \"Topic5\", \"Topic5\", \"Topic5\", \"Topic5\", \"Topic5\", \"Topic5\", \"Topic5\", \"Topic5\", \"Topic5\", \"Topic5\", \"Topic5\", \"Topic5\", \"Topic5\", \"Topic5\", \"Topic5\", \"Topic5\", \"Topic5\", \"Topic5\", \"Topic5\", \"Topic5\", \"Topic5\", \"Topic5\", \"Topic5\", \"Topic5\", \"Topic5\", \"Topic5\", \"Topic5\", \"Topic5\", \"Topic5\", \"Topic5\", \"Topic5\", \"Topic5\", \"Topic5\", \"Topic5\", \"Topic5\", \"Topic6\", \"Topic6\", \"Topic6\", \"Topic6\", \"Topic6\", \"Topic6\", \"Topic6\", \"Topic6\", \"Topic6\", \"Topic6\", \"Topic6\", \"Topic6\", \"Topic6\", \"Topic6\", \"Topic6\", \"Topic6\", \"Topic6\", \"Topic6\", \"Topic6\", \"Topic6\", \"Topic6\", \"Topic6\", \"Topic6\", \"Topic6\", \"Topic6\", \"Topic6\", \"Topic6\", \"Topic6\", \"Topic6\", \"Topic6\", \"Topic6\", \"Topic6\", \"Topic6\", \"Topic6\", \"Topic6\", \"Topic6\", \"Topic6\", \"Topic6\", \"Topic6\", \"Topic6\", \"Topic6\", \"Topic6\", \"Topic6\", \"Topic6\", \"Topic6\", \"Topic7\", \"Topic7\", \"Topic7\", \"Topic7\", \"Topic7\", \"Topic7\", \"Topic7\", \"Topic7\", \"Topic7\", \"Topic7\", \"Topic7\", \"Topic7\", \"Topic7\", \"Topic7\", \"Topic7\", \"Topic7\", \"Topic7\", \"Topic7\", \"Topic7\", \"Topic7\", \"Topic7\", \"Topic7\", \"Topic7\", \"Topic7\", \"Topic7\", \"Topic7\", \"Topic7\", \"Topic7\", \"Topic7\", \"Topic7\", \"Topic7\", \"Topic7\", \"Topic7\", \"Topic7\", \"Topic7\", \"Topic7\", \"Topic7\", \"Topic7\", \"Topic7\", \"Topic7\", \"Topic7\", \"Topic7\", \"Topic7\", \"Topic7\", \"Topic7\", \"Topic7\", \"Topic8\", \"Topic8\", \"Topic8\", \"Topic8\", \"Topic8\", \"Topic8\", \"Topic8\", \"Topic8\", \"Topic8\", \"Topic8\", \"Topic8\", \"Topic8\", \"Topic8\", \"Topic8\", \"Topic8\", \"Topic8\", \"Topic8\", \"Topic8\", \"Topic8\", \"Topic8\", \"Topic8\", \"Topic8\", \"Topic8\", \"Topic8\", \"Topic8\", \"Topic8\", \"Topic8\", \"Topic8\", \"Topic8\", \"Topic8\", \"Topic8\", \"Topic8\", \"Topic8\", \"Topic8\", \"Topic8\", \"Topic8\", \"Topic8\", \"Topic8\", \"Topic8\", \"Topic8\", \"Topic8\", \"Topic8\", \"Topic8\", \"Topic8\", \"Topic8\", \"Topic8\", \"Topic8\", \"Topic9\", \"Topic9\", \"Topic9\", \"Topic9\", \"Topic9\", \"Topic9\", \"Topic9\", \"Topic9\", \"Topic9\", \"Topic9\", \"Topic9\", \"Topic9\", \"Topic9\", \"Topic9\", \"Topic9\", \"Topic9\", \"Topic9\", \"Topic9\", \"Topic9\", \"Topic9\", \"Topic9\", \"Topic9\", \"Topic9\", \"Topic9\", \"Topic9\", \"Topic9\", \"Topic9\", \"Topic9\", \"Topic9\", \"Topic9\", \"Topic9\", \"Topic9\", \"Topic9\", \"Topic9\", \"Topic9\", \"Topic9\", \"Topic9\", \"Topic9\", \"Topic9\", \"Topic9\", \"Topic9\", \"Topic9\", \"Topic9\", \"Topic10\", \"Topic10\", \"Topic10\", \"Topic10\", \"Topic10\", \"Topic10\", \"Topic10\", \"Topic10\", \"Topic10\", \"Topic10\", \"Topic10\", \"Topic10\", \"Topic10\", \"Topic10\", \"Topic10\", \"Topic10\", \"Topic10\", \"Topic10\", \"Topic10\", \"Topic10\", \"Topic10\", \"Topic10\", \"Topic10\", \"Topic10\", \"Topic10\", \"Topic10\", \"Topic10\", \"Topic10\", \"Topic10\", \"Topic10\", \"Topic10\", \"Topic10\", \"Topic10\", \"Topic10\", \"Topic10\", \"Topic10\", \"Topic10\", \"Topic10\", \"Topic10\", \"Topic10\", \"Topic10\", \"Topic10\", \"Topic11\", \"Topic11\", \"Topic11\", \"Topic11\", \"Topic11\", \"Topic11\", \"Topic11\", \"Topic11\", \"Topic11\", \"Topic11\", \"Topic11\", \"Topic11\", \"Topic11\", \"Topic11\", \"Topic11\", \"Topic11\", \"Topic11\", \"Topic11\", \"Topic11\", \"Topic11\", \"Topic11\", \"Topic11\", \"Topic11\", \"Topic11\", \"Topic11\", \"Topic11\", \"Topic11\", \"Topic11\", \"Topic11\", \"Topic11\", \"Topic11\", \"Topic11\", \"Topic11\", \"Topic11\", \"Topic11\", \"Topic11\", \"Topic11\", \"Topic11\", \"Topic11\", \"Topic11\", \"Topic12\", \"Topic12\", \"Topic12\", \"Topic12\", \"Topic12\", \"Topic12\", \"Topic12\", \"Topic12\", \"Topic12\", \"Topic12\", \"Topic12\", \"Topic12\", \"Topic12\", \"Topic12\", \"Topic12\", \"Topic12\", \"Topic12\", \"Topic12\", \"Topic12\", \"Topic12\", \"Topic12\", \"Topic12\", \"Topic12\", \"Topic12\", \"Topic12\", \"Topic12\", \"Topic12\", \"Topic12\", \"Topic12\", \"Topic12\", \"Topic12\", \"Topic12\", \"Topic12\", \"Topic12\", \"Topic12\", \"Topic12\", \"Topic12\", \"Topic12\", \"Topic12\", \"Topic12\", \"Topic12\", \"Topic12\", \"Topic13\", \"Topic13\", \"Topic13\", \"Topic13\", \"Topic13\", \"Topic13\", \"Topic13\", \"Topic13\", \"Topic13\", \"Topic13\", \"Topic13\", \"Topic13\", \"Topic13\", \"Topic13\", \"Topic13\", \"Topic13\", \"Topic13\", \"Topic13\", \"Topic13\", \"Topic13\", \"Topic13\", \"Topic13\", \"Topic13\", \"Topic13\", \"Topic13\", \"Topic13\", \"Topic13\", \"Topic13\", \"Topic13\", \"Topic13\", \"Topic13\", \"Topic13\", \"Topic13\", \"Topic13\", \"Topic13\", \"Topic13\", \"Topic13\", \"Topic13\", \"Topic13\", \"Topic13\", \"Topic14\", \"Topic14\", \"Topic14\", \"Topic14\", \"Topic14\", \"Topic14\", \"Topic14\", \"Topic14\", \"Topic14\", \"Topic14\", \"Topic14\", \"Topic14\", \"Topic14\", \"Topic14\", \"Topic14\", \"Topic14\", \"Topic14\", \"Topic14\", \"Topic14\", \"Topic14\", \"Topic14\", \"Topic14\", \"Topic14\", \"Topic14\", \"Topic14\", \"Topic14\", \"Topic14\", \"Topic14\", \"Topic14\", \"Topic14\", \"Topic14\", \"Topic14\", \"Topic14\", \"Topic14\", \"Topic14\", \"Topic14\", \"Topic14\", \"Topic14\", \"Topic14\", \"Topic14\", \"Topic15\", \"Topic15\", \"Topic15\", \"Topic15\", \"Topic15\", \"Topic15\", \"Topic15\", \"Topic15\", \"Topic15\", \"Topic15\", \"Topic15\", \"Topic15\", \"Topic15\", \"Topic15\", \"Topic15\", \"Topic15\", \"Topic15\", \"Topic15\", \"Topic15\", \"Topic15\", \"Topic15\", \"Topic15\", \"Topic15\", \"Topic15\", \"Topic15\", \"Topic15\", \"Topic15\", \"Topic15\", \"Topic15\", \"Topic15\", \"Topic15\", \"Topic15\", \"Topic15\", \"Topic15\", \"Topic15\", \"Topic15\", \"Topic15\", \"Topic15\", \"Topic15\", \"Topic15\", \"Topic16\", \"Topic16\", \"Topic16\", \"Topic16\", \"Topic16\", \"Topic16\", \"Topic16\", \"Topic16\", \"Topic16\", \"Topic16\", \"Topic16\", \"Topic16\", \"Topic16\", \"Topic16\", \"Topic16\", \"Topic16\", \"Topic16\", \"Topic16\", \"Topic16\", \"Topic16\", \"Topic16\", \"Topic16\", \"Topic16\", \"Topic16\", \"Topic16\", \"Topic16\", \"Topic16\", \"Topic16\", \"Topic16\", \"Topic16\", \"Topic16\", \"Topic16\", \"Topic16\", \"Topic16\", \"Topic16\", \"Topic16\", \"Topic16\", \"Topic16\", \"Topic17\", \"Topic17\", \"Topic17\", \"Topic17\", \"Topic17\", \"Topic17\", \"Topic17\", \"Topic17\", \"Topic17\", \"Topic17\", \"Topic17\", \"Topic17\", \"Topic17\", \"Topic17\", \"Topic17\", \"Topic17\", \"Topic17\", \"Topic17\", \"Topic17\", \"Topic17\", \"Topic17\", \"Topic17\", \"Topic17\", \"Topic17\", \"Topic17\", \"Topic17\", \"Topic17\", \"Topic17\", \"Topic17\", \"Topic17\", \"Topic17\", \"Topic17\", \"Topic17\"], \"Freq\": [6169.0, 6211.0, 4719.0, 4640.0, 3430.0, 5336.0, 21274.0, 3945.0, 3585.0, 4490.0, 4035.0, 3925.0, 3273.0, 2102.0, 1739.0, 2873.0, 1753.0, 2585.0, 3799.0, 2927.0, 5262.0, 2249.0, 1399.0, 2210.0, 2312.0, 1528.0, 2224.0, 1553.0, 2115.0, 2387.0, 1951.7828369140625, 1599.994873046875, 1434.092041015625, 1318.2174072265625, 1094.3406982421875, 1045.251220703125, 949.2029418945312, 908.0985717773438, 871.5347900390625, 863.2531127929688, 848.1201782226562, 783.1868286132812, 767.7188720703125, 762.4933471679688, 680.0545043945312, 600.2418823242188, 588.7014770507812, 547.9015502929688, 545.4073486328125, 541.890869140625, 525.7972412109375, 524.9520263671875, 511.6380310058594, 499.829345703125, 498.3439025878906, 459.5973205566406, 420.1978759765625, 412.47528076171875, 397.7410583496094, 393.9288330078125, 1143.569580078125, 1577.2742919921875, 2843.362548828125, 4918.34619140625, 1773.2093505859375, 3775.166748046875, 1401.8955078125, 1803.4248046875, 1654.784912109375, 794.4844970703125, 2429.45849609375, 16159.6572265625, 1546.9530029296875, 1035.14306640625, 1106.118896484375, 1209.4339599609375, 2372.53515625, 1272.1387939453125, 3100.520263671875, 2750.234619140625, 2006.6419677734375, 1086.859619140625, 1652.3768310546875, 2205.5947265625, 1675.68896484375, 1395.6807861328125, 1211.8060302734375, 1581.997802734375, 1584.220947265625, 1205.332275390625, 1153.77978515625, 1468.865478515625, 1370.7763671875, 836.7199096679688, 741.0401000976562, 674.8234252929688, 673.20361328125, 585.8734130859375, 561.2099609375, 552.6972045898438, 465.3752136230469, 411.3218078613281, 405.3104248046875, 358.7854309082031, 352.2439880371094, 345.71307373046875, 336.2484436035156, 324.7039489746094, 316.396240234375, 309.41693115234375, 306.98370361328125, 299.34991455078125, 292.45489501953125, 276.6019287109375, 271.24774169921875, 256.92279052734375, 243.84317016601562, 238.86865234375, 234.14170837402344, 230.8051300048828, 210.2187957763672, 3897.650634765625, 6015.38671875, 1159.63330078125, 2811.3935546875, 641.8803100585938, 627.101318359375, 1078.394287109375, 4602.4287109375, 1525.2049560546875, 734.4598999023438, 430.96612548828125, 369.43902587890625, 695.2088012695312, 431.79095458984375, 1191.345703125, 631.27294921875, 551.7264404296875, 463.6655578613281, 579.8068237304688, 604.3907470703125, 601.484619140625, 497.6527099609375, 481.5459289550781, 517.37890625, 541.936279296875, 524.4530029296875, 771.2318115234375, 633.8661499023438, 612.8944091796875, 639.2833251953125, 490.1124267578125, 475.538330078125, 468.58453369140625, 376.5233154296875, 364.2173156738281, 362.9504699707031, 337.43023681640625, 312.1284484863281, 303.4715881347656, 274.40240478515625, 259.3006896972656, 242.7295379638672, 4688.79833984375, 235.33184814453125, 230.732177734375, 222.55154418945312, 217.4615020751953, 193.4247283935547, 423.12060546875, 174.11370849609375, 156.95904541015625, 146.85585021972656, 145.38385009765625, 139.07960510253906, 130.032470703125, 124.37876892089844, 2274.54296875, 1219.2498779296875, 468.7467956542969, 458.9225158691406, 1292.5672607421875, 553.7662353515625, 794.4269409179688, 701.3799438476562, 608.3208618164062, 1937.4354248046875, 3438.695556640625, 994.5685424804688, 2758.252685546875, 1311.4603271484375, 677.8184204101562, 1229.69140625, 618.2376098632812, 842.3131713867188, 1047.498779296875, 1881.982421875, 930.3497924804688, 625.3452758789062, 761.7420043945312, 520.6130981445312, 618.6259765625, 3584.322265625, 2209.064453125, 1699.883544921875, 1207.3079833984375, 963.4617309570312, 959.9367065429688, 883.4884643554688, 879.5999145507812, 690.3525390625, 612.62060546875, 572.0274047851562, 510.4106140136719, 474.9604797363281, 464.13922119140625, 371.92340087890625, 371.57244873046875, 366.94781494140625, 357.21923828125, 354.2586975097656, 311.91796875, 301.547119140625, 298.152587890625, 291.8059387207031, 247.39703369140625, 243.58303833007812, 236.7935028076172, 234.82066345214844, 222.210693359375, 213.08029174804688, 208.65151977539062, 1015.2770385742188, 695.5982055664062, 1055.11669921875, 3387.58349609375, 2401.947998046875, 1212.8572998046875, 1211.393798828125, 910.002197265625, 2290.383056640625, 930.9678344726562, 439.3603210449219, 678.3512573242188, 713.456787109375, 611.17041015625, 659.6536865234375, 378.055419921875, 1639.800048828125, 1579.3106689453125, 1161.8076171875, 992.5449829101562, 803.7575073242188, 786.3544311523438, 777.5339965820312, 636.4964599609375, 534.3331909179688, 488.2123107910156, 406.8321838378906, 387.53857421875, 349.70513916015625, 342.92303466796875, 340.3356018066406, 332.9472351074219, 318.04217529296875, 314.9852294921875, 309.26171875, 308.0953674316406, 295.6948547363281, 294.7345886230469, 285.1217346191406, 267.53240966796875, 262.0655822753906, 260.1410217285156, 245.7836456298828, 241.23486328125, 507.5519104003906, 216.87835693359375, 2005.1429443359375, 974.4482421875, 1584.2225341796875, 600.213623046875, 752.2947387695312, 473.94744873046875, 705.4741821289062, 674.4622802734375, 1235.284912109375, 912.6057739257812, 1083.1802978515625, 1464.8575439453125, 517.6123657226562, 580.143310546875, 846.4722290039062, 900.8671875, 659.6765747070312, 610.27783203125, 565.9218139648438, 751.405029296875, 638.020751953125, 1788.2216796875, 1243.234619140625, 995.2427978515625, 908.341064453125, 880.259521484375, 872.0714721679688, 833.9146728515625, 789.3199462890625, 735.1221313476562, 621.3988037109375, 574.484619140625, 533.2431640625, 525.2030639648438, 504.406005859375, 494.8659973144531, 482.6793518066406, 462.858642578125, 459.8185119628906, 397.98748779296875, 393.57989501953125, 370.8525390625, 353.8541259765625, 351.6693115234375, 330.43212890625, 328.9749755859375, 302.3397216796875, 290.18658447265625, 287.7623291015625, 278.5819091796875, 278.5440368652344, 2386.723388671875, 533.656005859375, 700.1376342773438, 1354.946533203125, 486.1979064941406, 1821.8695068359375, 396.7123718261719, 1363.9500732421875, 889.1105346679688, 1377.2347412109375, 1006.173095703125, 564.3526611328125, 1017.7327880859375, 1060.8895263671875, 485.3044128417969, 1227.64599609375, 1122.1859130859375, 763.2062377929688, 759.3412475585938, 734.0923461914062, 705.3193359375, 555.0802612304688, 493.59039306640625, 487.7527160644531, 459.61865234375, 446.2073059082031, 408.0490417480469, 394.0565185546875, 378.8150939941406, 363.64910888671875, 352.2522888183594, 339.8310241699219, 306.25384521484375, 231.91014099121094, 230.6334686279297, 197.13356018066406, 191.0352020263672, 187.06541442871094, 161.41998291015625, 119.01121520996094, 115.08926391601562, 108.20976257324219, 107.68385314941406, 93.20552062988281, 90.06714630126953, 305.9160461425781, 304.1782531738281, 916.214599609375, 228.6010284423828, 1826.177001953125, 733.503173828125, 402.93890380859375, 2196.844970703125, 520.7861328125, 352.575439453125, 449.27642822265625, 564.7073364257812, 496.90618896484375, 574.5626220703125, 325.6037902832031, 319.87054443359375, 3429.00537109375, 1568.33203125, 772.1694946289062, 666.5088500976562, 572.2853393554688, 531.5580444335938, 501.2737731933594, 480.6656188964844, 384.6024475097656, 377.03466796875, 376.1763000488281, 364.1236572265625, 322.11541748046875, 281.7034912109375, 263.2298278808594, 256.5099182128906, 241.17515563964844, 231.21554565429688, 194.4031524658203, 173.5794219970703, 169.82650756835938, 166.05528259277344, 132.3147430419922, 121.0171127319336, 106.91051483154297, 103.23289489746094, 83.35550689697266, 72.5226058959961, 71.32422637939453, 63.115169525146484, 876.7979736328125, 1031.3160400390625, 561.2898559570312, 2448.9794921875, 338.6421203613281, 642.935302734375, 3157.306884765625, 343.5187683105469, 631.2545166015625, 575.6910400390625, 298.2867431640625, 287.9219970703125, 416.75341796875, 573.8661499023438, 456.6438903808594, 283.3423767089844, 312.22979736328125, 1060.4180908203125, 949.7208862304688, 842.15576171875, 666.2824096679688, 659.9470825195312, 653.7039184570312, 598.400390625, 524.9085693359375, 494.8801574707031, 477.2953186035156, 445.0694885253906, 397.1294250488281, 385.4677429199219, 363.192138671875, 361.0231628417969, 344.78839111328125, 337.01116943359375, 325.3944396972656, 321.5616760253906, 309.8709716796875, 230.5736083984375, 224.6409454345703, 217.18218994140625, 208.17547607421875, 195.6195068359375, 192.5796356201172, 189.99835205078125, 179.2278594970703, 173.86831665039062, 563.4785766601562, 419.35382080078125, 1080.0439453125, 558.4411010742188, 325.5300598144531, 370.0058898925781, 365.01953125, 742.0101928710938, 664.1234741210938, 289.6351318359375, 431.18109130859375, 366.9612731933594, 326.805419921875, 337.0096740722656, 1551.6715087890625, 1289.4810791015625, 1180.3375244140625, 1004.8699951171875, 667.6000366210938, 593.8740844726562, 487.0309143066406, 441.5472717285156, 401.4099426269531, 374.5177917480469, 366.8124084472656, 364.26275634765625, 346.6327209472656, 334.8628845214844, 304.9617614746094, 296.8824768066406, 280.44366455078125, 271.1046142578125, 249.24810791015625, 232.09852600097656, 226.96644592285156, 226.50650024414062, 216.09075927734375, 210.48974609375, 200.9812774658203, 194.23004150390625, 179.6433868408203, 170.9342498779297, 161.68919372558594, 140.0896759033203, 573.5133666992188, 525.4107666015625, 443.35174560546875, 540.1609497070312, 292.6159973144531, 410.6123046875, 491.3276062011719, 404.9839172363281, 487.04083251953125, 320.57073974609375, 356.5704345703125, 278.1259460449219, 2101.4404296875, 1527.4783935546875, 1448.1182861328125, 1148.3856201171875, 969.5885620117188, 696.15771484375, 570.7359008789062, 527.1779174804688, 498.0065002441406, 488.6559753417969, 425.80096435546875, 374.1378173828125, 340.5179748535156, 327.31982421875, 292.3525085449219, 266.74700927734375, 266.6694030761719, 239.34532165527344, 237.71170043945312, 194.33128356933594, 190.2945098876953, 172.85626220703125, 157.5917510986328, 143.88470458984375, 141.0133514404297, 140.35882568359375, 133.0795440673828, 120.91024780273438, 109.15715026855469, 105.3324966430664, 272.1370544433594, 754.7017822265625, 215.43939208984375, 429.1052551269531, 581.9535522460938, 280.922119140625, 286.9177551269531, 277.9248352050781, 277.0362243652344, 288.5869140625, 478.48797607421875, 423.5224304199219, 410.0679626464844, 400.8056335449219, 370.1303405761719, 332.72662353515625, 317.05908203125, 308.3939208984375, 283.4036865234375, 279.93719482421875, 275.573486328125, 238.88929748535156, 217.27015686035156, 215.84902954101562, 204.1761474609375, 187.40103149414062, 183.3728485107422, 175.4940185546875, 172.96717834472656, 151.64569091796875, 134.4776611328125, 128.60719299316406, 127.04476928710938, 124.23265838623047, 122.19000244140625, 119.85197448730469, 117.90221405029297, 115.25150299072266, 114.34210968017578, 110.3136978149414, 202.75076293945312, 1633.9136962890625, 263.717529296875, 519.417236328125, 307.0390319824219, 281.4405212402344, 148.10975646972656, 226.1022491455078, 184.10789489746094, 210.90269470214844, 197.33970642089844, 182.9456787109375, 829.0302124023438, 761.2510986328125, 744.5763549804688, 627.0374755859375, 547.837890625, 497.21832275390625, 426.7955627441406, 399.9600524902344, 298.88372802734375, 277.17401123046875, 248.67697143554688, 199.05555725097656, 185.5476837158203, 180.11343383789062, 175.7878875732422, 173.63052368164062, 166.02281188964844, 164.1402587890625, 158.41265869140625, 157.7154083251953, 150.32496643066406, 133.77972412109375, 133.73558044433594, 117.7542724609375, 562.7969970703125, 112.47750854492188, 111.07256317138672, 108.9428939819336, 107.10678100585938, 104.7029800415039, 206.48890686035156, 333.91949462890625, 404.4209289550781, 184.0998992919922, 153.4007110595703, 268.0331115722656, 570.0020751953125, 237.2658233642578, 240.43849182128906, 190.22250366210938, 1065.4815673828125, 636.1566772460938, 598.5992431640625, 591.5619506835938, 587.4520874023438, 575.9647827148438, 421.6466369628906, 162.78892517089844, 139.64588928222656, 135.84988403320312, 133.1041259765625, 132.1330108642578, 98.6844711303711, 82.88175201416016, 80.42048645019531, 75.01969909667969, 68.86872100830078, 63.14402770996094, 59.441246032714844, 44.32038497924805, 42.95261764526367, 38.46664047241211, 31.28335189819336, 31.121232986450195, 30.95892906188965, 25.164901733398438, 25.110349655151367, 1632.6500244140625, 22.157072067260742, 21.884122848510742, 728.9002075195312, 464.3656311035156, 519.5372924804688, 449.21929931640625, 810.3328247070312, 277.6399230957031, 99.08232879638672, 190.8605194091797, 149.35519409179688, 67.18016815185547, 1114.3363037109375, 758.9866333007812, 555.2244262695312, 546.5289306640625, 468.33160400390625, 463.5153503417969, 444.088623046875, 406.9808654785156, 269.5200500488281, 246.9405059814453, 196.44485473632812, 189.94277954101562, 159.1959686279297, 158.71006774902344, 132.51336669921875, 130.35435485839844, 125.46000671386719, 124.51675415039062, 122.01028442382812, 116.75452423095703, 112.81779479980469, 111.43516540527344, 110.5480728149414, 110.31725311279297, 108.999755859375, 106.84649658203125, 90.98878479003906, 81.87654876708984, 81.30536651611328, 80.6578598022461, 377.58465576171875, 267.8618469238281, 231.9081268310547, 167.94717407226562, 294.403076171875, 267.6322021484375, 172.59469604492188, 157.17466735839844, 143.90985107421875, 129.198974609375, 1397.703125, 1007.6547241210938, 715.0734252929688, 462.6681213378906, 447.5328369140625, 404.5748291015625, 392.0971374511719, 311.80511474609375, 310.99945068359375, 245.14952087402344, 213.35728454589844, 177.04544067382812, 174.9954071044922, 165.9278106689453, 148.5541534423828, 138.7906494140625, 135.8794403076172, 123.87320709228516, 118.0648422241211, 115.90196990966797, 106.75675964355469, 97.1865005493164, 96.00686645507812, 64.79552459716797, 61.593910217285156, 57.55240249633789, 45.08823013305664, 42.07894515991211, 36.44717025756836, 29.747730255126953, 288.3235778808594, 296.29595947265625, 231.2571563720703, 905.5548095703125, 376.391845703125, 202.73477172851562, 117.47804260253906, 114.75452423095703, 1050.1666259765625, 1039.66845703125, 667.25244140625, 447.552978515625, 304.1034240722656, 252.17315673828125, 230.0430908203125, 201.55885314941406, 169.02685546875, 164.40724182128906, 145.83941650390625, 141.93301391601562, 136.4007110595703, 128.23895263671875, 114.00289916992188, 104.21829986572266, 90.65890502929688, 79.7278823852539, 69.61140441894531, 58.706504821777344, 799.50146484375, 50.2439079284668, 49.38725280761719, 38.97693634033203, 36.03300857543945, 33.33998489379883, 31.722108840942383, 26.894126892089844, 20.573936462402344, 73.75680541992188, 556.3587036132812, 495.9539794921875, 37.941768646240234], \"Term\": [\"state\", \"percent\", \"tax\", \"job\", \"rate\", \"country\", \"trump\", \"united\", \"company\", \"would\", \"billion\", \"obama\", \"american\", \"wall\", \"plan\", \"going\", \"increase\", \"russia\", \"million\", \"trade\", \"people\", \"clinton\", \"market\", \"product\", \"cut\", \"crowd\", \"border\", \"vote\", \"bill\", \"campaign\", \"know\", \"long\", \"news\", \"way\", \"look\", \"thing\", \"medium\", \"getting\", \"done\", \"least\", \"part\", \"ago\", \"executive\", \"fake\", \"statement\", \"college\", \"every\", \"problem\", \"called\", \"approved\", \"coverage\", \"talking\", \"reason\", \"stop\", \"using\", \"added\", \"anything\", \"gone\", \"allowed\", \"tweet\", \"right\", \"take\", \"time\", \"people\", \"like\", \"said\", \"never\", \"http\", \"get\", \"nothing\", \"say\", \"trump\", \"great\", \"keep\", \"big\", \"credit\", \"many\", \"actually\", \"president\", \"one\", \"new\", \"lot\", \"back\", \"year\", \"claim\", \"made\", \"already\", \"number\", \"would\", \"two\", \"administration\", \"trillion\", \"work\", \"bad\", \"economic\", \"decade\", \"future\", \"middle\", \"elected\", \"investment\", \"top\", \"system\", \"price\", \"rest\", \"probably\", \"economist\", \"matter\", \"visa\", \"start\", \"let\", \"trend\", \"ship\", \"considered\", \"factor\", \"per\", \"review\", \"rise\", \"affected\", \"send\", \"understand\", \"saving\", \"united\", \"state\", \"worker\", \"going\", \"see\", \"seen\", \"world\", \"country\", \"deal\", \"nation\", \"better\", \"change\", \"mean\", \"effect\", \"also\", \"come\", \"put\", \"end\", \"estimate\", \"high\", \"ever\", \"u\", \"individual\", \"economy\", \"would\", \"trade\", \"created\", \"largest\", \"coal\", \"growth\", \"january\", \"energy\", \"hit\", \"stable\", \"oil\", \"enforcement\", \"annual\", \"release\", \"india\", \"comparison\", \"third\", \"counting\", \"tax\", \"quarter\", \"bls\", \"rather\", \"gas\", \"gain\", \"biggest\", \"instance\", \"rising\", \"increasing\", \"helped\", \"mining\", \"fell\", \"japan\", \"cut\", \"first\", \"expected\", \"half\", \"month\", \"regulation\", \"nearly\", \"gdp\", \"took\", \"since\", \"job\", \"office\", \"percent\", \"even\", \"data\", \"million\", \"history\", \"two\", \"would\", \"trump\", \"obama\", \"according\", \"year\", \"far\", \"president\", \"company\", \"product\", \"china\", \"deficit\", \"dollar\", \"plant\", \"thousand\", \"business\", \"pipeline\", \"hundred\", \"wrong\", \"tariff\", \"massive\", \"repeal\", \"lose\", \"paying\", \"steel\", \"currency\", \"revenue\", \"actual\", \"consumer\", \"stretch\", \"surplus\", \"pas\", \"turn\", \"earlier\", \"essentially\", \"additional\", \"lead\", \"position\", \"lost\", \"pay\", \"announced\", \"billion\", \"trade\", \"good\", \"money\", \"service\", \"million\", \"cost\", \"taking\", \"according\", \"country\", \"year\", \"trump\", \"american\", \"fbi\", \"immigration\", \"illegal\", \"overseas\", \"comey\", \"repeatedly\", \"director\", \"james\", \"began\", \"speech\", \"majority\", \"respect\", \"requested\", \"public\", \"daca\", \"afghanistan\", \"bring\", \"might\", \"love\", \"classified\", \"note\", \"interview\", \"fix\", \"maybe\", \"decrease\", \"include\", \"remained\", \"rhetoric\", \"others\", \"supreme\", \"democrat\", \"support\", \"republican\", \"former\", \"win\", \"legal\", \"immigrant\", \"court\", \"want\", \"security\", \"law\", \"border\", \"close\", \"need\", \"case\", \"budget\", \"congress\", \"war\", \"policy\", \"bill\", \"crime\", \"russian\", \"investigation\", \"email\", \"special\", \"criminal\", \"sanctuary\", \"collusion\", \"confidence\", \"looked\", \"standard\", \"phony\", \"adviser\", \"significant\", \"arrest\", \"various\", \"clearly\", \"justice\", \"ice\", \"published\", \"homicide\", \"counsel\", \"larger\", \"illegally\", \"wikileaks\", \"undocumented\", \"michael\", \"witch\", \"although\", \"murder\", \"hunt\", \"russia\", \"violent\", \"released\", \"information\", \"activity\", \"campaign\", \"authority\", \"crime\", \"found\", \"report\", \"evidence\", \"concluded\", \"election\", \"trump\", \"official\", \"national\", \"intelligence\", \"committee\", \"gross\", \"barack\", \"major\", \"reagan\", \"political\", \"dnc\", \"ronald\", \"action\", \"human\", \"involved\", \"highly\", \"assistance\", \"trafficking\", \"victory\", \"weapon\", \"speaking\", \"behind\", \"requires\", \"fed\", \"throughout\", \"relationship\", \"killing\", \"theory\", \"bit\", \"spoke\", \"france\", \"aide\", \"happen\", \"judge\", \"federal\", \"virginia\", \"clinton\", \"referring\", \"family\", \"obama\", \"working\", \"democratic\", \"record\", \"campaign\", \"administration\", \"trump\", \"including\", \"law\", \"rate\", \"unemployment\", \"decline\", \"lower\", \"car\", \"context\", \"low\", \"refugee\", \"current\", \"receiving\", \"promised\", \"hire\", \"employment\", \"free\", \"african\", \"significantly\", \"black\", \"reached\", \"declining\", \"grown\", \"fiscal\", \"population\", \"auto\", \"somebody\", \"sector\", \"older\", \"keeping\", \"deportation\", \"achieved\", \"fire\", \"statistic\", \"average\", \"labor\", \"american\", \"best\", \"level\", \"percent\", \"le\", \"record\", \"data\", \"benefit\", \"early\", \"history\", \"number\", \"since\", \"canada\", \"year\", \"foreign\", \"smaller\", \"highest\", \"area\", \"america\", \"meeting\", \"left\", \"chicago\", \"goal\", \"given\", \"previous\", \"presidential\", \"us\", \"leader\", \"estimated\", \"happening\", \"expand\", \"sanction\", \"bank\", \"comment\", \"course\", \"yesterday\", \"sound\", \"changed\", \"magazine\", \"international\", \"table\", \"crisis\", \"direct\", \"group\", \"gave\", \"decision\", \"always\", \"different\", \"possible\", \"share\", \"department\", \"iran\", \"whole\", \"high\", \"member\", \"community\", \"claim\", \"vote\", \"mexico\", \"obamacare\", \"figure\", \"order\", \"small\", \"received\", \"account\", \"relatively\", \"income\", \"suggests\", \"process\", \"five\", \"find\", \"john\", \"went\", \"net\", \"talk\", \"proposed\", \"firm\", \"continues\", \"noted\", \"enough\", \"modest\", \"nonpartisan\", \"expense\", \"separate\", \"voted\", \"single\", \"mccain\", \"among\", \"percentage\", \"nafta\", \"false\", \"happened\", \"open\", \"research\", \"impact\", \"congressional\", \"attack\", \"though\", \"overall\", \"wall\", \"crowd\", \"spending\", \"build\", \"spent\", \"building\", \"dead\", \"fund\", \"built\", \"moving\", \"none\", \"pentagon\", \"add\", \"included\", \"replacement\", \"restriction\", \"barrier\", \"beautiful\", \"california\", \"potential\", \"pour\", \"existing\", \"read\", \"mile\", \"except\", \"schumer\", \"prevent\", \"specific\", \"fencing\", \"funded\", \"funding\", \"border\", \"issue\", \"government\", \"billion\", \"congress\", \"money\", \"already\", \"bill\", \"trump\", \"lowest\", \"veteran\", \"issued\", \"step\", \"clear\", \"va\", \"historic\", \"recession\", \"negotiated\", \"initial\", \"pretty\", \"exaggeration\", \"accountability\", \"plane\", \"primary\", \"endorsed\", \"choice\", \"delivered\", \"equipment\", \"hispanic\", \"cash\", \"fast\", \"slowed\", \"iranian\", \"gun\", \"broke\", \"facing\", \"alien\", \"talked\", \"wait\", \"sometimes\", \"increase\", \"payment\", \"government\", \"official\", \"act\", \"protection\", \"day\", \"iran\", \"claim\", \"year\", \"million\", \"white\", \"defense\", \"city\", \"call\", \"reduction\", \"remain\", \"developed\", \"set\", \"key\", \"loss\", \"force\", \"gotten\", \"virtually\", \"limited\", \"rid\", \"isi\", \"fighting\", \"decreased\", \"fighter\", \"losing\", \"ordered\", \"exception\", \"phone\", \"opposed\", \"rule\", \"respond\", \"practice\", \"syrian\", \"basic\", \"subject\", \"syria\", \"held\", \"military\", \"likely\", \"dropped\", \"iraq\", \"obama\", \"attack\", \"general\", \"also\", \"care\", \"affordable\", \"senate\", \"health\", \"project\", \"domestic\", \"access\", \"strong\", \"protect\", \"backed\", \"condition\", \"gop\", \"amendment\", \"multiple\", \"becoming\", \"provide\", \"refused\", \"ally\", \"violence\", \"sense\", \"respected\", \"medicare\", \"fraction\", \"pull\", \"host\", \"patient\", \"therefore\", \"plan\", \"occasion\", \"concerned\", \"act\", \"congressional\", \"budget\", \"house\", \"would\", \"office\", \"likely\", \"cost\", \"according\", \"end\", \"drug\", \"nato\", \"bush\", \"especially\", \"example\", \"saved\", \"misleading\", \"travel\", \"nine\", \"asia\", \"spend\", \"exactly\", \"remark\", \"aid\", \"greatest\", \"kept\", \"winning\", \"europe\", \"showed\", \"medical\", \"mother\", \"governor\", \"toward\", \"fantasy\", \"seized\", \"picture\", \"gov\", \"hope\", \"incorrectly\", \"margin\", \"later\", \"george\", \"life\", \"early\", \"percent\", \"would\", \"referring\", \"much\", \"case\", \"result\", \"market\", \"stock\", \"manufacturing\", \"june\", \"certainly\", \"today\", \"remember\", \"pouring\", \"important\", \"book\", \"manufacturer\", \"confirmed\", \"run\", \"play\", \"thank\", \"category\", \"town\", \"seeing\", \"whose\", \"folk\", \"referred\", \"johnson\", \"alone\", \"grant\", \"sure\", \"trouble\", \"negotiating\", \"eisenhower\", \"employed\", \"lyndon\", \"measure\", \"coming\", \"help\", \"job\", \"bill\", \"ever\", \"back\", \"obama\", \"korea\", \"north\", \"south\", \"woman\", \"police\", \"needed\", \"hold\", \"kim\", \"progress\", \"covered\", \"final\", \"success\", \"missile\", \"society\", \"foundation\", \"chairman\", \"regime\", \"version\", \"opportunity\", \"watching\", \"signed\", \"requirement\", \"un\", \"violation\", \"mainly\", \"jong\", \"collection\", \"singapore\", \"widespread\", \"test\", \"nuclear\", \"bill\", \"president\"], \"Total\": [6169.0, 6211.0, 4719.0, 4640.0, 3430.0, 5336.0, 21274.0, 3945.0, 3585.0, 4490.0, 4035.0, 3925.0, 3273.0, 2102.0, 1739.0, 2873.0, 1753.0, 2585.0, 3799.0, 2927.0, 5262.0, 2249.0, 1399.0, 2210.0, 2312.0, 1528.0, 2224.0, 1553.0, 2115.0, 2387.0, 1953.340087890625, 1601.5521240234375, 1435.6492919921875, 1319.774658203125, 1095.89794921875, 1046.8084716796875, 950.7598876953125, 909.655517578125, 873.0917358398438, 864.81005859375, 849.6771240234375, 784.7437744140625, 769.2758178710938, 764.05029296875, 681.6114501953125, 601.798828125, 590.2584228515625, 549.45849609375, 546.9642944335938, 543.4478149414062, 527.3541870117188, 526.5089721679688, 513.195068359375, 501.3864440917969, 499.9010009765625, 461.1544189453125, 421.7549743652344, 414.0323791503906, 399.29815673828125, 395.4859313964844, 1150.3138427734375, 1616.8843994140625, 2989.613037109375, 5262.0166015625, 1844.5372314453125, 4056.087158203125, 1458.5032958984375, 1922.4315185546875, 1772.422607421875, 817.0443115234375, 2698.8818359375, 21274.939453125, 1686.0318603515625, 1092.420654296875, 1182.803466796875, 1315.6661376953125, 2885.14306640625, 1403.0380859375, 4075.862548828125, 3569.400634765625, 2448.535888671875, 1172.9998779296875, 2074.512451171875, 4169.5703125, 2623.663330078125, 1965.0389404296875, 1491.1533203125, 2756.23681640625, 4490.2216796875, 2187.049072265625, 2200.981689453125, 1470.4276123046875, 1372.3385009765625, 838.2818603515625, 742.60205078125, 676.3853759765625, 674.7866821289062, 587.4353637695312, 562.7719116210938, 554.2591552734375, 466.9372863769531, 412.8838806152344, 406.87249755859375, 360.3475036621094, 353.8060607910156, 347.275146484375, 337.8105163574219, 326.2660217285156, 317.95831298828125, 310.97900390625, 308.5457763671875, 300.9119873046875, 294.0169677734375, 278.16400146484375, 272.809814453125, 258.48486328125, 245.4052276611328, 240.4307098388672, 235.70376586914062, 232.3671875, 211.78085327148438, 3945.267578125, 6169.16748046875, 1170.1435546875, 2873.75732421875, 652.8161010742188, 644.391357421875, 1152.727783203125, 5336.3984375, 1670.187744140625, 802.2115478515625, 465.7961120605469, 386.83770751953125, 852.6370849609375, 473.7796325683594, 2127.551025390625, 864.6010131835938, 730.0252075195312, 553.5382690429688, 804.3238525390625, 1037.0478515625, 1065.588623046875, 673.5677490234375, 638.3388061523438, 1052.1798095703125, 4490.2216796875, 2927.8701171875, 772.8035888671875, 635.4379272460938, 614.4661865234375, 640.9993896484375, 491.684326171875, 477.1102294921875, 470.15643310546875, 378.09521484375, 365.7892150878906, 364.5223693847656, 339.00213623046875, 313.7003479003906, 305.0434875488281, 275.97430419921875, 260.8725891113281, 244.3013916015625, 4719.32275390625, 236.90370178222656, 232.3040313720703, 224.12339782714844, 219.03335571289062, 194.99658203125, 426.6430358886719, 175.68556213378906, 158.53089904785156, 148.42770385742188, 146.95570373535156, 140.65145874023438, 131.6043243408203, 125.95064544677734, 2312.61376953125, 1239.2540283203125, 475.069091796875, 466.8245849609375, 1398.7386474609375, 587.0354614257812, 894.8571166992188, 785.5531005859375, 676.742431640625, 2417.56494140625, 4640.30126953125, 1276.0029296875, 6211.34326171875, 2482.605712890625, 1270.6236572265625, 3799.015625, 1091.748779296875, 2187.049072265625, 4490.2216796875, 21274.939453125, 3925.392822265625, 1789.7020263671875, 4169.5703125, 922.1972045898438, 4075.862548828125, 3585.875732421875, 2210.617919921875, 1701.4371337890625, 1208.861572265625, 965.0150756835938, 961.4900512695312, 885.0418090820312, 881.1532592773438, 691.9058837890625, 614.1739501953125, 573.5807495117188, 511.9640808105469, 476.5139465332031, 465.69268798828125, 373.47686767578125, 373.12591552734375, 368.50128173828125, 358.772705078125, 355.8121643066406, 313.471435546875, 303.1005859375, 299.7060546875, 293.3594055175781, 248.95045471191406, 245.13645935058594, 238.346923828125, 236.37408447265625, 223.7641143798828, 214.6337127685547, 210.20494079589844, 1022.98779296875, 720.9534301757812, 1121.7174072265625, 4035.9541015625, 2927.8701171875, 1538.6962890625, 1562.7939453125, 1124.454345703125, 3799.015625, 1383.4727783203125, 598.890380859375, 1789.7020263671875, 5336.3984375, 4169.5703125, 21274.939453125, 3273.41748046875, 1641.336181640625, 1580.8468017578125, 1163.34375, 994.0809936523438, 805.2935180664062, 787.8904418945312, 779.0700073242188, 638.032470703125, 535.8692016601562, 489.7484130859375, 408.3682861328125, 389.0746765136719, 351.2412414550781, 344.4591369628906, 341.8717041015625, 334.48333740234375, 319.5782775878906, 316.5213317871094, 310.7978210449219, 309.6314697265625, 297.23095703125, 296.27069091796875, 286.6578369140625, 269.0685119628906, 263.6016845703125, 261.6771240234375, 247.3197021484375, 242.7709197998047, 510.8594665527344, 218.41441345214844, 2024.7218017578125, 981.5181274414062, 1615.347900390625, 610.212890625, 781.7509765625, 487.7214050292969, 750.1400756835938, 715.4186401367188, 1454.22900390625, 1054.2744140625, 1516.2576904296875, 2224.87841796875, 597.12255859375, 731.8308715820312, 1296.0989990234375, 1421.8751220703125, 943.4165649414062, 976.0567016601562, 871.1878051757812, 2115.1279296875, 2003.3450927734375, 1789.7061767578125, 1244.7191162109375, 996.7271118164062, 909.8253784179688, 881.7438354492188, 873.5557861328125, 835.3989868164062, 790.8042602539062, 736.6064453125, 622.8831176757812, 575.9689331054688, 534.7274780273438, 526.6873779296875, 505.890380859375, 496.3503723144531, 484.1637268066406, 464.343017578125, 461.3028869628906, 399.47186279296875, 395.06427001953125, 372.3369140625, 355.3385009765625, 353.1536865234375, 331.91650390625, 330.4593505859375, 303.8240966796875, 291.67095947265625, 289.2467041015625, 280.0662841796875, 280.0284118652344, 2585.016845703125, 547.7955932617188, 739.4379272460938, 1582.42236328125, 516.9164428710938, 2387.97314453125, 412.9779968261719, 2003.3450927734375, 1187.0364990234375, 2257.30859375, 1748.700927734375, 733.2513427734375, 2096.805419921875, 21274.939453125, 1256.5562744140625, 1229.2042236328125, 1123.744140625, 764.7643432617188, 760.8993530273438, 735.6504516601562, 706.87744140625, 556.6383666992188, 495.1485595703125, 489.3108825683594, 461.17681884765625, 447.7654724121094, 409.6072082519531, 395.61468505859375, 380.3732604980469, 365.207275390625, 353.8104553222656, 341.3891906738281, 307.81201171875, 233.46829223632812, 232.19161987304688, 198.69171142578125, 192.59335327148438, 188.62356567382812, 162.97813415527344, 120.56937408447266, 116.64742279052734, 109.7679214477539, 109.24201202392578, 94.76367950439453, 91.62530517578125, 314.2745056152344, 319.6112365722656, 1002.237060546875, 238.8931427001953, 2249.183837890625, 907.5617065429688, 467.0882263183594, 3925.392822265625, 680.7515258789062, 480.0225524902344, 1081.9920654296875, 2387.97314453125, 2200.981689453125, 21274.939453125, 1111.0146484375, 1516.2576904296875, 3430.554443359375, 1569.8812255859375, 773.7185668945312, 668.0579223632812, 573.8344116210938, 533.1071166992188, 502.8229064941406, 482.2147521972656, 386.1515808105469, 378.58380126953125, 377.7254333496094, 365.67279052734375, 323.66455078125, 283.25262451171875, 264.7789611816406, 258.0590515136719, 242.72425842285156, 232.7646484375, 195.95225524902344, 175.12852478027344, 171.3756103515625, 167.60438537597656, 133.8638458251953, 122.56622314453125, 108.45962524414062, 104.7820053100586, 84.90461730957031, 74.07171630859375, 72.87333679199219, 64.6642837524414, 924.48974609375, 1114.226318359375, 658.4662475585938, 3273.41748046875, 399.3531494140625, 901.2556762695312, 6211.34326171875, 439.65447998046875, 1081.9920654296875, 1270.6236572265625, 459.6640319824219, 457.32403564453125, 1091.748779296875, 2756.23681640625, 2417.56494140625, 466.8064270019531, 4169.5703125, 1061.978271484375, 951.2811279296875, 843.7160034179688, 667.8426513671875, 661.50732421875, 655.26416015625, 599.9606323242188, 526.4688110351562, 496.4403991699219, 478.8555603027344, 446.6297302246094, 398.6896667480469, 387.0279846191406, 364.75238037109375, 362.5834045410156, 346.3486328125, 338.5714111328125, 326.9546813964844, 323.1219177246094, 311.43121337890625, 232.1338348388672, 226.201171875, 218.74241638183594, 209.73570251464844, 197.17974853515625, 194.13986206054688, 191.55857849121094, 180.7880859375, 175.4285430908203, 568.5577392578125, 423.8346862792969, 1125.1990966796875, 580.1901245117188, 338.9211120605469, 393.9271545410156, 390.81414794921875, 908.8953857421875, 849.6845092773438, 370.2857360839844, 1037.0478515625, 1107.048583984375, 511.2870788574219, 2623.663330078125, 1553.2454833984375, 1291.0550537109375, 1181.9114990234375, 1006.4439697265625, 669.1740112304688, 595.4480590820312, 488.6048889160156, 443.1212463378906, 402.9839172363281, 376.0917663574219, 368.3863830566406, 365.83673095703125, 348.2066955566406, 336.4368591308594, 306.5357360839844, 298.4564514160156, 282.01763916015625, 272.6785888671875, 250.82208251953125, 233.67250061035156, 228.54042053222656, 228.08047485351562, 217.66473388671875, 212.063720703125, 202.5552520751953, 195.80401611328125, 181.2173614501953, 172.5082244873047, 163.26316833496094, 141.6636505126953, 589.06982421875, 539.8792724609375, 475.19329833984375, 619.734375, 346.8990173339844, 644.9371337890625, 908.3958129882812, 670.6251220703125, 952.9150390625, 559.3281860351562, 1014.7391357421875, 497.8871765136719, 2102.951904296875, 1528.9898681640625, 1449.6297607421875, 1149.8970947265625, 971.10009765625, 697.6692504882812, 572.2474365234375, 528.689453125, 499.51800537109375, 490.16748046875, 427.3124694824219, 375.6493225097656, 342.02947998046875, 328.8313293457031, 293.864013671875, 268.2585144042969, 268.180908203125, 240.85684204101562, 239.2232208251953, 195.84280395507812, 191.8060302734375, 174.36778259277344, 159.103271484375, 145.39622497558594, 142.52487182617188, 141.87034606933594, 134.591064453125, 122.42176055908203, 110.66866302490234, 106.84400939941406, 314.1081237792969, 2224.87841796875, 356.6925048828125, 1635.8023681640625, 4035.9541015625, 943.4165649414062, 1562.7939453125, 1491.1533203125, 2115.1279296875, 21274.939453125, 480.027099609375, 425.0615539550781, 411.6070861816406, 402.3447570800781, 371.6694641113281, 334.2657470703125, 318.59820556640625, 309.93304443359375, 284.94281005859375, 281.476318359375, 277.11260986328125, 240.42840576171875, 218.80926513671875, 217.3881378173828, 205.7152557373047, 188.9401397705078, 184.91195678710938, 177.0331268310547, 174.50628662109375, 153.18479919433594, 136.0167694091797, 130.14630126953125, 128.58387756347656, 125.77176666259766, 123.72911071777344, 121.39108276367188, 119.44132232666016, 116.79061126708984, 115.88121795654297, 111.8528060913086, 206.70257568359375, 1753.173095703125, 272.4231262207031, 1635.8023681640625, 1256.5562744140625, 1011.814453125, 225.9339599609375, 1678.5203857421875, 849.6845092773438, 2623.663330078125, 4169.5703125, 3799.015625, 830.5941162109375, 762.8150024414062, 746.1402587890625, 628.6013793945312, 549.4017944335938, 498.7822570800781, 428.3594970703125, 401.52398681640625, 300.4476623535156, 278.7379455566406, 250.24090576171875, 200.61949157714844, 187.1116180419922, 181.6773681640625, 177.35182189941406, 175.1944580078125, 167.5867462158203, 165.70419311523438, 159.97659301757812, 159.2793426513672, 151.88890075683594, 135.34365844726562, 135.2995147705078, 119.31819915771484, 570.6137084960938, 114.04143524169922, 112.63648986816406, 110.50682067871094, 108.67070770263672, 106.26690673828125, 210.2008514404297, 535.79345703125, 981.0094604492188, 284.6808166503906, 206.3971710205078, 629.1972045898438, 3925.392822265625, 559.3281860351562, 788.8858642578125, 2127.551025390625, 1067.0623779296875, 637.737548828125, 600.1801147460938, 593.142822265625, 589.032958984375, 577.545654296875, 423.2275085449219, 164.3697967529297, 141.2267608642578, 137.43075561523438, 134.68499755859375, 133.71388244628906, 100.26535034179688, 84.46263122558594, 82.0013656616211, 76.60057830810547, 70.44960021972656, 64.72490692138672, 61.02212905883789, 45.901268005371094, 44.53350067138672, 40.047523498535156, 32.864234924316406, 32.70211410522461, 32.53981018066406, 26.745779037475586, 26.69122886657715, 1739.511474609375, 23.737951278686523, 23.46500015258789, 1011.814453125, 952.9150390625, 1421.8751220703125, 1325.4718017578125, 4490.2216796875, 1276.0029296875, 284.6808166503906, 1383.4727783203125, 1789.7020263671875, 553.5382690429688, 1115.8883056640625, 760.53857421875, 556.7763671875, 548.0808715820312, 469.8835754394531, 465.06732177734375, 445.6405944824219, 408.5328369140625, 271.072021484375, 248.4924774169922, 197.996826171875, 191.4947509765625, 160.74794006347656, 160.2620391845703, 134.06533813476562, 131.9063262939453, 127.01197052001953, 126.06871795654297, 123.56224822998047, 118.30648803710938, 114.36975860595703, 112.98712921142578, 112.10003662109375, 111.86921691894531, 110.55172729492188, 108.3984603881836, 92.5407485961914, 83.42851257324219, 82.85733032226562, 82.20982360839844, 518.3333740234375, 454.2052001953125, 431.8450927734375, 457.32403564453125, 6211.34326171875, 4490.2216796875, 907.5617065429688, 1345.0390625, 1296.0989990234375, 475.1769104003906, 1399.255859375, 1009.2073974609375, 716.6260986328125, 464.2208557128906, 449.0855712890625, 406.1275634765625, 393.6498718261719, 313.35784912109375, 312.55218505859375, 246.70223999023438, 214.91000366210938, 178.59815979003906, 176.54812622070312, 167.48052978515625, 150.10687255859375, 140.34336853027344, 137.43215942382812, 125.4259262084961, 119.61756134033203, 117.4546890258789, 108.30947875976562, 98.73921966552734, 97.55958557128906, 66.3482437133789, 63.146629333496094, 59.10512161254883, 46.64094924926758, 43.63166427612305, 37.9998893737793, 31.30044937133789, 437.56658935546875, 816.115966796875, 571.0230712890625, 4640.30126953125, 2115.1279296875, 1065.588623046875, 2074.512451171875, 3925.392822265625, 1051.699951171875, 1041.2017822265625, 668.7858276367188, 449.0863342285156, 305.63677978515625, 253.70651245117188, 231.57644653320312, 203.0922088623047, 170.56021118164062, 165.9405975341797, 147.37277221679688, 143.46636962890625, 137.93406677246094, 129.77230834960938, 115.5362548828125, 105.75165557861328, 92.1922607421875, 81.26123809814453, 71.14476013183594, 60.239864349365234, 822.7478637695312, 51.77726745605469, 50.92061233520508, 40.51029586791992, 37.566368103027344, 34.87334442138672, 33.25546646118164, 28.427486419677734, 22.107295989990234, 79.41480255126953, 737.4494018554688, 2115.1279296875, 4075.862548828125], \"loglift\": [30.0, 29.0, 28.0, 27.0, 26.0, 25.0, 24.0, 23.0, 22.0, 21.0, 20.0, 19.0, 18.0, 17.0, 16.0, 15.0, 14.0, 13.0, 12.0, 11.0, 10.0, 9.0, 8.0, 7.0, 6.0, 5.0, 4.0, 3.0, 2.0, 1.0, 1.499500036239624, 1.499400019645691, 1.4991999864578247, 1.4991999864578247, 1.498900055885315, 1.4988000392913818, 1.4987000226974487, 1.4986000061035156, 1.4984999895095825, 1.4984999895095825, 1.4984999895095825, 1.4982999563217163, 1.4982999563217163, 1.4982999563217163, 1.4980000257492065, 1.4976999759674072, 1.4976999759674072, 1.497499942779541, 1.497499942779541, 1.497499942779541, 1.4974000453948975, 1.4974000453948975, 1.4973000288009644, 1.4972000122070312, 1.4972000122070312, 1.496999979019165, 1.4966000318527222, 1.4966000318527222, 1.496399998664856, 1.496399998664856, 1.4945000410079956, 1.4754999876022339, 1.4501999616622925, 1.432800054550171, 1.4608999490737915, 1.4285999536514282, 1.4607000350952148, 1.436400055885315, 1.4316999912261963, 1.4723000526428223, 1.3952000141143799, 1.2252999544143677, 1.414199948310852, 1.4464999437332153, 1.4333000183105469, 1.416100025177002, 1.3047000169754028, 1.402400016784668, 1.2267999649047852, 1.2395999431610107, 1.301300048828125, 1.4241000413894653, 1.2727999687194824, 0.8634999990463257, 1.0520000457763672, 1.1582000255584717, 1.2928999662399292, 0.9452000260353088, 0.4584999978542328, 0.9045000076293945, 0.8544999957084656, 2.3060998916625977, 2.305999994277954, 2.305299997329712, 2.3050999641418457, 2.3048999309539795, 2.304800033569336, 2.304500102996826, 2.3043999671936035, 2.30430006980896, 2.303800106048584, 2.3034000396728516, 2.303299903869629, 2.302799940109253, 2.3027000427246094, 2.3027000427246094, 2.302500009536743, 2.3024001121520996, 2.3022000789642334, 2.3020999431610107, 2.3020999431610107, 2.302000045776367, 2.301800012588501, 2.301500082015991, 2.3013999462127686, 2.301100015640259, 2.300800085067749, 2.300600051879883, 2.30049991607666, 2.3004000186920166, 2.299799919128418, 2.2950000762939453, 2.281899929046631, 2.298099994659424, 2.2852001190185547, 2.290299892425537, 2.2799999713897705, 2.240499973297119, 2.1591999530792236, 2.216399908065796, 2.218899965286255, 2.2293999195098877, 2.2611000537872314, 2.1029999256134033, 2.214400053024292, 1.7273000478744507, 1.9925999641418457, 2.027100086212158, 2.130000114440918, 1.9799000024795532, 1.767300009727478, 1.7352999448776245, 2.004499912261963, 2.0253000259399414, 1.5973000526428223, 0.19269999861717224, 0.5874999761581421, 2.4435999393463135, 2.44320011138916, 2.4430999755859375, 2.443000078201294, 2.4423999786376953, 2.4423000812530518, 2.4423000812530518, 2.441499948501587, 2.4412999153137207, 2.4412999153137207, 2.440999984741211, 2.4405999183654785, 2.440500020980835, 2.4398999214172363, 2.4395999908447266, 2.439199924468994, 2.439199924468994, 2.438999891281128, 2.4388999938964844, 2.4386000633239746, 2.4384000301361084, 2.4375998973846436, 2.4374001026153564, 2.4367001056671143, 2.435699939727783, 2.434999942779541, 2.4349000453948975, 2.4344000816345215, 2.4335999488830566, 2.4330999851226807, 2.428999900817871, 2.4293999671936035, 2.432300090789795, 2.4286000728607178, 2.3666999340057373, 2.3873000144958496, 2.3266000747680664, 2.3322999477386475, 2.339099884033203, 2.224299907684326, 2.1459999084472656, 2.196500062942505, 1.6339000463485718, 1.8075000047683716, 1.8172999620437622, 1.3177000284194946, 1.8769999742507935, 1.4915000200271606, 0.9901999831199646, 0.020400000736117363, 1.00600004196167, 1.3940999507904053, 0.7457000017166138, 1.873900055885315, 0.5602999925613403, 2.4458000659942627, 2.445499897003174, 2.4453001022338867, 2.4449000358581543, 2.4446001052856445, 2.4446001052856445, 2.4444000720977783, 2.4444000720977783, 2.4439001083374023, 2.443700075149536, 2.44350004196167, 2.44320011138916, 2.4428999423980713, 2.4428000450134277, 2.441999912261963, 2.441999912261963, 2.441999912261963, 2.4419000148773193, 2.441800117492676, 2.441200017929077, 2.4410998821258545, 2.440999984741211, 2.4409000873565674, 2.4398999214172363, 2.4398000240325928, 2.43969988822937, 2.4395999908447266, 2.439199924468994, 2.4388999938964844, 2.438800096511841, 2.4386000633239746, 2.410399913787842, 2.384999990463257, 2.2711000442504883, 2.248199939727783, 2.208199977874756, 2.191499948501587, 2.234600067138672, 1.9401999711990356, 2.050100088119507, 2.136399984359741, 1.476099967956543, 0.4339999854564667, 0.5260000228881836, -1.027400016784668, 0.28760001063346863, 2.5127999782562256, 2.5127999782562256, 2.512399911880493, 2.512200117111206, 2.5118000507354736, 2.5118000507354736, 2.5118000507354736, 2.5113000869750977, 2.5109000205993652, 2.5106000900268555, 2.509999990463257, 2.5097999572753906, 2.509399890899658, 2.5092999935150146, 2.5092999935150146, 2.509200096130371, 2.5088999271392822, 2.5088999271392822, 2.5088000297546387, 2.5088000297546387, 2.5085999965667725, 2.5085999965667725, 2.5083999633789062, 2.507999897003174, 2.5078999996185303, 2.5078999996185303, 2.507499933242798, 2.5074000358581543, 2.5072999000549316, 2.506700038909912, 2.503999948501587, 2.506500005722046, 2.49429988861084, 2.4972000122070312, 2.4753000736236572, 2.485100030899048, 2.452399969100952, 2.4547998905181885, 2.350600004196167, 2.369499921798706, 2.1774001121520996, 2.0957999229431152, 2.3708999156951904, 2.2815001010894775, 2.0876998901367188, 2.0573999881744385, 2.1559998989105225, 2.0441999435424805, 2.08240008354187, 1.4788000583648682, 1.3696000576019287, 2.571000099182129, 2.57069993019104, 2.5703999996185303, 2.570199966430664, 2.570199966430664, 2.570199966430664, 2.5701000690460205, 2.569999933242798, 2.5697999000549316, 2.569499969482422, 2.5692999362945557, 2.5690999031066895, 2.569000005722046, 2.5689001083374023, 2.5689001083374023, 2.5687999725341797, 2.568700075149536, 2.5685999393463135, 2.5680999755859375, 2.5680999755859375, 2.5678999423980713, 2.567699909210205, 2.5676000118255615, 2.5673999786376953, 2.5673999786376953, 2.566999912261963, 2.566800117492676, 2.566699981689453, 2.566499948501587, 2.566499948501587, 2.492000102996826, 2.5457000732421875, 2.517199993133545, 2.4166998863220215, 2.5106000900268555, 2.301300048828125, 2.5316998958587646, 2.1874001026153564, 2.282900094985962, 2.0778000354766846, 2.0190999507904053, 2.309999942779541, 1.8489999771118164, -0.42660000920295715, 1.6204999685287476, 2.987799882888794, 2.9876999855041504, 2.986999988555908, 2.986999988555908, 2.986999988555908, 2.9869000911712646, 2.986299991607666, 2.9858999252319336, 2.9858999252319336, 2.9856998920440674, 2.985599994659424, 2.985300064086914, 2.985100030899048, 2.984999895095825, 2.984800100326538, 2.9846999645233154, 2.984499931335449, 2.9839999675750732, 2.9823999404907227, 2.982300043106079, 2.9811999797821045, 2.9809999465942383, 2.980799913406372, 2.9795000553131104, 2.976099967956543, 2.975600004196167, 2.9748001098632812, 2.9746999740600586, 2.9725000858306885, 2.97189998626709, 2.962100028991699, 2.9395999908447266, 2.8993000984191895, 2.944999933242798, 2.7806999683380127, 2.776099920272827, 2.8413000106811523, 2.408600091934204, 2.7211999893188477, 2.680500030517578, 2.1101999282836914, 1.5471999645233154, 1.5008000135421753, -0.6226000189781189, 1.7617000341415405, 1.4329999685287476, 2.9944000244140625, 2.993799924850464, 2.992799997329712, 2.992500066757202, 2.9921000003814697, 2.9918999671936035, 2.9916999340057373, 2.9916000366210938, 2.990799903869629, 2.9907000064849854, 2.9907000064849854, 2.990600109100342, 2.990000009536743, 2.989300012588501, 2.9888999462127686, 2.988800048828125, 2.9883999824523926, 2.988100051879883, 2.9869000911712646, 2.9858999252319336, 2.9856998920440674, 2.9855000972747803, 2.9832000732421875, 2.982100009918213, 2.9804000854492188, 2.9798998832702637, 2.9763998985290527, 2.9737000465393066, 2.973299980163574, 2.970599889755249, 2.9419000148773193, 2.9175000190734863, 2.835099935531616, 2.704699993133545, 2.829900026321411, 2.657099962234497, 2.31820011138916, 2.7481000423431396, 2.4560000896453857, 2.2030999660491943, 2.5624001026153564, 2.532099962234497, 2.0318000316619873, 1.4256000518798828, 1.3281999826431274, 2.4955999851226807, 0.40299999713897705, 3.1038999557495117, 3.1036999225616455, 3.1034998893737793, 3.1029999256134033, 3.1029999256134033, 3.1029999256134033, 3.102799892425537, 3.102400064468384, 3.1022000312805176, 3.102099895477295, 3.101900100708008, 3.1015000343322754, 3.101300001144409, 3.101099967956543, 3.101099967956543, 3.1008999347686768, 3.100800037384033, 3.100600004196167, 3.1005001068115234, 3.100399971008301, 3.098599910736084, 3.0985000133514404, 3.0982000827789307, 3.097899913787842, 3.097399950027466, 3.0973000526428223, 3.0971999168395996, 3.0966999530792236, 3.096400022506714, 3.096400022506714, 3.0947999954223633, 3.0643999576568604, 3.067199945449829, 3.0650999546051025, 3.0427000522613525, 3.037100076675415, 2.9024999141693115, 2.8589999675750732, 2.8596999645233154, 2.227799892425537, 2.001199960708618, 2.6577999591827393, 1.0532000064849854, 3.227099895477295, 3.226900100708008, 3.226799964904785, 3.2265000343322754, 3.2256999015808105, 3.225399971008301, 3.224900007247925, 3.2244999408721924, 3.2242000102996826, 3.223900079727173, 3.22379994392395, 3.22379994392395, 3.223599910736084, 3.223400115966797, 3.222899913787842, 3.2228000164031982, 3.2225000858306885, 3.2223000526428223, 3.2218000888824463, 3.221299886703491, 3.2211999893188477, 3.2211999893188477, 3.2207999229431152, 3.220599889755249, 3.2202999591827393, 3.2200000286102295, 3.219399929046631, 3.218899965286255, 3.218400001525879, 3.216900110244751, 3.2012999057769775, 3.200900077819824, 3.1586999893188477, 3.0906999111175537, 3.0578999519348145, 2.776599884033203, 2.6135001182556152, 2.7237000465393066, 2.5569000244140625, 2.6714999675750732, 2.1821999549865723, 2.6458001136779785, 3.343899965286255, 3.343600034713745, 3.343600034713745, 3.3433001041412354, 3.343100070953369, 3.3424999713897705, 3.3420000076293945, 3.3417999744415283, 3.341599941253662, 3.3415000438690186, 3.341099977493286, 3.34060001373291, 3.3401999473571777, 3.3399999141693115, 3.3394999504089355, 3.3389999866485596, 3.3389999866485596, 3.3382999897003174, 3.3382999897003174, 3.336899995803833, 3.336699962615967, 3.335900068283081, 3.335099935531616, 3.334199905395508, 3.3340001106262207, 3.333899974822998, 3.3333001136779785, 3.332200050354004, 3.330899953842163, 3.330399990081787, 3.201200008392334, 2.2634999752044678, 2.840399980545044, 2.0064001083374023, 1.4079999923706055, 2.13319993019104, 1.6496000289916992, 1.6647000312805176, 1.311900019645691, -0.9556999802589417, 3.591399908065796, 3.5910000801086426, 3.59089994430542, 3.5908000469207764, 3.5905001163482666, 3.5899999141693115, 3.5897998809814453, 3.5896999835968018, 3.589200019836426, 3.589200019836426, 3.589099884033203, 3.588200092315674, 3.587599992752075, 3.5875000953674316, 3.587100028991699, 3.5864999294281006, 3.5862998962402344, 3.585900068283081, 3.5857999324798584, 3.5845000743865967, 3.5833001136779785, 3.58270001411438, 3.5826001167297363, 3.5822999477386475, 3.5820999145507812, 3.581899881362915, 3.581700086593628, 3.581399917602539, 3.5813000202178955, 3.5808000564575195, 3.5752999782562256, 3.524199962615967, 3.5622000694274902, 2.447499990463257, 2.185499906539917, 2.3150999546051025, 3.1723999977111816, 1.590000033378601, 2.0652999877929688, 1.073699951171875, 0.5440000295639038, 0.5612999796867371, 3.7286999225616455, 3.7284998893737793, 3.7283999919891357, 3.728100061416626, 3.7276999950408936, 3.727400064468384, 3.726900100708008, 3.726599931716919, 3.7253000736236572, 3.724900007247925, 3.724299907684326, 3.7227001190185547, 3.722100019454956, 3.72189998626709, 3.7216999530792236, 3.72160005569458, 3.7211999893188477, 3.721100091934204, 3.7207000255584717, 3.7207000255584717, 3.7202000617980957, 3.718899965286255, 3.718899965286255, 3.7172999382019043, 3.7167000770568848, 3.7167000770568848, 3.716599941253662, 3.7163000106811523, 3.7160000801086426, 3.7156999111175537, 3.7126998901367188, 3.257699966430664, 2.844399929046631, 3.2946999073028564, 3.433799982070923, 2.87719988822937, 1.8009999990463257, 2.872999906539917, 2.5423998832702637, 1.315999984741211, 3.895400047302246, 3.894399881362915, 3.894200086593628, 3.894200086593628, 3.894200086593628, 3.8940999507904053, 3.8931000232696533, 3.887200117111206, 3.8856000900268555, 3.8852999210357666, 3.8850998878479004, 3.884999990463257, 3.88100004196167, 3.878000020980835, 3.8773999214172363, 3.875999927520752, 3.8742001056671143, 3.8721001148223877, 3.8705999851226807, 3.861799955368042, 3.8606998920440674, 3.856600046157837, 3.847599983215332, 3.8473000526428223, 3.847100019454956, 3.835900068283081, 3.8357999324798584, 3.8334999084472656, 3.828000068664551, 3.8271000385284424, 3.5689001083374023, 3.177999973297119, 2.8901000022888184, 2.8148999214172363, 2.1847000122070312, 2.3717000484466553, 2.8415000438690186, 1.916100025177002, 1.4134000539779663, 1.7878999710083008, 3.9068000316619873, 3.906100034713745, 3.905400037765503, 3.905400037765503, 3.904900074005127, 3.9047999382019043, 3.9047000408172607, 3.904400110244751, 3.902400016784668, 3.901900053024292, 3.9003000259399414, 3.900099992752075, 3.8984999656677246, 3.8984999656677246, 3.8965001106262207, 3.896399974822998, 3.895900011062622, 3.8958001136779785, 3.8954999446868896, 3.8949999809265137, 3.8945000171661377, 3.894399881362915, 3.894200086593628, 3.894200086593628, 3.8940999507904053, 3.8938000202178955, 3.8912999629974365, 3.889400005340576, 3.8893001079559326, 3.8891000747680664, 3.591399908065796, 3.3801000118255615, 3.2864999771118164, 2.906399965286255, 0.859000027179718, 1.0880999565124512, 2.2483999729156494, 1.7613999843597412, 1.7102999687194824, 2.6059000492095947, 3.928100109100342, 3.9275999069213867, 3.927000045776367, 3.925800085067749, 3.9256999492645264, 3.9254000186920166, 3.9251999855041504, 3.9242000579833984, 3.9242000579833984, 3.9228999614715576, 3.9219000339508057, 3.9205000400543213, 3.9203999042510986, 3.9198999404907227, 3.918800115585327, 3.918100118637085, 3.917799949645996, 3.9166998863220215, 3.916100025177002, 3.9158999919891357, 3.9147000312805176, 3.913300037384033, 3.913100004196167, 3.9054999351501465, 3.9042999744415283, 3.902600049972534, 3.8952999114990234, 3.892899990081787, 3.887500047683716, 3.8782999515533447, 3.51200008392334, 2.9159998893737793, 3.0253000259399414, 2.2952001094818115, 2.202899932861328, 2.2697999477386475, 1.0579999685287476, 0.3968000113964081, 4.187300205230713, 4.18720006942749, 4.186399936676025, 4.185299873352051, 4.183700084686279, 4.182600021362305, 4.18209981918335, 4.181099891662598, 4.179699897766113, 4.1793999671936035, 4.178299903869629, 4.177999973297119, 4.177499771118164, 4.176799774169922, 4.175300121307373, 4.174099922180176, 4.171899795532227, 4.1697001457214355, 4.166900157928467, 4.162899971008301, 4.159999847412109, 4.158599853515625, 4.158100128173828, 4.150100231170654, 4.146999835968018, 4.143700122833252, 4.141499996185303, 4.133299827575684, 4.116799831390381, 4.114799976348877, 3.906899929046631, 2.738300085067749, -0.48809999227523804], \"logprob\": [30.0, 29.0, 28.0, 27.0, 26.0, 25.0, 24.0, 23.0, 22.0, 21.0, 20.0, 19.0, 18.0, 17.0, 16.0, 15.0, 14.0, 13.0, 12.0, 11.0, 10.0, 9.0, 8.0, 7.0, 6.0, 5.0, 4.0, 3.0, 2.0, 1.0, -4.257800102233887, -4.456500053405762, -4.565999984741211, -4.650300025939941, -4.836400032043457, -4.882299900054932, -4.978700160980225, -5.0229997634887695, -5.064000129699707, -5.073599815368652, -5.091300010681152, -5.170899868011475, -5.190899848937988, -5.197700023651123, -5.312099933624268, -5.436999797821045, -5.456399917602539, -5.528200149536133, -5.532800197601318, -5.5391998291015625, -5.569399833679199, -5.571000099182129, -5.596700191497803, -5.619999885559082, -5.623000144958496, -5.703999996185303, -5.793600082397461, -5.812099933624268, -5.848499774932861, -5.858099937438965, -4.792399883270264, -4.470799922943115, -3.8815999031066895, -3.3336000442504883, -4.353799819946289, -3.598099946975708, -4.588699817657471, -4.336900234222412, -4.422900199890137, -5.156599998474121, -4.038899898529053, -2.1440000534057617, -4.490300178527832, -4.892000198364258, -4.825699806213379, -4.736400127410889, -4.062600135803223, -4.685800075531006, -3.7950000762939453, -3.914900064468384, -4.230100154876709, -4.843299865722656, -4.424300193786621, -4.1356000900268555, -4.410299777984619, -4.593200206756592, -4.734399795532227, -4.467899799346924, -4.4664998054504395, -4.739799976348877, -4.7835001945495605, -3.7351999282836914, -3.80430006980896, -4.297999858856201, -4.419400215148926, -4.513000011444092, -4.515399932861328, -4.654399871826172, -4.697400093078613, -4.712699890136719, -4.8846001625061035, -5.0081000328063965, -5.022799968719482, -5.144700050354004, -5.163099765777588, -5.1819000244140625, -5.20959997177124, -5.24459981918335, -5.270500183105469, -5.292799949645996, -5.3007001876831055, -5.325900077819824, -5.3491997718811035, -5.404900074005127, -5.4243998527526855, -5.478700160980225, -5.530900001525879, -5.551599979400635, -5.571499824523926, -5.585899829864502, -5.679299831390381, -2.7592999935150146, -2.3254001140594482, -3.97160005569458, -3.0859999656677246, -4.5630998611450195, -4.586400032043457, -4.0441999435424805, -2.593100070953369, -3.6975998878479004, -4.428299903869629, -4.961400032043457, -5.115499973297119, -4.48330020904541, -4.959499835968018, -3.9446001052856445, -4.579699993133545, -4.714399814605713, -4.888299942016602, -4.66480016708374, -4.623199939727783, -4.6280999183654785, -4.817599773406982, -4.850500106811523, -4.77869987487793, -4.7322998046875, -4.765100002288818, -4.241000175476074, -4.43720006942749, -4.470799922943115, -4.428599834442139, -4.694399833679199, -4.7245001792907715, -4.739299774169922, -4.958000183105469, -4.991199970245361, -4.994699954986572, -5.067599773406982, -5.145599842071533, -5.173699855804443, -5.274400234222412, -5.330999851226807, -5.396999835968018, -2.4361000061035156, -5.427999973297119, -5.447700023651123, -5.483799934387207, -5.506999969482422, -5.624100208282471, -4.841300010681152, -5.729300022125244, -5.833000183105469, -5.899499893188477, -5.909599781036377, -5.95389986038208, -6.021200180053711, -6.065700054168701, -3.1594998836517334, -3.7829999923706055, -4.738900184631348, -4.7600998878479, -3.724600076675415, -4.572199821472168, -4.211400032043457, -4.335899829864502, -4.478300094604492, -3.3199000358581543, -2.7460999488830566, -3.9867000579833984, -2.966599941253662, -3.710099935531616, -4.370100021362305, -3.7744998931884766, -4.462100028991699, -4.1528000831604, -3.934799909591675, -3.348900079727173, -4.053400039672852, -4.450699806213379, -4.253399848937988, -4.633999824523926, -4.46150016784668, -2.7040998935699463, -3.1881000995635986, -3.4500999450683594, -3.79229998588562, -4.017899990081787, -4.021599769592285, -4.104599952697754, -4.109000205993652, -4.351200103759766, -4.470699787139893, -4.539299964904785, -4.653200149536133, -4.725200176239014, -4.748300075531006, -4.969799995422363, -4.970699787139893, -4.9832000732421875, -5.0100998878479, -5.018400192260742, -5.145699977874756, -5.179500102996826, -5.190800189971924, -5.212399959564209, -5.377500057220459, -5.39300012588501, -5.421299934387207, -5.429599761962891, -5.484799861907959, -5.526800155639648, -5.547800064086914, -3.9655001163482666, -4.343699932098389, -3.927000045776367, -2.7606000900268555, -3.1043999195098877, -3.7876999378204346, -3.7888998985290527, -4.074999809265137, -3.1519999504089355, -4.052199840545654, -4.803100109100342, -4.368800163269043, -4.318299770355225, -4.473100185394287, -4.396699905395508, -4.953400135040283, -3.418600082397461, -3.4560999870300293, -3.7630999088287354, -3.920599937438965, -4.1315999031066895, -4.153500080108643, -4.16480016708374, -4.3649001121521, -4.539899826049805, -4.630099773406982, -4.8125, -4.861100196838379, -4.963799953460693, -4.983399868011475, -4.990900039672852, -5.012899875640869, -5.058700084686279, -5.068399906158447, -5.086699962615967, -5.0904998779296875, -5.1315999031066895, -5.134799957275391, -5.168000221252441, -5.231599807739258, -5.252299785614014, -5.259699821472168, -5.316400051116943, -5.335100173950195, -4.591300010681152, -5.441500186920166, -3.217400074005127, -3.938999891281128, -3.453000068664551, -4.423600196838379, -4.197800159454346, -4.659800052642822, -4.26200008392334, -4.307000160217285, -3.7018001079559326, -4.0046000480651855, -3.833199977874756, -3.531399965286255, -4.571700096130371, -4.457600116729736, -4.079800128936768, -4.017499923706055, -4.329100131988525, -4.4070000648498535, -4.482399940490723, -4.19890022277832, -4.362500190734863, -3.2737998962402344, -3.6373000144958496, -3.859800100326538, -3.951200008392334, -3.982599973678589, -3.9918999671936035, -4.0366997718811035, -4.091599941253662, -4.162700176239014, -4.3308000564575195, -4.409299850463867, -4.483799934387207, -4.499000072479248, -4.539400100708008, -4.558499813079834, -4.583399772644043, -4.625400066375732, -4.631999969482422, -4.776400089263916, -4.787499904632568, -4.8470001220703125, -4.893899917602539, -4.900100231170654, -4.962399959564209, -4.966800212860107, -5.051199913024902, -5.092299938201904, -5.100599765777588, -5.1331000328063965, -5.133200168609619, -2.985100030899048, -4.482999801635742, -4.21150016784668, -3.551300048828125, -4.576200008392334, -3.255199909210205, -4.779600143432617, -3.544600009918213, -3.972599983215332, -3.534899950027466, -3.848900079727173, -4.42710018157959, -3.837399959564209, -3.7959001064300537, -4.578000068664551, -3.2327001094818115, -3.322499990463257, -3.7079999446868896, -3.713099956512451, -3.7469000816345215, -3.786900043487549, -4.026400089263916, -4.143899917602539, -4.155700206756592, -4.215199947357178, -4.244800090789795, -4.334199905395508, -4.369100093841553, -4.4085001945495605, -4.449399948120117, -4.481200218200684, -4.517099857330322, -4.621099948883057, -4.899199962615967, -4.904699802398682, -5.061699867248535, -5.093100070953369, -5.114099979400635, -5.261499881744385, -5.566299915313721, -5.599800109863281, -5.661499977111816, -5.666399955749512, -5.810800075531006, -5.84499979019165, -4.622200012207031, -4.627900123596191, -3.5253000259399414, -4.913599967956543, -2.835599899291992, -3.7476999759674072, -4.346799850463867, -2.6507999897003174, -4.090199947357178, -4.480299949645996, -4.2378997802734375, -4.009200096130371, -4.137199878692627, -3.9918999671936035, -4.559899806976318, -4.577600002288818, -2.1998000144958496, -2.982100009918213, -3.6905999183654785, -3.8378000259399414, -3.9902000427246094, -4.064000129699707, -4.122700214385986, -4.164599895477295, -4.387599945068359, -4.40749979019165, -4.409800052642822, -4.442299842834473, -4.564899921417236, -4.698999881744385, -4.7667999267578125, -4.792699813842773, -4.854300022125244, -4.896500110626221, -5.069900035858154, -5.183199882507324, -5.204999923706055, -5.227499961853027, -5.454599857330322, -5.543900012969971, -5.667799949645996, -5.7027997970581055, -5.9166998863220215, -6.0559000968933105, -6.0725998878479, -6.194900035858154, -3.563499927520752, -3.40120005607605, -4.0096001625061035, -2.536400079727173, -4.514900207519531, -3.873800039291382, -2.2822999954223633, -4.5005998611450195, -3.8921000957489014, -3.9842000007629395, -4.6417999267578125, -4.67710018157959, -4.307300090789795, -3.9874000549316406, -4.21589994430542, -4.69320011138916, -4.596099853515625, -3.2627999782562256, -3.3731000423431396, -3.493299961090088, -3.7274999618530273, -3.7370998859405518, -3.7465999126434326, -3.8350000381469727, -3.9660000801086426, -4.024899959564209, -4.061100006103516, -4.13100004196167, -4.244999885559082, -4.274799823760986, -4.3343000411987305, -4.3403000831604, -4.386300086975098, -4.40910005569458, -4.444200038909912, -4.456099987030029, -4.493100166320801, -4.788700103759766, -4.814799785614014, -4.848499774932861, -4.890900135040283, -4.953100204467773, -4.968699932098389, -4.9822001457214355, -5.040599822998047, -5.071000099182129, -3.8951001167297363, -4.190499782562256, -3.244499921798706, -3.904099941253662, -4.44379997253418, -4.315700054168701, -4.3292999267578125, -3.6198999881744385, -3.730799913406372, -4.5605998039245605, -4.162700176239014, -4.323999881744385, -4.439899921417236, -4.40910005569458, -2.759500026702881, -2.944499969482422, -3.0329999923706055, -3.1939001083374023, -3.6029000282287598, -3.719899892807007, -3.9182000160217285, -4.016300201416016, -4.111599922180176, -4.1809000968933105, -4.201700210571289, -4.208700180053711, -4.258299827575684, -4.292799949645996, -4.38640022277832, -4.4131999015808105, -4.470200061798096, -4.504000186920166, -4.588099956512451, -4.65939998626709, -4.681700229644775, -4.683800220489502, -4.730800151824951, -4.7571001052856445, -4.803299903869629, -4.837500095367432, -4.915599822998047, -4.9653000831604, -5.020899772644043, -5.164299964904785, -3.7548000812530518, -3.842400074005127, -4.012199878692627, -3.81469988822937, -4.427700042724609, -4.088900089263916, -3.90939998626709, -4.102700233459473, -3.9182000160217285, -4.336400032043457, -4.230000019073486, -4.478499889373779, -2.339600086212158, -2.658600091934204, -2.7119998931884766, -2.9439001083374023, -3.113100051879883, -3.4444000720977783, -3.6431000232696533, -3.7225000858306885, -3.779400110244751, -3.79830002784729, -3.936000108718872, -4.065400123596191, -4.1595001220703125, -4.199100017547607, -4.311999797821045, -4.40369987487793, -4.4039998054504395, -4.5121002197265625, -4.518899917602539, -4.720399856567383, -4.741399765014648, -4.837500095367432, -4.929999828338623, -5.020999908447266, -5.041100025177002, -5.04580020904541, -5.099100112915039, -5.195000171661377, -5.2972002029418945, -5.332900047302246, -4.383699893951416, -3.3636999130249023, -4.617300033569336, -3.928299903869629, -3.6236000061035156, -4.351900100708008, -4.3308000564575195, -4.36269998550415, -4.365900039672852, -4.324999809265137, -3.5694000720977783, -3.6914000511169434, -3.7237000465393066, -3.746500015258789, -3.8261001110076904, -3.9326999187469482, -3.9809000492095947, -4.008600234985352, -4.093100070953369, -4.105400085449219, -4.121099948883057, -4.263999938964844, -4.35890007019043, -4.3653998374938965, -4.421000003814697, -4.506700038909912, -4.528500080108643, -4.572400093078613, -4.586900234222412, -4.718400001525879, -4.838600158691406, -4.883200168609619, -4.895500183105469, -4.917799949645996, -4.9344000816345215, -4.953700065612793, -4.970099925994873, -4.9928998947143555, -5.000800132751465, -5.0366997718811035, -4.427999973297119, -2.3413000106811523, -4.16510009765625, -3.487299919128418, -4.013000011444092, -4.100100040435791, -4.742000102996826, -4.318999767303467, -4.524499893188477, -4.388599872589111, -4.455100059509277, -4.530799865722656, -2.8838000297546387, -2.969099998474121, -2.991300106048584, -3.163100004196167, -3.298099994659424, -3.3951001167297363, -3.547800064086914, -3.6126999855041504, -3.9040000438690186, -3.9793999195098877, -4.087900161743164, -4.310500144958496, -4.380799770355225, -4.4105000495910645, -4.434800148010254, -4.447199821472168, -4.492000102996826, -4.503399848937988, -4.538899898529053, -4.543300151824951, -4.591300010681152, -4.707900047302246, -4.708199977874756, -4.8354997634887695, -3.271199941635132, -4.88129997253418, -4.893899917602539, -4.913300037384033, -4.930300235748291, -4.953000068664551, -4.273799896240234, -3.7932000160217285, -3.601599931716919, -4.388599872589111, -4.571000099182129, -4.013000011444092, -3.258500099182129, -4.134900093078613, -4.121600151062012, -4.355899810791016, -2.466599941253662, -2.982300043106079, -3.0432000160217285, -3.055000066757202, -3.062000036239624, -3.081700086593628, -3.3935999870300293, -4.345300197601318, -4.498700141906738, -4.526199817657471, -4.546599864959717, -4.553999900817871, -4.845799922943115, -5.020299911499023, -5.05049991607666, -5.119999885559082, -5.205599784851074, -5.292300224304199, -5.352799892425537, -5.646299839019775, -5.677700042724609, -5.788000106811523, -5.994699954986572, -5.999899864196777, -6.005099773406982, -6.212299823760986, -6.2144999504089355, -2.039799928665161, -6.339600086212158, -6.3520002365112305, -2.8461999893188477, -3.297100067138672, -3.184799909591675, -3.330199956893921, -2.740299940109253, -3.8113999366760254, -4.841800212860107, -4.186200141906738, -4.431399822235107, -5.230400085449219, -2.410399913787842, -2.7945001125335693, -3.107100009918213, -3.1229000091552734, -3.2772998809814453, -3.287600040435791, -3.330399990081787, -3.4177000522613525, -3.8297998905181885, -3.91729998588562, -4.146100044250488, -4.179699897766113, -4.356299877166748, -4.359399795532227, -4.53980016708374, -4.55620002746582, -4.5945000648498535, -4.6020002365112305, -4.622300148010254, -4.666399955749512, -4.700699806213379, -4.7129998207092285, -4.7210001945495605, -4.723100185394287, -4.735099792480469, -4.755099773406982, -4.9156999588012695, -5.021200180053711, -5.028200149536133, -5.036200046539307, -3.4927000999450684, -3.8359999656677246, -3.98009991645813, -4.302800178527832, -3.741499900817871, -3.8368000984191895, -4.2754998207092285, -4.369100093841553, -4.457300186157227, -4.565100193023682, -2.162899971008301, -2.4900999069213867, -2.8331000804901123, -3.268399953842163, -3.3017001152038574, -3.402600049972534, -3.4339001178741455, -3.663100004196167, -3.6656999588012695, -3.903599977493286, -4.042500019073486, -4.229000091552734, -4.240699768066406, -4.293900012969971, -4.4045000076293945, -4.472499847412109, -4.49370002746582, -4.58620023727417, -4.634200096130371, -4.652699947357178, -4.734899997711182, -4.828800201416016, -4.841000080108643, -5.2342000007629395, -5.284900188446045, -5.352799892425537, -5.596799850463867, -5.665900230407715, -5.809599876403809, -6.012700080871582, -3.7414000034332275, -3.714099884033203, -3.961899995803833, -2.59689998626709, -3.4748001098632812, -4.093599796295166, -4.639200210571289, -4.662700176239014, -2.189199924468994, -2.1993000507354736, -2.6428000926971436, -3.042099952697754, -3.4286000728607178, -3.615799903869629, -3.70770001411438, -3.8397998809814453, -4.015900135040283, -4.043600082397461, -4.163400173187256, -4.1905999183654785, -4.230299949645996, -4.291999816894531, -4.4096999168396, -4.4994001388549805, -4.638800144195557, -4.767300128936768, -4.9029998779296875, -5.073400020599365, -2.461899995803833, -5.229000091552734, -5.246200084686279, -5.482999801635742, -5.561500072479248, -5.639200210571289, -5.688899993896484, -5.854000091552734, -6.1219000816345215, -4.845200061798096, -2.82450008392334, -2.9393999576568604, -5.509900093078613]}, \"token.table\": {\"Topic\": [14, 1, 3, 4, 14, 10, 12, 8, 12, 14, 7, 6, 17, 4, 1, 9, 16, 11, 1, 4, 1, 3, 7, 9, 14, 6, 2, 14, 5, 8, 1, 15, 7, 12, 1, 14, 16, 1, 11, 1, 2, 6, 7, 8, 9, 11, 13, 6, 9, 14, 14, 9, 3, 4, 8, 12, 14, 6, 10, 4, 7, 3, 1, 1, 9, 6, 15, 7, 10, 13, 4, 6, 8, 4, 8, 15, 1, 2, 9, 16, 14, 2, 9, 7, 11, 13, 11, 14, 5, 7, 1, 4, 6, 8, 8, 16, 2, 16, 1, 4, 3, 5, 4, 5, 11, 12, 16, 17, 4, 11, 12, 7, 8, 3, 16, 5, 9, 11, 5, 12, 5, 14, 11, 11, 11, 15, 4, 11, 13, 1, 6, 7, 8, 10, 8, 14, 4, 5, 7, 15, 12, 16, 16, 17, 2, 9, 9, 9, 4, 12, 13, 1, 5, 8, 9, 12, 15, 5, 12, 6, 6, 7, 16, 4, 5, 3, 17, 1, 6, 2, 5, 15, 5, 4, 9, 16, 9, 7, 7, 9, 4, 3, 14, 2, 6, 10, 14, 6, 16, 5, 10, 11, 10, 14, 2, 4, 8, 10, 4, 10, 14, 6, 3, 2, 4, 12, 9, 5, 7, 1, 17, 3, 1, 3, 5, 6, 6, 9, 11, 4, 8, 3, 4, 9, 5, 2, 3, 8, 1, 3, 12, 11, 2, 9, 2, 9, 11, 8, 8, 5, 13, 13, 4, 12, 5, 7, 1, 6, 7, 14, 3, 7, 9, 11, 13, 8, 13, 3, 9, 10, 9, 5, 7, 4, 14, 1, 8, 13, 15, 4, 8, 15, 2, 2, 2, 3, 16, 2, 12, 16, 2, 1, 3, 6, 7, 6, 16, 8, 2, 13, 14, 12, 3, 3, 10, 12, 15, 4, 2, 3, 9, 9, 15, 3, 4, 5, 6, 7, 10, 12, 2, 7, 8, 16, 1, 1, 6, 7, 15, 12, 15, 11, 13, 1, 11, 9, 3, 6, 10, 12, 2, 1, 7, 10, 1, 7, 15, 15, 1, 3, 7, 9, 12, 5, 7, 4, 7, 3, 11, 13, 13, 10, 17, 10, 8, 10, 2, 3, 8, 10, 5, 16, 13, 9, 5, 16, 1, 6, 17, 14, 7, 8, 11, 11, 5, 11, 2, 3, 3, 9, 12, 3, 10, 6, 7, 13, 7, 15, 1, 11, 12, 1, 9, 9, 2, 11, 1, 1, 4, 14, 13, 15, 4, 6, 8, 11, 12, 15, 16, 1, 2, 15, 7, 9, 13, 8, 3, 12, 3, 13, 7, 15, 7, 10, 9, 14, 5, 13, 6, 16, 3, 2, 9, 9, 7, 8, 12, 12, 3, 5, 8, 16, 3, 17, 6, 15, 14, 1, 14, 1, 3, 4, 5, 8, 9, 13, 7, 4, 6, 6, 5, 6, 5, 6, 5, 4, 10, 16, 5, 11, 3, 4, 6, 7, 10, 12, 10, 15, 4, 12, 3, 3, 2, 6, 3, 5, 6, 12, 3, 7, 9, 5, 6, 2, 7, 9, 12, 12, 5, 13, 13, 7, 11, 12, 5, 3, 3, 2, 3, 4, 16, 10, 16, 17, 7, 9, 16, 6, 1, 8, 8, 15, 13, 7, 17, 1, 17, 3, 8, 10, 6, 3, 12, 15, 5, 7, 12, 8, 15, 4, 9, 1, 9, 5, 6, 2, 7, 8, 1, 15, 1, 9, 13, 14, 13, 1, 1, 6, 4, 13, 13, 2, 4, 1, 4, 11, 5, 8, 8, 12, 16, 1, 2, 4, 7, 9, 17, 7, 5, 16, 16, 1, 2, 3, 4, 15, 16, 4, 2, 5, 10, 2, 5, 13, 5, 16, 15, 14, 1, 9, 4, 6, 9, 10, 6, 2, 5, 11, 5, 9, 12, 13, 3, 4, 8, 12, 3, 15, 17, 10, 4, 11, 12, 3, 12, 13, 15, 11, 1, 3, 8, 9, 13, 15, 14, 6, 2, 10, 2, 9, 7, 15, 3, 4, 11, 5, 11, 13, 16, 17, 12, 16, 10, 1, 12, 1, 2, 3, 5, 11, 1, 15, 11, 10, 17, 5, 10, 1, 7, 9, 17, 1, 3, 8, 9, 3, 7, 12, 13, 16, 10, 14, 3, 14, 15, 5, 6, 9, 12, 3, 8, 1, 2, 7, 10, 5, 10, 17, 13, 10, 13, 5, 7, 9, 10, 5, 1, 4, 14, 4, 12, 4, 4, 12, 11, 1, 2, 8, 14, 2, 3, 8, 15, 6, 10, 13, 6, 15, 4, 13, 14, 12, 4, 16, 17, 1, 5, 7, 7, 8, 4, 7, 9, 11, 11, 16, 13, 1, 3, 4, 6, 7, 16, 17, 9, 12, 11, 9, 2, 12, 2, 1, 10, 4, 17, 14, 8, 10, 14, 11, 12, 14, 14, 5, 6, 14, 2, 5, 3, 8, 3, 8, 11, 7, 1, 10, 8, 12, 7, 8, 13, 16, 7, 15, 8, 14, 17, 3, 9, 7, 10, 3, 6, 12, 15, 13, 5, 15, 16, 4, 5, 11, 1, 6, 13, 15, 5, 10, 5, 17, 7, 5, 6, 10, 5, 14, 13, 2, 11, 4, 5, 6, 15, 4, 2, 5, 13, 1, 11, 2, 3, 7, 8, 13, 16, 6, 7, 6, 1, 4, 6, 9, 9, 6, 15, 2, 1, 5, 6, 8, 12, 11, 8, 2, 5, 2, 5, 16, 2, 8, 15, 14, 2, 14, 10, 4, 10, 13, 6, 9, 2, 15, 11, 17, 6, 8, 3, 8, 9, 17, 17, 10, 12, 10, 9, 17, 8, 5, 12, 9, 17, 7, 6, 11, 5, 15, 11, 11, 7, 3, 6, 2, 2, 4, 6, 13, 14, 16, 1, 3, 8, 4, 12, 16, 1, 4, 14, 13, 17, 10, 5, 13, 5, 16, 4, 9, 13, 13, 2, 9, 1, 9, 2, 4, 10, 12, 1, 4, 3, 4, 15, 17, 16, 7, 14, 1, 3, 1, 3, 7, 10, 13, 4, 7, 1, 3, 12, 16, 3, 5, 12, 13, 2, 15, 16, 2, 4, 7, 15, 2, 2, 16, 1, 2, 3, 4, 5, 6, 7, 11, 13, 14, 4, 1, 1, 3, 12, 2, 4, 9, 11, 17, 2, 6, 8, 2, 4, 9, 1, 12, 6, 17, 12, 7, 17, 14, 6, 9, 7, 15, 13, 2, 10, 10, 12, 11, 2, 4, 5, 2, 5, 17, 1, 7, 10, 13, 6, 9, 16, 17, 6, 5, 8, 15, 6, 17, 2, 2, 16, 7, 8, 2, 3, 1, 2, 3, 5, 6, 9, 14, 15, 4, 1, 3, 4, 5, 8, 12, 9], \"Freq\": [0.9970996379852295, 0.1871819943189621, 0.3492201566696167, 0.3788340091705322, 0.08325408399105072, 0.9974696636199951, 0.9917312860488892, 0.9742932319641113, 0.2777189016342163, 0.7204878330230713, 0.9960571527481079, 0.9401906132698059, 0.05610191076993942, 0.9953060150146484, 0.9066040515899658, 0.08624142408370972, 0.006414651405066252, 0.9969900846481323, 0.9974966645240784, 0.9921162128448486, 0.5243114829063416, 0.16174601018428802, 0.22580833733081818, 0.06678838282823563, 0.020899765193462372, 0.9967694282531738, 0.9940493702888489, 0.9972754716873169, 0.9955652952194214, 0.993281364440918, 0.9977778792381287, 0.9921251535415649, 0.9822614192962646, 0.9846681952476501, 0.9967489242553711, 0.9733501672744751, 0.9840140342712402, 0.8127936720848083, 0.1864328682422638, 0.10293525457382202, 0.559798538684845, 0.04982254281640053, 0.11515587568283081, 0.036191847175359726, 0.011280575767159462, 0.03478177264332771, 0.08930455893278122, 0.9956898093223572, 0.9617537260055542, 0.034471459686756134, 0.9873799681663513, 0.9977213740348816, 0.06934648752212524, 0.11547564715147018, 0.7481477856636047, 0.04948956146836281, 0.01710750348865986, 0.023766282945871353, 0.9744175672531128, 0.9405220746994019, 0.05794685706496239, 0.9940940141677856, 0.9958388805389404, 0.9973358511924744, 0.9972409009933472, 0.9962632656097412, 0.993993878364563, 0.9966942667961121, 0.5739027857780457, 0.42372262477874756, 0.036321546882390976, 0.9613102674484253, 0.9860765337944031, 0.03230941295623779, 0.9253057241439819, 0.04128425195813179, 0.7963317036628723, 0.12436657398939133, 0.02169184386730194, 0.056398794054985046, 0.989589273929596, 0.9984708428382874, 0.996527910232544, 0.9977564811706543, 0.9955965876579285, 0.9846259355545044, 0.9922906756401062, 0.9755935072898865, 0.9965118169784546, 0.9948679208755493, 0.05003654584288597, 0.26758673787117004, 0.0304570272564888, 0.6482995748519897, 0.848872721195221, 0.14773891866207123, 0.9252975583076477, 0.07084644585847855, 0.9350665807723999, 0.06340867280960083, 0.9914611577987671, 0.004687759559601545, 0.06666263192892075, 0.35506126284599304, 0.1309613436460495, 0.03451327979564667, 0.17776702344417572, 0.2345011830329895, 0.8394545316696167, 0.14420382678508759, 0.01610523834824562, 0.9838939905166626, 0.9928961992263794, 0.9943865537643433, 0.9931000471115112, 0.6584629416465759, 0.0017978510586544871, 0.3393443822860718, 0.9950613975524902, 0.9885404706001282, 0.6336702704429626, 0.36571425199508667, 0.998350203037262, 0.997607409954071, 0.9969610571861267, 0.9968095421791077, 0.998691201210022, 0.9948866963386536, 0.9974524974822998, 0.9964087605476379, 0.7629901766777039, 0.236602321267128, 0.6062470078468323, 0.38988324999809265, 0.9968032240867615, 0.9980672597885132, 0.19134341180324554, 0.6527279019355774, 0.04320657625794411, 0.1111026257276535, 0.9851726293563843, 0.9904279708862305, 0.997582733631134, 0.9834361672401428, 0.9538884162902832, 0.041361015290021896, 0.9917243123054504, 0.9972100853919983, 0.9991553425788879, 0.9896602034568787, 0.9984717965126038, 0.6388014554977417, 0.09299973398447037, 0.04497528448700905, 0.12844635546207428, 0.08042190223932266, 0.014102418906986713, 0.9947309494018555, 0.9955081939697266, 0.9975964426994324, 0.18451137840747833, 0.8118500709533691, 0.003112239995971322, 0.13062645494937897, 0.8674936294555664, 0.9976139068603516, 0.9622477889060974, 0.9970108866691589, 0.9983253479003906, 0.7298163771629333, 0.2209111452102661, 0.047420717775821686, 0.998393714427948, 0.25976699590682983, 0.3749467134475708, 0.36269354820251465, 0.9954044222831726, 0.9976929426193237, 0.35792025923728943, 0.6395624279975891, 0.9994769096374512, 0.9928460717201233, 0.9375665783882141, 0.027275776490569115, 0.7691769003868103, 0.20184074342250824, 0.9874893426895142, 0.9977184534072876, 0.9910516738891602, 0.6995849013328552, 0.0010599771048873663, 0.29785358905792236, 0.5110633969306946, 0.48692694306373596, 0.9931399822235107, 0.9963688850402832, 0.9979232549667358, 0.9932597279548645, 0.672944188117981, 0.18793286383152008, 0.1380583792924881, 0.9964094161987305, 0.9946730136871338, 0.8623793721199036, 0.13361071050167084, 0.003560453886166215, 0.9951155781745911, 0.9421057105064392, 0.055911317467689514, 0.9974321126937866, 0.9883054494857788, 0.9976661801338196, 0.9189261198043823, 0.07980748265981674, 0.3184673488140106, 0.680861234664917, 0.9980222582817078, 0.9901095032691956, 0.9986985921859741, 0.9950589537620544, 0.9970178008079529, 0.9837353825569153, 0.0012972335098311305, 0.014701979234814644, 0.994525134563446, 0.012592241168022156, 0.5335962176322937, 0.4533206820487976, 0.6458068490028381, 0.21864494681358337, 0.13464239239692688, 0.9978201389312744, 0.9130709767341614, 0.08621785044670105, 0.9979518055915833, 0.959830105304718, 0.03910418972373009, 0.9977788329124451, 0.9900370836257935, 0.9939238429069519, 0.9897154569625854, 0.9976206421852112, 0.998460054397583, 0.9885155558586121, 0.9902595281600952, 0.008890110068023205, 0.05416412279009819, 0.19582413136959076, 0.7353821396827698, 0.012499412521719933, 0.014303076080977917, 0.14413100481033325, 0.8163755536079407, 0.016503550112247467, 0.008801893331110477, 0.9855313897132874, 0.9968262910842896, 0.008851617574691772, 0.9618757367134094, 0.026554852724075317, 0.9918568134307861, 0.9986265301704407, 0.9973209500312805, 0.9979118704795837, 0.997323751449585, 0.9987495541572571, 0.251941442489624, 0.7412892580032349, 0.9983078241348267, 0.9943488836288452, 0.6297504305839539, 0.3673543930053711, 0.9978426694869995, 0.9963281154632568, 0.4913608729839325, 0.4219810962677002, 0.08553671091794968, 0.9118162989616394, 0.08653812110424042, 0.9626036882400513, 0.9968514442443848, 0.203166201710701, 0.21985825896263123, 0.4855004549026489, 0.09061403572559357, 0.9982672333717346, 0.9473711848258972, 0.9948571920394897, 0.8382437825202942, 0.03793775662779808, 0.1210395097732544, 0.9897314310073853, 0.9976730346679688, 0.9958236813545227, 0.9923518300056458, 0.991368293762207, 0.9980279207229614, 0.9941868185997009, 0.7211025953292847, 0.12184146791696548, 0.15665331482887268, 0.9956330060958862, 0.9915227293968201, 0.5280742049217224, 0.11439593136310577, 0.11560434103012085, 0.010875670239329338, 0.11117351055145264, 0.09626981616020203, 0.023362550884485245, 0.5640075206756592, 0.03472259268164635, 0.20927400887012482, 0.1905050426721573, 0.997868001461029, 0.4123060703277588, 0.5752841830253601, 0.011437061242759228, 0.9921942949295044, 0.9940589070320129, 0.9959914088249207, 0.9893010258674622, 0.9900722503662109, 0.9983415603637695, 0.9921557903289795, 0.9953587055206299, 0.987224817276001, 0.01052478514611721, 0.990786612033844, 0.9879328012466431, 0.9958153963088989, 0.9973165392875671, 0.12586037814617157, 0.8713410496711731, 0.1263144612312317, 0.8627920150756836, 0.006422769278287888, 0.9832910299301147, 0.21145151555538177, 0.5649550557136536, 0.19518601894378662, 0.028193535283207893, 0.9911922216415405, 0.9991859197616577, 0.9917268753051758, 0.084810271859169, 0.9139554500579834, 0.9878094792366028, 0.9849219918251038, 0.9876444935798645, 0.9905318021774292, 0.9985652565956116, 0.9906850457191467, 0.9957292079925537, 0.9742627143859863, 0.9928425550460815, 0.015331803821027279, 0.9836562871932983, 0.9919731020927429, 0.996534526348114, 0.9942166805267334, 0.9876148700714111, 0.9950411319732666, 0.9981371760368347, 0.983263373374939, 0.01474895142018795, 0.2502029240131378, 0.7489238977432251, 0.9867032766342163, 0.9432746767997742, 0.9813886284828186, 0.9955776929855347, 0.9968044757843018, 0.982741117477417, 0.1305283010005951, 0.8659438490867615, 0.9973522424697876, 0.9897609353065491, 0.9907166957855225, 0.9885929822921753, 0.0070782313123345375, 0.8923648595809937, 0.10565803945064545, 0.30169129371643066, 0.391691654920578, 0.30422651767730713, 0.40730488300323486, 0.5900416970252991, 0.9337502121925354, 0.01974698342382908, 0.04570016264915466, 0.9981800317764282, 0.9961249828338623, 0.9970985651016235, 0.9781619310379028, 0.021226566284894943, 0.9950912594795227, 0.2105678766965866, 0.7883297204971313, 0.9871824383735657, 0.9919275641441345, 0.9833505749702454, 0.11187170445919037, 0.2940452992916107, 0.013449057005345821, 0.2622566223144531, 0.3172754943370819, 0.9824127554893494, 0.97967928647995, 0.9175390005111694, 0.08184898644685745, 0.9920535683631897, 0.9975038170814514, 0.9902248382568359, 0.007035345304757357, 0.993556022644043, 0.996880829334259, 0.9860250353813171, 0.983238697052002, 0.01285279355943203, 0.9736710786819458, 0.02227352187037468, 0.15278221666812897, 0.8446261882781982, 0.9961061477661133, 0.9980732798576355, 0.3732781708240509, 0.6233745217323303, 0.591920018196106, 0.4045370817184448, 0.9866918921470642, 0.5824224948883057, 0.41560280323028564, 0.9979661107063293, 0.9963896870613098, 0.9954254627227783, 0.9922655820846558, 0.9949836134910583, 0.5660642981529236, 0.016487309709191322, 0.3819560110569, 0.034806542098522186, 0.997540295124054, 0.9931925535202026, 0.9973061084747314, 0.9828774333000183, 0.9526792168617249, 0.6601423025131226, 0.3387472927570343, 0.9378747344017029, 0.019246459007263184, 0.01872628554701805, 0.0031210475135594606, 0.010923665948212147, 0.00780261866748333, 0.0015605237567797303, 0.996076226234436, 0.9980885982513428, 0.9963274598121643, 0.9971756339073181, 0.9988449215888977, 0.9967331886291504, 0.9398244619369507, 0.057322628796100616, 0.9988317489624023, 0.39366254210472107, 0.6039141416549683, 0.995033860206604, 0.9935908913612366, 0.9944307804107666, 0.14581266045570374, 0.24752148985862732, 0.16741453111171722, 0.29342547059059143, 0.0756065621972084, 0.07020609825849533, 0.9970970749855042, 0.9775840044021606, 0.0673065334558487, 0.932024359703064, 0.990381121635437, 0.9933009743690491, 0.7550849318504333, 0.24281775951385498, 0.03475683927536011, 0.10869411379098892, 0.856282114982605, 0.9947550892829895, 0.990405797958374, 0.9984478950500488, 0.9941286444664001, 0.9957110285758972, 0.9986189007759094, 0.9977282285690308, 0.9959185123443604, 0.781466543674469, 0.21655096113681793, 0.9859128594398499, 0.5721576809883118, 0.4259395897388458, 0.9931821227073669, 0.39249491691589355, 0.6027600765228271, 0.996095597743988, 0.996814489364624, 0.9965744018554688, 0.9845126271247864, 0.006465097423642874, 0.7411156892776489, 0.05689285695552826, 0.19524593651294708, 0.9949900507926941, 0.9823857545852661, 0.9462814927101135, 0.9511555433273315, 0.04380321502685547, 0.9973701238632202, 0.9971076846122742, 0.9474372267723083, 0.051262304186820984, 0.9775675535202026, 0.9855479001998901, 0.9951816201210022, 0.9869836568832397, 0.9946221113204956, 0.9993139505386353, 0.998383641242981, 0.13971862196922302, 0.8519799113273621, 0.006074722856283188, 0.9962331652641296, 0.9977371096611023, 0.2681671679019928, 0.7292603850364685, 0.7142585515975952, 0.21104592084884644, 0.07386606931686401, 0.7824326157569885, 0.2160787731409073, 0.9923883676528931, 0.9951956868171692, 0.9979069828987122, 0.9967320561408997, 0.9718663096427917, 0.024604210630059242, 0.9936361908912659, 0.285157710313797, 0.7134490609169006, 0.4584977328777313, 0.5372296571731567, 0.9612166881561279, 0.03794989734888077, 0.6463378667831421, 0.34775787591934204, 0.9907673001289368, 0.9990308880805969, 0.9982681274414062, 0.9978191256523132, 0.9960456490516663, 0.9919679164886475, 0.9937649369239807, 0.005865172483026981, 0.992191731929779, 0.9266838431358337, 0.017902815714478493, 0.054560959339141846, 0.9942154884338379, 0.9963746666908264, 0.9984164237976074, 0.9957771301269531, 0.9584527015686035, 0.7104184627532959, 0.08091443032026291, 0.04580061882734299, 0.1623377501964569, 0.9940168857574463, 0.9583039879798889, 0.9973440170288086, 0.9966493844985962, 0.9911125302314758, 0.9977309107780457, 0.8224895596504211, 0.10848682373762131, 0.04852445796132088, 0.020102988928556442, 0.9852837324142456, 0.9991024732589722, 0.9968228936195374, 0.9946404099464417, 0.9960288405418396, 0.9882563352584839, 0.8151181936264038, 0.1770976185798645, 0.005864159669727087, 0.3382342457771301, 0.6581855416297913, 0.9889567494392395, 0.9488726854324341, 0.9981489777565002, 0.9980707764625549, 0.25292477011680603, 0.4146159589290619, 0.33151209354400635, 0.9984082579612732, 0.9939962029457092, 0.9975565671920776, 0.995193600654602, 0.9903970956802368, 0.49642741680145264, 0.024464596062898636, 0.06523892283439636, 0.4118207097053528, 0.32376807928085327, 0.6027877330780029, 0.025006478652358055, 0.04817037284374237, 0.9882584810256958, 0.9963185787200928, 0.9859783053398132, 0.9902684092521667, 0.7748942375183105, 0.18364545702934265, 0.04031241685152054, 0.9244042634963989, 0.025022543966770172, 0.050045087933540344, 0.9880234003067017, 0.9976181983947754, 0.784363865852356, 0.0736038088798523, 0.005204309709370136, 0.004460836760699749, 0.014125984162092209, 0.11672523617744446, 0.9826831221580505, 0.9961927533149719, 0.06313220411539078, 0.9322522282600403, 0.9149706363677979, 0.08227255940437317, 0.9990203380584717, 0.9979770183563232, 0.8872925043106079, 0.10504470020532608, 0.00558748422190547, 0.7925328612327576, 0.11204774677753448, 0.004099307581782341, 0.08881833404302597, 0.9932736754417419, 0.9931817650794983, 0.9648174047470093, 0.9928457140922546, 0.9612594246864319, 0.03770989179611206, 0.819673478603363, 0.013069034554064274, 0.06289473176002502, 0.026138069108128548, 0.07759739458560944, 0.9988511800765991, 0.9960452318191528, 0.9969285726547241, 0.9923218488693237, 0.9988457560539246, 0.9958586096763611, 0.9952627420425415, 0.9717954993247986, 0.025702400133013725, 0.24408453702926636, 0.7539500594139099, 0.5739709734916687, 0.17197361588478088, 0.20825496315956116, 0.04535169154405594, 0.23691897094249725, 0.5596892237663269, 0.028532177209854126, 0.14520840346813202, 0.029296431690454483, 0.9983826875686646, 0.926785945892334, 0.779778778553009, 0.21786783635616302, 0.0015673944726586342, 0.14722779393196106, 0.38597553968429565, 0.2212395966053009, 0.24431854486465454, 0.9951086044311523, 0.9829931855201721, 0.770437479019165, 0.10085726529359818, 0.07368183881044388, 0.05463102087378502, 0.3612755239009857, 0.6372714042663574, 0.9839094281196594, 0.9889522194862366, 0.9982455968856812, 0.9875639081001282, 0.9944026470184326, 0.003914970904588699, 0.4378502070903778, 0.5583594441413879, 0.9989125728607178, 0.9980261921882629, 0.9921652674674988, 0.9347269535064697, 0.965388298034668, 0.03328924998641014, 0.9969824552536011, 0.025695322081446648, 0.9690807461738586, 0.9956094026565552, 0.9346226453781128, 0.04637005552649498, 0.011402472853660583, 0.007221566047519445, 0.993366003036499, 0.4440263509750366, 0.5082636475563049, 0.0473327562212944, 0.02407945692539215, 0.9724396467208862, 0.9903952479362488, 0.9965815544128418, 0.9870988726615906, 0.9972454309463501, 0.06036177650094032, 0.9387693405151367, 0.9936144948005676, 0.9984502792358398, 0.991159975528717, 0.9946447014808655, 0.18824873864650726, 0.6496877074241638, 0.15955227613449097, 0.9976803660392761, 0.990427553653717, 0.9942677617073059, 0.0558478906750679, 0.939259946346283, 0.9905903935432434, 0.9905840754508972, 0.9956668019294739, 0.9854710698127747, 0.7608205676078796, 0.15186969935894012, 0.001226734253577888, 0.004906937014311552, 0.04857867583632469, 0.02330794930458069, 0.009323179721832275, 0.9957619309425354, 0.9959849715232849, 0.988178551197052, 0.9963510632514954, 0.9953978061676025, 0.9916619658470154, 0.994895339012146, 0.9973455667495728, 0.9949793815612793, 0.999268114566803, 0.990852415561676, 0.9965486526489258, 0.9954320192337036, 0.9927355647087097, 0.9913135170936584, 0.19032110273838043, 0.6550586819648743, 0.14606037735939026, 0.9791048765182495, 0.9957639575004578, 0.9963154792785645, 0.9479509592056274, 0.756138265132904, 0.24245737493038177, 0.9919642210006714, 0.9995468854904175, 0.9949876070022583, 0.9924187660217285, 0.9930657148361206, 0.9970566630363464, 0.9976713061332703, 0.9967153668403625, 0.9958165287971497, 0.9937630295753479, 0.4149753153324127, 0.5831835865974426, 0.9974485039710999, 0.9879098534584045, 0.808760404586792, 0.19062064588069916, 0.9974808692932129, 0.9794235825538635, 0.987067699432373, 0.9437249302864075, 0.054511185735464096, 0.9878625869750977, 0.9950769543647766, 0.9945797324180603, 0.9466649889945984, 0.045980870723724365, 0.0054095140658319, 0.9964267611503601, 0.9946639537811279, 0.9891262054443359, 0.9958087801933289, 0.9963652491569519, 0.9976006150245667, 0.9936568737030029, 0.3668085038661957, 0.6100184917449951, 0.004873059689998627, 0.017720218747854233, 0.980593740940094, 0.018571849912405014, 0.9964661002159119, 0.9656747579574585, 0.9914857745170593, 0.1552186757326126, 0.3027314841747284, 0.540513277053833, 0.9972378611564636, 0.9655652046203613, 0.982099175453186, 0.9962605237960815, 0.9953085780143738, 0.10101500898599625, 0.6102989912033081, 0.01473135594278574, 0.2714778482913971, 0.9949069619178772, 0.9942554831504822, 0.9927054047584534, 0.992377758026123, 0.9945111870765686, 0.004346639849245548, 0.994273841381073, 0.9903432130813599, 0.997448205947876, 0.010514994151890278, 0.9866569638252258, 0.9912311434745789, 0.9233982563018799, 0.07620839774608612, 0.9990466833114624, 0.9306999444961548, 0.0019723442383110523, 0.02465430274605751, 0.042405400425195694, 0.9940215349197388, 0.9982190132141113, 0.9977050423622131, 0.9915910363197327, 0.9000023603439331, 0.0014820952201262116, 0.006669428665190935, 0.07743947952985764, 0.01333885733038187, 0.9868165254592896, 0.9865422248840332, 0.13279275596141815, 0.8659984469413757, 0.9834316372871399, 0.01378642488270998, 0.9886313080787659, 0.9730111956596375, 0.02482963167130947, 0.985963761806488, 0.9980337619781494, 0.992771565914154, 0.9585791826248169, 0.9932823181152344, 0.8092814087867737, 0.18942521512508392, 0.9962044954299927, 0.06141026318073273, 0.933947741985321, 0.9936460256576538, 0.9873566031455994, 0.026739662513136864, 0.9723513722419739, 0.9967962503433228, 0.9958961009979248, 0.8012194037437439, 0.18903318047523499, 0.001240918063558638, 0.00785914808511734, 0.9497849941253662, 0.9922630190849304, 0.9876821637153625, 0.9975681304931641, 0.9986532330513, 0.9863429665565491, 0.9872214198112488, 0.014513607136905193, 0.9820874333381653, 0.992034375667572, 0.9973297715187073, 0.9937109351158142, 0.9979937076568604, 0.9883863925933838, 0.996429979801178, 0.9899148344993591, 0.9988757371902466, 0.9988671541213989, 0.9886306524276733, 0.9971033334732056, 0.9969767928123474, 0.9938409924507141, 0.9750099778175354, 0.0019451570697128773, 0.011022556573152542, 0.0030798320658504963, 0.005187085829675198, 0.0035661214496940374, 0.9976358413696289, 0.049757178872823715, 0.9486314058303833, 0.9959259629249573, 0.9966577291488647, 0.9988036155700684, 0.9972347617149353, 0.9943075776100159, 0.9916663765907288, 0.9880780577659607, 0.989778995513916, 0.9962366223335266, 0.9923403263092041, 0.006112979259341955, 0.9935241937637329, 0.9818418025970459, 0.995366096496582, 0.009514709003269672, 0.9800150394439697, 0.986364483833313, 0.9954372644424438, 0.9918636679649353, 0.9753325581550598, 0.023501988500356674, 0.26382124423980713, 0.7330222725868225, 0.9938440918922424, 0.9837659597396851, 0.9971340298652649, 0.9961636066436768, 0.9935747385025024, 0.006144949700683355, 0.05036844313144684, 0.9318162202835083, 0.9926261305809021, 0.9858769178390503, 0.936637282371521, 0.9982724189758301, 0.9928218126296997, 0.3025408089160919, 0.12811174988746643, 0.0630703940987587, 0.3518145680427551, 0.15274861454963684, 0.9976930022239685, 0.9913925528526306, 0.9509592056274414, 0.036125075072050095, 0.012376183643937111, 0.9972236156463623, 0.898421585559845, 0.044330012053251266, 0.04728534445166588, 0.005910668056458235, 0.9958510994911194, 0.9901869893074036, 0.9895791411399841, 0.17896968126296997, 0.8203915953636169, 0.9948830008506775, 0.9962479472160339, 0.9949901103973389, 0.9990290999412537, 0.9813024401664734, 0.7595791220664978, 0.009541742503643036, 0.08846088498830795, 0.031022414565086365, 0.013725068420171738, 0.04987088218331337, 0.027027104049921036, 0.013584057800471783, 0.005405420903116465, 0.0017861390952020884, 0.9953639507293701, 0.9962427616119385, 0.550970733165741, 0.38499364256858826, 0.0630987212061882, 0.7393465638160706, 0.1974560171365738, 0.05344673991203308, 0.008907790295779705, 0.9622822403907776, 0.9941162467002869, 0.9955838918685913, 0.9988016486167908, 0.9880191683769226, 0.011659538373351097, 0.9947600960731506, 0.9961972236633301, 0.9962133765220642, 0.9972794055938721, 0.9844791889190674, 0.9975025653839111, 0.9959307909011841, 0.9627182483673096, 0.9668623805046082, 0.9748161435127258, 0.023731479421257973, 0.9585875868797302, 0.03767374902963638, 0.9940590858459473, 0.9961196780204773, 0.9991981387138367, 0.9912570714950562, 0.983435332775116, 0.9990718364715576, 0.12583987414836884, 0.02406773529946804, 0.8492472767829895, 0.3729291558265686, 0.6249637007713318, 0.9794178605079651, 0.9986553192138672, 0.9941132664680481, 0.9951200485229492, 0.9980807304382324, 0.21334874629974365, 0.783178985118866, 0.9864771962165833, 0.9499126672744751, 0.9942259192466736, 0.9619431495666504, 0.03581703081727028, 0.9841592311859131, 0.9942710995674133, 0.9975810050964355, 0.9990246295928955, 0.9913313388824463, 0.007691363804042339, 0.7653306126594543, 0.23356539011001587, 0.9351730942726135, 0.06332805007696152, 0.3527665436267853, 0.12070673704147339, 0.23317334055900574, 0.02004355378448963, 0.007349302992224693, 0.025611206889152527, 0.18039198219776154, 0.059685248881578445, 0.9972440600395203, 0.5290713310241699, 0.18275263905525208, 0.1465378850698471, 0.019186628982424736, 0.07482785731554031, 0.04724707454442978, 0.9946898221969604], \"Term\": [\"access\", \"according\", \"according\", \"according\", \"according\", \"account\", \"accountability\", \"achieved\", \"act\", \"act\", \"action\", \"activity\", \"activity\", \"actual\", \"actually\", \"actually\", \"actually\", \"add\", \"added\", \"additional\", \"administration\", \"administration\", \"administration\", \"administration\", \"administration\", \"adviser\", \"affected\", \"affordable\", \"afghanistan\", \"african\", \"ago\", \"aid\", \"aide\", \"alien\", \"allowed\", \"ally\", \"alone\", \"already\", \"already\", \"also\", \"also\", \"also\", \"also\", \"also\", \"also\", \"also\", \"also\", \"although\", \"always\", \"always\", \"amendment\", \"america\", \"american\", \"american\", \"american\", \"american\", \"american\", \"among\", \"among\", \"announced\", \"announced\", \"annual\", \"anything\", \"approved\", \"area\", \"arrest\", \"asia\", \"assistance\", \"attack\", \"attack\", \"authority\", \"authority\", \"auto\", \"average\", \"average\", \"average\", \"back\", \"back\", \"back\", \"back\", \"backed\", \"bad\", \"bank\", \"barack\", \"barrier\", \"basic\", \"beautiful\", \"becoming\", \"began\", \"behind\", \"benefit\", \"benefit\", \"benefit\", \"benefit\", \"best\", \"best\", \"better\", \"better\", \"big\", \"big\", \"biggest\", \"biggest\", \"bill\", \"bill\", \"bill\", \"bill\", \"bill\", \"bill\", \"billion\", \"billion\", \"billion\", \"bit\", \"black\", \"bls\", \"book\", \"border\", \"border\", \"border\", \"bring\", \"broke\", \"budget\", \"budget\", \"build\", \"building\", \"built\", \"bush\", \"business\", \"california\", \"call\", \"called\", \"campaign\", \"campaign\", \"canada\", \"canada\", \"car\", \"care\", \"case\", \"case\", \"case\", \"case\", \"cash\", \"category\", \"certainly\", \"chairman\", \"change\", \"change\", \"changed\", \"chicago\", \"china\", \"choice\", \"city\", \"claim\", \"claim\", \"claim\", \"claim\", \"claim\", \"claim\", \"classified\", \"clear\", \"clearly\", \"clinton\", \"clinton\", \"clinton\", \"close\", \"close\", \"coal\", \"collection\", \"college\", \"collusion\", \"come\", \"come\", \"come\", \"comey\", \"coming\", \"coming\", \"coming\", \"comment\", \"committee\", \"community\", \"community\", \"company\", \"comparison\", \"concerned\", \"concluded\", \"concluded\", \"concluded\", \"condition\", \"confidence\", \"confirmed\", \"congress\", \"congress\", \"congress\", \"congressional\", \"congressional\", \"considered\", \"consumer\", \"context\", \"continues\", \"cost\", \"cost\", \"cost\", \"counsel\", \"counting\", \"country\", \"country\", \"country\", \"course\", \"court\", \"court\", \"coverage\", \"covered\", \"created\", \"credit\", \"credit\", \"crime\", \"crime\", \"criminal\", \"crisis\", \"crowd\", \"currency\", \"current\", \"cut\", \"cut\", \"cut\", \"daca\", \"data\", \"data\", \"data\", \"day\", \"day\", \"day\", \"dead\", \"deal\", \"deal\", \"decade\", \"decision\", \"decision\", \"decline\", \"declining\", \"decrease\", \"decreased\", \"defense\", \"deficit\", \"delivered\", \"democrat\", \"democrat\", \"democratic\", \"democratic\", \"democratic\", \"democratic\", \"department\", \"department\", \"department\", \"department\", \"department\", \"deportation\", \"developed\", \"different\", \"different\", \"different\", \"direct\", \"director\", \"dnc\", \"dollar\", \"domestic\", \"done\", \"dropped\", \"dropped\", \"drug\", \"earlier\", \"early\", \"early\", \"economic\", \"economist\", \"economy\", \"economy\", \"economy\", \"effect\", \"effect\", \"eisenhower\", \"elected\", \"election\", \"election\", \"election\", \"election\", \"email\", \"employed\", \"employment\", \"end\", \"end\", \"end\", \"endorsed\", \"energy\", \"enforcement\", \"enough\", \"equipment\", \"especially\", \"essentially\", \"estimate\", \"estimate\", \"estimate\", \"estimated\", \"europe\", \"even\", \"even\", \"even\", \"even\", \"even\", \"even\", \"even\", \"ever\", \"ever\", \"ever\", \"ever\", \"every\", \"evidence\", \"evidence\", \"evidence\", \"exactly\", \"exaggeration\", \"example\", \"except\", \"exception\", \"executive\", \"existing\", \"expand\", \"expected\", \"expected\", \"expense\", \"facing\", \"factor\", \"fake\", \"false\", \"false\", \"family\", \"family\", \"family\", \"fantasy\", \"far\", \"far\", \"far\", \"far\", \"fast\", \"fbi\", \"fed\", \"federal\", \"federal\", \"fell\", \"fencing\", \"fighter\", \"fighting\", \"figure\", \"final\", \"find\", \"fire\", \"firm\", \"first\", \"first\", \"fiscal\", \"five\", \"fix\", \"folk\", \"force\", \"foreign\", \"former\", \"former\", \"found\", \"found\", \"foundation\", \"fraction\", \"france\", \"free\", \"fund\", \"funded\", \"funding\", \"funding\", \"future\", \"gain\", \"gas\", \"gave\", \"gave\", \"gdp\", \"gdp\", \"general\", \"general\", \"general\", \"george\", \"george\", \"get\", \"get\", \"get\", \"getting\", \"given\", \"goal\", \"going\", \"going\", \"gone\", \"good\", \"good\", \"gop\", \"gotten\", \"gov\", \"government\", \"government\", \"government\", \"government\", \"government\", \"governor\", \"grant\", \"great\", \"great\", \"greatest\", \"gross\", \"group\", \"group\", \"grown\", \"growth\", \"gun\", \"half\", \"half\", \"happen\", \"happen\", \"happened\", \"happened\", \"happening\", \"health\", \"held\", \"held\", \"help\", \"help\", \"helped\", \"high\", \"high\", \"highest\", \"highly\", \"hire\", \"hispanic\", \"historic\", \"history\", \"history\", \"history\", \"history\", \"hit\", \"hold\", \"homicide\", \"hope\", \"host\", \"house\", \"house\", \"http\", \"http\", \"http\", \"http\", \"http\", \"http\", \"http\", \"human\", \"hundred\", \"hunt\", \"ice\", \"illegal\", \"illegally\", \"immigrant\", \"immigrant\", \"immigration\", \"impact\", \"impact\", \"important\", \"include\", \"included\", \"including\", \"including\", \"including\", \"including\", \"including\", \"including\", \"income\", \"incorrectly\", \"increase\", \"increase\", \"increasing\", \"india\", \"individual\", \"individual\", \"information\", \"information\", \"information\", \"initial\", \"instance\", \"intelligence\", \"international\", \"interview\", \"investigation\", \"investment\", \"involved\", \"iran\", \"iran\", \"iranian\", \"iraq\", \"iraq\", \"isi\", \"issue\", \"issue\", \"issued\", \"james\", \"january\", \"japan\", \"job\", \"job\", \"job\", \"job\", \"john\", \"johnson\", \"jong\", \"judge\", \"judge\", \"june\", \"justice\", \"keep\", \"keep\", \"keeping\", \"kept\", \"key\", \"killing\", \"kim\", \"know\", \"korea\", \"labor\", \"labor\", \"labor\", \"larger\", \"largest\", \"later\", \"later\", \"law\", \"law\", \"law\", \"le\", \"le\", \"lead\", \"leader\", \"least\", \"left\", \"legal\", \"legal\", \"let\", \"level\", \"level\", \"life\", \"life\", \"like\", \"like\", \"likely\", \"likely\", \"limited\", \"long\", \"look\", \"looked\", \"lose\", \"losing\", \"loss\", \"lost\", \"lost\", \"lot\", \"lot\", \"lot\", \"love\", \"low\", \"lower\", \"lowest\", \"lyndon\", \"made\", \"made\", \"made\", \"made\", \"magazine\", \"mainly\", \"major\", \"majority\", \"manufacturer\", \"manufacturing\", \"many\", \"many\", \"many\", \"many\", \"margin\", \"market\", \"massive\", \"matter\", \"maybe\", \"mccain\", \"mean\", \"mean\", \"mean\", \"measure\", \"measure\", \"medical\", \"medicare\", \"medium\", \"meeting\", \"member\", \"member\", \"member\", \"mexico\", \"michael\", \"middle\", \"might\", \"mile\", \"military\", \"military\", \"military\", \"military\", \"million\", \"million\", \"million\", \"million\", \"mining\", \"misleading\", \"missile\", \"modest\", \"money\", \"money\", \"money\", \"month\", \"month\", \"month\", \"mother\", \"moving\", \"much\", \"much\", \"much\", \"much\", \"much\", \"much\", \"multiple\", \"murder\", \"nafta\", \"nafta\", \"nation\", \"nation\", \"national\", \"nato\", \"nearly\", \"nearly\", \"nearly\", \"need\", \"need\", \"need\", \"need\", \"needed\", \"negotiated\", \"negotiating\", \"net\", \"never\", \"never\", \"new\", \"new\", \"new\", \"new\", \"new\", \"news\", \"nine\", \"none\", \"nonpartisan\", \"north\", \"note\", \"noted\", \"nothing\", \"nothing\", \"nuclear\", \"nuclear\", \"number\", \"number\", \"number\", \"number\", \"obama\", \"obama\", \"obama\", \"obama\", \"obama\", \"obamacare\", \"occasion\", \"office\", \"office\", \"office\", \"official\", \"official\", \"official\", \"official\", \"oil\", \"older\", \"one\", \"one\", \"one\", \"one\", \"open\", \"open\", \"opportunity\", \"opposed\", \"order\", \"ordered\", \"others\", \"others\", \"overall\", \"overall\", \"overseas\", \"part\", \"pas\", \"patient\", \"pay\", \"pay\", \"paying\", \"payment\", \"payment\", \"pentagon\", \"people\", \"people\", \"people\", \"people\", \"per\", \"percent\", \"percent\", \"percent\", \"percentage\", \"percentage\", \"phone\", \"phony\", \"picture\", \"pipeline\", \"plan\", \"plan\", \"plane\", \"plant\", \"play\", \"police\", \"policy\", \"policy\", \"policy\", \"political\", \"population\", \"position\", \"possible\", \"possible\", \"potential\", \"pour\", \"pouring\", \"practice\", \"president\", \"president\", \"president\", \"president\", \"president\", \"president\", \"president\", \"presidential\", \"pretty\", \"prevent\", \"previous\", \"price\", \"primary\", \"probably\", \"problem\", \"process\", \"product\", \"progress\", \"project\", \"promised\", \"proposed\", \"protect\", \"protection\", \"protection\", \"protection\", \"provide\", \"public\", \"published\", \"pull\", \"put\", \"put\", \"quarter\", \"rate\", \"rather\", \"reached\", \"read\", \"reagan\", \"reason\", \"received\", \"receiving\", \"recession\", \"record\", \"record\", \"reduction\", \"referred\", \"referring\", \"referring\", \"refugee\", \"refused\", \"regime\", \"regulation\", \"regulation\", \"relationship\", \"relatively\", \"release\", \"released\", \"released\", \"released\", \"remain\", \"remained\", \"remark\", \"remember\", \"repeal\", \"repeatedly\", \"replacement\", \"report\", \"report\", \"report\", \"report\", \"republican\", \"republican\", \"requested\", \"requirement\", \"requires\", \"research\", \"research\", \"research\", \"respect\", \"respected\", \"respond\", \"rest\", \"restriction\", \"result\", \"result\", \"result\", \"result\", \"revenue\", \"review\", \"rhetoric\", \"rid\", \"right\", \"right\", \"rise\", \"rising\", \"ronald\", \"rule\", \"rule\", \"run\", \"russia\", \"russia\", \"russian\", \"said\", \"said\", \"said\", \"said\", \"sanction\", \"sanctuary\", \"saved\", \"saving\", \"say\", \"say\", \"say\", \"say\", \"say\", \"schumer\", \"sector\", \"security\", \"security\", \"see\", \"see\", \"seeing\", \"seen\", \"seen\", \"seized\", \"senate\", \"send\", \"sense\", \"separate\", \"service\", \"service\", \"set\", \"share\", \"share\", \"ship\", \"showed\", \"signed\", \"signed\", \"significant\", \"significantly\", \"since\", \"since\", \"since\", \"since\", \"singapore\", \"single\", \"slowed\", \"small\", \"smaller\", \"society\", \"somebody\", \"sometimes\", \"sometimes\", \"sound\", \"south\", \"speaking\", \"special\", \"specific\", \"speech\", \"spend\", \"spending\", \"spent\", \"spoke\", \"stable\", \"standard\", \"start\", \"state\", \"state\", \"state\", \"state\", \"state\", \"state\", \"statement\", \"statistic\", \"statistic\", \"steel\", \"step\", \"stock\", \"stop\", \"stretch\", \"strong\", \"subject\", \"success\", \"suggests\", \"support\", \"support\", \"supreme\", \"sure\", \"surplus\", \"syria\", \"syria\", \"syrian\", \"system\", \"table\", \"take\", \"take\", \"taking\", \"taking\", \"talk\", \"talked\", \"talking\", \"tariff\", \"tax\", \"tax\", \"test\", \"test\", \"thank\", \"theory\", \"therefore\", \"thing\", \"third\", \"though\", \"though\", \"though\", \"though\", \"though\", \"thousand\", \"throughout\", \"time\", \"time\", \"time\", \"today\", \"took\", \"took\", \"took\", \"took\", \"top\", \"toward\", \"town\", \"trade\", \"trade\", \"trafficking\", \"travel\", \"trend\", \"trillion\", \"trouble\", \"trump\", \"trump\", \"trump\", \"trump\", \"trump\", \"trump\", \"trump\", \"trump\", \"trump\", \"trump\", \"turn\", \"tweet\", \"two\", \"two\", \"two\", \"u\", \"u\", \"u\", \"u\", \"un\", \"understand\", \"undocumented\", \"unemployment\", \"united\", \"united\", \"us\", \"using\", \"va\", \"various\", \"version\", \"veteran\", \"victory\", \"violation\", \"violence\", \"violent\", \"violent\", \"virginia\", \"virginia\", \"virtually\", \"visa\", \"vote\", \"voted\", \"wait\", \"wall\", \"want\", \"want\", \"want\", \"war\", \"war\", \"watching\", \"way\", \"weapon\", \"went\", \"white\", \"whole\", \"whole\", \"whose\", \"widespread\", \"wikileaks\", \"win\", \"win\", \"winning\", \"witch\", \"woman\", \"work\", \"worker\", \"worker\", \"working\", \"working\", \"world\", \"world\", \"would\", \"would\", \"would\", \"would\", \"would\", \"would\", \"would\", \"would\", \"wrong\", \"year\", \"year\", \"year\", \"year\", \"year\", \"year\", \"yesterday\"]}, \"R\": 30, \"lambda.step\": 0.01, \"plot.opts\": {\"xlab\": \"PC1\", \"ylab\": \"PC2\"}, \"topic.order\": [3, 5, 15, 11, 13, 10, 12, 6, 8, 4, 17, 2, 1, 9, 14, 16, 7]};\n",
       "\n",
       "function LDAvis_load_lib(url, callback){\n",
       "  var s = document.createElement('script');\n",
       "  s.src = url;\n",
       "  s.async = true;\n",
       "  s.onreadystatechange = s.onload = callback;\n",
       "  s.onerror = function(){console.warn(\"failed to load library \" + url);};\n",
       "  document.getElementsByTagName(\"head\")[0].appendChild(s);\n",
       "}\n",
       "\n",
       "if(typeof(LDAvis) !== \"undefined\"){\n",
       "   // already loaded: just create the visualization\n",
       "   !function(LDAvis){\n",
       "       new LDAvis(\"#\" + \"ldavis_el29174112420113288835619753\", ldavis_el29174112420113288835619753_data);\n",
       "   }(LDAvis);\n",
       "}else if(typeof define === \"function\" && define.amd){\n",
       "   // require.js is available: use it to load d3/LDAvis\n",
       "   require.config({paths: {d3: \"https://cdnjs.cloudflare.com/ajax/libs/d3/3.5.5/d3.min\"}});\n",
       "   require([\"d3\"], function(d3){\n",
       "      window.d3 = d3;\n",
       "      LDAvis_load_lib(\"https://cdn.rawgit.com/bmabey/pyLDAvis/files/ldavis.v1.0.0.js\", function(){\n",
       "        new LDAvis(\"#\" + \"ldavis_el29174112420113288835619753\", ldavis_el29174112420113288835619753_data);\n",
       "      });\n",
       "    });\n",
       "}else{\n",
       "    // require.js not available: dynamically load d3 & LDAvis\n",
       "    LDAvis_load_lib(\"https://cdnjs.cloudflare.com/ajax/libs/d3/3.5.5/d3.min.js\", function(){\n",
       "         LDAvis_load_lib(\"https://cdn.rawgit.com/bmabey/pyLDAvis/files/ldavis.v1.0.0.js\", function(){\n",
       "                 new LDAvis(\"#\" + \"ldavis_el29174112420113288835619753\", ldavis_el29174112420113288835619753_data);\n",
       "            })\n",
       "         });\n",
       "}\n",
       "</script>"
      ],
      "text/plain": [
       "PreparedData(topic_coordinates=              x         y  topics  cluster       Freq\n",
       "topic                                                \n",
       "2     -0.246636 -0.081823       1        1  22.305573\n",
       "4     -0.047178 -0.111838       2        1   9.954291\n",
       "14    -0.244832  0.134948       3        1   8.666994\n",
       "10    -0.102452  0.003869       4        1   8.662300\n",
       "12     0.119110 -0.076184       5        1   8.096353\n",
       "9     -0.033479 -0.240562       6        1   7.639371\n",
       "11    -0.107899 -0.162447       7        1   5.033378\n",
       "5     -0.141613  0.264086       8        1   5.004584\n",
       "7      0.041481 -0.034431       9        1   4.480750\n",
       "3      0.050106 -0.057864      10        1   3.963299\n",
       "16     0.136439 -0.053858      11        1   3.527309\n",
       "1      0.007404  0.053465      12        1   2.747051\n",
       "0      0.094393 -0.055208      13        1   2.397985\n",
       "8      0.050430  0.074266      14        1   2.030525\n",
       "13     0.064111  0.174867      15        1   2.007684\n",
       "15     0.115716  0.084478      16        1   1.965970\n",
       "6      0.244897  0.084238      17        1   1.516583, topic_info=     Category          Freq         Term         Total  loglift  logprob\n",
       "430   Default   6169.000000        state   6169.000000  30.0000  30.0000\n",
       "284   Default   6211.000000      percent   6211.000000  29.0000  29.0000\n",
       "136   Default   4719.000000          tax   4719.000000  28.0000  28.0000\n",
       "453   Default   4640.000000          job   4640.000000  27.0000  27.0000\n",
       "166   Default   3430.000000         rate   3430.000000  26.0000  26.0000\n",
       "8     Default   5336.000000      country   5336.000000  25.0000  25.0000\n",
       "54    Default  21274.000000        trump  21274.000000  24.0000  24.0000\n",
       "437   Default   3945.000000       united   3945.000000  23.0000  23.0000\n",
       "90    Default   3585.000000      company   3585.000000  22.0000  22.0000\n",
       "316   Default   4490.000000        would   4490.000000  21.0000  21.0000\n",
       "84    Default   4035.000000      billion   4035.000000  20.0000  20.0000\n",
       "803   Default   3925.000000        obama   3925.000000  19.0000  19.0000\n",
       "79    Default   3273.000000     american   3273.000000  18.0000  18.0000\n",
       "1350  Default   2102.000000         wall   2102.000000  17.0000  17.0000\n",
       "491   Default   1739.000000         plan   1739.000000  16.0000  16.0000\n",
       "267   Default   2873.000000        going   2873.000000  15.0000  15.0000\n",
       "229   Default   1753.000000     increase   1753.000000  14.0000  14.0000\n",
       "330   Default   2585.000000       russia   2585.000000  13.0000  13.0000\n",
       "115   Default   3799.000000      million   3799.000000  12.0000  12.0000\n",
       "172   Default   2927.000000        trade   2927.000000  11.0000  11.0000\n",
       "164   Default   5262.000000       people   5262.000000  10.0000  10.0000\n",
       "348   Default   2249.000000      clinton   2249.000000   9.0000   9.0000\n",
       "734   Default   1399.000000       market   1399.000000   8.0000   8.0000\n",
       "127   Default   2210.000000      product   2210.000000   7.0000   7.0000\n",
       "96    Default   2312.000000          cut   2312.000000   6.0000   6.0000\n",
       "1080  Default   1528.000000        crowd   1528.000000   5.0000   5.0000\n",
       "765   Default   2224.000000       border   2224.000000   4.0000   4.0000\n",
       "502   Default   1553.000000         vote   1553.000000   3.0000   3.0000\n",
       "83    Default   2115.000000         bill   2115.000000   2.0000   2.0000\n",
       "345   Default   2387.000000     campaign   2387.000000   1.0000   1.0000\n",
       "...       ...           ...          ...           ...      ...      ...\n",
       "759   Topic17    447.552979        woman    449.086334   4.1853  -3.0421\n",
       "554   Topic17    304.103424       police    305.636780   4.1837  -3.4286\n",
       "1859  Topic17    252.173157       needed    253.706512   4.1826  -3.6158\n",
       "534   Topic17    230.043091         hold    231.576447   4.1821  -3.7077\n",
       "542   Topic17    201.558853          kim    203.092209   4.1811  -3.8398\n",
       "1861  Topic17    169.026855     progress    170.560211   4.1797  -4.0159\n",
       "1855  Topic17    164.407242      covered    165.940598   4.1794  -4.0436\n",
       "1857  Topic17    145.839417        final    147.372772   4.1783  -4.1634\n",
       "930   Topic17    141.933014      success    143.466370   4.1780  -4.1906\n",
       "548   Topic17    136.400711      missile    137.934067   4.1775  -4.2303\n",
       "574   Topic17    128.238953      society    129.772308   4.1768  -4.2920\n",
       "1858  Topic17    114.002899   foundation    115.536255   4.1753  -4.4097\n",
       "515   Topic17    104.218300     chairman    105.751656   4.1741  -4.4994\n",
       "564   Topic17     90.658905       regime     92.192261   4.1719  -4.6388\n",
       "1677  Topic17     79.727882      version     81.261238   4.1697  -4.7673\n",
       "1860  Topic17     69.611404  opportunity     71.144760   4.1669  -4.9030\n",
       "588   Topic17     58.706505     watching     60.239864   4.1629  -5.0734\n",
       "571   Topic17    799.501465       signed    822.747864   4.1600  -2.4619\n",
       "1862  Topic17     50.243908  requirement     51.777267   4.1586  -5.2290\n",
       "584   Topic17     49.387253           un     50.920612   4.1581  -5.2462\n",
       "75    Topic17     38.976936    violation     40.510296   4.1501  -5.4830\n",
       "547   Topic17     36.033009       mainly     37.566368   4.1470  -5.5615\n",
       "540   Topic17     33.339985         jong     34.873344   4.1437  -5.6392\n",
       "1854  Topic17     31.722109   collection     33.255466   4.1415  -5.6889\n",
       "572   Topic17     26.894127    singapore     28.427486   4.1333  -5.8540\n",
       "589   Topic17     20.573936   widespread     22.107296   4.1168  -6.1219\n",
       "581   Topic17     73.756805         test     79.414803   4.1148  -4.8452\n",
       "302   Topic17    556.358704      nuclear    737.449402   3.9069  -2.8245\n",
       "83    Topic17    495.953979         bill   2115.127930   2.7383  -2.9394\n",
       "125   Topic17     37.941769    president   4075.862549  -0.4881  -5.5099\n",
       "\n",
       "[795 rows x 6 columns], token_table=      Topic      Freq            Term\n",
       "term                                 \n",
       "176      14  0.997100          access\n",
       "59        1  0.187182       according\n",
       "59        3  0.349220       according\n",
       "59        4  0.378834       according\n",
       "59       14  0.083254       according\n",
       "633      10  0.997470         account\n",
       "1165     12  0.991731  accountability\n",
       "719       8  0.974293        achieved\n",
       "207      12  0.277719             act\n",
       "207      14  0.720488             act\n",
       "336       7  0.996057          action\n",
       "337       6  0.940191        activity\n",
       "337      17  0.056102        activity\n",
       "443       4  0.995306          actual\n",
       "208       1  0.906604        actually\n",
       "208       9  0.086241        actually\n",
       "208      16  0.006415        actually\n",
       "1319     11  0.996990             add\n",
       "1579      1  0.997497           added\n",
       "78        4  0.992116      additional\n",
       "209       1  0.524311  administration\n",
       "209       3  0.161746  administration\n",
       "209       7  0.225808  administration\n",
       "209       9  0.066788  administration\n",
       "209      14  0.020900  administration\n",
       "339       6  0.996769         adviser\n",
       "142       2  0.994049        affected\n",
       "1154     14  0.997275      affordable\n",
       "290       5  0.995565     afghanistan\n",
       "740       8  0.993281         african\n",
       "...     ...       ...             ...\n",
       "589      17  0.949913      widespread\n",
       "440       6  0.994226       wikileaks\n",
       "314       5  0.961943             win\n",
       "314       8  0.035817             win\n",
       "1215     15  0.984159         winning\n",
       "441       6  0.994271           witch\n",
       "759      17  0.997581           woman\n",
       "260       2  0.999025            work\n",
       "1468      2  0.991331          worker\n",
       "1468     16  0.007691          worker\n",
       "730       7  0.765331         working\n",
       "730       8  0.233565         working\n",
       "957       2  0.935173           world\n",
       "957       3  0.063328           world\n",
       "316       1  0.352767           would\n",
       "316       2  0.120707           would\n",
       "316       3  0.233173           would\n",
       "316       5  0.020044           would\n",
       "316       6  0.007349           would\n",
       "316       9  0.025611           would\n",
       "316      14  0.180392           would\n",
       "316      15  0.059685           would\n",
       "1590      4  0.997244           wrong\n",
       "58        1  0.529071            year\n",
       "58        3  0.182753            year\n",
       "58        4  0.146538            year\n",
       "58        5  0.019187            year\n",
       "58        8  0.074828            year\n",
       "58       12  0.047247            year\n",
       "1794      9  0.994690       yesterday\n",
       "\n",
       "[1069 rows x 3 columns], R=30, lambda_step=0.01, plot_opts={'xlab': 'PC1', 'ylab': 'PC2'}, topic_order=[3, 5, 15, 11, 13, 10, 12, 6, 8, 4, 17, 2, 1, 9, 14, 16, 7])"
      ]
     },
     "execution_count": 15,
     "metadata": {},
     "output_type": "execute_result"
    }
   ],
   "source": [
    "pyLDAvis.enable_notebook()\n",
    "vis = pyLDAvis.gensim.prepare(lda_model, data_id, id2word)\n",
    "vis"
   ]
  },
  {
   "cell_type": "markdown",
   "metadata": {},
   "source": [
    "### Explore the topics with the visualization. \n",
    "\n",
    "Which topic(s) seem to correspond to the topic of immigration?\n",
    "\n",
    "_5, 8, 9, 10, 11_"
   ]
  },
  {
   "cell_type": "markdown",
   "metadata": {},
   "source": [
    "### Get topics for the term `immigration`"
   ]
  },
  {
   "cell_type": "code",
   "execution_count": 16,
   "metadata": {},
   "outputs": [
    {
     "data": {
      "text/plain": [
       "[(12, 0.031536512)]"
      ]
     },
     "execution_count": 16,
     "metadata": {},
     "output_type": "execute_result"
    }
   ],
   "source": [
    "lda_model.get_term_topics('immigration')"
   ]
  },
  {
   "cell_type": "markdown",
   "metadata": {},
   "source": [
    "### Get features for the topic most identified with this term"
   ]
  },
  {
   "cell_type": "code",
   "execution_count": 17,
   "metadata": {},
   "outputs": [
    {
     "data": {
      "text/plain": [
       "[('democrat', 0.04005868),\n",
       " ('fbi', 0.03275987),\n",
       " ('republican', 0.031649545),\n",
       " ('immigration', 0.031551417),\n",
       " ('border', 0.029264875),\n",
       " ('want', 0.024678482),\n",
       " ('illegal', 0.023210555),\n",
       " ('law', 0.021639742),\n",
       " ('overseas', 0.019829031),\n",
       " ('support', 0.019467495)]"
      ]
     },
     "execution_count": 17,
     "metadata": {},
     "output_type": "execute_result"
    }
   ],
   "source": [
    "lda_model.show_topic(12)"
   ]
  },
  {
   "cell_type": "markdown",
   "metadata": {},
   "source": [
    "### Create a model with 25 topics"
   ]
  },
  {
   "cell_type": "code",
   "execution_count": 18,
   "metadata": {},
   "outputs": [],
   "source": [
    "lda_model2 = gensim.models.ldamodel.LdaModel(corpus=data_id, id2word=id2word, num_topics=25,\n",
    "                                              random_state=20191119, update_every=1, chunksize=100,\n",
    "                                              passes=10, alpha='auto', per_word_topics=True)"
   ]
  },
  {
   "cell_type": "markdown",
   "metadata": {},
   "source": [
    "### Compare coherence\n",
    "\n",
    "In my version, this is lower (worse) than the 17 topic version. YMMV."
   ]
  },
  {
   "cell_type": "code",
   "execution_count": 19,
   "metadata": {},
   "outputs": [
    {
     "name": "stdout",
     "output_type": "stream",
     "text": [
      "-13.132960198604337\n"
     ]
    }
   ],
   "source": [
    "with warnings.catch_warnings():\n",
    "    warnings.simplefilter(\"ignore\")\n",
    "    \n",
    "    print(lda_model2.log_perplexity(data_id))"
   ]
  },
  {
   "cell_type": "markdown",
   "metadata": {},
   "source": [
    "### Create a \"long\" data frame with the columns doc_no, topic, weight\n",
    "\n",
    "Use whichever model you want. You'll need a for loop."
   ]
  },
  {
   "cell_type": "code",
   "execution_count": 75,
   "metadata": {},
   "outputs": [
    {
     "data": {
      "text/plain": [
       "[[(0, 0.02273394),\n",
       "  (2, 0.67751193),\n",
       "  (3, 0.022355443),\n",
       "  (4, 0.0769556),\n",
       "  (5, 0.03237389),\n",
       "  (9, 0.0208904),\n",
       "  (10, 0.043760724),\n",
       "  (12, 0.020907074),\n",
       "  (13, 0.02157689),\n",
       "  (14, 0.017304271),\n",
       "  (16, 0.018660694)],\n",
       " [(0, 0.042132523),\n",
       "  (1, 0.06839298),\n",
       "  (2, 0.19772606),\n",
       "  (3, 0.012168645),\n",
       "  (4, 0.054363515),\n",
       "  (5, 0.111401044),\n",
       "  (6, 0.055969197),\n",
       "  (7, 0.01279043),\n",
       "  (10, 0.25151044),\n",
       "  (11, 0.118115485),\n",
       "  (12, 0.016968668),\n",
       "  (14, 0.028460441)]]"
      ]
     },
     "execution_count": 75,
     "metadata": {},
     "output_type": "execute_result"
    }
   ],
   "source": [
    "document_topics = [lda_model.get_document_topics(item) for item in data_id]\n",
    "document_topics[0:2]\n",
    "# 0, 2, 3.. are the topics, each of them is followed by the weight"
   ]
  },
  {
   "cell_type": "code",
   "execution_count": 94,
   "metadata": {},
   "outputs": [
    {
     "data": {
      "text/html": [
       "<div>\n",
       "<style scoped>\n",
       "    .dataframe tbody tr th:only-of-type {\n",
       "        vertical-align: middle;\n",
       "    }\n",
       "\n",
       "    .dataframe tbody tr th {\n",
       "        vertical-align: top;\n",
       "    }\n",
       "\n",
       "    .dataframe thead th {\n",
       "        text-align: right;\n",
       "    }\n",
       "</style>\n",
       "<table border=\"1\" class=\"dataframe\">\n",
       "  <thead>\n",
       "    <tr style=\"text-align: right;\">\n",
       "      <th></th>\n",
       "      <th>topic</th>\n",
       "      <th>doc_no</th>\n",
       "      <th>weight</th>\n",
       "    </tr>\n",
       "  </thead>\n",
       "  <tbody>\n",
       "    <tr>\n",
       "      <th>0</th>\n",
       "      <td>Guns</td>\n",
       "      <td>11702</td>\n",
       "      <td>[(0, 0.022749478), (2, 0.6775118), (3, 0.02235...</td>\n",
       "    </tr>\n",
       "    <tr>\n",
       "      <th>1</th>\n",
       "      <td>Trade</td>\n",
       "      <td>11703</td>\n",
       "      <td>[(0, 0.042158343), (1, 0.06839272), (2, 0.1977...</td>\n",
       "    </tr>\n",
       "    <tr>\n",
       "      <th>2</th>\n",
       "      <td>Trade</td>\n",
       "      <td>11704</td>\n",
       "      <td>[(1, 0.026210455), (2, 0.065457195), (4, 0.010...</td>\n",
       "    </tr>\n",
       "    <tr>\n",
       "      <th>3</th>\n",
       "      <td>Trade</td>\n",
       "      <td>11706</td>\n",
       "      <td>[(0, 0.01888565), (2, 0.094616346), (4, 0.3819...</td>\n",
       "    </tr>\n",
       "    <tr>\n",
       "      <th>4</th>\n",
       "      <td>Guns</td>\n",
       "      <td>12154</td>\n",
       "      <td>[(1, 0.03402878), (2, 0.2738663), (3, 0.064743...</td>\n",
       "    </tr>\n",
       "  </tbody>\n",
       "</table>\n",
       "</div>"
      ],
      "text/plain": [
       "   topic doc_no                                             weight\n",
       "0   Guns  11702  [(0, 0.022749478), (2, 0.6775118), (3, 0.02235...\n",
       "1  Trade  11703  [(0, 0.042158343), (1, 0.06839272), (2, 0.1977...\n",
       "2  Trade  11704  [(1, 0.026210455), (2, 0.065457195), (4, 0.010...\n",
       "3  Trade  11706  [(0, 0.01888565), (2, 0.094616346), (4, 0.3819...\n",
       "4   Guns  12154  [(1, 0.03402878), (2, 0.2738663), (3, 0.064743..."
      ]
     },
     "execution_count": 94,
     "metadata": {},
     "output_type": "execute_result"
    }
   ],
   "source": [
    "long_columns = {\"topic\":trump.topic,\n",
    "             \"doc_no\": trump.id,\n",
    "             \"weight\": get_document_topics}\n",
    "long = pd.DataFrame(long_columns)\n",
    "long.head()"
   ]
  },
  {
   "cell_type": "markdown",
   "metadata": {},
   "source": [
    "### Use the data frame to find the sentence with highest weight for the `immigration` topic "
   ]
  },
  {
   "cell_type": "code",
   "execution_count": 88,
   "metadata": {},
   "outputs": [],
   "source": [
    "immigration_topic = long[long['topic']=='Immigration']\n",
    "# immigration_topic.weight"
   ]
  },
  {
   "cell_type": "markdown",
   "metadata": {},
   "source": [
    "Print the associated entry from the corpus (claim and analysis)"
   ]
  },
  {
   "cell_type": "code",
   "execution_count": null,
   "metadata": {},
   "outputs": [],
   "source": []
  }
 ],
 "metadata": {
  "kernelspec": {
   "display_name": "Python 3",
   "language": "python",
   "name": "python3"
  },
  "language_info": {
   "codemirror_mode": {
    "name": "ipython",
    "version": 3
   },
   "file_extension": ".py",
   "mimetype": "text/x-python",
   "name": "python",
   "nbconvert_exporter": "python",
   "pygments_lexer": "ipython3",
   "version": "3.7.3"
  }
 },
 "nbformat": 4,
 "nbformat_minor": 4
}
